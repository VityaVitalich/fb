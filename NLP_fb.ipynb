{
 "cells": [
  {
   "cell_type": "code",
   "execution_count": 14,
   "metadata": {},
   "outputs": [
    {
     "name": "stderr",
     "output_type": "stream",
     "text": [
      "[nltk_data] Downloading package stopwords to /home/victor/nltk_data...\n",
      "[nltk_data]   Package stopwords is already up-to-date!\n",
      "[nltk_data] Downloading package wordnet to /home/victor/nltk_data...\n",
      "[nltk_data]   Package wordnet is already up-to-date!\n"
     ]
    }
   ],
   "source": [
    "import nltk\n",
    "from nltk.tokenize import word_tokenize\n",
    "import numpy as np \n",
    "import pandas as pd\n",
    "import collections\n",
    "import matplotlib.pyplot as plt\n",
    "%matplotlib inline\n",
    "from nltk.tokenize import TweetTokenizer\n",
    "from nltk.tokenize.treebank import TreebankWordDetokenizer\n",
    "from nltk.corpus import stopwords\n",
    "from string import punctuation\n",
    "nltk.download(\"stopwords\")\n",
    "from tqdm import tqdm\n",
    "from nltk.stem import WordNetLemmatizer\n",
    "nltk.download(\"wordnet\")\n",
    "from pymystem3 import Mystem\n",
    "from datetime import datetime, timedelta\n",
    "import functools\n",
    "import operator\n",
    "import chart_studio.plotly as py\n",
    "#import plotly.graph_obs as go\n",
    "from plotly.offline import iplot\n",
    "import cufflinks as cf\n",
    "from nltk import ngrams\n",
    "import plotly.express as px\n",
    "from copy import deepcopy\n",
    "from sklearn.feature_extraction.text import TfidfVectorizer\n",
    "from sklearn.feature_extraction.text import CountVectorizer\n",
    "noise = stopwords.words('russian') + list(punctuation)\n",
    "upnoise = [letter.upper() for letter in noise]\n",
    "sum_noise = noise+upnoise+['.','»','«', 'Коллега', \"коллега\", \"это\",'спасибо', 'такой',\"уважаемый\", \"квартира\", \"который\", \"свой\"]"
   ]
  },
  {
   "cell_type": "code",
   "execution_count": 16,
   "metadata": {},
   "outputs": [],
   "source": [
    "df = pd.read_csv(\"fb.csv\", index_col=0)"
   ]
  },
  {
   "cell_type": "code",
   "execution_count": 17,
   "metadata": {},
   "outputs": [
    {
     "data": {
      "text/html": [
       "<div>\n",
       "<style scoped>\n",
       "    .dataframe tbody tr th:only-of-type {\n",
       "        vertical-align: middle;\n",
       "    }\n",
       "\n",
       "    .dataframe tbody tr th {\n",
       "        vertical-align: top;\n",
       "    }\n",
       "\n",
       "    .dataframe thead th {\n",
       "        text-align: right;\n",
       "    }\n",
       "</style>\n",
       "<table border=\"1\" class=\"dataframe\">\n",
       "  <thead>\n",
       "    <tr style=\"text-align: right;\">\n",
       "      <th></th>\n",
       "      <th>time</th>\n",
       "      <th>post</th>\n",
       "      <th>number_comments</th>\n",
       "      <th>comment</th>\n",
       "    </tr>\n",
       "  </thead>\n",
       "  <tbody>\n",
       "    <tr>\n",
       "      <th>0</th>\n",
       "      <td>2020-10-01</td>\n",
       "      <td>Коллеги! Размещаю видео с судебным юристом Тат...</td>\n",
       "      <td>9</td>\n",
       "      <td>[', спасибо, из за очепятки я прочитала аккуль...</td>\n",
       "    </tr>\n",
       "    <tr>\n",
       "      <th>1</th>\n",
       "      <td>2020-10-05</td>\n",
       "      <td>Коллеги, клиент не спросив оплатил проверку 19...</td>\n",
       "      <td>2</td>\n",
       "      <td>['документы и регистрировать через регистратор...</td>\n",
       "    </tr>\n",
       "    <tr>\n",
       "      <th>2</th>\n",
       "      <td>2020-10-05</td>\n",
       "      <td>Приплыло. Сделка цепь. Нижний просит заложить ...</td>\n",
       "      <td>5</td>\n",
       "      <td>['ИтакаСоглашайтесь на их оценщика . Ссылку пр...</td>\n",
       "    </tr>\n",
       "    <tr>\n",
       "      <th>3</th>\n",
       "      <td>2020-10-05</td>\n",
       "      <td>Коллеги, добрый день! Нужна помощь)) нужны фот...</td>\n",
       "      <td>52</td>\n",
       "      <td>['ты уже и в Америке работаешь, Наташ?', 'Лурь...</td>\n",
       "    </tr>\n",
       "    <tr>\n",
       "      <th>4</th>\n",
       "      <td>2020-10-05</td>\n",
       "      <td>Время сейчас такое, что иногда приходят два по...</td>\n",
       "      <td>10</td>\n",
       "      <td>['распашонка?', 'Лукашевская, да', 'банк?', 'Б...</td>\n",
       "    </tr>\n",
       "    <tr>\n",
       "      <th>...</th>\n",
       "      <td>...</td>\n",
       "      <td>...</td>\n",
       "      <td>...</td>\n",
       "      <td>...</td>\n",
       "    </tr>\n",
       "    <tr>\n",
       "      <th>107</th>\n",
       "      <td>2020-10-01</td>\n",
       "      <td>Уважаемые коллеги, поделитесь пожалуйста опыто...</td>\n",
       "      <td>0</td>\n",
       "      <td>[]</td>\n",
       "    </tr>\n",
       "    <tr>\n",
       "      <th>108</th>\n",
       "      <td>2020-10-01</td>\n",
       "      <td>Уважаемы, коллеги, кто как поступил бы в этой ...</td>\n",
       "      <td>0</td>\n",
       "      <td>[]</td>\n",
       "    </tr>\n",
       "    <tr>\n",
       "      <th>109</th>\n",
       "      <td>2019-10-31</td>\n",
       "      <td>Пост благодарности  Серебряков Андрей, или «не...</td>\n",
       "      <td>0</td>\n",
       "      <td>[]</td>\n",
       "    </tr>\n",
       "    <tr>\n",
       "      <th>110</th>\n",
       "      <td>2020-10-01</td>\n",
       "      <td>А нет ли среди вас волшебников, которые смогли...</td>\n",
       "      <td>0</td>\n",
       "      <td>[]</td>\n",
       "    </tr>\n",
       "    <tr>\n",
       "      <th>111</th>\n",
       "      <td>2020-09-29</td>\n",
       "      <td>Доброго дня всем! Поделитесь пожалуйста контак...</td>\n",
       "      <td>0</td>\n",
       "      <td>[]</td>\n",
       "    </tr>\n",
       "  </tbody>\n",
       "</table>\n",
       "<p>112 rows × 4 columns</p>\n",
       "</div>"
      ],
      "text/plain": [
       "           time                                               post  \\\n",
       "0    2020-10-01  Коллеги! Размещаю видео с судебным юристом Тат...   \n",
       "1    2020-10-05  Коллеги, клиент не спросив оплатил проверку 19...   \n",
       "2    2020-10-05  Приплыло. Сделка цепь. Нижний просит заложить ...   \n",
       "3    2020-10-05  Коллеги, добрый день! Нужна помощь)) нужны фот...   \n",
       "4    2020-10-05  Время сейчас такое, что иногда приходят два по...   \n",
       "..          ...                                                ...   \n",
       "107  2020-10-01  Уважаемые коллеги, поделитесь пожалуйста опыто...   \n",
       "108  2020-10-01  Уважаемы, коллеги, кто как поступил бы в этой ...   \n",
       "109  2019-10-31  Пост благодарности  Серебряков Андрей, или «не...   \n",
       "110  2020-10-01  А нет ли среди вас волшебников, которые смогли...   \n",
       "111  2020-09-29  Доброго дня всем! Поделитесь пожалуйста контак...   \n",
       "\n",
       "     number_comments                                            comment  \n",
       "0                  9  [', спасибо, из за очепятки я прочитала аккуль...  \n",
       "1                  2  ['документы и регистрировать через регистратор...  \n",
       "2                  5  ['ИтакаСоглашайтесь на их оценщика . Ссылку пр...  \n",
       "3                 52  ['ты уже и в Америке работаешь, Наташ?', 'Лурь...  \n",
       "4                 10  ['распашонка?', 'Лукашевская, да', 'банк?', 'Б...  \n",
       "..               ...                                                ...  \n",
       "107                0                                                 []  \n",
       "108                0                                                 []  \n",
       "109                0                                                 []  \n",
       "110                0                                                 []  \n",
       "111                0                                                 []  \n",
       "\n",
       "[112 rows x 4 columns]"
      ]
     },
     "execution_count": 17,
     "metadata": {},
     "output_type": "execute_result"
    }
   ],
   "source": [
    "df"
   ]
  },
  {
   "cell_type": "code",
   "execution_count": 18,
   "metadata": {},
   "outputs": [
    {
     "data": {
      "text/html": [
       "<div>\n",
       "<style scoped>\n",
       "    .dataframe tbody tr th:only-of-type {\n",
       "        vertical-align: middle;\n",
       "    }\n",
       "\n",
       "    .dataframe tbody tr th {\n",
       "        vertical-align: top;\n",
       "    }\n",
       "\n",
       "    .dataframe thead th {\n",
       "        text-align: right;\n",
       "    }\n",
       "</style>\n",
       "<table border=\"1\" class=\"dataframe\">\n",
       "  <thead>\n",
       "    <tr style=\"text-align: right;\">\n",
       "      <th></th>\n",
       "      <th>time</th>\n",
       "      <th>post</th>\n",
       "      <th>number_comments</th>\n",
       "      <th>comment</th>\n",
       "    </tr>\n",
       "  </thead>\n",
       "  <tbody>\n",
       "    <tr>\n",
       "      <th>0</th>\n",
       "      <td>2020-10-01 00:00:00</td>\n",
       "      <td>[размещать, видео, судебный, юрист, татьяна, п...</td>\n",
       "      <td>9</td>\n",
       "      <td>[[очепятка, прочитывать, аккультный], [чубатов...</td>\n",
       "    </tr>\n",
       "    <tr>\n",
       "      <th>1</th>\n",
       "      <td>2020-10-05 00:00:00</td>\n",
       "      <td>[клиент, спрашивать, оплачивать, проверка, сбе...</td>\n",
       "      <td>2</td>\n",
       "      <td>[[документ, регистрировать, регистратор], [ден...</td>\n",
       "    </tr>\n",
       "    <tr>\n",
       "      <th>2</th>\n",
       "      <td>2020-10-05 00:00:00</td>\n",
       "      <td>[приплывать, сделка, цепь, нижний, просить, за...</td>\n",
       "      <td>5</td>\n",
       "      <td>[[итакасоглашаться, оценщик, ссылка, присылать...</td>\n",
       "    </tr>\n",
       "    <tr>\n",
       "      <th>3</th>\n",
       "      <td>2020-10-05 00:00:00</td>\n",
       "      <td>[добрый, день, нужный, помощь, нужный, фото, о...</td>\n",
       "      <td>52</td>\n",
       "      <td>[[америка, работать], [наташа], [лурье], [вспо...</td>\n",
       "    </tr>\n",
       "    <tr>\n",
       "      <th>4</th>\n",
       "      <td>2020-10-05 00:00:00</td>\n",
       "      <td>[время, приходить, покупатель, предлагать, зап...</td>\n",
       "      <td>10</td>\n",
       "      <td>[[распашонка], [лукашевский], [банк], [быков],...</td>\n",
       "    </tr>\n",
       "    <tr>\n",
       "      <th>...</th>\n",
       "      <td>...</td>\n",
       "      <td>...</td>\n",
       "      <td>...</td>\n",
       "      <td>...</td>\n",
       "    </tr>\n",
       "    <tr>\n",
       "      <th>107</th>\n",
       "      <td>2020-10-01 00:00:00</td>\n",
       "      <td>[поделиться, пожалуйста, опыт, недавно, оформл...</td>\n",
       "      <td>0</td>\n",
       "      <td>[]</td>\n",
       "    </tr>\n",
       "    <tr>\n",
       "      <th>108</th>\n",
       "      <td>2020-10-01 00:00:00</td>\n",
       "      <td>[поступать, ситуация, стоять, связываться, про...</td>\n",
       "      <td>0</td>\n",
       "      <td>[]</td>\n",
       "    </tr>\n",
       "    <tr>\n",
       "      <th>109</th>\n",
       "      <td>2019-10-31 00:00:00</td>\n",
       "      <td>[пост, благодарность, серебряков, андрей, имет...</td>\n",
       "      <td>0</td>\n",
       "      <td>[]</td>\n",
       "    </tr>\n",
       "    <tr>\n",
       "      <th>110</th>\n",
       "      <td>2020-10-01 00:00:00</td>\n",
       "      <td>[среди, волшебник, смочь, срочно, пресрочно, п...</td>\n",
       "      <td>0</td>\n",
       "      <td>[]</td>\n",
       "    </tr>\n",
       "    <tr>\n",
       "      <th>111</th>\n",
       "      <td>2020-09-29 00:00:00</td>\n",
       "      <td>[добрый, день, поделиться, пожалуйста, контакт...</td>\n",
       "      <td>0</td>\n",
       "      <td>[]</td>\n",
       "    </tr>\n",
       "  </tbody>\n",
       "</table>\n",
       "<p>112 rows × 4 columns</p>\n",
       "</div>"
      ],
      "text/plain": [
       "                    time                                               post  \\\n",
       "0    2020-10-01 00:00:00  [размещать, видео, судебный, юрист, татьяна, п...   \n",
       "1    2020-10-05 00:00:00  [клиент, спрашивать, оплачивать, проверка, сбе...   \n",
       "2    2020-10-05 00:00:00  [приплывать, сделка, цепь, нижний, просить, за...   \n",
       "3    2020-10-05 00:00:00  [добрый, день, нужный, помощь, нужный, фото, о...   \n",
       "4    2020-10-05 00:00:00  [время, приходить, покупатель, предлагать, зап...   \n",
       "..                   ...                                                ...   \n",
       "107  2020-10-01 00:00:00  [поделиться, пожалуйста, опыт, недавно, оформл...   \n",
       "108  2020-10-01 00:00:00  [поступать, ситуация, стоять, связываться, про...   \n",
       "109  2019-10-31 00:00:00  [пост, благодарность, серебряков, андрей, имет...   \n",
       "110  2020-10-01 00:00:00  [среди, волшебник, смочь, срочно, пресрочно, п...   \n",
       "111  2020-09-29 00:00:00  [добрый, день, поделиться, пожалуйста, контакт...   \n",
       "\n",
       "     number_comments                                            comment  \n",
       "0                  9  [[очепятка, прочитывать, аккультный], [чубатов...  \n",
       "1                  2  [[документ, регистрировать, регистратор], [ден...  \n",
       "2                  5  [[итакасоглашаться, оценщик, ссылка, присылать...  \n",
       "3                 52  [[америка, работать], [наташа], [лурье], [вспо...  \n",
       "4                 10  [[распашонка], [лукашевский], [банк], [быков],...  \n",
       "..               ...                                                ...  \n",
       "107                0                                                 []  \n",
       "108                0                                                 []  \n",
       "109                0                                                 []  \n",
       "110                0                                                 []  \n",
       "111                0                                                 []  \n",
       "\n",
       "[112 rows x 4 columns]"
      ]
     },
     "execution_count": 18,
     "metadata": {},
     "output_type": "execute_result"
    }
   ],
   "source": [
    "def tokeniz(df):\n",
    "        ##########TIME#######################\n",
    "    for i in range(len(df)):\n",
    "        df['time'][i] = datetime.strptime(df[\"time\"][i], '%Y-%m-%d')\n",
    "    #########COMMENTS#####################\n",
    "    for i in range(len(df)):\n",
    "        df[\"comment\"][i] = list(df[\"comment\"][i][2:-2].replace(\"'\", '').split(','))\n",
    "    tw = TweetTokenizer()\n",
    "    det = TreebankWordDetokenizer()\n",
    "    for i in (range(len(df))):\n",
    "        for j in range(len(df[\"comment\"][i])):\n",
    "            tokenized_example = (tw.tokenize(df[\"comment\"][i][j]))\n",
    "            filtered_example = [word for word in tokenized_example if not word in sum_noise]\n",
    "            df[\"comment\"][i][j] = det.detokenize(filtered_example)\n",
    "    mystem_analyzer = Mystem(entire_input=False)\n",
    "    for i in (range(len(df))):\n",
    "        df[\"comment\"][i] = [mystem_analyzer.lemmatize(w) for w in df[\"comment\"][i]]\n",
    "        df[\"comment\"][i] = list(filter(None, df[\"comment\"][i]))\n",
    "    for i in range(len(df)):\n",
    "        for j in range(len(df['comment'][i])):\n",
    "            df['comment'][i][j] = [word for word in df['comment'][i][j] if not word in sum_noise]\n",
    "\n",
    "\n",
    "    ##########POSTS##############\n",
    "    for i in (range(len(df))):\n",
    "            tokenized_example = (tw.tokenize(df[\"post\"][i]))\n",
    "            filtered_example = [word for word in tokenized_example if not word in sum_noise]\n",
    "            df[\"post\"][i] = det.detokenize(filtered_example)\n",
    "    for i in (range(len(df))):\n",
    "        a = []\n",
    "        a.append(df['post'][i])\n",
    "        df[\"post\"][i] = a\n",
    "    for i in (range(len(df))):\n",
    "        df[\"post\"][i] = [mystem_analyzer.lemmatize(w) for w in df[\"post\"][i]][0]\n",
    "    for i in range(len(df)):\n",
    "        df['post'][i] = [word for word in df['post'][i] if not word in sum_noise]\n",
    "tokeniz(df)\n",
    "df"
   ]
  },
  {
   "cell_type": "code",
   "execution_count": 19,
   "metadata": {},
   "outputs": [],
   "source": [
    "for i in range(len(df)):\n",
    "    df['post'][i] = [word for word in df['post'][i] if not word in sum_noise]\n",
    "    "
   ]
  },
  {
   "cell_type": "code",
   "execution_count": 20,
   "metadata": {},
   "outputs": [
    {
     "data": {
      "text/html": [
       "<div>\n",
       "<style scoped>\n",
       "    .dataframe tbody tr th:only-of-type {\n",
       "        vertical-align: middle;\n",
       "    }\n",
       "\n",
       "    .dataframe tbody tr th {\n",
       "        vertical-align: top;\n",
       "    }\n",
       "\n",
       "    .dataframe thead th {\n",
       "        text-align: right;\n",
       "    }\n",
       "</style>\n",
       "<table border=\"1\" class=\"dataframe\">\n",
       "  <thead>\n",
       "    <tr style=\"text-align: right;\">\n",
       "      <th></th>\n",
       "      <th>time</th>\n",
       "      <th>post</th>\n",
       "      <th>number_comments</th>\n",
       "      <th>comment</th>\n",
       "    </tr>\n",
       "  </thead>\n",
       "  <tbody>\n",
       "    <tr>\n",
       "      <th>0</th>\n",
       "      <td>2020-10-01 00:00:00</td>\n",
       "      <td>[размещать, видео, судебный, юрист, татьяна, п...</td>\n",
       "      <td>9</td>\n",
       "      <td>[[очепятка, прочитывать, аккультный], [чубатов...</td>\n",
       "    </tr>\n",
       "    <tr>\n",
       "      <th>1</th>\n",
       "      <td>2020-10-05 00:00:00</td>\n",
       "      <td>[клиент, спрашивать, оплачивать, проверка, сбе...</td>\n",
       "      <td>2</td>\n",
       "      <td>[[документ, регистрировать, регистратор], [ден...</td>\n",
       "    </tr>\n",
       "    <tr>\n",
       "      <th>2</th>\n",
       "      <td>2020-10-05 00:00:00</td>\n",
       "      <td>[приплывать, сделка, цепь, нижний, просить, за...</td>\n",
       "      <td>5</td>\n",
       "      <td>[[итакасоглашаться, оценщик, ссылка, присылать...</td>\n",
       "    </tr>\n",
       "    <tr>\n",
       "      <th>3</th>\n",
       "      <td>2020-10-05 00:00:00</td>\n",
       "      <td>[добрый, день, нужный, помощь, нужный, фото, о...</td>\n",
       "      <td>52</td>\n",
       "      <td>[[америка, работать], [наташа], [лурье], [вспо...</td>\n",
       "    </tr>\n",
       "    <tr>\n",
       "      <th>4</th>\n",
       "      <td>2020-10-05 00:00:00</td>\n",
       "      <td>[время, приходить, покупатель, предлагать, зап...</td>\n",
       "      <td>10</td>\n",
       "      <td>[[распашонка], [лукашевский], [банк], [быков],...</td>\n",
       "    </tr>\n",
       "    <tr>\n",
       "      <th>...</th>\n",
       "      <td>...</td>\n",
       "      <td>...</td>\n",
       "      <td>...</td>\n",
       "      <td>...</td>\n",
       "    </tr>\n",
       "    <tr>\n",
       "      <th>107</th>\n",
       "      <td>2020-10-01 00:00:00</td>\n",
       "      <td>[поделиться, пожалуйста, опыт, недавно, оформл...</td>\n",
       "      <td>0</td>\n",
       "      <td>[]</td>\n",
       "    </tr>\n",
       "    <tr>\n",
       "      <th>108</th>\n",
       "      <td>2020-10-01 00:00:00</td>\n",
       "      <td>[поступать, ситуация, стоять, связываться, про...</td>\n",
       "      <td>0</td>\n",
       "      <td>[]</td>\n",
       "    </tr>\n",
       "    <tr>\n",
       "      <th>109</th>\n",
       "      <td>2019-10-31 00:00:00</td>\n",
       "      <td>[пост, благодарность, серебряков, андрей, имет...</td>\n",
       "      <td>0</td>\n",
       "      <td>[]</td>\n",
       "    </tr>\n",
       "    <tr>\n",
       "      <th>110</th>\n",
       "      <td>2020-10-01 00:00:00</td>\n",
       "      <td>[среди, волшебник, смочь, срочно, пресрочно, п...</td>\n",
       "      <td>0</td>\n",
       "      <td>[]</td>\n",
       "    </tr>\n",
       "    <tr>\n",
       "      <th>111</th>\n",
       "      <td>2020-09-29 00:00:00</td>\n",
       "      <td>[добрый, день, поделиться, пожалуйста, контакт...</td>\n",
       "      <td>0</td>\n",
       "      <td>[]</td>\n",
       "    </tr>\n",
       "  </tbody>\n",
       "</table>\n",
       "<p>112 rows × 4 columns</p>\n",
       "</div>"
      ],
      "text/plain": [
       "                    time                                               post  \\\n",
       "0    2020-10-01 00:00:00  [размещать, видео, судебный, юрист, татьяна, п...   \n",
       "1    2020-10-05 00:00:00  [клиент, спрашивать, оплачивать, проверка, сбе...   \n",
       "2    2020-10-05 00:00:00  [приплывать, сделка, цепь, нижний, просить, за...   \n",
       "3    2020-10-05 00:00:00  [добрый, день, нужный, помощь, нужный, фото, о...   \n",
       "4    2020-10-05 00:00:00  [время, приходить, покупатель, предлагать, зап...   \n",
       "..                   ...                                                ...   \n",
       "107  2020-10-01 00:00:00  [поделиться, пожалуйста, опыт, недавно, оформл...   \n",
       "108  2020-10-01 00:00:00  [поступать, ситуация, стоять, связываться, про...   \n",
       "109  2019-10-31 00:00:00  [пост, благодарность, серебряков, андрей, имет...   \n",
       "110  2020-10-01 00:00:00  [среди, волшебник, смочь, срочно, пресрочно, п...   \n",
       "111  2020-09-29 00:00:00  [добрый, день, поделиться, пожалуйста, контакт...   \n",
       "\n",
       "     number_comments                                            comment  \n",
       "0                  9  [[очепятка, прочитывать, аккультный], [чубатов...  \n",
       "1                  2  [[документ, регистрировать, регистратор], [ден...  \n",
       "2                  5  [[итакасоглашаться, оценщик, ссылка, присылать...  \n",
       "3                 52  [[америка, работать], [наташа], [лурье], [вспо...  \n",
       "4                 10  [[распашонка], [лукашевский], [банк], [быков],...  \n",
       "..               ...                                                ...  \n",
       "107                0                                                 []  \n",
       "108                0                                                 []  \n",
       "109                0                                                 []  \n",
       "110                0                                                 []  \n",
       "111                0                                                 []  \n",
       "\n",
       "[112 rows x 4 columns]"
      ]
     },
     "execution_count": 20,
     "metadata": {},
     "output_type": "execute_result"
    }
   ],
   "source": [
    "df"
   ]
  },
  {
   "cell_type": "code",
   "execution_count": 21,
   "metadata": {},
   "outputs": [],
   "source": [
    "def avg_datetime(series):\n",
    "    return (series - series.min()).mean() + series.min()\n"
   ]
  },
  {
   "cell_type": "code",
   "execution_count": 22,
   "metadata": {},
   "outputs": [],
   "source": [
    "class TextAnalyzer:\n",
    "    def __init__(self, df):\n",
    "        self.df = deepcopy(df)\n",
    "    def date_slice(self, start_date = None, end_date = None):\n",
    "        if start_date == None and end_date == None:\n",
    "                self.df1 = deepcopy(self.df)\n",
    "        \n",
    "        if (type(start_date) == list or type(end_date) == list):\n",
    "            if (not start_date == None ) and (not end_date==None):\n",
    "                start_date = datetime(start_date[2], start_date[1], start_date[0], 0, 0)\n",
    "                end_date = datetime(end_date[2], end_date[1], end_date[0], 0, 0)\n",
    "                self.df1 = self.df[self.df['time']<end_date]\n",
    "                self.df1 = self.df1[self.df1['time']>start_date]\n",
    "            elif (not start_date == None ) and (end_date==None):\n",
    "                start_date = datetime(start_date[2], start_date[1], start_date[0], 0, 0)\n",
    "                self.df1 = self.df[self.df['time']>start_date]\n",
    "            elif (start_date == None ) and (not end_date==None):\n",
    "                end_date = datetime(end_date[2], end_date[1], end_date[0], 0, 0)\n",
    "                self.df1 = self.df[self.df['time']<end_date]\n",
    "        elif (type(start_date) == datetime  and type(end_date) == datetime):\n",
    "            self.df1 = self.df[self.df['time']<end_date]\n",
    "            self.df1 = self.df1[self.df1['time']>=start_date]\n",
    "    def frequency(self,  numb, text_type, start_date = None, end_date = None, ngram = 1, draw=True, output=True):\n",
    "        #start&end date = [d, m ,y]\n",
    "        if ngram>1:\n",
    "            draw = False\n",
    "        self.numb = numb\n",
    "        self.wordcount = {}\n",
    "        self.text_type = text_type\n",
    "        self.draw = draw\n",
    "        #self.start_date = start_date\n",
    "        #self.end_date = end_date\n",
    "       \n",
    "        self.date_slice(start_date, end_date)\n",
    "        \n",
    "        if self.text_type == 'comment':\n",
    "            \n",
    "            self.df1.index = np.arange(len(self.df1))\n",
    "            if ngram>1:\n",
    "                for i in range(len(self.df1)):\n",
    "                    for j in range(len(self.df1['comment'][i])):\n",
    "                        self.df1['comment'][i][j] = list(ngrams(self.df1['comment'][i][j],ngram))\n",
    "            for i in range(len(self.df1)):\n",
    "                for j in range(len(self.df1['comment'][i])):\n",
    "                    for word in (self.df1['comment'][i][j]):\n",
    "                        if ngram==1:\n",
    "                            word = word.replace(\".\",\"\")\n",
    "                            word = word.replace(\",\",\"\")\n",
    "                            word = word.replace(\":\",\"\")\n",
    "                            word = word.replace(\"\\\"\",\"\")\n",
    "                            word = word.replace(\"!\",\"\")\n",
    "                            word = word.replace(\"â€œ\",\"\")\n",
    "                            word = word.replace(\"â€˜\",\"\")\n",
    "                            word = word.replace(\"*\",\"\")\n",
    "                            word = word.replace(\" \",\"\")\n",
    "                        if word not in sum_noise:\n",
    "                            if word not in self.wordcount.keys():\n",
    "                                self.wordcount[word] = 1\n",
    "                            else:\n",
    "                                self.wordcount[word] += 1\n",
    "        if self.text_type == 'post':\n",
    "            self.df1.index = np.arange(len(self.df1))\n",
    "            if ngram>1:\n",
    "                for i in range(len(self.df1)):\n",
    "                    self.df1['post'][i] = list(ngrams(self.df1['post'][i],ngram))\n",
    "            for i in range(len(self.df1)):   \n",
    "                for word in self.df1['post'][i]:\n",
    "                    if ngram==1:\n",
    "                        word = word.replace(\".\",\"\")\n",
    "                        word = word.replace(\",\",\"\")\n",
    "                        word = word.replace(\":\",\"\")\n",
    "                        word = word.replace(\"\\\"\",\"\")\n",
    "                        word = word.replace(\"!\",\"\")\n",
    "                        word = word.replace(\"â€œ\",\"\")\n",
    "                        word = word.replace(\"â€˜\",\"\")\n",
    "                        word = word.replace(\"*\",\"\")\n",
    "                        word = word.replace(\" \",\"\")\n",
    "                    if word not in sum_noise:\n",
    "                        if word not in self.wordcount.keys():\n",
    "                            self.wordcount[word] = 1\n",
    "                        else:\n",
    "                            self.wordcount[word] += 1\n",
    "        self.word_counter = collections.Counter(self.wordcount)\n",
    "        if output:\n",
    "            print(\"The {} most common words are as follows\\n\".format(self.numb))\n",
    "            for word, count in self.word_counter.most_common(self.numb):\n",
    "                print(word, \": \", count)\n",
    "        if self.draw:\n",
    "            lst = self.word_counter.most_common(self.numb)\n",
    "            df_cnt = pd.DataFrame(lst, columns = ['Word', 'Count'])\n",
    "            df_cnt.plot.bar(x='Word',y='Count')\n",
    "        if ngram>1:\n",
    "            global df \n",
    "            df = pd.read_csv(\"fb.csv\", index_col=0)\n",
    "            tokeniz(df)\n",
    "            self.df = df\n",
    "    def date_top(self, text_type, start_date_1 = None, end_date_1 = None, draw = False):\n",
    "        if start_date_1 == None and end_date_1 == None:\n",
    "            self.df1 = self.df\n",
    "        elif (not start_date_1 == None ) and (not end_date_1==None):\n",
    "            start_date_1 = datetime(start_date_1[2], start_date_1[1], start_date_1[0], 0, 0)\n",
    "            end_date_1 = datetime(end_date_1[2], end_date_1[1], end_date_1[0], 0, 0)\n",
    "            self.df1 = self.df[self.df['time']<end_date_1]\n",
    "            self.df1 = self.df1[self.df1['time']>=start_date_1]\n",
    "        elif (not start_date_1 == None ) and (end_date_1==None):\n",
    "            start_date_1 = datetime(start_date_1[2], start_date_1[1], start_date_1[0], 0, 0)\n",
    "            self.df1 = self.df[self.df['time']>=start_date_1]\n",
    "        elif (start_date_1 == None ) and (not end_date_1==None):\n",
    "            end_date_1 = datetime(end_date_1[2], end_date_1[1], end_date_1[0], 0, 0)\n",
    "            self.df1 = self.df[self.df['time']<end_date_1]\n",
    "            \n",
    "        self.dates = np.sort(self.df1['time'].unique())\n",
    "        self.top_words = []\n",
    "        for i in range(len(self.dates)):\n",
    "            self.frequency(1, text_type, start_date = self.dates[i], end_date = self.dates[i]+timedelta(days=1), draw = draw, output=False)\n",
    "            #self.top_words.append(self.word_counter.most_common(1)[0][0])\n",
    "            if not len(self.word_counter.most_common(1)) == 0:\n",
    "                print(self.word_counter.most_common(1)[0][0], self.dates[i].date(), '\\n')\n",
    "            else:\n",
    "                print('no comments', self.dates[i].date(), '\\n')\n",
    "    def word_in_time(self, word):\n",
    "        self.word = word\n",
    "        self.dates = np.sort(self.df['time'].unique())\n",
    "        self.wrd_cnt = []\n",
    "        for i in range(len(self.dates)):\n",
    "            self.count = 0\n",
    "            self.dfwrd = df[df['time'] == self.dates[i]]\n",
    "            self.dfwrd.index = np.arange(len(self.dfwrd))\n",
    "            for j in range(len(self.dfwrd)):\n",
    "                for word1 in self.dfwrd['post'][j]:\n",
    "                    if word1 == self.word:\n",
    "                        self.count +=1\n",
    "                for comm in self.dfwrd['comment'][j]:\n",
    "                    for word2 in comm:\n",
    "                        if word2 == self.word:\n",
    "                            self.count +=1\n",
    "            self.wrd_cnt.append(self.count)\n",
    "        self.plots = pd.DataFrame(self.wrd_cnt)\n",
    "        self.plots['date'] = self.dates\n",
    "        f = plt.figure(figsize=(19, 15))\n",
    "        fig = px.line(self.plots, x='date', y = 0)\n",
    "        fig.update_xaxes(\n",
    "            rangeslider_visible=True,\n",
    "            rangeselector=dict(\n",
    "                buttons=list([\n",
    "                    dict(count=1, label=\"1m\", step=\"month\", stepmode=\"backward\"),\n",
    "                    dict(count=6, label=\"6m\", step=\"month\", stepmode=\"backward\"),\n",
    "                    dict(count=1, label=\"YTD\", step=\"year\", stepmode=\"todate\"),\n",
    "                    dict(count=1, label=\"1y\", step=\"year\", stepmode=\"backward\"),\n",
    "                    dict(step=\"all\")\n",
    "                ])\n",
    "            )\n",
    "        )\n",
    "        fig.show()\n",
    "        \n",
    "    def date_unique(self, nmb, start_date = None, end_date = None):\n",
    "        self.date_slice(start_date, end_date)\n",
    "        self.df1_nd = deepcopy(self.df.iloc[np.delete(np.arange(len(self.df)), self.df1.index),:])\n",
    "        self.df1.index = np.arange(len(self.df1))\n",
    "        self.nmb = nmb\n",
    "        self.d = ''\n",
    "        det = TreebankWordDetokenizer()\n",
    "        for i in range(len(self.df1)):\n",
    "            self.d += ' ' + det.detokenize(self.df1['post'][i])\n",
    "        for i in range(len(self.df1)):\n",
    "            for j in range(len(self.df1['comment'][i])):\n",
    "                self.d += ' ' + det.detokenize(self.df1['comment'][i][j])\n",
    "        self.df1_nd.index = np.arange(len(self.df1_nd))\n",
    "        self.nd = ''\n",
    "        for i in range(len(self.df1_nd)):\n",
    "            self.nd += ' ' + det.detokenize(self.df1_nd['post'][i])\n",
    "        for i in range(len(self.df1_nd)):\n",
    "            for j in range(len(self.df1_nd['comment'][i])):\n",
    "                self.nd += ' ' + det.detokenize(self.df1_nd['comment'][i][j])\n",
    "        self.ls_dt = [self.d, self.nd]\n",
    "        vectorizer = TfidfVectorizer()\n",
    "        self.X = vectorizer.fit_transform(self.ls_dt)\n",
    "        self.tt = pd.DataFrame(self.X.toarray(), columns=vectorizer.get_feature_names())\n",
    "        self.dick = dict(zip(self.tt.columns, self.tt.loc[0]))\n",
    "        self.utp = sorted(self.dick, key=self.dick.get, reverse=True)\n",
    "        for i in range(10):\n",
    "            print('{}:'.format(i+1)+' '+self.utp[i])\n",
    "    def context(self, word, start_date = None, end_date = None, k = 15, ngram = 1):\n",
    "        self.date_slice(start_date, end_date)\n",
    "        self.closest = []\n",
    "        if ngram ==1:     \n",
    "            for i in range(len(self.df1)):\n",
    "                j = 0\n",
    "                try:\n",
    "                    index = self.df1['post'][i][j:].index(word)\n",
    "                    if index>k:\n",
    "                        if len(df['post'][i][j:][index:])>k:\n",
    "                            context_ls = df['post'][i][j:][index-k:index+k]\n",
    "                        elif len(df['post'][i][j:][index:])<=k:\n",
    "                            context_ls = df['post'][i][j:][index-k:]\n",
    "                    elif index<=k:\n",
    "                        if len(df['post'][i][j:][index:])>k:\n",
    "                            context_ls = df['post'][i][j:][:index+k]\n",
    "                        elif len(df['post'][i][j:][index:])<=k:\n",
    "                            context_ls = df['post'][i][j:][:]\n",
    "                    self.closest.append(context_ls)\n",
    "                    j = index\n",
    "                except ValueError:\n",
    "                    continue\n",
    "            for i in range(len(df)):\n",
    "                for f in range(len(df['comment'][i])):\n",
    "                    j = 0\n",
    "                    try:\n",
    "                        index = df['comment'][i][f][j:].index(word)\n",
    "                        if index>k:\n",
    "                            if len(df['comment'][i][f][j:][index:])>k:\n",
    "                                context_ls = df['comment'][i][f][j:][index-k:index+k]\n",
    "                            elif len(df['comment'][i][f][j:][index:])<=k:\n",
    "                                context_ls = df['comment'][i][f][j:][index-k:]\n",
    "                        elif index<=k:\n",
    "                            if len(df['comment'][i][f][j:][index:])>k:\n",
    "                                context_ls = df['comment'][i][f][j:][:index+k]\n",
    "                            elif len(df['comment'][i][f][j:][index:])<=k:\n",
    "                                context_ls = df['comment'][i][f][j:][:]\n",
    "                        self.closest.append(context_ls)\n",
    "                        j = index\n",
    "                    except ValueError:\n",
    "                        continue\n",
    "            self.wordcount_contxt = {}\n",
    "            for i in range(len(self.closest)):   \n",
    "                        for word in self.closest[i]:\n",
    "                            word = word.replace(\".\",\"\")\n",
    "                            word = word.replace(\",\",\"\")\n",
    "                            word = word.replace(\":\",\"\")\n",
    "                            word = word.replace(\"\\\"\",\"\")\n",
    "                            word = word.replace(\"!\",\"\")\n",
    "                            word = word.replace(\"â€œ\",\"\")\n",
    "                            word = word.replace(\"â€˜\",\"\")\n",
    "                            word = word.replace(\"*\",\"\")\n",
    "                            if word not in sum_noise:\n",
    "                                if word not in self.wordcount_contxt:\n",
    "                                    self.wordcount_contxt[word] = 1\n",
    "                                else:\n",
    "                                    self.wordcount_contxt[word] += 1\n",
    "            print(\"The {} most common words are as follows\\n\".format(k))\n",
    "            word_counter = collections.Counter(self.wordcount_contxt)\n",
    "            for word, count in word_counter.most_common(k):\n",
    "                   print(word, \": \", count)\n",
    "                \n",
    "        if ngram>1:\n",
    "            for i in range(len(self.df1)):\n",
    "                    for j in range(len(self.df1['comment'][i])):\n",
    "                        self.df1['comment'][i][j] = list(ngrams(self.df1['comment'][i][j],ngram))\n",
    "            for i in range(len(self.df1)):\n",
    "                    self.df1['post'][i] = list(ngrams(self.df1['post'][i],ngram))\n",
    "                    \n",
    "            self.contxt_ls = []\n",
    "            for i in range(len(self.df1)):\n",
    "                for j in range(len(self.df1['post'][i])):\n",
    "                    if word in self.df1['post'][i][j]:\n",
    "                        self.contxt_ls.append(self.df1['post'][i][j])\n",
    "            for i in range(len(self.df1)):\n",
    "                for j in range(len(self.df1['comment'][i])):\n",
    "                    for f in range(len(self.df1['comment'][i][j])):\n",
    "                        if word in self.df1['comment'][i][j][f]:\n",
    "                            self.contxt_ls.append(self.df1['comment'][i][j][f])\n",
    "            self.wordcount_contxt = {}\n",
    "            for word in (self.contxt_ls):   \n",
    "                if word not in sum_noise:\n",
    "                    if word not in self.wordcount_contxt:\n",
    "                        self.wordcount_contxt[word] = 1\n",
    "                    else:\n",
    "                        self.wordcount_contxt[word] += 1\n",
    "            print(\"The {} most common words are as follows\\n\".format(k))\n",
    "            word_counter = collections.Counter(self.wordcount_contxt)\n",
    "            for word, count in word_counter.most_common(k):\n",
    "                   print(word, \": \", count)"
   ]
  },
  {
   "cell_type": "code",
   "execution_count": 23,
   "metadata": {},
   "outputs": [],
   "source": [
    "test = TextAnalyzer(df)"
   ]
  },
  {
   "cell_type": "code",
   "execution_count": 24,
   "metadata": {},
   "outputs": [
    {
     "name": "stdout",
     "output_type": "stream",
     "text": [
      "The 15 most common words are as follows\n",
      "\n",
      "ребенок :  150\n",
      "приватизация :  39\n",
      "право :  32\n",
      "год :  19\n",
      "отец :  16\n",
      "зарегистрировать :  16\n",
      "родитель :  14\n",
      "мать :  13\n",
      "проживать :  12\n",
      "место :  12\n",
      "покупать :  9\n",
      "жить :  9\n",
      "иметь :  9\n",
      "доля :  9\n",
      "приватизировать :  9\n"
     ]
    }
   ],
   "source": [
    "test.context('ребенок')"
   ]
  },
  {
   "cell_type": "code",
   "execution_count": 25,
   "metadata": {},
   "outputs": [
    {
     "data": {
      "text/html": [
       "<div>\n",
       "<style scoped>\n",
       "    .dataframe tbody tr th:only-of-type {\n",
       "        vertical-align: middle;\n",
       "    }\n",
       "\n",
       "    .dataframe tbody tr th {\n",
       "        vertical-align: top;\n",
       "    }\n",
       "\n",
       "    .dataframe thead th {\n",
       "        text-align: right;\n",
       "    }\n",
       "</style>\n",
       "<table border=\"1\" class=\"dataframe\">\n",
       "  <thead>\n",
       "    <tr style=\"text-align: right;\">\n",
       "      <th></th>\n",
       "      <th>time</th>\n",
       "      <th>post</th>\n",
       "      <th>number_comments</th>\n",
       "      <th>comment</th>\n",
       "    </tr>\n",
       "  </thead>\n",
       "  <tbody>\n",
       "    <tr>\n",
       "      <th>0</th>\n",
       "      <td>2020-10-01 00:00:00</td>\n",
       "      <td>[размещать, видео, судебный, юрист, татьяна, п...</td>\n",
       "      <td>9</td>\n",
       "      <td>[[очепятка, прочитывать, аккультный], [чубатов...</td>\n",
       "    </tr>\n",
       "    <tr>\n",
       "      <th>1</th>\n",
       "      <td>2020-10-05 00:00:00</td>\n",
       "      <td>[клиент, спрашивать, оплачивать, проверка, сбе...</td>\n",
       "      <td>2</td>\n",
       "      <td>[[документ, регистрировать, регистратор], [ден...</td>\n",
       "    </tr>\n",
       "    <tr>\n",
       "      <th>2</th>\n",
       "      <td>2020-10-05 00:00:00</td>\n",
       "      <td>[приплывать, сделка, цепь, нижний, просить, за...</td>\n",
       "      <td>5</td>\n",
       "      <td>[[итакасоглашаться, оценщик, ссылка, присылать...</td>\n",
       "    </tr>\n",
       "    <tr>\n",
       "      <th>3</th>\n",
       "      <td>2020-10-05 00:00:00</td>\n",
       "      <td>[добрый, день, нужный, помощь, нужный, фото, о...</td>\n",
       "      <td>52</td>\n",
       "      <td>[[америка, работать], [наташа], [лурье], [вспо...</td>\n",
       "    </tr>\n",
       "    <tr>\n",
       "      <th>4</th>\n",
       "      <td>2020-10-05 00:00:00</td>\n",
       "      <td>[время, приходить, покупатель, предлагать, зап...</td>\n",
       "      <td>10</td>\n",
       "      <td>[[распашонка], [лукашевский], [банк], [быков],...</td>\n",
       "    </tr>\n",
       "    <tr>\n",
       "      <th>...</th>\n",
       "      <td>...</td>\n",
       "      <td>...</td>\n",
       "      <td>...</td>\n",
       "      <td>...</td>\n",
       "    </tr>\n",
       "    <tr>\n",
       "      <th>107</th>\n",
       "      <td>2020-10-01 00:00:00</td>\n",
       "      <td>[поделиться, пожалуйста, опыт, недавно, оформл...</td>\n",
       "      <td>0</td>\n",
       "      <td>[]</td>\n",
       "    </tr>\n",
       "    <tr>\n",
       "      <th>108</th>\n",
       "      <td>2020-10-01 00:00:00</td>\n",
       "      <td>[поступать, ситуация, стоять, связываться, про...</td>\n",
       "      <td>0</td>\n",
       "      <td>[]</td>\n",
       "    </tr>\n",
       "    <tr>\n",
       "      <th>109</th>\n",
       "      <td>2019-10-31 00:00:00</td>\n",
       "      <td>[пост, благодарность, серебряков, андрей, имет...</td>\n",
       "      <td>0</td>\n",
       "      <td>[]</td>\n",
       "    </tr>\n",
       "    <tr>\n",
       "      <th>110</th>\n",
       "      <td>2020-10-01 00:00:00</td>\n",
       "      <td>[среди, волшебник, смочь, срочно, пресрочно, п...</td>\n",
       "      <td>0</td>\n",
       "      <td>[]</td>\n",
       "    </tr>\n",
       "    <tr>\n",
       "      <th>111</th>\n",
       "      <td>2020-09-29 00:00:00</td>\n",
       "      <td>[добрый, день, поделиться, пожалуйста, контакт...</td>\n",
       "      <td>0</td>\n",
       "      <td>[]</td>\n",
       "    </tr>\n",
       "  </tbody>\n",
       "</table>\n",
       "<p>112 rows × 4 columns</p>\n",
       "</div>"
      ],
      "text/plain": [
       "                    time                                               post  \\\n",
       "0    2020-10-01 00:00:00  [размещать, видео, судебный, юрист, татьяна, п...   \n",
       "1    2020-10-05 00:00:00  [клиент, спрашивать, оплачивать, проверка, сбе...   \n",
       "2    2020-10-05 00:00:00  [приплывать, сделка, цепь, нижний, просить, за...   \n",
       "3    2020-10-05 00:00:00  [добрый, день, нужный, помощь, нужный, фото, о...   \n",
       "4    2020-10-05 00:00:00  [время, приходить, покупатель, предлагать, зап...   \n",
       "..                   ...                                                ...   \n",
       "107  2020-10-01 00:00:00  [поделиться, пожалуйста, опыт, недавно, оформл...   \n",
       "108  2020-10-01 00:00:00  [поступать, ситуация, стоять, связываться, про...   \n",
       "109  2019-10-31 00:00:00  [пост, благодарность, серебряков, андрей, имет...   \n",
       "110  2020-10-01 00:00:00  [среди, волшебник, смочь, срочно, пресрочно, п...   \n",
       "111  2020-09-29 00:00:00  [добрый, день, поделиться, пожалуйста, контакт...   \n",
       "\n",
       "     number_comments                                            comment  \n",
       "0                  9  [[очепятка, прочитывать, аккультный], [чубатов...  \n",
       "1                  2  [[документ, регистрировать, регистратор], [ден...  \n",
       "2                  5  [[итакасоглашаться, оценщик, ссылка, присылать...  \n",
       "3                 52  [[америка, работать], [наташа], [лурье], [вспо...  \n",
       "4                 10  [[распашонка], [лукашевский], [банк], [быков],...  \n",
       "..               ...                                                ...  \n",
       "107                0                                                 []  \n",
       "108                0                                                 []  \n",
       "109                0                                                 []  \n",
       "110                0                                                 []  \n",
       "111                0                                                 []  \n",
       "\n",
       "[112 rows x 4 columns]"
      ]
     },
     "execution_count": 25,
     "metadata": {},
     "output_type": "execute_result"
    }
   ],
   "source": [
    "test.df1"
   ]
  },
  {
   "cell_type": "code",
   "execution_count": 26,
   "metadata": {},
   "outputs": [
    {
     "name": "stdout",
     "output_type": "stream",
     "text": [
      "The 10 most common words are as follows\n",
      "\n",
      "сделка :  164\n",
      "право :  149\n",
      "ребенок :  142\n",
      "клиент :  124\n",
      "год :  121\n",
      "мочь :  114\n",
      "покупатель :  113\n",
      "человек :  107\n",
      "продавец :  92\n",
      "знать :  88\n"
     ]
    },
    {
     "data": {
      "image/png": "[encoded data removed]",
      "text/plain": [
       "<Figure size 432x288 with 1 Axes>"
      ]
     },
     "metadata": {
      "needs_background": "light"
     },
     "output_type": "display_data"
    }
   ],
   "source": [
    "test.frequency(10, 'comment', start_date=[28,9,2020])"
   ]
  },
  {
   "cell_type": "code",
   "execution_count": 27,
   "metadata": {},
   "outputs": [
    {
     "name": "stdout",
     "output_type": "stream",
     "text": [
      "1: сделка\n",
      "2: клиент\n",
      "3: покупатель\n",
      "4: мочь\n",
      "5: собственник\n",
      "6: человек\n",
      "7: писать\n",
      "8: вообще\n",
      "9: доля\n",
      "10: делать\n"
     ]
    }
   ],
   "source": [
    "test.date_unique(5, start_date=[3,10,2020])"
   ]
  },
  {
   "cell_type": "code",
   "execution_count": 24,
   "metadata": {},
   "outputs": [
    {
     "name": "stdout",
     "output_type": "stream",
     "text": [
      "андрей 2019-10-31 \n",
      "\n",
      "хороший 2020-01-10 \n",
      "\n",
      "уважаемый 2020-08-25 \n",
      "\n",
      "сегодня 2020-08-31 \n",
      "\n",
      "задаток 2020-09-18 \n",
      "\n",
      "⠀ 2020-09-21 \n",
      "\n",
      "завещание 2020-09-23 \n",
      "\n",
      "добрый 2020-09-24 \n",
      "\n",
      "бороться 2020-09-26 \n",
      "\n",
      "продавать 2020-09-28 \n",
      "\n",
      "друг 2020-09-29 \n",
      "\n",
      "сказать 2020-09-30 \n",
      "\n",
      "квартира 2020-10-01 \n",
      "\n",
      "сделка 2020-10-02 \n",
      "\n",
      "шуба 2020-10-03 \n",
      "\n",
      "дом 2020-10-04 \n",
      "\n",
      "квартира 2020-10-05 \n",
      "\n"
     ]
    }
   ],
   "source": [
    "test.date_top('post')"
   ]
  },
  {
   "cell_type": "code",
   "execution_count": 29,
   "metadata": {},
   "outputs": [
    {
     "name": "stdout",
     "output_type": "stream",
     "text": [
      "The 20 most common words are as follows\n",
      "\n",
      "('иметь', 'право') :  24\n",
      "('право', 'пользование') :  21\n",
      "('право', 'собственность') :  11\n",
      "('переход', 'право') :  10\n",
      "('право', 'приватизация') :  9\n",
      "('право', 'ребенок') :  7\n",
      "('лишать', 'право') :  6\n",
      "('нарушать', 'право') :  5\n",
      "('нарушение', 'право') :  4\n",
      "('доля', 'право') :  4\n",
      "('право', 'проживание') :  3\n",
      "('ребенок', 'право') :  3\n",
      "('право', 'родитель') :  3\n",
      "('право', 'зарегистрировать') :  3\n",
      "('ущемление', 'право') :  2\n",
      "('право', 'жилье') :  2\n",
      "('свидетельство', 'право') :  2\n",
      "('право', 'наследство') :  2\n",
      "('жилищный', 'право') :  2\n",
      "('право', 'отчуждать') :  2\n"
     ]
    }
   ],
   "source": [
    "test.context('право', k = 20, ngram=2)"
   ]
  },
  {
   "cell_type": "code",
   "execution_count": 28,
   "metadata": {},
   "outputs": [
    {
     "data": {
      "application/vnd.plotly.v1+json": {
       "config": {
        "plotlyServerURL": "https://plot.ly"
       },
       "data": [
        {
         "hovertemplate": "date=%{x}<br>0=%{y}<extra></extra>",
         "legendgroup": "",
         "line": {
          "color": "#636efa",
          "dash": "solid"
         },
         "mode": "lines",
         "name": "",
         "orientation": "v",
         "showlegend": false,
         "type": "scatter",
         "x": [
          "2019-10-31T00:00:00",
          "2020-01-10T00:00:00",
          "2020-08-25T00:00:00",
          "2020-08-31T00:00:00",
          "2020-09-18T00:00:00",
          "2020-09-21T00:00:00",
          "2020-09-23T00:00:00",
          "2020-09-24T00:00:00",
          "2020-09-26T00:00:00",
          "2020-09-28T00:00:00",
          "2020-09-29T00:00:00",
          "2020-09-30T00:00:00",
          "2020-10-01T00:00:00",
          "2020-10-02T00:00:00",
          "2020-10-03T00:00:00",
          "2020-10-04T00:00:00",
          "2020-10-05T00:00:00"
         ],
         "xaxis": "x",
         "y": [
          0,
          0,
          0,
          0,
          0,
          0,
          0,
          0,
          0,
          0,
          0,
          0,
          55,
          20,
          72,
          9,
          4
         ],
         "yaxis": "y"
        }
       ],
       "layout": {
        "legend": {
         "tracegroupgap": 0
        },
        "margin": {
         "t": 60
        },
        "template": {
         "data": {
          "bar": [
           {
            "error_x": {
             "color": "#2a3f5f"
            },
            "error_y": {
             "color": "#2a3f5f"
            },
            "marker": {
             "line": {
              "color": "#E5ECF6",
              "width": 0.5
             }
            },
            "type": "bar"
           }
          ],
          "barpolar": [
           {
            "marker": {
             "line": {
              "color": "#E5ECF6",
              "width": 0.5
             }
            },
            "type": "barpolar"
           }
          ],
          "carpet": [
           {
            "aaxis": {
             "endlinecolor": "#2a3f5f",
             "gridcolor": "white",
             "linecolor": "white",
             "minorgridcolor": "white",
             "startlinecolor": "#2a3f5f"
            },
            "baxis": {
             "endlinecolor": "#2a3f5f",
             "gridcolor": "white",
             "linecolor": "white",
             "minorgridcolor": "white",
             "startlinecolor": "#2a3f5f"
            },
            "type": "carpet"
           }
          ],
          "choropleth": [
           {
            "colorbar": {
             "outlinewidth": 0,
             "ticks": ""
            },
            "type": "choropleth"
           }
          ],
          "contour": [
           {
            "colorbar": {
             "outlinewidth": 0,
             "ticks": ""
            },
            "colorscale": [
             [
              0,
              "#0d0887"
             ],
             [
              0.1111111111111111,
              "#46039f"
             ],
             [
              0.2222222222222222,
              "#7201a8"
             ],
             [
              0.3333333333333333,
              "#9c179e"
             ],
             [
              0.4444444444444444,
              "#bd3786"
             ],
             [
              0.5555555555555556,
              "#d8576b"
             ],
             [
              0.6666666666666666,
              "#ed7953"
             ],
             [
              0.7777777777777778,
              "#fb9f3a"
             ],
             [
              0.8888888888888888,
              "#fdca26"
             ],
             [
              1,
              "#f0f921"
             ]
            ],
            "type": "contour"
           }
          ],
          "contourcarpet": [
           {
            "colorbar": {
             "outlinewidth": 0,
             "ticks": ""
            },
            "type": "contourcarpet"
           }
          ],
          "heatmap": [
           {
            "colorbar": {
             "outlinewidth": 0,
             "ticks": ""
            },
            "colorscale": [
             [
              0,
              "#0d0887"
             ],
             [
              0.1111111111111111,
              "#46039f"
             ],
             [
              0.2222222222222222,
              "#7201a8"
             ],
             [
              0.3333333333333333,
              "#9c179e"
             ],
             [
              0.4444444444444444,
              "#bd3786"
             ],
             [
              0.5555555555555556,
              "#d8576b"
             ],
             [
              0.6666666666666666,
              "#ed7953"
             ],
             [
              0.7777777777777778,
              "#fb9f3a"
             ],
             [
              0.8888888888888888,
              "#fdca26"
             ],
             [
              1,
              "#f0f921"
             ]
            ],
            "type": "heatmap"
           }
          ],
          "heatmapgl": [
           {
            "colorbar": {
             "outlinewidth": 0,
             "ticks": ""
            },
            "colorscale": [
             [
              0,
              "#0d0887"
             ],
             [
              0.1111111111111111,
              "#46039f"
             ],
             [
              0.2222222222222222,
              "#7201a8"
             ],
             [
              0.3333333333333333,
              "#9c179e"
             ],
             [
              0.4444444444444444,
              "#bd3786"
             ],
             [
              0.5555555555555556,
              "#d8576b"
             ],
             [
              0.6666666666666666,
              "#ed7953"
             ],
             [
              0.7777777777777778,
              "#fb9f3a"
             ],
             [
              0.8888888888888888,
              "#fdca26"
             ],
             [
              1,
              "#f0f921"
             ]
            ],
            "type": "heatmapgl"
           }
          ],
          "histogram": [
           {
            "marker": {
             "colorbar": {
              "outlinewidth": 0,
              "ticks": ""
             }
            },
            "type": "histogram"
           }
          ],
          "histogram2d": [
           {
            "colorbar": {
             "outlinewidth": 0,
             "ticks": ""
            },
            "colorscale": [
             [
              0,
              "#0d0887"
             ],
             [
              0.1111111111111111,
              "#46039f"
             ],
             [
              0.2222222222222222,
              "#7201a8"
             ],
             [
              0.3333333333333333,
              "#9c179e"
             ],
             [
              0.4444444444444444,
              "#bd3786"
             ],
             [
              0.5555555555555556,
              "#d8576b"
             ],
             [
              0.6666666666666666,
              "#ed7953"
             ],
             [
              0.7777777777777778,
              "#fb9f3a"
             ],
             [
              0.8888888888888888,
              "#fdca26"
             ],
             [
              1,
              "#f0f921"
             ]
            ],
            "type": "histogram2d"
           }
          ],
          "histogram2dcontour": [
           {
            "colorbar": {
             "outlinewidth": 0,
             "ticks": ""
            },
            "colorscale": [
             [
              0,
              "#0d0887"
             ],
             [
              0.1111111111111111,
              "#46039f"
             ],
             [
              0.2222222222222222,
              "#7201a8"
             ],
             [
              0.3333333333333333,
              "#9c179e"
             ],
             [
              0.4444444444444444,
              "#bd3786"
             ],
             [
              0.5555555555555556,
              "#d8576b"
             ],
             [
              0.6666666666666666,
              "#ed7953"
             ],
             [
              0.7777777777777778,
              "#fb9f3a"
             ],
             [
              0.8888888888888888,
              "#fdca26"
             ],
             [
              1,
              "#f0f921"
             ]
            ],
            "type": "histogram2dcontour"
           }
          ],
          "mesh3d": [
           {
            "colorbar": {
             "outlinewidth": 0,
             "ticks": ""
            },
            "type": "mesh3d"
           }
          ],
          "parcoords": [
           {
            "line": {
             "colorbar": {
              "outlinewidth": 0,
              "ticks": ""
             }
            },
            "type": "parcoords"
           }
          ],
          "pie": [
           {
            "automargin": true,
            "type": "pie"
           }
          ],
          "scatter": [
           {
            "marker": {
             "colorbar": {
              "outlinewidth": 0,
              "ticks": ""
             }
            },
            "type": "scatter"
           }
          ],
          "scatter3d": [
           {
            "line": {
             "colorbar": {
              "outlinewidth": 0,
              "ticks": ""
             }
            },
            "marker": {
             "colorbar": {
              "outlinewidth": 0,
              "ticks": ""
             }
            },
            "type": "scatter3d"
           }
          ],
          "scattercarpet": [
           {
            "marker": {
             "colorbar": {
              "outlinewidth": 0,
              "ticks": ""
             }
            },
            "type": "scattercarpet"
           }
          ],
          "scattergeo": [
           {
            "marker": {
             "colorbar": {
              "outlinewidth": 0,
              "ticks": ""
             }
            },
            "type": "scattergeo"
           }
          ],
          "scattergl": [
           {
            "marker": {
             "colorbar": {
              "outlinewidth": 0,
              "ticks": ""
             }
            },
            "type": "scattergl"
           }
          ],
          "scattermapbox": [
           {
            "marker": {
             "colorbar": {
              "outlinewidth": 0,
              "ticks": ""
             }
            },
            "type": "scattermapbox"
           }
          ],
          "scatterpolar": [
           {
            "marker": {
             "colorbar": {
              "outlinewidth": 0,
              "ticks": ""
             }
            },
            "type": "scatterpolar"
           }
          ],
          "scatterpolargl": [
           {
            "marker": {
             "colorbar": {
              "outlinewidth": 0,
              "ticks": ""
             }
            },
            "type": "scatterpolargl"
           }
          ],
          "scatterternary": [
           {
            "marker": {
             "colorbar": {
              "outlinewidth": 0,
              "ticks": ""
             }
            },
            "type": "scatterternary"
           }
          ],
          "surface": [
           {
            "colorbar": {
             "outlinewidth": 0,
             "ticks": ""
            },
            "colorscale": [
             [
              0,
              "#0d0887"
             ],
             [
              0.1111111111111111,
              "#46039f"
             ],
             [
              0.2222222222222222,
              "#7201a8"
             ],
             [
              0.3333333333333333,
              "#9c179e"
             ],
             [
              0.4444444444444444,
              "#bd3786"
             ],
             [
              0.5555555555555556,
              "#d8576b"
             ],
             [
              0.6666666666666666,
              "#ed7953"
             ],
             [
              0.7777777777777778,
              "#fb9f3a"
             ],
             [
              0.8888888888888888,
              "#fdca26"
             ],
             [
              1,
              "#f0f921"
             ]
            ],
            "type": "surface"
           }
          ],
          "table": [
           {
            "cells": {
             "fill": {
              "color": "#EBF0F8"
             },
             "line": {
              "color": "white"
             }
            },
            "header": {
             "fill": {
              "color": "#C8D4E3"
             },
             "line": {
              "color": "white"
             }
            },
            "type": "table"
           }
          ]
         },
         "layout": {
          "annotationdefaults": {
           "arrowcolor": "#2a3f5f",
           "arrowhead": 0,
           "arrowwidth": 1
          },
          "coloraxis": {
           "colorbar": {
            "outlinewidth": 0,
            "ticks": ""
           }
          },
          "colorscale": {
           "diverging": [
            [
             0,
             "#8e0152"
            ],
            [
             0.1,
             "#c51b7d"
            ],
            [
             0.2,
             "#de77ae"
            ],
            [
             0.3,
             "#f1b6da"
            ],
            [
             0.4,
             "#fde0ef"
            ],
            [
             0.5,
             "#f7f7f7"
            ],
            [
             0.6,
             "#e6f5d0"
            ],
            [
             0.7,
             "#b8e186"
            ],
            [
             0.8,
             "#7fbc41"
            ],
            [
             0.9,
             "#4d9221"
            ],
            [
             1,
             "#276419"
            ]
           ],
           "sequential": [
            [
             0,
             "#0d0887"
            ],
            [
             0.1111111111111111,
             "#46039f"
            ],
            [
             0.2222222222222222,
             "#7201a8"
            ],
            [
             0.3333333333333333,
             "#9c179e"
            ],
            [
             0.4444444444444444,
             "#bd3786"
            ],
            [
             0.5555555555555556,
             "#d8576b"
            ],
            [
             0.6666666666666666,
             "#ed7953"
            ],
            [
             0.7777777777777778,
             "#fb9f3a"
            ],
            [
             0.8888888888888888,
             "#fdca26"
            ],
            [
             1,
             "#f0f921"
            ]
           ],
           "sequentialminus": [
            [
             0,
             "#0d0887"
            ],
            [
             0.1111111111111111,
             "#46039f"
            ],
            [
             0.2222222222222222,
             "#7201a8"
            ],
            [
             0.3333333333333333,
             "#9c179e"
            ],
            [
             0.4444444444444444,
             "#bd3786"
            ],
            [
             0.5555555555555556,
             "#d8576b"
            ],
            [
             0.6666666666666666,
             "#ed7953"
            ],
            [
             0.7777777777777778,
             "#fb9f3a"
            ],
            [
             0.8888888888888888,
             "#fdca26"
            ],
            [
             1,
             "#f0f921"
            ]
           ]
          },
          "colorway": [
           "#636efa",
           "#EF553B",
           "#00cc96",
           "#ab63fa",
           "#FFA15A",
           "#19d3f3",
           "#FF6692",
           "#B6E880",
           "#FF97FF",
           "#FECB52"
          ],
          "font": {
           "color": "#2a3f5f"
          },
          "geo": {
           "bgcolor": "white",
           "lakecolor": "white",
           "landcolor": "#E5ECF6",
           "showlakes": true,
           "showland": true,
           "subunitcolor": "white"
          },
          "hoverlabel": {
           "align": "left"
          },
          "hovermode": "closest",
          "mapbox": {
           "style": "light"
          },
          "paper_bgcolor": "white",
          "plot_bgcolor": "#E5ECF6",
          "polar": {
           "angularaxis": {
            "gridcolor": "white",
            "linecolor": "white",
            "ticks": ""
           },
           "bgcolor": "#E5ECF6",
           "radialaxis": {
            "gridcolor": "white",
            "linecolor": "white",
            "ticks": ""
           }
          },
          "scene": {
           "xaxis": {
            "backgroundcolor": "#E5ECF6",
            "gridcolor": "white",
            "gridwidth": 2,
            "linecolor": "white",
            "showbackground": true,
            "ticks": "",
            "zerolinecolor": "white"
           },
           "yaxis": {
            "backgroundcolor": "#E5ECF6",
            "gridcolor": "white",
            "gridwidth": 2,
            "linecolor": "white",
            "showbackground": true,
            "ticks": "",
            "zerolinecolor": "white"
           },
           "zaxis": {
            "backgroundcolor": "#E5ECF6",
            "gridcolor": "white",
            "gridwidth": 2,
            "linecolor": "white",
            "showbackground": true,
            "ticks": "",
            "zerolinecolor": "white"
           }
          },
          "shapedefaults": {
           "line": {
            "color": "#2a3f5f"
           }
          },
          "ternary": {
           "aaxis": {
            "gridcolor": "white",
            "linecolor": "white",
            "ticks": ""
           },
           "baxis": {
            "gridcolor": "white",
            "linecolor": "white",
            "ticks": ""
           },
           "bgcolor": "#E5ECF6",
           "caxis": {
            "gridcolor": "white",
            "linecolor": "white",
            "ticks": ""
           }
          },
          "title": {
           "x": 0.05
          },
          "xaxis": {
           "automargin": true,
           "gridcolor": "white",
           "linecolor": "white",
           "ticks": "",
           "title": {
            "standoff": 15
           },
           "zerolinecolor": "white",
           "zerolinewidth": 2
          },
          "yaxis": {
           "automargin": true,
           "gridcolor": "white",
           "linecolor": "white",
           "ticks": "",
           "title": {
            "standoff": 15
           },
           "zerolinecolor": "white",
           "zerolinewidth": 2
          }
         }
        },
        "xaxis": {
         "anchor": "y",
         "domain": [
          0,
          1
         ],
         "rangeselector": {
          "buttons": [
           {
            "count": 1,
            "label": "1m",
            "step": "month",
            "stepmode": "backward"
           },
           {
            "count": 6,
            "label": "6m",
            "step": "month",
            "stepmode": "backward"
           },
           {
            "count": 1,
            "label": "YTD",
            "step": "year",
            "stepmode": "todate"
           },
           {
            "count": 1,
            "label": "1y",
            "step": "year",
            "stepmode": "backward"
           },
           {
            "step": "all"
           }
          ]
         },
         "rangeslider": {
          "visible": true
         },
         "title": {
          "text": "date"
         }
        },
        "yaxis": {
         "anchor": "x",
         "domain": [
          0,
          1
         ],
         "title": {
          "text": "0"
         }
        }
       }
      },
      "text/html": [
       "<div>\n",
       "        \n",
       "        \n",
       "            <div id=\"5d0a4a9c-edda-49a4-ad85-f5e38e6ebdee\" class=\"plotly-graph-div\" style=\"height:525px; width:100%;\"></div>\n",
       "            <script type=\"text/javascript\">\n",
       "                require([\"plotly\"], function(Plotly) {\n",
       "                    window.PLOTLYENV=window.PLOTLYENV || {};\n",
       "                    \n",
       "                if (document.getElementById(\"5d0a4a9c-edda-49a4-ad85-f5e38e6ebdee\")) {\n",
       "                    Plotly.newPlot(\n",
       "                        '5d0a4a9c-edda-49a4-ad85-f5e38e6ebdee',\n",
       "                        [{\"hovertemplate\": \"date=%{x}<br>0=%{y}<extra></extra>\", \"legendgroup\": \"\", \"line\": {\"color\": \"#636efa\", \"dash\": \"solid\"}, \"mode\": \"lines\", \"name\": \"\", \"orientation\": \"v\", \"showlegend\": false, \"type\": \"scatter\", \"x\": [\"2019-10-31T00:00:00\", \"2020-01-10T00:00:00\", \"2020-08-25T00:00:00\", \"2020-08-31T00:00:00\", \"2020-09-18T00:00:00\", \"2020-09-21T00:00:00\", \"2020-09-23T00:00:00\", \"2020-09-24T00:00:00\", \"2020-09-26T00:00:00\", \"2020-09-28T00:00:00\", \"2020-09-29T00:00:00\", \"2020-09-30T00:00:00\", \"2020-10-01T00:00:00\", \"2020-10-02T00:00:00\", \"2020-10-03T00:00:00\", \"2020-10-04T00:00:00\", \"2020-10-05T00:00:00\"], \"xaxis\": \"x\", \"y\": [0, 0, 0, 0, 0, 0, 0, 0, 0, 0, 0, 0, 55, 20, 72, 9, 4], \"yaxis\": \"y\"}],\n",
       "                        {\"legend\": {\"tracegroupgap\": 0}, \"margin\": {\"t\": 60}, \"template\": {\"data\": {\"bar\": [{\"error_x\": {\"color\": \"#2a3f5f\"}, \"error_y\": {\"color\": \"#2a3f5f\"}, \"marker\": {\"line\": {\"color\": \"#E5ECF6\", \"width\": 0.5}}, \"type\": \"bar\"}], \"barpolar\": [{\"marker\": {\"line\": {\"color\": \"#E5ECF6\", \"width\": 0.5}}, \"type\": \"barpolar\"}], \"carpet\": [{\"aaxis\": {\"endlinecolor\": \"#2a3f5f\", \"gridcolor\": \"white\", \"linecolor\": \"white\", \"minorgridcolor\": \"white\", \"startlinecolor\": \"#2a3f5f\"}, \"baxis\": {\"endlinecolor\": \"#2a3f5f\", \"gridcolor\": \"white\", \"linecolor\": \"white\", \"minorgridcolor\": \"white\", \"startlinecolor\": \"#2a3f5f\"}, \"type\": \"carpet\"}], \"choropleth\": [{\"colorbar\": {\"outlinewidth\": 0, \"ticks\": \"\"}, \"type\": \"choropleth\"}], \"contour\": [{\"colorbar\": {\"outlinewidth\": 0, \"ticks\": \"\"}, \"colorscale\": [[0.0, \"#0d0887\"], [0.1111111111111111, \"#46039f\"], [0.2222222222222222, \"#7201a8\"], [0.3333333333333333, \"#9c179e\"], [0.4444444444444444, \"#bd3786\"], [0.5555555555555556, \"#d8576b\"], [0.6666666666666666, \"#ed7953\"], [0.7777777777777778, \"#fb9f3a\"], [0.8888888888888888, \"#fdca26\"], [1.0, \"#f0f921\"]], \"type\": \"contour\"}], \"contourcarpet\": [{\"colorbar\": {\"outlinewidth\": 0, \"ticks\": \"\"}, \"type\": \"contourcarpet\"}], \"heatmap\": [{\"colorbar\": {\"outlinewidth\": 0, \"ticks\": \"\"}, \"colorscale\": [[0.0, \"#0d0887\"], [0.1111111111111111, \"#46039f\"], [0.2222222222222222, \"#7201a8\"], [0.3333333333333333, \"#9c179e\"], [0.4444444444444444, \"#bd3786\"], [0.5555555555555556, \"#d8576b\"], [0.6666666666666666, \"#ed7953\"], [0.7777777777777778, \"#fb9f3a\"], [0.8888888888888888, \"#fdca26\"], [1.0, \"#f0f921\"]], \"type\": \"heatmap\"}], \"heatmapgl\": [{\"colorbar\": {\"outlinewidth\": 0, \"ticks\": \"\"}, \"colorscale\": [[0.0, \"#0d0887\"], [0.1111111111111111, \"#46039f\"], [0.2222222222222222, \"#7201a8\"], [0.3333333333333333, \"#9c179e\"], [0.4444444444444444, \"#bd3786\"], [0.5555555555555556, \"#d8576b\"], [0.6666666666666666, \"#ed7953\"], [0.7777777777777778, \"#fb9f3a\"], [0.8888888888888888, \"#fdca26\"], [1.0, \"#f0f921\"]], \"type\": \"heatmapgl\"}], \"histogram\": [{\"marker\": {\"colorbar\": {\"outlinewidth\": 0, \"ticks\": \"\"}}, \"type\": \"histogram\"}], \"histogram2d\": [{\"colorbar\": {\"outlinewidth\": 0, \"ticks\": \"\"}, \"colorscale\": [[0.0, \"#0d0887\"], [0.1111111111111111, \"#46039f\"], [0.2222222222222222, \"#7201a8\"], [0.3333333333333333, \"#9c179e\"], [0.4444444444444444, \"#bd3786\"], [0.5555555555555556, \"#d8576b\"], [0.6666666666666666, \"#ed7953\"], [0.7777777777777778, \"#fb9f3a\"], [0.8888888888888888, \"#fdca26\"], [1.0, \"#f0f921\"]], \"type\": \"histogram2d\"}], \"histogram2dcontour\": [{\"colorbar\": {\"outlinewidth\": 0, \"ticks\": \"\"}, \"colorscale\": [[0.0, \"#0d0887\"], [0.1111111111111111, \"#46039f\"], [0.2222222222222222, \"#7201a8\"], [0.3333333333333333, \"#9c179e\"], [0.4444444444444444, \"#bd3786\"], [0.5555555555555556, \"#d8576b\"], [0.6666666666666666, \"#ed7953\"], [0.7777777777777778, \"#fb9f3a\"], [0.8888888888888888, \"#fdca26\"], [1.0, \"#f0f921\"]], \"type\": \"histogram2dcontour\"}], \"mesh3d\": [{\"colorbar\": {\"outlinewidth\": 0, \"ticks\": \"\"}, \"type\": \"mesh3d\"}], \"parcoords\": [{\"line\": {\"colorbar\": {\"outlinewidth\": 0, \"ticks\": \"\"}}, \"type\": \"parcoords\"}], \"pie\": [{\"automargin\": true, \"type\": \"pie\"}], \"scatter\": [{\"marker\": {\"colorbar\": {\"outlinewidth\": 0, \"ticks\": \"\"}}, \"type\": \"scatter\"}], \"scatter3d\": [{\"line\": {\"colorbar\": {\"outlinewidth\": 0, \"ticks\": \"\"}}, \"marker\": {\"colorbar\": {\"outlinewidth\": 0, \"ticks\": \"\"}}, \"type\": \"scatter3d\"}], \"scattercarpet\": [{\"marker\": {\"colorbar\": {\"outlinewidth\": 0, \"ticks\": \"\"}}, \"type\": \"scattercarpet\"}], \"scattergeo\": [{\"marker\": {\"colorbar\": {\"outlinewidth\": 0, \"ticks\": \"\"}}, \"type\": \"scattergeo\"}], \"scattergl\": [{\"marker\": {\"colorbar\": {\"outlinewidth\": 0, \"ticks\": \"\"}}, \"type\": \"scattergl\"}], \"scattermapbox\": [{\"marker\": {\"colorbar\": {\"outlinewidth\": 0, \"ticks\": \"\"}}, \"type\": \"scattermapbox\"}], \"scatterpolar\": [{\"marker\": {\"colorbar\": {\"outlinewidth\": 0, \"ticks\": \"\"}}, \"type\": \"scatterpolar\"}], \"scatterpolargl\": [{\"marker\": {\"colorbar\": {\"outlinewidth\": 0, \"ticks\": \"\"}}, \"type\": \"scatterpolargl\"}], \"scatterternary\": [{\"marker\": {\"colorbar\": {\"outlinewidth\": 0, \"ticks\": \"\"}}, \"type\": \"scatterternary\"}], \"surface\": [{\"colorbar\": {\"outlinewidth\": 0, \"ticks\": \"\"}, \"colorscale\": [[0.0, \"#0d0887\"], [0.1111111111111111, \"#46039f\"], [0.2222222222222222, \"#7201a8\"], [0.3333333333333333, \"#9c179e\"], [0.4444444444444444, \"#bd3786\"], [0.5555555555555556, \"#d8576b\"], [0.6666666666666666, \"#ed7953\"], [0.7777777777777778, \"#fb9f3a\"], [0.8888888888888888, \"#fdca26\"], [1.0, \"#f0f921\"]], \"type\": \"surface\"}], \"table\": [{\"cells\": {\"fill\": {\"color\": \"#EBF0F8\"}, \"line\": {\"color\": \"white\"}}, \"header\": {\"fill\": {\"color\": \"#C8D4E3\"}, \"line\": {\"color\": \"white\"}}, \"type\": \"table\"}]}, \"layout\": {\"annotationdefaults\": {\"arrowcolor\": \"#2a3f5f\", \"arrowhead\": 0, \"arrowwidth\": 1}, \"coloraxis\": {\"colorbar\": {\"outlinewidth\": 0, \"ticks\": \"\"}}, \"colorscale\": {\"diverging\": [[0, \"#8e0152\"], [0.1, \"#c51b7d\"], [0.2, \"#de77ae\"], [0.3, \"#f1b6da\"], [0.4, \"#fde0ef\"], [0.5, \"#f7f7f7\"], [0.6, \"#e6f5d0\"], [0.7, \"#b8e186\"], [0.8, \"#7fbc41\"], [0.9, \"#4d9221\"], [1, \"#276419\"]], \"sequential\": [[0.0, \"#0d0887\"], [0.1111111111111111, \"#46039f\"], [0.2222222222222222, \"#7201a8\"], [0.3333333333333333, \"#9c179e\"], [0.4444444444444444, \"#bd3786\"], [0.5555555555555556, \"#d8576b\"], [0.6666666666666666, \"#ed7953\"], [0.7777777777777778, \"#fb9f3a\"], [0.8888888888888888, \"#fdca26\"], [1.0, \"#f0f921\"]], \"sequentialminus\": [[0.0, \"#0d0887\"], [0.1111111111111111, \"#46039f\"], [0.2222222222222222, \"#7201a8\"], [0.3333333333333333, \"#9c179e\"], [0.4444444444444444, \"#bd3786\"], [0.5555555555555556, \"#d8576b\"], [0.6666666666666666, \"#ed7953\"], [0.7777777777777778, \"#fb9f3a\"], [0.8888888888888888, \"#fdca26\"], [1.0, \"#f0f921\"]]}, \"colorway\": [\"#636efa\", \"#EF553B\", \"#00cc96\", \"#ab63fa\", \"#FFA15A\", \"#19d3f3\", \"#FF6692\", \"#B6E880\", \"#FF97FF\", \"#FECB52\"], \"font\": {\"color\": \"#2a3f5f\"}, \"geo\": {\"bgcolor\": \"white\", \"lakecolor\": \"white\", \"landcolor\": \"#E5ECF6\", \"showlakes\": true, \"showland\": true, \"subunitcolor\": \"white\"}, \"hoverlabel\": {\"align\": \"left\"}, \"hovermode\": \"closest\", \"mapbox\": {\"style\": \"light\"}, \"paper_bgcolor\": \"white\", \"plot_bgcolor\": \"#E5ECF6\", \"polar\": {\"angularaxis\": {\"gridcolor\": \"white\", \"linecolor\": \"white\", \"ticks\": \"\"}, \"bgcolor\": \"#E5ECF6\", \"radialaxis\": {\"gridcolor\": \"white\", \"linecolor\": \"white\", \"ticks\": \"\"}}, \"scene\": {\"xaxis\": {\"backgroundcolor\": \"#E5ECF6\", \"gridcolor\": \"white\", \"gridwidth\": 2, \"linecolor\": \"white\", \"showbackground\": true, \"ticks\": \"\", \"zerolinecolor\": \"white\"}, \"yaxis\": {\"backgroundcolor\": \"#E5ECF6\", \"gridcolor\": \"white\", \"gridwidth\": 2, \"linecolor\": \"white\", \"showbackground\": true, \"ticks\": \"\", \"zerolinecolor\": \"white\"}, \"zaxis\": {\"backgroundcolor\": \"#E5ECF6\", \"gridcolor\": \"white\", \"gridwidth\": 2, \"linecolor\": \"white\", \"showbackground\": true, \"ticks\": \"\", \"zerolinecolor\": \"white\"}}, \"shapedefaults\": {\"line\": {\"color\": \"#2a3f5f\"}}, \"ternary\": {\"aaxis\": {\"gridcolor\": \"white\", \"linecolor\": \"white\", \"ticks\": \"\"}, \"baxis\": {\"gridcolor\": \"white\", \"linecolor\": \"white\", \"ticks\": \"\"}, \"bgcolor\": \"#E5ECF6\", \"caxis\": {\"gridcolor\": \"white\", \"linecolor\": \"white\", \"ticks\": \"\"}}, \"title\": {\"x\": 0.05}, \"xaxis\": {\"automargin\": true, \"gridcolor\": \"white\", \"linecolor\": \"white\", \"ticks\": \"\", \"title\": {\"standoff\": 15}, \"zerolinecolor\": \"white\", \"zerolinewidth\": 2}, \"yaxis\": {\"automargin\": true, \"gridcolor\": \"white\", \"linecolor\": \"white\", \"ticks\": \"\", \"title\": {\"standoff\": 15}, \"zerolinecolor\": \"white\", \"zerolinewidth\": 2}}}, \"xaxis\": {\"anchor\": \"y\", \"domain\": [0.0, 1.0], \"rangeselector\": {\"buttons\": [{\"count\": 1, \"label\": \"1m\", \"step\": \"month\", \"stepmode\": \"backward\"}, {\"count\": 6, \"label\": \"6m\", \"step\": \"month\", \"stepmode\": \"backward\"}, {\"count\": 1, \"label\": \"YTD\", \"step\": \"year\", \"stepmode\": \"todate\"}, {\"count\": 1, \"label\": \"1y\", \"step\": \"year\", \"stepmode\": \"backward\"}, {\"step\": \"all\"}]}, \"rangeslider\": {\"visible\": true}, \"title\": {\"text\": \"date\"}}, \"yaxis\": {\"anchor\": \"x\", \"domain\": [0.0, 1.0], \"title\": {\"text\": \"0\"}}},\n",
       "                        {\"responsive\": true}\n",
       "                    ).then(function(){\n",
       "                            \n",
       "var gd = document.getElementById('5d0a4a9c-edda-49a4-ad85-f5e38e6ebdee');\n",
       "var x = new MutationObserver(function (mutations, observer) {{\n",
       "        var display = window.getComputedStyle(gd).display;\n",
       "        if (!display || display === 'none') {{\n",
       "            console.log([gd, 'removed!']);\n",
       "            Plotly.purge(gd);\n",
       "            observer.disconnect();\n",
       "        }}\n",
       "}});\n",
       "\n",
       "// Listen for the removal of the full notebook cells\n",
       "var notebookContainer = gd.closest('#notebook-container');\n",
       "if (notebookContainer) {{\n",
       "    x.observe(notebookContainer, {childList: true});\n",
       "}}\n",
       "\n",
       "// Listen for the clearing of the current output cell\n",
       "var outputEl = gd.closest('.output');\n",
       "if (outputEl) {{\n",
       "    x.observe(outputEl, {childList: true});\n",
       "}}\n",
       "\n",
       "                        })\n",
       "                };\n",
       "                });\n",
       "            </script>\n",
       "        </div>"
      ]
     },
     "metadata": {},
     "output_type": "display_data"
    },
    {
     "data": {
      "text/plain": [
       "<Figure size 1368x1080 with 0 Axes>"
      ]
     },
     "metadata": {},
     "output_type": "display_data"
    }
   ],
   "source": [
    "test.word_in_time('ребенок')"
   ]
  },
  {
   "cell_type": "code",
   "execution_count": 124,
   "metadata": {},
   "outputs": [
    {
     "data": {
      "text/plain": [
       "[('документ', 'регистрировать'), ('регистрировать', 'регистратор')]"
      ]
     },
     "execution_count": 124,
     "metadata": {},
     "output_type": "execute_result"
    }
   ],
   "source": [
    "list(ngrams(df['comment'][1][0],2))"
   ]
  },
  {
   "cell_type": "code",
   "execution_count": 8,
   "metadata": {},
   "outputs": [],
   "source": [
    "for i in range(len(df)):\n",
    "    for j in range(len(df['comment'][i])):\n",
    "        df['comment'][i][j] = list(ngrams(df['comment'][i][j],2))\n",
    "for i in range(len(df)):\n",
    "    df['post'][i] = list(ngrams(df['post'][i],2))"
   ]
  },
  {
   "cell_type": "code",
   "execution_count": 9,
   "metadata": {},
   "outputs": [],
   "source": [
    "[1for i in range(len(df)):\n",
    "    for f in range(len(df['comment'][i])):\n",
    "        j = 0\n",
    "        try:\n",
    "            index = df['comment'][i][f][j:].index(word)\n",
    "            if index>k:\n",
    "                if len(df['comment'][i][f][j:][index:])>k:\n",
    "                    context_ls = df['comment'][i][f][j:][index-k:index+k]\n",
    "                elif len(df['comment'][i][f][j:][index:])<=k:\n",
    "                    context_ls = df['comment'][i][f][j:][index-k:]\n",
    "            elif index<=k:\n",
    "                if len(df['comment'][i][f][j:][index:])>k:\n",
    "                    context_ls = df['comment'][i][f][j:][:index+k]\n",
    "                elif len(df['comment'][i][f][j:][index:])<=k:\n",
    "                    context_ls = df['comment'][i][f][j:][:]\n",
    "            closest_post.append(context_ls)\n",
    "            j = index\n",
    "        except ValueError:\n",
    "            continue\n",
    "\n"
   ]
  },
  {
   "cell_type": "code",
   "execution_count": 10,
   "metadata": {},
   "outputs": [
    {
     "data": {
      "text/plain": [
       "[['ребенок', 'нос', 'тыкать'],\n",
       " ['собственность',\n",
       "  'сын',\n",
       "  'без',\n",
       "  'согласие',\n",
       "  'сособственник',\n",
       "  'зарегистрировать',\n",
       "  'супруга',\n",
       "  'несовершеннолетний',\n",
       "  'ребенок',\n",
       "  'или',\n",
       "  'близкий',\n",
       "  'родственник'],\n",
       " ['согласие',\n",
       "  'сособственник',\n",
       "  'зарегистрировать',\n",
       "  'несовершеннолетний',\n",
       "  'ребенок'],\n",
       " ['ребенок', 'первый', 'брак'],\n",
       " ['включая', 'ребенок'],\n",
       " ['яблоко',\n",
       "  'понравиться',\n",
       "  'именно',\n",
       "  'из-за',\n",
       "  'купить',\n",
       "  'купить',\n",
       "  'квартира',\n",
       "  'из-за',\n",
       "  'детский',\n",
       "  'лопатка',\n",
       "  'долго',\n",
       "  'ходить',\n",
       "  'купить',\n",
       "  'тот',\n",
       "  'приходить',\n",
       "  'ребенок'],\n",
       " ['ребенок',\n",
       "  'сказать',\n",
       "  'он',\n",
       "  'забивать',\n",
       "  'номер',\n",
       "  'поисковик',\n",
       "  'выходить',\n",
       "  'обявление',\n",
       "  'авито'],\n",
       " ['ребенок', 'отражаться', 'зеркало'],\n",
       " ['т', 'правый', 'ребенок', 'нарушать', 'но', 'сделать', 'вывод'],\n",
       " ['сделка',\n",
       "  'решать',\n",
       "  'использовать',\n",
       "  'маткап',\n",
       "  'самостоятельно',\n",
       "  'увеличивать',\n",
       "  'доля',\n",
       "  'ребенок',\n",
       "  'сдаваться',\n",
       "  'за',\n",
       "  'самостоятельность',\n",
       "  'получать'],\n",
       " ['совершенно',\n",
       "  'правильно',\n",
       "  'получать',\n",
       "  'втык',\n",
       "  'потому',\n",
       "  'дкп',\n",
       "  'продавец',\n",
       "  'квартира',\n",
       "  'спокойно',\n",
       "  'мочь',\n",
       "  'поставлять',\n",
       "  'залог',\n",
       "  'полный',\n",
       "  'расчет',\n",
       "  'покупатель',\n",
       "  'ребенок',\n",
       "  'получать',\n",
       "  'егрн',\n",
       "  'обременение'],\n",
       " ['обделять', 'ребенок'],\n",
       " ['собственность',\n",
       "  'ребенок',\n",
       "  'залог',\n",
       "  'банк',\n",
       "  'детский',\n",
       "  'доля',\n",
       "  'собственность',\n",
       "  'момент',\n",
       "  'покупка',\n",
       "  'опека'],\n",
       " ['только', 'вместе', 'ребенок'],\n",
       " ['квартира',\n",
       "  'доля',\n",
       "  'ребенок',\n",
       "  'совершеннолетний',\n",
       "  'покупать',\n",
       "  'другой',\n",
       "  'привлечение',\n",
       "  'маткап',\n",
       "  'сразу',\n",
       "  'опека',\n",
       "  'доля',\n",
       "  'распланировать',\n",
       "  'согласовывать'],\n",
       " ['который',\n",
       "  'хватать',\n",
       "  'куча',\n",
       "  'вводный',\n",
       "  'кто',\n",
       "  'ребенок',\n",
       "  'выезжать',\n",
       "  'квартира'],\n",
       " ['фактически', 'ребенок', 'оставаться', 'проживать'],\n",
       " ['который', 'зарегистрировать', 'ребенок', 'еще', 'вопрос'],\n",
       " ['попробовать',\n",
       "  'проверять',\n",
       "  'наблюдаться',\n",
       "  'ребенок',\n",
       "  'местный',\n",
       "  'поликлиника',\n",
       "  'период',\n",
       "  'год',\n",
       "  'пока',\n",
       "  'знать'],\n",
       " ['проверять',\n",
       "  'загс',\n",
       "  'разводиться',\n",
       "  'родитель',\n",
       "  'ребенок',\n",
       "  'прописывать',\n",
       "  'отец',\n",
       "  'написать',\n",
       "  'все',\n",
       "  'задумываться',\n",
       "  'оно',\n",
       "  'стоять'],\n",
       " ['мнацакан',\n",
       "  'уже',\n",
       "  'проверять',\n",
       "  'вероятно',\n",
       "  'проживать',\n",
       "  'весь',\n",
       "  'семья',\n",
       "  'продажа',\n",
       "  'спорный',\n",
       "  'квартира',\n",
       "  'так',\n",
       "  'приватизация',\n",
       "  'рождаться',\n",
       "  'ребенок'],\n",
       " ['который',\n",
       "  'прописывать',\n",
       "  'отец',\n",
       "  'перед',\n",
       "  'продажа',\n",
       "  'выписываться',\n",
       "  'один',\n",
       "  'адрес',\n",
       "  'не',\n",
       "  'разводиться',\n",
       "  'так',\n",
       "  'отец',\n",
       "  'выписываться',\n",
       "  'жена',\n",
       "  'ребенок',\n",
       "  'новый',\n",
       "  'квартира',\n",
       "  'собственник'],\n",
       " ['судебный',\n",
       "  'практика',\n",
       "  'похожий',\n",
       "  'ситуация',\n",
       "  'выписывать',\n",
       "  'приватизация',\n",
       "  'месяц',\n",
       "  'за',\n",
       "  'год',\n",
       "  'за',\n",
       "  'год',\n",
       "  'оставаться',\n",
       "  'проживать',\n",
       "  'год',\n",
       "  'ребенок',\n",
       "  'оспаривать',\n",
       "  'суд',\n",
       "  'сторона',\n",
       "  'решать'],\n",
       " ['год', 'ребенок', 'признавать', 'банкрот'],\n",
       " ['лишать', 'ребенок', 'недвижимость'],\n",
       " ['семенов',\n",
       "  'написать',\n",
       "  'например',\n",
       "  'иметь',\n",
       "  'право',\n",
       "  'сниматься',\n",
       "  'рег',\n",
       "  'учет',\n",
       "  'зарегистрировать',\n",
       "  'ребенок',\n",
       "  'другой',\n",
       "  'место',\n",
       "  'жито',\n",
       "  'ва',\n",
       "  'какой',\n",
       "  'год',\n",
       "  'какой',\n",
       "  'банкротство'],\n",
       " ['ребенок',\n",
       "  'зарегистрировать',\n",
       "  'неприватка',\n",
       "  'уезжать',\n",
       "  'мать',\n",
       "  'например',\n",
       "  'развод',\n",
       "  'весь',\n",
       "  'квартира',\n",
       "  'черный',\n",
       "  'метка'],\n",
       " ['знать', 'двое', 'ребенок'],\n",
       " ['ребенок', 'наделять'],\n",
       " ['год', 'сегодня', 'ребенок', 'участвовать', 'приватизация'],\n",
       " ['ребенок',\n",
       "  'остальное',\n",
       "  'узнавать',\n",
       "  'невозможный',\n",
       "  'это',\n",
       "  'сделка',\n",
       "  'предыдущий',\n",
       "  'мы',\n",
       "  'покупать',\n",
       "  'новый',\n",
       "  'собственник'],\n",
       " ['действительно', 'ребенок', 'выезжать', 'место', 'год', 'приватизация'],\n",
       " ['ребенок', 'приватизировать', 'помещение', 'последовательно'],\n",
       " ['ребенок'],\n",
       " ['собственность', 'регистрация', 'ребенок'],\n",
       " ['ребенок', 'иметь', 'право', 'проживание', 'одновременно', 'отец', 'мать'],\n",
       " ['поэтому',\n",
       "  'обязательно',\n",
       "  'должный',\n",
       "  'включать',\n",
       "  'приватизация',\n",
       "  'право',\n",
       "  'ребенок',\n",
       "  'однозначно',\n",
       "  'нарушать'],\n",
       " ['включать', 'ребенок', 'число', 'собственник'],\n",
       " ['родитель', 'разводиться', 'мать', 'ребенок', 'уезжать'],\n",
       " ['включать', 'свой', 'ребенок', 'список', 'собственник'],\n",
       " ['переноситься', 'год', 'ребенок', 'вырастать', 'возможно', 'вспомнить'],\n",
       " ['использование',\n",
       "  'маткапитал',\n",
       "  'собственник',\n",
       "  'квартира',\n",
       "  'ребенок',\n",
       "  'какой',\n",
       "  'мочь',\n",
       "  'суд',\n",
       "  'решение'],\n",
       " ['зрелов', 'отказывать', 'этот', 'повзрослеть', 'ребенок'],\n",
       " ['ребенок', 'выписывать', 'другой', 'родитель', 'приватизация'],\n",
       " ['регистрация', 'ребенок', 'оставлять', 'бывший', 'муж'],\n",
       " ['ребенок',\n",
       "  'год',\n",
       "  'жить',\n",
       "  'так',\n",
       "  'алкаш',\n",
       "  'купить',\n",
       "  'какой-то',\n",
       "  'сарай',\n",
       "  'дальний',\n",
       "  'область',\n",
       "  'туда',\n",
       "  'выписываться'],\n",
       " ['ребенок', 'автомат', 'возникать', 'трудность'],\n",
       " ['мочь', 'ребенок', 'оставаться', 'родитель', 'бабка', 'приватизировать'],\n",
       " ['помнить', 'пойти', 'мировой', 'ребенок', 'комната', 'покупать', 'но'],\n",
       " ['ребенок', 'жить', 'участвовать', 'приватизация'],\n",
       " ['кошарная', 'выписка', 'лишать', 'ребенок', 'право', 'проживание'],\n",
       " ['Kasimov', 'ребенок', 'родитель', 'выписывать'],\n",
       " ['поэтому',\n",
       "  'проживать',\n",
       "  'мать',\n",
       "  'ребенок',\n",
       "  'иметь',\n",
       "  'право',\n",
       "  'пользование',\n",
       "  'квартира',\n",
       "  'отец'],\n",
       " ['кузнецов',\n",
       "  'подобный',\n",
       "  'история',\n",
       "  'ребенок',\n",
       "  'выписывать',\n",
       "  'год',\n",
       "  'приватизировать',\n",
       "  'снова',\n",
       "  'прописывать',\n",
       "  'наступать',\n",
       "  'год',\n",
       "  'год',\n",
       "  'садиться',\n",
       "  'иии',\n",
       "  'внимание',\n",
       "  'фигвам',\n",
       "  'отказывать',\n",
       "  'нет'],\n",
       " ['царев', 'м', 'ребенок', 'включать', 'приватизация'],\n",
       " ['м', 'отец', 'становиться', 'выгонять', 'дома', 'мать', 'ребенок'],\n",
       " ['пытаться',\n",
       "  'суд',\n",
       "  'оспаривать',\n",
       "  'приватизация',\n",
       "  'включать',\n",
       "  'туда',\n",
       "  'хотя',\n",
       "  'ребенок',\n",
       "  'не',\n",
       "  'смочь'],\n",
       " ['ребенок', 'зарегистрировать', 'мать', 'приватизация'],\n",
       " ['зарегистрировать', 'супруг', 'ребенок'],\n",
       " ['ребенок',\n",
       "  'иметь',\n",
       "  'право',\n",
       "  'пользование',\n",
       "  'соответственно',\n",
       "  'лишенный',\n",
       "  'право',\n",
       "  'приватизация',\n",
       "  'значит',\n",
       "  'избегать',\n",
       "  'любой',\n",
       "  'квартира',\n",
       "  'момент',\n",
       "  'приватизация',\n",
       "  'зарегистрировать'],\n",
       " ['знать', 'ребенок', 'год', 'новый', 'собственник', 'момент', 'приватизация'],\n",
       " ['ребенок', 'просто', 'прописываться', 'мать'],\n",
       " ['фактически',\n",
       "  'проживать',\n",
       "  'проживать',\n",
       "  'ребенок',\n",
       "  'момент',\n",
       "  'приватизация',\n",
       "  'если',\n",
       "  'фактически',\n",
       "  'приватизирлванный',\n",
       "  'квартира'],\n",
       " ['этот', 'ребенок'],\n",
       " ['ребенок', 'иметь', 'право', 'приватизация', 'квартира', 'родитель'],\n",
       " ['ребенок'],\n",
       " ['включать',\n",
       "  'число',\n",
       "  'собственник',\n",
       "  'ребенок',\n",
       "  'квартира',\n",
       "  'приватизация',\n",
       "  'покупать'],\n",
       " ['т', 'ущемлять', 'право', 'ребенок'],\n",
       " ['родитель', 'отец', 'приватизировать', 'ребенок'],\n",
       " ['ребенок',\n",
       "  'право',\n",
       "  'пользование',\n",
       "  'тогда',\n",
       "  'вообще',\n",
       "  'покупать',\n",
       "  'приватизация',\n",
       "  'человек'],\n",
       " ['который', 'где-то', 'супруг', 'зарегистрировать', 'ребенок'],\n",
       " ['шашкина',\n",
       "  'просто',\n",
       "  'задавать',\n",
       "  'куча',\n",
       "  'вопрос',\n",
       "  'один',\n",
       "  'главный',\n",
       "  'оставаться',\n",
       "  'ребенок',\n",
       "  'проживать',\n",
       "  'квартира',\n",
       "  'выписка',\n",
       "  'она',\n",
       "  'проживать',\n",
       "  'фактически',\n",
       "  'момент',\n",
       "  'приватизация',\n",
       "  'получать',\n",
       "  'положительный',\n",
       "  'ответ'],\n",
       " ['значит', 'право', 'нарушать', 'но', 'ребенок', 'жить', 'отец'],\n",
       " ['суд', 'ребенок', 'законный', 'представитель', 'удаваться', 'доказывать'],\n",
       " ['ребенок',\n",
       "  'продолжать',\n",
       "  'проживать',\n",
       "  'данный',\n",
       "  'квартира',\n",
       "  'отец',\n",
       "  'никто',\n",
       "  'отменять',\n",
       "  'конечно'],\n",
       " ['место',\n",
       "  'жительство',\n",
       "  'ребенок',\n",
       "  'сразу',\n",
       "  'два',\n",
       "  'место',\n",
       "  'или',\n",
       "  'место',\n",
       "  'прописка',\n",
       "  'соглашение',\n",
       "  'родитель'],\n",
       " ['место',\n",
       "  'жительство',\n",
       "  'ребенок',\n",
       "  'место',\n",
       "  'прописка',\n",
       "  'из',\n",
       "  'этот',\n",
       "  'цитата',\n",
       "  'непонятно',\n",
       "  'отец',\n",
       "  'сидеть'],\n",
       " ['ребенок',\n",
       "  'фактически',\n",
       "  'жить',\n",
       "  'бабушка',\n",
       "  'место',\n",
       "  'жительство',\n",
       "  'такой',\n",
       "  'вопрос',\n",
       "  'море',\n",
       "  'ответ',\n",
       "  'разный'],\n",
       " ['ребенок', 'утрачивать', 'право', 'пользование'],\n",
       " ['зрелова', 'ребенок', 'еще', 'зря', 'купить'],\n",
       " ['право',\n",
       "  'ребенок',\n",
       "  'явно',\n",
       "  'нарушать',\n",
       "  'что',\n",
       "  'далеко',\n",
       "  'сказать',\n",
       "  'трудно'],\n",
       " ['возможно', 'ребенок', 'оспаривать'],\n",
       " ['Kasimov',\n",
       "  'квартира',\n",
       "  'продавать',\n",
       "  'оспаривать',\n",
       "  'право',\n",
       "  'ребенок',\n",
       "  'приватизация',\n",
       "  'очень',\n",
       "  'сложно'],\n",
       " ['ответ', 'нарушать', 'право', 'ребенок'],\n",
       " ['ребенок', 'оспаривать', 'приватизация', 'достижение', 'год', 'условие'],\n",
       " ['зарегистрировать', 'ребенок', 'посмотреть', 'начало'],\n",
       " ['зрелов',\n",
       "  'ребенок',\n",
       "  'утрачивать',\n",
       "  'право',\n",
       "  'приватизация',\n",
       "  'несовершеннолетний',\n",
       "  'право',\n",
       "  'приватизация',\n",
       "  'взрослый',\n",
       "  'то',\n",
       "  'риск',\n",
       "  'снимать'],\n",
       " ['положительный', 'решение', 'включение', 'ребенок', 'еще'],\n",
       " ['ребенок', 'зарегистрировать', 'неприватизированный', 'квартира'],\n",
       " ['х', 'квартира', 'Жд', 'сособственник', 'ребенок'],\n",
       " ['наделять',\n",
       "  'доля',\n",
       "  'мк',\n",
       "  'прописывать',\n",
       "  'квартира',\n",
       "  'мать',\n",
       "  'покупать',\n",
       "  'х',\n",
       "  'ком',\n",
       "  'ребенок',\n",
       "  'прописывать',\n",
       "  'москва',\n",
       "  'отец',\n",
       "  'подавать',\n",
       "  'документ',\n",
       "  'приватизация',\n",
       "  'московский',\n",
       "  'квартира',\n",
       "  'цель',\n",
       "  'продавать',\n",
       "  'по',\n",
       "  'продажа',\n",
       "  'квартира',\n",
       "  'ждпроходить'],\n",
       " ['приватизировать', 'ребенок', 'зачем'],\n",
       " ['ребенок',\n",
       "  'наделять',\n",
       "  'доля',\n",
       "  'прописывать',\n",
       "  'покупать',\n",
       "  'потом',\n",
       "  'отец',\n",
       "  'приватизировать',\n",
       "  'спрашивать',\n",
       "  'ребенок',\n",
       "  'лишать',\n",
       "  'право',\n",
       "  'приватизация',\n",
       "  'любой',\n",
       "  'грамотный'],\n",
       " ['ребенок', 'выписывать', 'приватизация', 'она', 'написать', 'срок'],\n",
       " ['ребенок', 'когда-то', 'зарегистрировать', 'квартира'],\n",
       " ['год', 'приватизация', 'ребенок', 'приватизировать'],\n",
       " ['папа',\n",
       "  'какой',\n",
       "  'время',\n",
       "  'приватизировать',\n",
       "  'когда',\n",
       "  'ребенока',\n",
       "  'исполняться',\n",
       "  'год',\n",
       "  'какой',\n",
       "  'момент',\n",
       "  'папа',\n",
       "  'нарушать',\n",
       "  'право',\n",
       "  'ребенок'],\n",
       " ['пора', 'покупатель', 'беспокоиться', 'ребенок', 'заявлять'],\n",
       " ['приватизировать', 'иметь', 'ребенок'],\n",
       " ['обязанный',\n",
       "  'включать',\n",
       "  'приватизация',\n",
       "  'другой',\n",
       "  'случай',\n",
       "  'развод',\n",
       "  'определять',\n",
       "  'официально',\n",
       "  'ребенок',\n",
       "  'проживать',\n",
       "  'когда',\n",
       "  'ребенок',\n",
       "  'исполнить',\n",
       "  'еще'],\n",
       " ['кап', 'приватизация', 'рождение', 'ребенок'],\n",
       " ['ребенок', 'проживать', 'мой', 'вместе', 'муж', 'мой', 'зарегистрировать'],\n",
       " ['ребенок', 'проживать', 'один', 'родитель'],\n",
       " ['участие', 'ребенок'],\n",
       " ['т', 'ребенок', 'еще'],\n",
       " ['реституция',\n",
       "  'или',\n",
       "  'обязывать',\n",
       "  'давать',\n",
       "  'ребенок',\n",
       "  'доля',\n",
       "  'другой',\n",
       "  'место',\n",
       "  'то',\n",
       "  'уверенный',\n",
       "  'большмнство',\n",
       "  'еще'],\n",
       " ['ребенок'],\n",
       " ['ребенок', 'наделать', 'трое', 'каждый'],\n",
       " ['сафар', 'ребенок', 'получать', 'бессрочный', 'право', 'пользование'],\n",
       " ['сафар',\n",
       "  'отец',\n",
       "  'ребенок',\n",
       "  'иметься',\n",
       "  'право',\n",
       "  'пользование',\n",
       "  'квартира',\n",
       "  'отец',\n",
       "  'реализовать',\n",
       "  'свой',\n",
       "  'право',\n",
       "  'вид',\n",
       "  'отказ',\n",
       "  'приватизация'],\n",
       " ['право', 'пользование', 'ребенок', 'нарушать'],\n",
       " ['ребенок',\n",
       "  'право',\n",
       "  'пользование',\n",
       "  'квартира',\n",
       "  'родитель',\n",
       "  'какой-то',\n",
       "  'определенный',\n",
       "  'мама',\n",
       "  'пара',\n",
       "  'зарегистрировать',\n",
       "  'неприватизированный',\n",
       "  'папа',\n",
       "  'пара',\n",
       "  'штука',\n",
       "  'зарегистрировать'],\n",
       " ['Kasimov',\n",
       "  'хорошо',\n",
       "  'папа',\n",
       "  'сниматься',\n",
       "  'рег',\n",
       "  'учет',\n",
       "  'ребенок',\n",
       "  'регистрироваться',\n",
       "  'деревня'],\n",
       " ['ребенок', 'лишать', 'право', 'родитель', 'уезжать', 'жить', 'деревня'],\n",
       " ['хотеть', 'выделять', 'доля', 'нет', 'ребенок', 'лишать', 'право'],\n",
       " ['Kasimov', 'ага', 'счет', 'выписывать', 'ребенок', 'приватизация'],\n",
       " ['ребенок', 'регистрация', 'играть', 'роль'],\n",
       " ['ребенок', 'человек', 'прописывать', 'жить', 'мать'],\n",
       " ['ребенок', 'страшный', 'зло'],\n",
       " ['место',\n",
       "  'жительство',\n",
       "  'ребенок',\n",
       "  'место',\n",
       "  'жительство',\n",
       "  'родитель',\n",
       "  'вправе',\n",
       "  'выбирать',\n",
       "  'место',\n",
       "  'жительство',\n",
       "  'то',\n",
       "  'право',\n",
       "  'пользование',\n",
       "  'ребенок',\n",
       "  'жить',\n",
       "  'отдельно'],\n",
       " ['Kasimov',\n",
       "  'комментарий',\n",
       "  'высоко',\n",
       "  'история',\n",
       "  'снимать',\n",
       "  'рег',\n",
       "  'учет',\n",
       "  'родитель',\n",
       "  'ребенок'],\n",
       " ['ребенок', 'лишать', 'право'],\n",
       " ['включать', 'приватизация', 'ребенок'],\n",
       " ['обсуждать',\n",
       "  'ребенок',\n",
       "  'иметь',\n",
       "  'право',\n",
       "  'приватизация',\n",
       "  'квартира',\n",
       "  'который',\n",
       "  'иметь',\n",
       "  'право',\n",
       "  'приватизация',\n",
       "  'родитель'],\n",
       " ['независимость',\n",
       "  'зарегистрировать',\n",
       "  'все',\n",
       "  'точка',\n",
       "  'если',\n",
       "  'ребенок',\n",
       "  'ранее',\n",
       "  'участвовать',\n",
       "  'приватизация',\n",
       "  'получать',\n",
       "  'разрешение',\n",
       "  'опека',\n",
       "  'неучастие',\n",
       "  'приватизация',\n",
       "  'такой',\n",
       "  'разрешение',\n",
       "  'получать'],\n",
       " ['включение',\n",
       "  'ребенок',\n",
       "  'договор',\n",
       "  'приватизация',\n",
       "  'являться',\n",
       "  'прямой',\n",
       "  'нарушение',\n",
       "  'закон',\n",
       "  'посему',\n",
       "  'дальнейший',\n",
       "  'вариант',\n",
       "  'рассматривать'],\n",
       " ['ребенок',\n",
       "  'выписывать',\n",
       "  'менее',\n",
       "  'полгода',\n",
       "  'неприватизированный',\n",
       "  'квартира'],\n",
       " ['прошествие',\n",
       "  'полгода',\n",
       "  'никакой',\n",
       "  'проблема',\n",
       "  'приватизация',\n",
       "  'квартира',\n",
       "  'участие',\n",
       "  'ребенок'],\n",
       " ['ребенок', 'наделять', 'минимум', 'если', 'покупать', 'другой'],\n",
       " ['наделять', 'ребенок', 'доля', 'приносить', 'дкп', 'квартира', 'дельта'],\n",
       " ['воронич',\n",
       "  'основной',\n",
       "  'масса',\n",
       "  'мужчина',\n",
       "  'бросать',\n",
       "  'свой',\n",
       "  'жена',\n",
       "  'ребенок',\n",
       "  'нищета'],\n",
       " ['наш',\n",
       "  'государство',\n",
       "  'узаконивать',\n",
       "  'рабский',\n",
       "  'позиция',\n",
       "  'мужчина',\n",
       "  'отношение',\n",
       "  'женщина',\n",
       "  'ребенок'],\n",
       " ['основной',\n",
       "  'масса',\n",
       "  'нежелание',\n",
       "  'взять',\n",
       "  'свой',\n",
       "  'рука',\n",
       "  'штурвал',\n",
       "  'семейный',\n",
       "  'корабль',\n",
       "  'ребенок',\n",
       "  'вместе',\n",
       "  'делать',\n",
       "  'женщина',\n",
       "  'один',\n",
       "  'должный',\n",
       "  'подымать',\n",
       "  'ребенок',\n",
       "  'мужчина',\n",
       "  'женщина',\n",
       "  'равный',\n",
       "  'право'],\n",
       " ['терять',\n",
       "  'тапок',\n",
       "  'если',\n",
       "  'успевать',\n",
       "  'убегать',\n",
       "  'живой',\n",
       "  'что',\n",
       "  'касаться',\n",
       "  'ребенок'],\n",
       " ['гранат',\n",
       "  'максим',\n",
       "  'тот',\n",
       "  'мадам',\n",
       "  'который',\n",
       "  'ребенок',\n",
       "  'хотеть',\n",
       "  'признавать',\n",
       "  'супруга'],\n",
       " ['ребенок'],\n",
       " ['ребенок', 'самый', 'сложный', 'развод', 'ребенок']]"
      ]
     },
     "execution_count": 10,
     "metadata": {},
     "output_type": "execute_result"
    }
   ],
   "source": [
    "closest_post"
   ]
  },
  {
   "cell_type": "code",
   "execution_count": 49,
   "metadata": {},
   "outputs": [
    {
     "name": "stdout",
     "output_type": "stream",
     "text": [
      "The 15 most common words are as follows\n",
      "\n",
      "('уважаемый', 'коллега') :  8\n",
      "('коллега', 'добрый') :  5\n",
      "('коллега', 'подсказывать') :  3\n",
      "('коллега', 'кто') :  2\n",
      "('коллега', 'делиться') :  2\n",
      "('коллега', 'нужный') :  2\n",
      "('мнение', 'коллега') :  2\n",
      "('ориентировать', 'коллега') :  2\n",
      "('коллега', 'размещать') :  1\n",
      "('коллега', 'клиент') :  1\n",
      "('дорогой', 'коллега') :  1\n",
      "('коллега', 'такой') :  1\n",
      "('что', 'коллега') :  1\n",
      "('коллега', 'это') :  1\n",
      "('коллега', 'работать') :  1\n"
     ]
    }
   ],
   "source": [
    "wordcount = {}\n",
    "for word in (suka):   \n",
    "    if word not in sum_noise:\n",
    "        if word not in wordcount:\n",
    "            wordcount[word] = 1\n",
    "        else:\n",
    "            wordcount[word] += 1\n",
    "print(\"The {} most common words are as follows\\n\".format(15))\n",
    "word_counter = collections.Counter(wordcount)\n",
    "for word, count in word_counter.most_common(15):\n",
    "       print(word, \": \", count)"
   ]
  },
  {
   "cell_type": "code",
   "execution_count": 99,
   "metadata": {},
   "outputs": [
    {
     "data": {
      "text/plain": [
       "'квартира'"
      ]
     },
     "execution_count": 99,
     "metadata": {},
     "output_type": "execute_result"
    }
   ],
   "source": []
  },
  {
   "cell_type": "code",
   "execution_count": 90,
   "metadata": {},
   "outputs": [],
   "source": [
    "df = pd.read_csv('fb.csv', index_col=0)"
   ]
  },
  {
   "cell_type": "code",
   "execution_count": 92,
   "metadata": {},
   "outputs": [],
   "source": [
    "tokeniz(df)"
   ]
  },
  {
   "cell_type": "code",
   "execution_count": 94,
   "metadata": {},
   "outputs": [],
   "source": [
    "df1 = deepcopy(df)"
   ]
  },
  {
   "cell_type": "code",
   "execution_count": 87,
   "metadata": {},
   "outputs": [
    {
     "name": "stdout",
     "output_type": "stream",
     "text": [
      "a:  [10, 3, 4] 139771536083536\n",
      "b:  [10, 3, 4] 139771536083536\n",
      "c:  [7, 3, 4] 139771536077360\n"
     ]
    }
   ],
   "source": [
    "a = [7, 3, 4]\n",
    "b = a\n",
    "c = a[:]\n",
    "b[0] = 10\n",
    "print ('a: ', a, id(a))\n",
    "print ('b: ', b, id(b))\n",
    "print ('c: ', c, id(c))\n"
   ]
  },
  {
   "cell_type": "code",
   "execution_count": 109,
   "metadata": {},
   "outputs": [
    {
     "data": {
      "text/plain": [
       "(139771532743248, 139771540288400)"
      ]
     },
     "execution_count": 109,
     "metadata": {},
     "output_type": "execute_result"
    }
   ],
   "source": [
    "id(test.df), id(df)"
   ]
  },
  {
   "cell_type": "code",
   "execution_count": 108,
   "metadata": {},
   "outputs": [],
   "source": [
    "test.df['post'][1]=['xuy']"
   ]
  },
  {
   "cell_type": "code",
   "execution_count": 111,
   "metadata": {},
   "outputs": [
    {
     "data": {
      "text/html": [
       "<div>\n",
       "<style scoped>\n",
       "    .dataframe tbody tr th:only-of-type {\n",
       "        vertical-align: middle;\n",
       "    }\n",
       "\n",
       "    .dataframe tbody tr th {\n",
       "        vertical-align: top;\n",
       "    }\n",
       "\n",
       "    .dataframe thead th {\n",
       "        text-align: right;\n",
       "    }\n",
       "</style>\n",
       "<table border=\"1\" class=\"dataframe\">\n",
       "  <thead>\n",
       "    <tr style=\"text-align: right;\">\n",
       "      <th></th>\n",
       "      <th>time</th>\n",
       "      <th>post</th>\n",
       "      <th>number_comments</th>\n",
       "      <th>comment</th>\n",
       "    </tr>\n",
       "  </thead>\n",
       "  <tbody>\n",
       "    <tr>\n",
       "      <th>0</th>\n",
       "      <td>2020-10-01 00:00:00</td>\n",
       "      <td>[коллега, размещать, видео, судебный, юрист, т...</td>\n",
       "      <td>9</td>\n",
       "      <td>[[спасибо], [очепятка, прочитывать, аккультный...</td>\n",
       "    </tr>\n",
       "    <tr>\n",
       "      <th>1</th>\n",
       "      <td>2020-10-05 00:00:00</td>\n",
       "      <td>[коллега, клиент, спрашивать, оплачивать, пров...</td>\n",
       "      <td>2</td>\n",
       "      <td>[[документ, регистрировать, регистратор], [ден...</td>\n",
       "    </tr>\n",
       "    <tr>\n",
       "      <th>2</th>\n",
       "      <td>2020-10-05 00:00:00</td>\n",
       "      <td>[приплывать, сделка, цепь, нижний, просить, за...</td>\n",
       "      <td>5</td>\n",
       "      <td>[[итакасоглашаться, оценщик, ссылка, присылать...</td>\n",
       "    </tr>\n",
       "    <tr>\n",
       "      <th>3</th>\n",
       "      <td>2020-10-05 00:00:00</td>\n",
       "      <td>[коллега, добрый, день, нужный, помощь, нужный...</td>\n",
       "      <td>52</td>\n",
       "      <td>[[америка, работать], [наташа], [лурье], [вспо...</td>\n",
       "    </tr>\n",
       "    <tr>\n",
       "      <th>4</th>\n",
       "      <td>2020-10-05 00:00:00</td>\n",
       "      <td>[время, такой, приходить, покупатель, квартира...</td>\n",
       "      <td>10</td>\n",
       "      <td>[[распашонка], [лукашевский], [банк], [быков],...</td>\n",
       "    </tr>\n",
       "    <tr>\n",
       "      <th>...</th>\n",
       "      <td>...</td>\n",
       "      <td>...</td>\n",
       "      <td>...</td>\n",
       "      <td>...</td>\n",
       "    </tr>\n",
       "    <tr>\n",
       "      <th>107</th>\n",
       "      <td>2020-10-01 00:00:00</td>\n",
       "      <td>[уважаемый, коллега, поделиться, пожалуйста, о...</td>\n",
       "      <td>0</td>\n",
       "      <td>[]</td>\n",
       "    </tr>\n",
       "    <tr>\n",
       "      <th>108</th>\n",
       "      <td>2020-10-01 00:00:00</td>\n",
       "      <td>[уважаемый, коллега, поступать, ситуация, стоя...</td>\n",
       "      <td>0</td>\n",
       "      <td>[]</td>\n",
       "    </tr>\n",
       "    <tr>\n",
       "      <th>109</th>\n",
       "      <td>2019-10-31 00:00:00</td>\n",
       "      <td>[пост, благодарность, серебряков, андрей, имет...</td>\n",
       "      <td>0</td>\n",
       "      <td>[]</td>\n",
       "    </tr>\n",
       "    <tr>\n",
       "      <th>110</th>\n",
       "      <td>2020-10-01 00:00:00</td>\n",
       "      <td>[среди, волшебник, который, смочь, срочно, пре...</td>\n",
       "      <td>0</td>\n",
       "      <td>[]</td>\n",
       "    </tr>\n",
       "    <tr>\n",
       "      <th>111</th>\n",
       "      <td>2020-09-29 00:00:00</td>\n",
       "      <td>[добрый, день, все, поделиться, пожалуйста, ко...</td>\n",
       "      <td>0</td>\n",
       "      <td>[]</td>\n",
       "    </tr>\n",
       "  </tbody>\n",
       "</table>\n",
       "<p>112 rows × 4 columns</p>\n",
       "</div>"
      ],
      "text/plain": [
       "                    time                                               post  \\\n",
       "0    2020-10-01 00:00:00  [коллега, размещать, видео, судебный, юрист, т...   \n",
       "1    2020-10-05 00:00:00  [коллега, клиент, спрашивать, оплачивать, пров...   \n",
       "2    2020-10-05 00:00:00  [приплывать, сделка, цепь, нижний, просить, за...   \n",
       "3    2020-10-05 00:00:00  [коллега, добрый, день, нужный, помощь, нужный...   \n",
       "4    2020-10-05 00:00:00  [время, такой, приходить, покупатель, квартира...   \n",
       "..                   ...                                                ...   \n",
       "107  2020-10-01 00:00:00  [уважаемый, коллега, поделиться, пожалуйста, о...   \n",
       "108  2020-10-01 00:00:00  [уважаемый, коллега, поступать, ситуация, стоя...   \n",
       "109  2019-10-31 00:00:00  [пост, благодарность, серебряков, андрей, имет...   \n",
       "110  2020-10-01 00:00:00  [среди, волшебник, который, смочь, срочно, пре...   \n",
       "111  2020-09-29 00:00:00  [добрый, день, все, поделиться, пожалуйста, ко...   \n",
       "\n",
       "     number_comments                                            comment  \n",
       "0                  9  [[спасибо], [очепятка, прочитывать, аккультный...  \n",
       "1                  2  [[документ, регистрировать, регистратор], [ден...  \n",
       "2                  5  [[итакасоглашаться, оценщик, ссылка, присылать...  \n",
       "3                 52  [[америка, работать], [наташа], [лурье], [вспо...  \n",
       "4                 10  [[распашонка], [лукашевский], [банк], [быков],...  \n",
       "..               ...                                                ...  \n",
       "107                0                                                 []  \n",
       "108                0                                                 []  \n",
       "109                0                                                 []  \n",
       "110                0                                                 []  \n",
       "111                0                                                 []  \n",
       "\n",
       "[112 rows x 4 columns]"
      ]
     },
     "execution_count": 111,
     "metadata": {},
     "output_type": "execute_result"
    }
   ],
   "source": [
    "df"
   ]
  },
  {
   "cell_type": "code",
   "execution_count": 113,
   "metadata": {},
   "outputs": [],
   "source": [
    "test.df1 = test.df"
   ]
  },
  {
   "cell_type": "code",
   "execution_count": 114,
   "metadata": {},
   "outputs": [],
   "source": [
    "for i in range(len(test.df1)):\n",
    "    for j in range(len(test.df1['comment'][i])):\n",
    "        test.df1['comment'][i][j] = list(ngrams(test.df1['comment'][i][j],2))"
   ]
  },
  {
   "cell_type": "code",
   "execution_count": 120,
   "metadata": {},
   "outputs": [
    {
     "data": {
      "text/plain": [
       "(139771532743248, 139771532743248, 139771540288400)"
      ]
     },
     "execution_count": 120,
     "metadata": {},
     "output_type": "execute_result"
    }
   ],
   "source": [
    "id(test.df), id(test.df1), id(df)"
   ]
  },
  {
   "cell_type": "code",
   "execution_count": 13,
   "metadata": {},
   "outputs": [],
   "source": [
    "det = TreebankWordDetokenizer()\n",
    "a = [det.detokenize(df['post'][1]), det.detokenize(df['post'][2])]"
   ]
  },
  {
   "cell_type": "code",
   "execution_count": 14,
   "metadata": {},
   "outputs": [],
   "source": [
    "vectorizer = TfidfVectorizer()\n",
    "X = vectorizer.fit_transform(a)"
   ]
  },
  {
   "cell_type": "code",
   "execution_count": 40,
   "metadata": {},
   "outputs": [],
   "source": [
    "tt = pd.DataFrame(X.toarray(), columns=vectorizer.get_feature_names())"
   ]
  },
  {
   "cell_type": "code",
   "execution_count": 38,
   "metadata": {},
   "outputs": [
    {
     "data": {
      "text/plain": [
       "array([[0.        , 0.        , 0.        , 0.        , 0.        ,\n",
       "        0.        , 0.        , 0.        , 0.        , 0.        ,\n",
       "        0.        , 0.        , 0.        , 0.        , 0.        ,\n",
       "        0.        , 0.        , 0.        , 0.        , 0.        ,\n",
       "        0.        , 0.        , 0.        , 0.37796447, 0.37796447,\n",
       "        0.37796447, 0.37796447, 0.37796447, 0.37796447, 0.37796447],\n",
       "       [0.        , 0.        , 0.        , 0.        , 0.        ,\n",
       "        0.        , 0.        , 0.16439899, 0.16439899, 0.16439899,\n",
       "        0.16439899, 0.16439899, 0.16439899, 0.16439899, 0.16439899,\n",
       "        0.16439899, 0.16439899, 0.16439899, 0.16439899, 0.16439899,\n",
       "        0.16439899, 0.16439899, 0.16439899, 0.16439899, 0.16439899,\n",
       "        0.16439899, 0.16439899, 0.32879797, 0.32879797, 0.49319696]])"
      ]
     },
     "execution_count": 38,
     "metadata": {},
     "output_type": "execute_result"
    }
   ],
   "source": [
    "np.sort(pd.DataFrame(X.toarray(), columns=vectorizer.get_feature_names()))[::-1][:2]"
   ]
  },
  {
   "cell_type": "code",
   "execution_count": 41,
   "metadata": {},
   "outputs": [
    {
     "data": {
      "text/html": [
       "<div>\n",
       "<style scoped>\n",
       "    .dataframe tbody tr th:only-of-type {\n",
       "        vertical-align: middle;\n",
       "    }\n",
       "\n",
       "    .dataframe tbody tr th {\n",
       "        vertical-align: top;\n",
       "    }\n",
       "\n",
       "    .dataframe thead th {\n",
       "        text-align: right;\n",
       "    }\n",
       "</style>\n",
       "<table border=\"1\" class=\"dataframe\">\n",
       "  <thead>\n",
       "    <tr style=\"text-align: right;\">\n",
       "      <th></th>\n",
       "      <th>висеть</th>\n",
       "      <th>витрина</th>\n",
       "      <th>все</th>\n",
       "      <th>делать</th>\n",
       "      <th>доллар</th>\n",
       "      <th>еще</th>\n",
       "      <th>закладывать</th>\n",
       "      <th>замечание</th>\n",
       "      <th>кабинет</th>\n",
       "      <th>клиент</th>\n",
       "      <th>...</th>\n",
       "      <th>приходиться</th>\n",
       "      <th>проверка</th>\n",
       "      <th>пропадать</th>\n",
       "      <th>просить</th>\n",
       "      <th>сбера</th>\n",
       "      <th>сделка</th>\n",
       "      <th>спрашивать</th>\n",
       "      <th>теперь</th>\n",
       "      <th>цепь</th>\n",
       "      <th>якобы</th>\n",
       "    </tr>\n",
       "  </thead>\n",
       "  <tbody>\n",
       "    <tr>\n",
       "      <th>0</th>\n",
       "      <td>0.328798</td>\n",
       "      <td>0.164399</td>\n",
       "      <td>0.164399</td>\n",
       "      <td>0.164399</td>\n",
       "      <td>0.000000</td>\n",
       "      <td>0.164399</td>\n",
       "      <td>0.000000</td>\n",
       "      <td>0.164399</td>\n",
       "      <td>0.164399</td>\n",
       "      <td>0.164399</td>\n",
       "      <td>...</td>\n",
       "      <td>0.164399</td>\n",
       "      <td>0.164399</td>\n",
       "      <td>0.164399</td>\n",
       "      <td>0.000000</td>\n",
       "      <td>0.164399</td>\n",
       "      <td>0.000000</td>\n",
       "      <td>0.164399</td>\n",
       "      <td>0.164399</td>\n",
       "      <td>0.000000</td>\n",
       "      <td>0.164399</td>\n",
       "    </tr>\n",
       "    <tr>\n",
       "      <th>1</th>\n",
       "      <td>0.000000</td>\n",
       "      <td>0.000000</td>\n",
       "      <td>0.000000</td>\n",
       "      <td>0.000000</td>\n",
       "      <td>0.377964</td>\n",
       "      <td>0.000000</td>\n",
       "      <td>0.377964</td>\n",
       "      <td>0.000000</td>\n",
       "      <td>0.000000</td>\n",
       "      <td>0.000000</td>\n",
       "      <td>...</td>\n",
       "      <td>0.000000</td>\n",
       "      <td>0.000000</td>\n",
       "      <td>0.000000</td>\n",
       "      <td>0.377964</td>\n",
       "      <td>0.000000</td>\n",
       "      <td>0.377964</td>\n",
       "      <td>0.000000</td>\n",
       "      <td>0.000000</td>\n",
       "      <td>0.377964</td>\n",
       "      <td>0.000000</td>\n",
       "    </tr>\n",
       "  </tbody>\n",
       "</table>\n",
       "<p>2 rows × 30 columns</p>\n",
       "</div>"
      ],
      "text/plain": [
       "     висеть   витрина       все    делать    доллар       еще  закладывать  \\\n",
       "0  0.328798  0.164399  0.164399  0.164399  0.000000  0.164399     0.000000   \n",
       "1  0.000000  0.000000  0.000000  0.000000  0.377964  0.000000     0.377964   \n",
       "\n",
       "   замечание   кабинет    клиент  ...  приходиться  проверка  пропадать  \\\n",
       "0   0.164399  0.164399  0.164399  ...     0.164399  0.164399   0.164399   \n",
       "1   0.000000  0.000000  0.000000  ...     0.000000  0.000000   0.000000   \n",
       "\n",
       "    просить     сбера    сделка  спрашивать    теперь      цепь     якобы  \n",
       "0  0.000000  0.164399  0.000000    0.164399  0.164399  0.000000  0.164399  \n",
       "1  0.377964  0.000000  0.377964    0.000000  0.000000  0.377964  0.000000  \n",
       "\n",
       "[2 rows x 30 columns]"
      ]
     },
     "execution_count": 41,
     "metadata": {},
     "output_type": "execute_result"
    }
   ],
   "source": [
    "tt"
   ]
  },
  {
   "cell_type": "code",
   "execution_count": 51,
   "metadata": {},
   "outputs": [],
   "source": [
    "dick = dict(zip(tt.columns, tt.loc[1]))"
   ]
  },
  {
   "cell_type": "code",
   "execution_count": 49,
   "metadata": {},
   "outputs": [],
   "source": [
    "for i in range(len(test.df)):\n",
    "    for j in range(len(test.df['comment'][i])):\n",
    "        test.df['comment'][i][j] = list(ngrams(test.df['comment'][i][j],2))\n",
    "for i in range(len(test.df)):\n",
    "    test.df['post'][i] = list(ngrams(test.df['post'][i],2))"
   ]
  },
  {
   "cell_type": "code",
   "execution_count": 45,
   "metadata": {},
   "outputs": [],
   "source": [
    "test.df['post'][1] = list(ngrams(test.df['post'][1],2))"
   ]
  },
  {
   "cell_type": "code",
   "execution_count": 50,
   "metadata": {},
   "outputs": [
    {
     "data": {
      "text/html": [
       "<div>\n",
       "<style scoped>\n",
       "    .dataframe tbody tr th:only-of-type {\n",
       "        vertical-align: middle;\n",
       "    }\n",
       "\n",
       "    .dataframe tbody tr th {\n",
       "        vertical-align: top;\n",
       "    }\n",
       "\n",
       "    .dataframe thead th {\n",
       "        text-align: right;\n",
       "    }\n",
       "</style>\n",
       "<table border=\"1\" class=\"dataframe\">\n",
       "  <thead>\n",
       "    <tr style=\"text-align: right;\">\n",
       "      <th></th>\n",
       "      <th>time</th>\n",
       "      <th>post</th>\n",
       "      <th>number_comments</th>\n",
       "      <th>comment</th>\n",
       "    </tr>\n",
       "  </thead>\n",
       "  <tbody>\n",
       "    <tr>\n",
       "      <th>0</th>\n",
       "      <td>2020-10-01 00:00:00</td>\n",
       "      <td>[(коллега, размещать), (размещать, видео), (ви...</td>\n",
       "      <td>9</td>\n",
       "      <td>[[], [], [], [(((('большой', 'привет'), ('прив...</td>\n",
       "    </tr>\n",
       "    <tr>\n",
       "      <th>1</th>\n",
       "      <td>2020-10-05 00:00:00</td>\n",
       "      <td>[(коллега, клиент), (клиент, спрашивать), (спр...</td>\n",
       "      <td>2</td>\n",
       "      <td>[[], []]</td>\n",
       "    </tr>\n",
       "    <tr>\n",
       "      <th>2</th>\n",
       "      <td>2020-10-05 00:00:00</td>\n",
       "      <td>[(приплывать, сделка), (сделка, цепь), (цепь, ...</td>\n",
       "      <td>5</td>\n",
       "      <td>[[((('итакасоглашаться', 'оценщик'), ('оценщик...</td>\n",
       "    </tr>\n",
       "    <tr>\n",
       "      <th>3</th>\n",
       "      <td>2020-10-05 00:00:00</td>\n",
       "      <td>[(коллега, добрый), (добрый, день), (день, нуж...</td>\n",
       "      <td>52</td>\n",
       "      <td>[[], [], [], [], [], [], [], [], [((('авансовы...</td>\n",
       "    </tr>\n",
       "    <tr>\n",
       "      <th>4</th>\n",
       "      <td>2020-10-05 00:00:00</td>\n",
       "      <td>[(время, такой), (такой, приходить), (приходит...</td>\n",
       "      <td>10</td>\n",
       "      <td>[[], [], [], [], [], [((('давать', 'торг'), ('...</td>\n",
       "    </tr>\n",
       "    <tr>\n",
       "      <th>...</th>\n",
       "      <td>...</td>\n",
       "      <td>...</td>\n",
       "      <td>...</td>\n",
       "      <td>...</td>\n",
       "    </tr>\n",
       "    <tr>\n",
       "      <th>107</th>\n",
       "      <td>2020-10-01 00:00:00</td>\n",
       "      <td>[(уважаемый, коллега), (коллега, поделиться), ...</td>\n",
       "      <td>0</td>\n",
       "      <td>[]</td>\n",
       "    </tr>\n",
       "    <tr>\n",
       "      <th>108</th>\n",
       "      <td>2020-10-01 00:00:00</td>\n",
       "      <td>[(уважаемый, коллега), (коллега, поступать), (...</td>\n",
       "      <td>0</td>\n",
       "      <td>[]</td>\n",
       "    </tr>\n",
       "    <tr>\n",
       "      <th>109</th>\n",
       "      <td>2019-10-31 00:00:00</td>\n",
       "      <td>[(пост, благодарность), (благодарность, серебр...</td>\n",
       "      <td>0</td>\n",
       "      <td>[]</td>\n",
       "    </tr>\n",
       "    <tr>\n",
       "      <th>110</th>\n",
       "      <td>2020-10-01 00:00:00</td>\n",
       "      <td>[(среди, волшебник), (волшебник, который), (ко...</td>\n",
       "      <td>0</td>\n",
       "      <td>[]</td>\n",
       "    </tr>\n",
       "    <tr>\n",
       "      <th>111</th>\n",
       "      <td>2020-09-29 00:00:00</td>\n",
       "      <td>[(добрый, день), (день, все), (все, поделиться...</td>\n",
       "      <td>0</td>\n",
       "      <td>[]</td>\n",
       "    </tr>\n",
       "  </tbody>\n",
       "</table>\n",
       "<p>112 rows × 4 columns</p>\n",
       "</div>"
      ],
      "text/plain": [
       "                    time                                               post  \\\n",
       "0    2020-10-01 00:00:00  [(коллега, размещать), (размещать, видео), (ви...   \n",
       "1    2020-10-05 00:00:00  [(коллега, клиент), (клиент, спрашивать), (спр...   \n",
       "2    2020-10-05 00:00:00  [(приплывать, сделка), (сделка, цепь), (цепь, ...   \n",
       "3    2020-10-05 00:00:00  [(коллега, добрый), (добрый, день), (день, нуж...   \n",
       "4    2020-10-05 00:00:00  [(время, такой), (такой, приходить), (приходит...   \n",
       "..                   ...                                                ...   \n",
       "107  2020-10-01 00:00:00  [(уважаемый, коллега), (коллега, поделиться), ...   \n",
       "108  2020-10-01 00:00:00  [(уважаемый, коллега), (коллега, поступать), (...   \n",
       "109  2019-10-31 00:00:00  [(пост, благодарность), (благодарность, серебр...   \n",
       "110  2020-10-01 00:00:00  [(среди, волшебник), (волшебник, который), (ко...   \n",
       "111  2020-09-29 00:00:00  [(добрый, день), (день, все), (все, поделиться...   \n",
       "\n",
       "     number_comments                                            comment  \n",
       "0                  9  [[], [], [], [(((('большой', 'привет'), ('прив...  \n",
       "1                  2                                           [[], []]  \n",
       "2                  5  [[((('итакасоглашаться', 'оценщик'), ('оценщик...  \n",
       "3                 52  [[], [], [], [], [], [], [], [], [((('авансовы...  \n",
       "4                 10  [[], [], [], [], [], [((('давать', 'торг'), ('...  \n",
       "..               ...                                                ...  \n",
       "107                0                                                 []  \n",
       "108                0                                                 []  \n",
       "109                0                                                 []  \n",
       "110                0                                                 []  \n",
       "111                0                                                 []  \n",
       "\n",
       "[112 rows x 4 columns]"
      ]
     },
     "execution_count": 50,
     "metadata": {},
     "output_type": "execute_result"
    }
   ],
   "source": [
    "test.df"
   ]
  },
  {
   "cell_type": "code",
   "execution_count": 55,
   "metadata": {},
   "outputs": [
    {
     "data": {
      "text/plain": [
       "' коллега размещать видео судебный юрист татьяна пак мы поговорить процедура банкротство физический лицо посмотреть именно глаз этот процедура заниматься надеяться вы интересный ссылка видео первый комментарий мой пост тема актуальный возникать вопрос риэлтор особенно защищать покупатель законобанкротствефизическихлица обучениериэлтор юристпонедвижимость коллега клиент спрашивать оплачивать проверка сбера якобы надежно теперь кабинет висеть красный замечание отчет оценка объект висеть витрина отчет оценка все пропадать еще оценка делать приходиться обходиться приплывать сделка цепь нижний просить закладывать доллар коллега добрый день нужный помощь нужный фото оценка квартира данный планировка помогать время такой приходить покупатель квартира предлагать заплатить квартира предлагаться реклама хотеться дорогой коллега такой предложение передаваться собственник говориться нет отдавать квартира приходить рано приходить повторно неудобно раз ездить тот другой предлагать еще повышать тяжело перестраиваться парадигма приятный женщина нехороший человек подымать подымать цена хотеться предложение конец торг передаваться собственник добрый утро нбки кто-то быстро сделать делать ресурс работать поделиться пожа контакт коллега добрый утро что коллега это реклама один квартира домклик забанить объявление причина невозможно дозваниваться ну бред до действителить невозможно дозваниваться начинать утро позвонить попросить поработать нужно нежилой помещение аренда район м киевский бережковский наб не понимать утро плохо воспринимать информация работа достаточно аренда особо заниматься кто отдавать клиент уважаемый коллега кто подобный ситуация подсказывать пожалуйста нужно продавать секция таунхаус новый москва свой время сособственник покупать земля сотня по доля потом построить таунхаус секция доля земля собственность мой клиентка сталкиваться проблема док земля указывать новый адрес таунхаус числиться мо старый адрес сказать клиентка нужно делать межевание ставить таунзаус новый кадастровый учет присвоение новый адрес но один собственница соседний участок начинать ставить палка колесо она слово согласный дело давать доверенность человек готовый заниматься межевание кадастрирование наш юрист говорить ее согласие доверенность мочь сделать теперь продажа угроза покупатель ипотечник готовый купить подождать соседка самовольный захватить часть земля видимо поэтому постоянно говорить она время ехать нотариус доверенность мой клиент предлагать приглашать нотариус оплачивать услуга соседка некогда от другой сособственник получать доверенность отказ преимущественный право покупка участок секция мой клиентка из-за один взбалмошный дама останавливаться как мы поступать ситуация криминальный предложение рассматривать вы какой соотношение исходить входящий коммуникация проактивный реактивный принцип работа риелтор агетство недвижимость прекрасно удалять твой публикация давать проживать час хоумап совпадение не думать бывать правда глаз колоть казаться какой отношение сей факт иметь риэлторство передавать пожалуйста герман оскарович цик большой якиманка километр кремль сей пора клиентский туалет сотрудник вынуждать отвлекаться работа водить клиент ручка стоять дверь ждать пока тот справлять нужда этак экосистема построить сбер сбербанк домклик коллега работать часто слышать разный человек заявление тип давно проходить тот время человек обманывать оставаться жилье да нешто наш время такой бывать врать выдумывать всякий история красный словцо за говорить быть основывать реальный событие живой пример очень уютный двушка хороший ремонт продаваться строгино они хотеть продавать хотеть купить устраивать нынешний собственник приобретать квартира мало год назад сам факт криминальный результат орм мы удаваться выяснивать продавец г р тот сделка страдать биполярный расстройство личность называть психиатр маниакально-депрессивный синдром более данный момент находиться лечение профильный заведение ориентироваться пространство мало кто узнавать помнить продавать квартира со слово гражданский супруга известно факт продажа квартира уверенный деньги никакой получать планировать инициировать процесс признание сделка недействительный представитель продавец аванс говорить тот слово давно проходить тот время человек обманывать оставаться жилье да нешто наш время такой бывать вы чрезмерно щепетильный хватить придумывать всякий ерунда человек быть бдительный беречь свой деньги обращаться специалист P S еще повторять история основывать реальный событие уважаемый дама господин думать смочь достоинство оценивать красота мошеннический схема определение № знать риелтор очень наблюдательный отличный психолог помогать разбираться совершенно неожиданно становиться участница дискуссия повод приобретение доля число микро доля жилой собственность мой знакомый приобретать такой однушка цель обеспечивать свой родитель московский прописка следовательно повышенный пенсия медобслуживание операция который ждать бесплатный проезд сказать мы обсуждать один мой друг обсуждение становиться очень эмоциональный друг считать этот причина никто становиться покупать доля однушка как самый дело https www anews com semyu s detmi друг сегодня очередной показ дом интересант полезть ветка яблоко Мммм какой вкусный пойти ка пакетик сходить не пускать пакетик ссылаться промышленный масштаб свой нужно яблоня обирать не понравиться человек большинство другой такой вы разрешать клиентский плод вынос сразу сказать несколько запрещать проба сказать наглеть давать сегодня сбер превосходить готовый на учиться цепь квартира аккредитив красногорск переживать договор сшивать отказываться поэтому первый жизнь экологически чистый материал толстоватый зато заметный вниманиеее бееечевкаа входить вы вопрос запрос отвечать октябрь циан приглашать посещать международный жилищный конгресс санкт-петербург это крупный мероприятие сфера недвижимость формат ежегодно собирать руководитель агентство недвижимость строительный компания банк эксперт сфера недвижимость россия зарубежный страна мероприятие пройти отель Park Inn прибалтийский офлайн формат циан выступать генеральный информационный партнер конгресс от циан рамка конгресс выступать спикер эксперт рассказывать влияние пандемия развитие жилищный рынок перспектива цифровой сервис изменение поведение потребитель поделиться прогноз загородный коммерческий недвижимость подробность регистрация ссылка коллега помогать на сайт росреестр вводить номер mfc видеть запрос или иначе вводить коллега все здравствовать кто опыт доверенность другой государство посольство рф венгрия сделать нотариальный доверенность покупка квартира получать москва нотариус или курьерский отправлять оригинал сталкиваться такой коллега добрый день вот интересно мнение профессионал продавец требование предоставлять справка нд ПНД встречный просить справка покупатель как такой случай поступать что говорить предоставлять на сколько целесообразный уточнять справка нд ПНД покупатель для какой цель нужный криминальный риэлтор черный изыди вон небоскреб откидываться часть стена чикаго наклоняться смотровой площадка один небоскреб вид открываться поразительный коллега посоветовать пожалуйста послушать посмотреть почитать умный человек психология продажа развитие агентство недвижимость только глубинный тип капитан очевидность совет тип принимать аванс сделка расслабляться завтрашний день начинать генерировать новый заявка слишком простой я что-то умный но сам как-то находить спасибо заранее коллега добрый день мочь ситуация подсказывать выход покупка квартира ипотека сбербанк госпрограмма получать решение оценка получать сбер говорить оценка завышать квартира элитный дом велеть сделать оценка сделать сбер говорить этот оценка завышать стоять квартира элитный дом стоять гореть решение соответственно находить наличные млн представляться возможный быть путь решение заранее спасибо уважаемый участник конгресс напоминать печатный издание деловой программа конгресс поэтому настоятельно рекомендовать скачать мобильный приложение конгресс находить информация деловой культурно развлекательный мероприятие последний новость другой полезный сведение помощь данный сервис также смочь общаться друг друг назначать встреча участник конгресс инструкция использование приложение размещать https spbcongress ru congress pril html важный информация бесплатный участник конгрессам уважение понимание относиться ваш выбор бесплатный пакет участие то просить ответ оргкомитет конгресс получать городской властей разрешение проведение форум неукоснительный соблюдение рекомендация требование роспотребнадзор поэтому многий зала прибалтия скои расширять убираться стена также дополнительно арендовать конгресс центр горный институт несмотря принимать мера е мкость многий зал позволять размещать желающий напоминать приоритет запуск зал иметь платный участник спикер только истечение минута начало мероприятие дверь секция быть открывать бесплатный участник до избавлять излишнеи суета беготня горный прибалтия скои подготовить картинка программои мероприятие скоро быть свободный место ивента неинтересный просто зал достаточно большой уверенный мероприятие разочаровывать если оффлай н чашечкои кофе лобби бар прибалтия скои фои е этаж смочь посмотреть прямой трансляция популярный секция также обращать внимание регистрация бесплатный участник осуществляться октябрь утро пожалуй сто приходить рано утро иначе ждать большой очередь просматривать фото квартира как думать вопрос знаток материнский прочий капитал продавать квартира ребенок покупать другой доплата согласие ооп получать можно качество доплата использовать мат кап коллега добрый день вопрос квартира приватизировать супруг жизнь прописывать иметь отношение квартира супруга знать но покупатель настаивать взять согласие супруга продажа сказать взять ваш счет он соглашаться на сделка менеджер сбербанк потребовать тождественность согласие упрекать риелтор знать покупатель порадоваться сказать знать семейный кодекс обращать внимание пусть успокаиваться на следущий день просить вернуть согласие что сказать кто правый много перечитывать уверенный править администратор сделка основной обязанность подготовка договор аванс проведение встреча аванс подготовка сделка подготовка согласование договор купля продажа участник сделка наш юрист бронирование ячейка аккредитив банк согласование способ расчет участник сделка расписка обязательство составление памятка сделка схема расчет организация регистрация организация нотариальный действие дкп доверенность согласие обязательство пр заказ юрид проверка согласование юрист выход сделка получение одобрение юрист составление чек лист готовность выход сделка брокер юрист руководитель отдел продажа подшивать документ архив клиент агентство требование опыт проведение сделка недвижимость юридический образование приветствоваться переговорный навык коммуникабельность возраст год презентабельный внешность стрессоустойчивость умение убеждать аргументировать способность видение ситуация путь выход сложный ситуация от клиент помощь первый этап консультация первый этап согласование сделка фиксированный оплата каждый сделка рабочий график скользить пока выезд объем увеличиваться полный занятость дружный команда все добрый день завтра традиционно утро прямои эфир инстаграм прямои эфир https www instagram com sviridov real estate мой рабочие аккаунт новый тип жилье модульный который легко транспортироваться место после оставаться разгружать развертывать европа сей пора активно применяться сборный разборный малоэтажный дом производитель предлагать некий вариант конструктор владелец дом собирать готовый блок представлять вариант сборка подразумевать просто разворачивать домик практически готовый проживание исключение территория применение такой дом суровый зима толщина стена теплоизоляция позволять использовать такой дом но вполне возможно эксперимент лишь первый пробный шаг возможно появляться теплый транспортабельный готовый модульный дом дома трансформер эксперимент строительство дом который легко перевозить место место также легко смонтировать посторонний помощь привозить разгружать жить по архивко из квартира год мать ребенок выписываться квартира год приватизация из москва область оставаться отец приватизация продажа Homeapp интересный месяц нутри наблюдать компания очень интересный распил инвестиционный деньги слабый руководящий состав сырой срм некомпетентный айтишник пинать друг друг вечно вылетать реклама площадка весь инсткруция попытка призывать коучий недвижимость фиша орехов славо бог орех сразу понимать уходить туда плюс обман сотрудник расчет туда приходить отдел слон тип HRd уходить пол команда ну развитие хоумап главное главное распил инвестиция сколково тип айти компания год работать срм сказка личный кабинет работать стыдно подставлять клиент проблема ай пи телефония ай ти компания десяток агент получать звонок свой обьект слак инструкция писать ждать рекомендовать агентво хоумапп думать хороший мина полный гениальный идея руководство перевести агент ипать июль уходить ржать голос коллега подсказывать пожалуйста получать быстро постановление присвоение почтовый адрес дом адрес присваивать год дом химки добрый вечер уважаемый коллега очень нужный помощь зал загородка честно заниматься земля далеко погружаться дебри понимать нюанс подводный камень квартира снимать шляпа человек который этот вода плавать мой интерес азарт разбираться подсказывать направление направлять один сторона ситуация следующий приобретение доля дома мо договор дарение договор отдельный пункт идти упоминание земля соответствие ст ЗК рсфср приобретать право пользование ЗУ занятый отчуждать доля жилой дом необходимый ее использование как результат часть дома отдельный вход выделять натура земля никакой документ обращаться администрация данные отправлять куи сказать архив данные задача приводить документ соответствие продавать доля содольщик находить конец земля получаться земля весь видимость муниципальный т предпринимать попытка выкупать кусок отгораживать земля сторона доля который сделать ситуационный план дальнейший межевание т долевой дом получать отказ причина долевой собственность заявление должно поступать но другой собственник данные росреестр часть дом видимо зарегистрировать ранее возникать вопрос продавать собственник доля свой содольщик оформление земля или все-таки нужно собственник доля зарегистрировать ранее возникать сделать ситуационный план участок подавать заявление собственник администрация предварительный согласование выделение ЗУ получение согласие проводить межевание выкупать бесплатно оформлять т док год спасибо все смочь осиливать дочитывать конец очень быть ждать ваш мнение совет все добро коллега делиться уведомление приостановка гос регистрация причина отсутствие подписывать акт прием передача так решать регистратор ульяновск хотя ДКП прописывать передача акт течение день регистрация объект мо але это банк да звать анна мочь помогать ваш шуба съедать моль быть платить кредит проходить месяц вставать суд идти ваш честь осень прошлый год взять кредит пять год норковый шуба сезон отходить но лето шуба съедать моль поэтому переставать платить кредит требовать банк компенсация приносить ущерб моральный ущерб судебный издержки почему решать банк нести ответственность случай поедание шуба моль вот кредитный договор написать момент полный погашение кредит шуба являться собственность банк банк сохранять свой имущество должный вид почему должный продолжать платить извинять ваш честь банк возражать договор написать мочь пользоваться шуба написать вино банк ваш честь вопрос использование шуба банка претензия целый сезон пользоваться шуба но сказать пользоваться шуба лето раз пользоваться шуба зима значит должный сохранять следующий сезон показывать пожалуйста какой пункт договор прописывать или вы отдельный договор доверительный хранение но использование шуба предполагать хранение сезон обработка моль ваш честь конец сезон приходить время убирать хранение зимний вещь позвонить банк проконсультироваться вопрос хранение имущество запись разговор здравствовать банк да звать светлана мочь помогать брать норковый шуба кредит ваш банк проверять пожалуйста задолженность номер договор дробь тир ноль один минуточка ольга павловна да на сегодняшний день задолженность платеж поступать вовремя что-то мочь помогать подсказывать пожалуйста нужно хранить шуба летний период извинять знать ну повесить куда-нибудь можно прихожая шкаф оставлять или какой дополнительный требование хранение никакой требование оставлять шкаф удобно что-то нет спасибо ваш честь банк протестовать клиентка задавать оператор вопрос который компетентный ваш честь если оператор банк компетентный такой вопрос почему переводить специалист банк отвечать межсезонный хранение шуба банк такой отдел очень интересный шуба отдел хранение протест отклонять ваш представление должный обеспечивать сохранность шуба почему спрашивать это ваш шуба думать сохранять мочь продолжать пользоваться вы озабочиваться сохранность свой имущество пытаться сделать виноватый не выходить за побивать моль шуба платить быть суд удаляться совещание вставать суд идти иск гражданка N банка F удовлетворять полный объем да здравствовать юрист уважаемый коллега нужный срочно контакт хороший риэлтор ростов писать пожалуйста личка заранее спасибо еще покупка недвижимость крым здравствовать слегка подзависать регистрация кто-то рабочий контакт росреестр мо по телефон интернет никто отвечать риэлторскиечастушка хотеть купить квартиручто делать не пойти мируслышать риэлтор враг сейчас самый время скоро зимай ваш внимание предлагать организовывать наш помощь доходный очень прибыльный дело использование любой подвальный помещение подробность наш сайт для способный человек отдельно продаваться организационный материал консультация уважаемый коллега подсказывать человек говорить состоять учет ПНД продавец риэлтор покупатель заказывать проверка состоять как понимать самый очевидный ответ проверка врать можно верить вообще добрый вечер коллега завтра сделка сбер тверская ситуация такой клиентка ипотечник брать студия который залог сбера один собственник ипотечник за месяц находить время сниматься регистрационный учет сбер сделка переносить отказываться домклик поступать звонок менеджер резкий форма заявлять зарегистрировать собственник какой мелочь сбер уверять просто выходить второй часть сделка собственник сниматься регистрационный учет второй часть деньги сбера пойти счет погашение ипотека предыдущий собственник кто какой мысль P S домклик сбер менеджер обшаться грубо друг думать нужно реклама объект использовать тур не эффективно организовывать живой показ встреча потенциальный покупатель тур квартира дорогой квартира увидеть показывать такой образ скоро снова продажа каргопольский быть внимательный продавец менять документ фамилия я казаться авито агонизировать бесконечный поднятие цена здравый яснение поддаваться вспомнить контора местный рулить она россия наемный эффективный менеджер сильно подозревать поднятие цена исключительно вызывать необходимость демонстрация финансовый благополучие акционер фон отгрызать провинциальный рынок кусок кусок циан болеть циан надеяться сжирать авито максимально быстро удача петербуржец писать пост давно встречать контрагент агентство бац сглазить подряд аванс агентство приятно радостно узреть изменение поведение уважаемый агентство не настаивать продавец ехать офис мирно приезжать квартира вносить инк еще один мало приятный это переобуваться кто-то еще старинка настаивать агентство офис учебный центр ассоциация недвижимость севастополь сегодня алушта выпускать группа сотрудник ан альянсити программа основа риэлторский деятельность экзамен все сдавать успешно готовить документ аттестация сотрудник надеяться дальнейший сертификация самый агентство алушта один жемчужина крым несколько недооценивать ее набережная уступать сочи ялта ждать виктор жуков альянсити РГР коллега помощь нужный вот прямой голова сломать вчера решение хотеться менее еще подтверждение свой решение давать вчера два квартира трешка двушка один район два брат оба доставаться наследство двушка разделять пополам но брат хотеть жить согласный продавать трешка она выделять деньги брат двушка друг возможно стыдно побыть просто специалист или обязательно иметь свой мнение любой вопрос связанный недвижимость раз год последний неделя месяц проводить занятие риэлтор прямой эфир во вторник утро среда вечер ⠀ занятие платный для начинать участие прямой эфир эксперт продвигать запись час навсегда ⠀ на следующий день выделять время телефонный консультация участник звонить риэлтор ⠀ как использовать информация получать опрос сосед супруга конфликтовать ⠀ отвечать супруг собственник брачный договор соглашение раздел имущество мочь проблема выписка сделка ⠀ он комментировать точно вадим шабалин утренний вебинар говорить посмотреть запись вечерний там говорить ⠀ да бывать это прямой эфир сценарий одинаковый импровизация доработка практиковать например утренний эфир сентябрь добавлять слайд скорректировать сценарий вместо длинный монолог шабалин вставлять диалог мы ⠀ если участвовать наш вебинар написать впечатление ⠀ втдеокнигатва Охх москва мфц росреестр москваколлега делиться вчера переставать принимать заявление выписка например бороться почетный звание дом высокий культура быт втб ипотека купитьквартира купитьд втбзеленоград если кто нормальный соглашение задаток пользоваться принимать аванс квартира выбирать альтернатива сделка завтра продавец агент год продавать требовать задаток договор никакой предлагать на день задаток выдавать покупатель передумывать ехать банк еще многий отказывать день сначала подумать просто задатки человек собирать оказываться реально парадигма такой реновация бывать недвижимость рассказ мужик хотеть старый жена новый поменять городской программа реновация юрий стоянов знать толк так бывать личный кабинет госуслуга ру клиент приходить сообщение такой содержание предупреждать находиться закладная заемщик год дельта надо заемщик разный банк проверять свой личный кабинет коллега заваляться кто первичка ЖК университетский ленинский юрист покупатель просить мой продавец застройщик взять свой время удосуживаться на сайт капитал группа инф капитал звонить общий порядок вообще помнить строить написать письмо сомневаться отвечать запрашивать РПМ договор аренда земля разрешение ввод ну инвестконтракт идея куча получать https rg ru pri prodazhe nedvizhimosti strahovka po как коллега сегодня участвовать ВКС конференция руководитель росреестр организованный ТПП рф среди прочий вопрос г-н скуфинский заявлять считать необходимый цель борьба мошенник ограничивать доступ сведение егрн посторонний чтобы доступ информация иметь собственник как вы считать сколько обоснованно необходимый уже никто удивлять молодой дама поправлять носик делать губка скула ухо сися поп пойти веяние менять родитель дарить внешность добрый день просьба поделиться тело грамотный адвокат дело доля квартира коллега думать ликвидность квартира объект культурный наследие низко высоко соседний дом вообще влиять статус дом P s клиент понравиться квартира дом октябрьский поле деревянный перекрытие вот ситуация покупать квартира альтернатива наш продавец находить альтернатива свободный квартира продавать кореец доверенность другой кореец разрывать сделка отцеплять хвост получаться очень беспокоить этот ситуация доверенность закладывать ячейка продавец квартира миновать предыдущий никакой информация продавец кореец уверенность все чисто как подстраховываться случай расторжение последний ДКП доходить компания C E Investments партнерство канал предлагать новый инструмент развитие бизнес реклама ваш возможность привлечение клиент как понимать начинающий агент этот работа подходить кто-нибудь помогать раздобывать градостроительный план зем участок щелковский р-н м хороший проект сфера коммерческий недвижимость получать сегодня заслуживать награда церемония награждение Arendator Awards сегодня награждать лауреат премия Arendator Awards номинация хороший складской комплекс выигрывать Largest Fulfilment hub of the leading online retailer in Russia OZON Orientir Sever большой удовольствие вручать представитель компания заслуживать награда от весь душа поздравлять победитель ольга хасанов спасибо прекрасный вечер встреча партнер друг как вы новость коллега кто слышать уважаемый коллега продаваться зем участок жилой дом СНТ стоимость общий тыс рубль продавец пенсионерка владение объект год быть налог данный случай добрый день коллега давненько писать но решать спрашивать знать итак покупка апартамент город греза мекка отдых сочи тыдыщ договор намерение обеспечение наикрутой документ пометка ах белый роза желтый тюльпан а-ля е год говорить весь доверие прочий херня что накидать страшилка пожалуйста время хотеться покупка продажа немного зарабатывать этот факт важный страшилка помнить коллега подсказывать пожалуйста брать справка дом признавать аварийный подлежать снос срок вот озадачиваться вчера весь канал объявлять поймать группа который оттяпывать квартира фальшивый завещание вычислять ведь реестровый книга заноситься задний число данные завещание уважаемый коллега нужный ваш помощь сдавать документ МФЦ регистрация аренда земля москва мы сделать приостановка месяц просить доносить документ доносить ждать месяц регистрация как выходить регистратор мочь кто-то помогать рекомендация благодарность коллега не мочь оставлять пост восхищение радость гордость прекрасный специалист наш дело работа непростой объект залог перепланировка прочий трудность путь продажа именно группа мой счастие познакомиться прекрасный специалист менеджер райффайзенбанк серебряков андрей уровень знание участие этап сделка заинтересованность процесс нацеленность положительный результат зашкаливать полный ощущение командный работа даже момент опускаться рука верить приободрять искать решение выход сложный ситуация всегда связь свой нерабочий время вовлекать происходить спасибо огромный андрей вы хороший я доводиться встречать профессиональный специалист ваш область рекомендовать такой специалист вес золото они должно благодаря работа хотеться часто взаимодействовать райффайзен если подобный рекомендация делиться пожалуйста наш работа приносить радость на фон слух заход пандемия второй круг большинство россиянин обоснованно переживать цена поводить ипотечный ставка вообще бежать бежать циан журнал выяснять положение дело спрашивать совет эксперт поделиться насчет опека еще возможно решать вопрос не знать реально такой москва попробовать быть кто квартира мо собственник полностью ребенок будущее вставать вопрос продажа квартира мама ребенок прописывать мо жить другой регион россия жить дед ребенок отец мать мать отец один фамилия ребенок фамилия отец отец погибать дед регион х квартира так ребенок пойти школа дед сделать временный регистрация свой квартира процесс оформлять ребенкин квартира мо дед ребенок отдавать дедов квартира обращаться опека регион ребенок временно зарегистрировать опека обращаться повод договор мена повод продажа квартира мо взамен приобретение квартира опека давать согласие обмен теперь ребенок владеть х ком кв опека видеть ущемление право ребенок нарушение статья семейный кодекс потом быть продавать квартира дед мо пока сдавать пока продажа квартира ребенок кто-то попробовать такой схема московский опека рост цена новый жилье россия итог год составлять писать газета известие ссылка эксперт рынок недвижимость участник рынок полагать вторичный жилье конец год подорожать рост цена ожидаться из-за переход стройотрасль механизм проектный финансирование все добрый день завтра прямои эфир инстаграм программа зарядка мозги прямой эфир узбекистан ташкент массив чиланзар й квартал домклик знать писать заявка никто работать цепочка объект опека нотариус верхушка продавать квартира домклик хотеть работать мы готовый уходить банк сегодня прекращаться издевательство вопрос скоро будущий сделка иметь завещание квартира мать новорожденный ребенок случай брак мать ребенок отец ребенок которвй завещать зарегестрировпн пример возникать ситуация мать необходимо продавать квартира часть решать какой вопрос здоровье ребенок т д если половина ребенок завещание совершенолетний возможно продавать какой образ квартира приобретать мало наделение доля или вообще продавать возможность пока совершенолетний понимать продажа больший покупка меньший квартира пример интерес лечение ребенок опека пропускать интерес мать врятли приветствовать друг просить помогать я геодезист нужный давать контакт близкий знакомый спасибо продуктивный октябрь гостиный двор самый креативный реклама гараж катерина день рождение подхватывать флешмоб александр галямов черный речка активно развивающийся локация петербург готовый инфраструктура расти цена жилье предлагать пятерка самый заметный проект бизнес-класс часть приморский район коллега делиться опыт ждать готовый высокий чек лйфхаки продавать день выход реклама продавать карантин элекронный регистрация продавать пентхаус напополам два разный покупатель набивать база клиент млн день разводить мужик прямой смысл переносный раздел имущество требование кредитор https granatmaxim ru moshennichestvo pri razdele вы знать риэлтор работать плохо работать плохо правильно это удивлять давать разбираться почему самый дело взять один недавний сделка продажа квартира который настоящий момент успешно завершать клиент женщина положение еще сильно квартира отделка новый дом один подмосковный город риэлтор жить город недалеко объект тратить время поездка показ уважаемый коллега поделиться пожалуйста опыт недавно оформлять ипотека росбанк сколько день росбанк одобрять объект момент предоставление документ уважаемый коллега поступать ситуация стоять связываться продавец квартира который иметься действовать кредит просрочка непогашенный кредит летний давность на сколько большой вероятность признавать банкрот как-то рано обращать внимание но последний время шумиха вокруг закон банкротство сомнение возникать вдруг что-то улавливать пост благодарность серебряков андрей иметь рубль иметь друг простой сделка ипотека покупатель продавец расчет депозит райфа человек непростой продавец день проведение сделка попросить перенести ее следующий день покупатель билет день отдыхать собираться поэтому банк мы попадать утро банк ждать все расписывать звонок андрей просьба помогать разрешать наш проблема сегодня утро проводить сделка все проходить быстро четко клиент довольный фэйсбук наш группа очень полезный работа андрей огромный риэлтерский спасибо среди волшебник который смочь срочно пресрочно помогать снимать запрет рег действие зарегать ипотека м пристав направлять постановление снятие запрет эл вид межвести день назад почта отправлять еще получать ожидать адресат почта добрый день все поделиться пожалуйста контакт ускорять процесс снятие запрет регистрация росреестр объект московский область истра запрет налагать судебный пристав г москва исполнительный производство прекращать связь оплата задолженность заранее спасибо'"
      ]
     },
     "execution_count": 55,
     "metadata": {},
     "output_type": "execute_result"
    }
   ],
   "source": [
    "a"
   ]
  },
  {
   "cell_type": "code",
   "execution_count": 82,
   "metadata": {},
   "outputs": [],
   "source": [
    "df_d = df[df['time']<datetime(2020,10,5,0,0)]"
   ]
  },
  {
   "cell_type": "code",
   "execution_count": 70,
   "metadata": {},
   "outputs": [],
   "source": [
    "df_nd = deepcopy(df[~(df['time']<datetime(2020,10,5,0,0))])"
   ]
  },
  {
   "cell_type": "code",
   "execution_count": 128,
   "metadata": {},
   "outputs": [],
   "source": [
    "df_d.index = np.arange(len(df_d))\n",
    "d = ''\n",
    "for i in range(len(df_d)):\n",
    "    d += ' ' + det.detokenize(df_d['post'][i])\n",
    "for i in range(len(df_d)):\n",
    "    for j in range(len(df_d['comment'][i])):\n",
    "        d += ' ' + det.detokenize(df_d['comment'][i][j])\n",
    "df_nd.index = np.arange(len(df_nd))\n",
    "nd = ''\n",
    "for i in range(len(df_nd)):\n",
    "    nd += ' ' + det.detokenize(df_nd['post'][i])\n",
    "for i in range(len(df_nd)):\n",
    "    for j in range(len(df_nd['comment'][i])):\n",
    "        nd += ' ' + det.detokenize(df_nd['comment'][i][j])"
   ]
  },
  {
   "cell_type": "code",
   "execution_count": 129,
   "metadata": {},
   "outputs": [],
   "source": [
    "ls_dt = [d, nd]\n",
    "vectorizer = TfidfVectorizer()\n",
    "X = vectorizer.fit_transform(ls_dt)\n",
    "tt = pd.DataFrame(X.toarray(), columns=vectorizer.get_feature_names())"
   ]
  },
  {
   "cell_type": "code",
   "execution_count": 130,
   "metadata": {},
   "outputs": [
    {
     "data": {
      "text/html": [
       "<div>\n",
       "<style scoped>\n",
       "    .dataframe tbody tr th:only-of-type {\n",
       "        vertical-align: middle;\n",
       "    }\n",
       "\n",
       "    .dataframe tbody tr th {\n",
       "        vertical-align: top;\n",
       "    }\n",
       "\n",
       "    .dataframe thead th {\n",
       "        text-align: right;\n",
       "    }\n",
       "</style>\n",
       "<table border=\"1\" class=\"dataframe\">\n",
       "  <thead>\n",
       "    <tr style=\"text-align: right;\">\n",
       "      <th></th>\n",
       "      <th>aln</th>\n",
       "      <th>alyakina</th>\n",
       "      <th>anchevskaya</th>\n",
       "      <th>anews</th>\n",
       "      <th>app</th>\n",
       "      <th>arendator</th>\n",
       "      <th>awards</th>\n",
       "      <th>ba</th>\n",
       "      <th>balashova</th>\n",
       "      <th>be</th>\n",
       "      <th>...</th>\n",
       "      <th>ялта</th>\n",
       "      <th>янао</th>\n",
       "      <th>яндекс</th>\n",
       "      <th>янчиков</th>\n",
       "      <th>ясинский</th>\n",
       "      <th>яснение</th>\n",
       "      <th>ясно</th>\n",
       "      <th>ясный</th>\n",
       "      <th>яхрома</th>\n",
       "      <th>ячейка</th>\n",
       "    </tr>\n",
       "  </thead>\n",
       "  <tbody>\n",
       "    <tr>\n",
       "      <th>0</th>\n",
       "      <td>0.001407</td>\n",
       "      <td>0.001407</td>\n",
       "      <td>0.002814</td>\n",
       "      <td>0.000000</td>\n",
       "      <td>0.001407</td>\n",
       "      <td>0.002814</td>\n",
       "      <td>0.002814</td>\n",
       "      <td>0.001407</td>\n",
       "      <td>0.001001</td>\n",
       "      <td>0.007035</td>\n",
       "      <td>...</td>\n",
       "      <td>0.001407</td>\n",
       "      <td>0.001407</td>\n",
       "      <td>0.004221</td>\n",
       "      <td>0.002814</td>\n",
       "      <td>0.002814</td>\n",
       "      <td>0.001407</td>\n",
       "      <td>0.004221</td>\n",
       "      <td>0.002814</td>\n",
       "      <td>0.001407</td>\n",
       "      <td>0.008009</td>\n",
       "    </tr>\n",
       "    <tr>\n",
       "      <th>1</th>\n",
       "      <td>0.000000</td>\n",
       "      <td>0.000000</td>\n",
       "      <td>0.000000</td>\n",
       "      <td>0.009564</td>\n",
       "      <td>0.000000</td>\n",
       "      <td>0.000000</td>\n",
       "      <td>0.000000</td>\n",
       "      <td>0.000000</td>\n",
       "      <td>0.020414</td>\n",
       "      <td>0.000000</td>\n",
       "      <td>...</td>\n",
       "      <td>0.000000</td>\n",
       "      <td>0.000000</td>\n",
       "      <td>0.000000</td>\n",
       "      <td>0.000000</td>\n",
       "      <td>0.000000</td>\n",
       "      <td>0.000000</td>\n",
       "      <td>0.000000</td>\n",
       "      <td>0.000000</td>\n",
       "      <td>0.000000</td>\n",
       "      <td>0.006805</td>\n",
       "    </tr>\n",
       "  </tbody>\n",
       "</table>\n",
       "<p>2 rows × 6506 columns</p>\n",
       "</div>"
      ],
      "text/plain": [
       "        aln  alyakina  anchevskaya     anews       app  arendator    awards  \\\n",
       "0  0.001407  0.001407     0.002814  0.000000  0.001407   0.002814  0.002814   \n",
       "1  0.000000  0.000000     0.000000  0.009564  0.000000   0.000000  0.000000   \n",
       "\n",
       "         ba  balashova        be  ...      ялта      янао    яндекс   янчиков  \\\n",
       "0  0.001407   0.001001  0.007035  ...  0.001407  0.001407  0.004221  0.002814   \n",
       "1  0.000000   0.020414  0.000000  ...  0.000000  0.000000  0.000000  0.000000   \n",
       "\n",
       "   ясинский   яснение      ясно     ясный    яхрома    ячейка  \n",
       "0  0.002814  0.001407  0.004221  0.002814  0.001407  0.008009  \n",
       "1  0.000000  0.000000  0.000000  0.000000  0.000000  0.006805  \n",
       "\n",
       "[2 rows x 6506 columns]"
      ]
     },
     "execution_count": 130,
     "metadata": {},
     "output_type": "execute_result"
    }
   ],
   "source": [
    "tt"
   ]
  },
  {
   "cell_type": "code",
   "execution_count": 132,
   "metadata": {},
   "outputs": [
    {
     "name": "stdout",
     "output_type": "stream",
     "text": [
      "1: квартира\n",
      "2: еще\n",
      "3: сделка\n",
      "4: такой\n",
      "5: ребенок\n",
      "6: право\n",
      "7: вы\n",
      "8: год\n",
      "9: клиент\n",
      "10: то\n",
      "11: который\n",
      "12: покупатель\n",
      "13: мочь\n",
      "14: свой\n",
      "15: продавец\n"
     ]
    }
   ],
   "source": [
    "dick = dict(zip(tt.columns, tt.loc[0]))\n",
    "utp = sorted(dick, key=dick.get, reverse=True)\n",
    "for i in range(15):\n",
    "    print('{}:'.format(i+1)+' '+utp[i])"
   ]
  },
  {
   "cell_type": "code",
   "execution_count": 89,
   "metadata": {},
   "outputs": [
    {
     "data": {
      "text/plain": [
       "(Int64Index([  0,   8,  11,  12,  15,  16,  17,  18,  19,  21,  22,  23,  24,\n",
       "              25,  27,  28,  29,  30,  31,  32,  33,  34,  36,  37,  38,  39,\n",
       "              40,  41,  42,  43,  44,  45,  46,  47,  48,  49,  50,  51,  52,\n",
       "              53,  54,  55,  56,  57,  58,  59,  60,  61,  62,  63,  64,  65,\n",
       "              66,  67,  68,  69,  70,  71,  72,  73,  74,  75,  76,  77,  78,\n",
       "              79,  80,  81,  82,  83,  84,  85,  86,  87,  88,  89,  90,  91,\n",
       "              92,  93,  94,  95,  96,  97,  98,  99, 100, 101, 102, 103, 104,\n",
       "             105, 106, 107, 108, 109, 110, 111],\n",
       "            dtype='int64'),\n",
       " array([  0,   1,   2,   3,   4,   5,   6,   7,   8,   9,  10,  11,  12,\n",
       "         13,  14,  15,  16,  17,  18,  19,  20,  21,  22,  23,  24,  25,\n",
       "         26,  27,  28,  29,  30,  31,  32,  33,  34,  35,  36,  37,  38,\n",
       "         39,  40,  41,  42,  43,  44,  45,  46,  47,  48,  49,  50,  51,\n",
       "         52,  53,  54,  55,  56,  57,  58,  59,  60,  61,  62,  63,  64,\n",
       "         65,  66,  67,  68,  69,  70,  71,  72,  73,  74,  75,  76,  77,\n",
       "         78,  79,  80,  81,  82,  83,  84,  85,  86,  87,  88,  89,  90,\n",
       "         91,  92,  93,  94,  95,  96,  97,  98,  99, 100, 101, 102, 103,\n",
       "        104, 105, 106, 107, 108, 109, 110, 111]))"
      ]
     },
     "execution_count": 89,
     "metadata": {},
     "output_type": "execute_result"
    }
   ],
   "source": [
    "df_d.index, np.arange(len(df))"
   ]
  },
  {
   "cell_type": "code",
   "execution_count": 92,
   "metadata": {},
   "outputs": [
    {
     "data": {
      "text/html": [
       "<div>\n",
       "<style scoped>\n",
       "    .dataframe tbody tr th:only-of-type {\n",
       "        vertical-align: middle;\n",
       "    }\n",
       "\n",
       "    .dataframe tbody tr th {\n",
       "        vertical-align: top;\n",
       "    }\n",
       "\n",
       "    .dataframe thead th {\n",
       "        text-align: right;\n",
       "    }\n",
       "</style>\n",
       "<table border=\"1\" class=\"dataframe\">\n",
       "  <thead>\n",
       "    <tr style=\"text-align: right;\">\n",
       "      <th></th>\n",
       "      <th>time</th>\n",
       "      <th>post</th>\n",
       "      <th>number_comments</th>\n",
       "      <th>comment</th>\n",
       "    </tr>\n",
       "  </thead>\n",
       "  <tbody>\n",
       "    <tr>\n",
       "      <th>1</th>\n",
       "      <td>2020-10-05 00:00:00</td>\n",
       "      <td>[коллега, клиент, спрашивать, оплачивать, пров...</td>\n",
       "      <td>2</td>\n",
       "      <td>[[документ, регистрировать, регистратор], [ден...</td>\n",
       "    </tr>\n",
       "    <tr>\n",
       "      <th>2</th>\n",
       "      <td>2020-10-05 00:00:00</td>\n",
       "      <td>[приплывать, сделка, цепь, нижний, просить, за...</td>\n",
       "      <td>5</td>\n",
       "      <td>[[итакасоглашаться, оценщик, ссылка, присылать...</td>\n",
       "    </tr>\n",
       "    <tr>\n",
       "      <th>3</th>\n",
       "      <td>2020-10-05 00:00:00</td>\n",
       "      <td>[коллега, добрый, день, нужный, помощь, нужный...</td>\n",
       "      <td>52</td>\n",
       "      <td>[[америка, работать], [наташа], [лурье], [вспо...</td>\n",
       "    </tr>\n",
       "    <tr>\n",
       "      <th>4</th>\n",
       "      <td>2020-10-05 00:00:00</td>\n",
       "      <td>[время, такой, приходить, покупатель, квартира...</td>\n",
       "      <td>10</td>\n",
       "      <td>[[распашонка], [лукашевский], [банк], [быков],...</td>\n",
       "    </tr>\n",
       "    <tr>\n",
       "      <th>5</th>\n",
       "      <td>2020-10-05 00:00:00</td>\n",
       "      <td>[добрый, утро, нбки, кто-то, быстро, сделать, ...</td>\n",
       "      <td>35</td>\n",
       "      <td>[[предлагать, выходить, собственник, обход, аг...</td>\n",
       "    </tr>\n",
       "    <tr>\n",
       "      <th>6</th>\n",
       "      <td>2020-10-05 00:00:00</td>\n",
       "      <td>[коллега, добрый, утро]</td>\n",
       "      <td>6</td>\n",
       "      <td>[[давно, отказываться, завышение, ну, вариант,...</td>\n",
       "    </tr>\n",
       "    <tr>\n",
       "      <th>7</th>\n",
       "      <td>2020-10-05 00:00:00</td>\n",
       "      <td>[что, коллега, это, реклама, один, квартира]</td>\n",
       "      <td>14</td>\n",
       "      <td>[[узнавать], [Shuk, завышение, договор, просит...</td>\n",
       "    </tr>\n",
       "    <tr>\n",
       "      <th>9</th>\n",
       "      <td>2020-10-05 00:00:00</td>\n",
       "      <td>[утро, позвонить, попросить, поработать, нужно...</td>\n",
       "      <td>10</td>\n",
       "      <td>[[вот, понимать, мочь, текст, пост], [земля, н...</td>\n",
       "    </tr>\n",
       "    <tr>\n",
       "      <th>10</th>\n",
       "      <td>2020-10-05 00:00:00</td>\n",
       "      <td>[уважаемый, коллега, кто, подобный, ситуация, ...</td>\n",
       "      <td>15</td>\n",
       "      <td>[[земля, поменять, адрес], [нужно, брать, расп...</td>\n",
       "    </tr>\n",
       "    <tr>\n",
       "      <th>13</th>\n",
       "      <td>2020-10-05 00:00:00</td>\n",
       "      <td>[прекрасно, удалять, твой, публикация, давать,...</td>\n",
       "      <td>70</td>\n",
       "      <td>[[добрянский, какой, ремонт, речь, вы, последн...</td>\n",
       "    </tr>\n",
       "    <tr>\n",
       "      <th>14</th>\n",
       "      <td>2020-10-05 00:00:00</td>\n",
       "      <td>[казаться, какой, отношение, сей, факт, иметь,...</td>\n",
       "      <td>3</td>\n",
       "      <td>[[макеева, сторона, деньги, выкуп, другой, жил...</td>\n",
       "    </tr>\n",
       "    <tr>\n",
       "      <th>20</th>\n",
       "      <td>2020-10-05 00:00:00</td>\n",
       "      <td>[https, www, anews, com, semyu, s, detmi]</td>\n",
       "      <td>60</td>\n",
       "      <td>[[давыдов, старый, закалка, п, не, смочь, дока...</td>\n",
       "    </tr>\n",
       "    <tr>\n",
       "      <th>26</th>\n",
       "      <td>2020-10-05 00:00:00</td>\n",
       "      <td>[коллега, все, здравствовать, кто, опыт, довер...</td>\n",
       "      <td>5</td>\n",
       "      <td>[[простигосподисбербанк, когда, сбер, становит...</td>\n",
       "    </tr>\n",
       "    <tr>\n",
       "      <th>35</th>\n",
       "      <td>2020-10-05 00:00:00</td>\n",
       "      <td>[просматривать, фото, квартира, как, думать]</td>\n",
       "      <td>10</td>\n",
       "      <td>[[кузнецов, взрослый, усыновлять, вообще, прив...</td>\n",
       "    </tr>\n",
       "  </tbody>\n",
       "</table>\n",
       "</div>"
      ],
      "text/plain": [
       "                   time                                               post  \\\n",
       "1   2020-10-05 00:00:00  [коллега, клиент, спрашивать, оплачивать, пров...   \n",
       "2   2020-10-05 00:00:00  [приплывать, сделка, цепь, нижний, просить, за...   \n",
       "3   2020-10-05 00:00:00  [коллега, добрый, день, нужный, помощь, нужный...   \n",
       "4   2020-10-05 00:00:00  [время, такой, приходить, покупатель, квартира...   \n",
       "5   2020-10-05 00:00:00  [добрый, утро, нбки, кто-то, быстро, сделать, ...   \n",
       "6   2020-10-05 00:00:00                            [коллега, добрый, утро]   \n",
       "7   2020-10-05 00:00:00       [что, коллега, это, реклама, один, квартира]   \n",
       "9   2020-10-05 00:00:00  [утро, позвонить, попросить, поработать, нужно...   \n",
       "10  2020-10-05 00:00:00  [уважаемый, коллега, кто, подобный, ситуация, ...   \n",
       "13  2020-10-05 00:00:00  [прекрасно, удалять, твой, публикация, давать,...   \n",
       "14  2020-10-05 00:00:00  [казаться, какой, отношение, сей, факт, иметь,...   \n",
       "20  2020-10-05 00:00:00          [https, www, anews, com, semyu, s, detmi]   \n",
       "26  2020-10-05 00:00:00  [коллега, все, здравствовать, кто, опыт, довер...   \n",
       "35  2020-10-05 00:00:00       [просматривать, фото, квартира, как, думать]   \n",
       "\n",
       "    number_comments                                            comment  \n",
       "1                 2  [[документ, регистрировать, регистратор], [ден...  \n",
       "2                 5  [[итакасоглашаться, оценщик, ссылка, присылать...  \n",
       "3                52  [[америка, работать], [наташа], [лурье], [вспо...  \n",
       "4                10  [[распашонка], [лукашевский], [банк], [быков],...  \n",
       "5                35  [[предлагать, выходить, собственник, обход, аг...  \n",
       "6                 6  [[давно, отказываться, завышение, ну, вариант,...  \n",
       "7                14  [[узнавать], [Shuk, завышение, договор, просит...  \n",
       "9                10  [[вот, понимать, мочь, текст, пост], [земля, н...  \n",
       "10               15  [[земля, поменять, адрес], [нужно, брать, расп...  \n",
       "13               70  [[добрянский, какой, ремонт, речь, вы, последн...  \n",
       "14                3  [[макеева, сторона, деньги, выкуп, другой, жил...  \n",
       "20               60  [[давыдов, старый, закалка, п, не, смочь, дока...  \n",
       "26                5  [[простигосподисбербанк, когда, сбер, становит...  \n",
       "35               10  [[кузнецов, взрослый, усыновлять, вообще, прив...  "
      ]
     },
     "execution_count": 92,
     "metadata": {},
     "output_type": "execute_result"
    }
   ],
   "source": [
    "df.iloc[np.delete(np.arange(len(df)), df_d.index),:]"
   ]
  },
  {
   "cell_type": "code",
   "execution_count": null,
   "metadata": {},
   "outputs": [],
   "source": []
  }
 ],
 "metadata": {
  "kernelspec": {
   "display_name": "Python 3",
   "language": "python",
   "name": "python3"
  },
  "language_info": {
   "codemirror_mode": {
    "name": "ipython",
    "version": 3
   },
   "file_extension": ".py",
   "mimetype": "text/x-python",
   "name": "python",
   "nbconvert_exporter": "python",
   "pygments_lexer": "ipython3",
   "version": "3.7.6"
  }
 },
 "nbformat": 4,
 "nbformat_minor": 4
}
