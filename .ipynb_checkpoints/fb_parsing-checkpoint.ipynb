{
 "cells": [
  {
   "cell_type": "code",
   "execution_count": 60,
   "metadata": {},
   "outputs": [],
   "source": [
    "import requests      # Библиотека для отправки запросов\n",
    "import numpy as np   # Библиотека для матриц, векторов и линала\n",
    "import pandas as pd  # Библиотека для табличек\n",
    "import time          # Библиотека для тайм-менеджмента\n",
    "from bs4 import BeautifulSoup\n",
    "import re\n",
    "from selenium import webdriver\n",
    "from selenium.webdriver.chrome.options import Options\n",
    "from fake_useragent import UserAgent\n",
    "from tqdm import tqdm\n",
    "from webdriver_manager.firefox import GeckoDriverManager\n",
    "from datetime import datetime\n",
    "from selenium.webdriver.common.by import By\n",
    "from sys import platform"
   ]
  },
  {
   "cell_type": "code",
   "execution_count": 2,
   "metadata": {},
   "outputs": [],
   "source": [
    "MonthDict={ \"января\" : 1,\n",
    "      \"февраля\": 2,\n",
    "       \"марта\": 3,\n",
    "       \"апреля\": 4,\n",
    "       \"мая\": 5,\n",
    "       \"июня\": 6,\n",
    "       \"июля\": 7,\n",
    "       \"августа\": 8,\n",
    "       \"сентября\": 9,\n",
    "       \"октября\": 10,\n",
    "       \"ноября\": 11,\n",
    "       \"декабря\": 12\n",
    "}"
   ]
  },
  {
   "cell_type": "code",
   "execution_count": 66,
   "metadata": {},
   "outputs": [
    {
     "data": {
      "text/plain": [
       "<Response [200]>"
      ]
     },
     "execution_count": 66,
     "metadata": {},
     "output_type": "execute_result"
    }
   ],
   "source": [
    "#обозначили сайт, проверили, чтобы 200 ок\n",
    "page_link = 'https://www.facebook.com/groups/realtor.russia'\n",
    "response = requests.get(page_link, headers={'User-Agent': UserAgent().chrome})\n",
    "response"
   ]
  },
  {
   "cell_type": "code",
   "execution_count": 67,
   "metadata": {},
   "outputs": [
    {
     "name": "stderr",
     "output_type": "stream",
     "text": [
      "[WDM] - Driver [/home/victor/.wdm/drivers/geckodriver/linux64/v0.27.0/geckodriver] found in cache\n"
     ]
    }
   ],
   "source": [
    "#две версии вызова робобраузера, для винды и для линукса. \n",
    "#PS. В винде указан путь, который верен только для моей локалки\n",
    "if 'win' in platform:\n",
    "    from selenium.webdriver.common.desired_capabilities import DesiredCapabilities\n",
    "\n",
    "    cap = DesiredCapabilities().FIREFOX\n",
    "    cap[\"marionette\"] = False\n",
    "    options = Options()\n",
    "    options.binary_location = \"C:\\Program Files (x86)\\Google\\Chrome\\Application\\chrome.exe\"\n",
    "    driver = webdriver.Chrome(chrome_options=options, executable_path=r\"C:\\Program Files (x86)\\Google\\Chrome\\chromedriver.exe\", )\n",
    "elif platform == 'linux':\n",
    "    driver = webdriver.Firefox(executable_path=GeckoDriverManager().install())\n",
    "    "
   ]
  },
  {
   "cell_type": "code",
   "execution_count": 68,
   "metadata": {},
   "outputs": [],
   "source": [
    "#вызов нужного сайта\n",
    "driver.get(page_link)"
   ]
  },
  {
   "cell_type": "code",
   "execution_count": 69,
   "metadata": {},
   "outputs": [],
   "source": [
    "#Количество скроллов вниз, чем больше, тем больше получим записей. Но дольше будет работать\n",
    "times_scroll = 100"
   ]
  },
  {
   "cell_type": "code",
   "execution_count": 70,
   "metadata": {},
   "outputs": [
    {
     "name": "stderr",
     "output_type": "stream",
     "text": [
      "100%|██████████| 100/100 [00:22<00:00,  4.50it/s]\n"
     ]
    }
   ],
   "source": [
    "#Цикл для повторения прокрутки\n",
    "for i in tqdm(range(times_scroll)):\n",
    "    driver.execute_script(\"window.scrollTo(0, document.body.scrollHeight);\")\n",
    "    if i%5==0: #Здесь каждую пятую прокрутку цикл засыпает на 1 секунду, чтобы страница прогрузилась\n",
    "               #Если убрать эту строчку, может не дорабатывать до конца и прогружать меньше\n",
    "        time.sleep(1)"
   ]
  },
  {
   "cell_type": "code",
   "execution_count": 104,
   "metadata": {},
   "outputs": [],
   "source": [
    "#Костыли, созданные, чтобы открыть все длинные посты. К сожалению к двум циклам пришлось прибегнуть, так как\n",
    "#часть кнопок не нажимаются с первого раза из-за того, что сайт недогрузился или не доскролился до нужной кнопки\n",
    "should_restart = True\n",
    "while should_restart:\n",
    "    should_restart = False\n",
    "    buttons = driver.find_elements_by_xpath(\"//div[contains(text(), 'Ещё')]\")\n",
    "    for i in range(len(buttons)):\n",
    "        try: \n",
    "            buttons[i].click()\n",
    "        except:\n",
    "            should_restart = True\n",
    "            break\n",
    "\n"
   ]
  },
  {
   "cell_type": "code",
   "execution_count": 105,
   "metadata": {},
   "outputs": [],
   "source": [
    "# Чтение HTML Страницы\n",
    "selen_page = driver.page_source\n",
    "soup = BeautifulSoup(selen_page,'html.parser')"
   ]
  },
  {
   "cell_type": "code",
   "execution_count": 110,
   "metadata": {},
   "outputs": [],
   "source": [
    "posts = (soup.findAll('div', attrs = {'class':\"kvgmc6g5 cxmmr5t8 oygrvhab hcukyx3x c1et5uql ii04i59q\"}))\n",
    "b = soup.findAll('span', attrs = {'class':\"gpro0wi8 j1lvzwm4 stjgntxs ni8dbmo4 q9uorilb\"})\n",
    "#текст постов и время размещения *не спрашивайте почему b*"
   ]
  },
  {
   "cell_type": "code",
   "execution_count": 111,
   "metadata": {
    "scrolled": true
   },
   "outputs": [],
   "source": [
    "#Загрузка сегодняшней даты в нужном формате\n",
    "day_td = str(datetime.now().day)\n",
    "day_ytd = str(datetime.now().day-1)\n",
    "month_td = list(MonthDict.keys())[list(MonthDict.values()).index(datetime.now().month)]\n",
    "year_td = str(datetime.now().year)\n",
    "date_td = day_td+month_td+year_td\n",
    "date_ytd = day_ytd+month_td+year_td\n",
    "#Куча ИФ циклов для чистки и преобразования данных о времени\n",
    "parsed_ls = []\n",
    "#Первый цикл, для создания листа, где не будет лишних знаков\n",
    "for i in range(len(b)):\n",
    "    parsed = (b[i].text.replace('=','').replace('·','').replace('\\xa0', ''))\n",
    "    parsed_ls.append(parsed)\n",
    "#Выкидывание ненужной информации и замена часов, минут и дней на дату\n",
    "for i in range(len(parsed_ls)):\n",
    "    parsed_ls[i] = parsed_ls[i].replace(' ', '')\n",
    "    parsed_ls[i] = parsed_ls[i].replace('г.Москва', '')\n",
    "    parsed_ls[i] = parsed_ls[i].replace('г.', '')\n",
    "    if 'ч.' in parsed_ls[i]:\n",
    "        parsed_ls[i] = date_td\n",
    "    if 'мин.' in parsed_ls[i]:\n",
    "        parsed_ls[i] = date_td\n",
    "    if 'Вчера' in parsed_ls[i]:\n",
    "        parsed_ls[i] = date_ytd\n",
    "#Перевод дат в формат д/м/г\n",
    "for i in range(len(parsed_ls)):    \n",
    "    if (parsed_ls[i][-3]==':')==True:\n",
    "        parsed_ls[i]= parsed_ls[i][:-6]+year_td\n",
    "    if parsed_ls[i][-4:-2]!='20':\n",
    "        parsed_ls[i] = parsed_ls[i]+parsed_ls[i-1][-4:]\n",
    "    if parsed_ls[i][:2].isnumeric():\n",
    "        month = str(MonthDict[parsed_ls[i][2:-4]])\n",
    "        date = (parsed_ls[i][:2])\n",
    "        year = (parsed_ls[i][-4:])\n",
    "        parsed_ls[i] = date+'/'+month+'/'+year\n",
    "    if parsed_ls[i][:2].isnumeric()==False:\n",
    "        month = str(MonthDict[parsed_ls[i][1:-4]])\n",
    "        date = (parsed_ls[i][:1])\n",
    "        year = (parsed_ls[i][-4:])\n",
    "        parsed_ls[i] = date+'/'+month+'/'+year"
   ]
  },
  {
   "cell_type": "code",
   "execution_count": 112,
   "metadata": {},
   "outputs": [],
   "source": [
    "#перевод дат в формат datetime, перевод листа с хтмл кодом в текстовый лист\n",
    "dt_ls = []\n",
    "for date in (parsed_ls):\n",
    "    dt_ls.append(datetime.strptime(date, '%d/%m/%Y'))\n",
    "for i in range(len(posts)):\n",
    "    posts[i] = posts[i].text"
   ]
  },
  {
   "cell_type": "code",
   "execution_count": 114,
   "metadata": {},
   "outputs": [],
   "source": [
    "#Создание датафрейма\n",
    "Dict = {'time': dt_ls[:len(posts)], 'post': posts}\n",
    "df = pd.DataFrame.from_dict(Dict)"
   ]
  },
  {
   "cell_type": "code",
   "execution_count": 115,
   "metadata": {},
   "outputs": [
    {
     "data": {
      "text/html": [
       "<div>\n",
       "<style scoped>\n",
       "    .dataframe tbody tr th:only-of-type {\n",
       "        vertical-align: middle;\n",
       "    }\n",
       "\n",
       "    .dataframe tbody tr th {\n",
       "        vertical-align: top;\n",
       "    }\n",
       "\n",
       "    .dataframe thead th {\n",
       "        text-align: right;\n",
       "    }\n",
       "</style>\n",
       "<table border=\"1\" class=\"dataframe\">\n",
       "  <thead>\n",
       "    <tr style=\"text-align: right;\">\n",
       "      <th></th>\n",
       "      <th>time</th>\n",
       "      <th>post</th>\n",
       "    </tr>\n",
       "  </thead>\n",
       "  <tbody>\n",
       "    <tr>\n",
       "      <th>0</th>\n",
       "      <td>2020-09-18</td>\n",
       "      <td>Коллеги, нужен Ваш совет. Квартира куплена на ...</td>\n",
       "    </tr>\n",
       "    <tr>\n",
       "      <th>1</th>\n",
       "      <td>2020-09-18</td>\n",
       "      <td>И снова про циан. А конкретно про отзывы. Есть...</td>\n",
       "    </tr>\n",
       "    <tr>\n",
       "      <th>2</th>\n",
       "      <td>2020-09-17</td>\n",
       "      <td>Коллеги, добрый день! Как известно, при раздел...</td>\n",
       "    </tr>\n",
       "    <tr>\n",
       "      <th>3</th>\n",
       "      <td>2020-09-18</td>\n",
       "      <td>Пожалуй начну вести такую рубрику #ЗаметкиРиэл...</td>\n",
       "    </tr>\n",
       "    <tr>\n",
       "      <th>4</th>\n",
       "      <td>2020-09-14</td>\n",
       "      <td>Коллеги, добрый день! Кто нибудь сталкивался с...</td>\n",
       "    </tr>\n",
       "    <tr>\n",
       "      <th>...</th>\n",
       "      <td>...</td>\n",
       "      <td>...</td>\n",
       "    </tr>\n",
       "    <tr>\n",
       "      <th>79</th>\n",
       "      <td>2020-09-16</td>\n",
       "      <td>Коллеги, после раскрытия аккредитва Сбера день...</td>\n",
       "    </tr>\n",
       "    <tr>\n",
       "      <th>80</th>\n",
       "      <td>2020-09-11</td>\n",
       "      <td>Друзья! Наша компания \" Итака- Недвижимость\" о...</td>\n",
       "    </tr>\n",
       "    <tr>\n",
       "      <th>81</th>\n",
       "      <td>2020-09-15</td>\n",
       "      <td>Как можно вообще осуждать какие-то этажи и вор...</td>\n",
       "    </tr>\n",
       "    <tr>\n",
       "      <th>82</th>\n",
       "      <td>2020-09-12</td>\n",
       "      <td>Коллеги, подскажите, какими бумагами вы \"обкла...</td>\n",
       "    </tr>\n",
       "    <tr>\n",
       "      <th>83</th>\n",
       "      <td>2020-09-12</td>\n",
       "      <td>ЧТО ТАКОЕ ИДЕАЛЬНАЯ ЦРМ ДЛЯ АГЕНТА ПО НЕДВИЖИМ...</td>\n",
       "    </tr>\n",
       "  </tbody>\n",
       "</table>\n",
       "<p>84 rows × 2 columns</p>\n",
       "</div>"
      ],
      "text/plain": [
       "         time                                               post\n",
       "0  2020-09-18  Коллеги, нужен Ваш совет. Квартира куплена на ...\n",
       "1  2020-09-18  И снова про циан. А конкретно про отзывы. Есть...\n",
       "2  2020-09-17  Коллеги, добрый день! Как известно, при раздел...\n",
       "3  2020-09-18  Пожалуй начну вести такую рубрику #ЗаметкиРиэл...\n",
       "4  2020-09-14  Коллеги, добрый день! Кто нибудь сталкивался с...\n",
       "..        ...                                                ...\n",
       "79 2020-09-16  Коллеги, после раскрытия аккредитва Сбера день...\n",
       "80 2020-09-11  Друзья! Наша компания \" Итака- Недвижимость\" о...\n",
       "81 2020-09-15  Как можно вообще осуждать какие-то этажи и вор...\n",
       "82 2020-09-12  Коллеги, подскажите, какими бумагами вы \"обкла...\n",
       "83 2020-09-12  ЧТО ТАКОЕ ИДЕАЛЬНАЯ ЦРМ ДЛЯ АГЕНТА ПО НЕДВИЖИМ...\n",
       "\n",
       "[84 rows x 2 columns]"
      ]
     },
     "execution_count": 115,
     "metadata": {},
     "output_type": "execute_result"
    }
   ],
   "source": [
    "df"
   ]
  }
 ],
 "metadata": {
  "kernelspec": {
   "display_name": "Python 3",
   "language": "python",
   "name": "python3"
  },
  "language_info": {
   "codemirror_mode": {
    "name": "ipython",
    "version": 3
   },
   "file_extension": ".py",
   "mimetype": "text/x-python",
   "name": "python",
   "nbconvert_exporter": "python",
   "pygments_lexer": "ipython3",
   "version": "3.7.6"
  }
 },
 "nbformat": 4,
 "nbformat_minor": 2
}
