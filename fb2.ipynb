{
 "cells": [
  {
   "cell_type": "code",
   "execution_count": 1,
   "metadata": {},
   "outputs": [
    {
     "name": "stderr",
     "output_type": "stream",
     "text": [
      "[nltk_data] Downloading package stopwords to\n",
      "[nltk_data]     C:\\Users\\Виктор\\AppData\\Roaming\\nltk_data...\n",
      "[nltk_data]   Unzipping corpora\\stopwords.zip.\n"
     ]
    },
    {
     "data": {
      "text/plain": [
       "True"
      ]
     },
     "execution_count": 1,
     "metadata": {},
     "output_type": "execute_result"
    }
   ],
   "source": [
    "import requests      # Библиотека для отправки запросов\n",
    "import numpy as np   # Библиотека для матриц, векторов и линала\n",
    "import pandas as pd  # Библиотека для табличек\n",
    "import time          # Библиотека для тайм-менеджмента\n",
    "from bs4 import BeautifulSoup\n",
    "import re\n",
    "from selenium import webdriver\n",
    "from selenium.webdriver.chrome.options import Options\n",
    "from fake_useragent import UserAgent\n",
    "from tqdm import tqdm\n",
    "from webdriver_manager.firefox import GeckoDriverManager\n",
    "from datetime import datetime\n",
    "from selenium.webdriver.common.by import By\n",
    "from sys import platform\n",
    "import nltk\n",
    "from nltk.tokenize import TweetTokenizer\n",
    "from nltk.tokenize.treebank import TreebankWordDetokenizer\n",
    "from nltk.corpus import stopwords\n",
    "from string import punctuation\n",
    "nltk.download(\"stopwords\")"
   ]
  },
  {
   "cell_type": "code",
   "execution_count": 2,
   "metadata": {},
   "outputs": [
    {
     "name": "stdout",
     "output_type": "stream",
     "text": [
      "win32\n"
     ]
    }
   ],
   "source": [
    "print(platform)"
   ]
  },
  {
   "cell_type": "markdown",
   "metadata": {},
   "source": [
    "!pip install bs4\n",
    "!pip install selenium\n",
    "!pip install fake-useragent\n",
    "!pip install webdriver-manager\n",
    "!pip install nltk"
   ]
  },
  {
   "cell_type": "code",
   "execution_count": 3,
   "metadata": {},
   "outputs": [],
   "source": [
    "MonthDict={ \"января\" : 1,\n",
    "      \"февраля\": 2,\n",
    "       \"марта\": 3,\n",
    "       \"апреля\": 4,\n",
    "       \"мая\": 5,\n",
    "       \"июня\": 6,\n",
    "       \"июля\": 7,\n",
    "       \"августа\": 8,\n",
    "       \"сентября\": 9,\n",
    "       \"октября\": 10,\n",
    "       \"ноября\": 11,\n",
    "       \"декабря\": 12\n",
    "}"
   ]
  },
  {
   "cell_type": "code",
   "execution_count": 4,
   "metadata": {},
   "outputs": [
    {
     "data": {
      "text/plain": [
       "<Response [200]>"
      ]
     },
     "execution_count": 4,
     "metadata": {},
     "output_type": "execute_result"
    }
   ],
   "source": [
    "#обозначили сайт, проверили, чтобы 200 ок\n",
    "page_link = 'https://www.facebook.com/groups/realtor.russia'\n",
    "response = requests.get(page_link, headers={'User-Agent': UserAgent().chrome})\n",
    "response"
   ]
  },
  {
   "cell_type": "code",
   "execution_count": 5,
   "metadata": {},
   "outputs": [
    {
     "name": "stderr",
     "output_type": "stream",
     "text": [
      "[WDM] - There is no [win64] geckodriver for browser  in cache\n",
      "[WDM] - Getting latest mozilla release info for v0.27.0\n",
      "[WDM] - Trying to download new driver from https://github.com/mozilla/geckodriver/releases/download/v0.27.0/geckodriver-v0.27.0-win64.zip\n",
      "[WDM] - Driver has been saved in cache [C:\\Users\\Виктор\\.wdm\\drivers\\geckodriver\\win64\\v0.27.0]\n"
     ]
    }
   ],
   "source": [
    "driver = webdriver.Firefox(executable_path=GeckoDriverManager().install())"
   ]
  },
  {
   "cell_type": "markdown",
   "metadata": {},
   "source": [
    "#две версии вызова робобраузера, для винды и для линукса. \n",
    "#PS. В винде указан путь, который верен только для моей локалки\n",
    "if 'win' in platform:\n",
    "    from selenium.webdriver.common.desired_capabilities import DesiredCapabilities\n",
    "\n",
    "    cap = DesiredCapabilities().FIREFOX\n",
    "    cap[\"marionette\"] = False\n",
    "    options = Options()\n",
    "    options.binary_location = \"C:\\Program Files (x86)\\Google\\Chrome\\Application\\chrome.exe\"\n",
    "    driver = webdriver.Chrome(chrome_options=options, executable_path=r\"C:\\Users\\matyukhinaa\\Downloads\\chromedriver_win32\\chromedriver.exe\", )\n",
    "elif platform == 'linux':\n",
    "    driver = webdriver.Firefox(executable_path=GeckoDriverManager().install())\n",
    "    "
   ]
  },
  {
   "cell_type": "code",
   "execution_count": 6,
   "metadata": {},
   "outputs": [],
   "source": [
    "#вызов нужного сайта\n",
    "driver.get(page_link)\n",
    "time.sleep(3)\n",
    "ok_button = driver.find_elements_by_xpath(\"//div[contains(text(), 'OK')]\")\n",
    "try:\n",
    "    ok_button[0].click()\n",
    "except:\n",
    "    pass"
   ]
  },
  {
   "cell_type": "code",
   "execution_count": 84,
   "metadata": {},
   "outputs": [],
   "source": [
    "#Количество скроллов вниз, чем больше, тем больше получим записей. Но дольше будет работать\n",
    "times_scroll = 5000"
   ]
  },
  {
   "cell_type": "code",
   "execution_count": 85,
   "metadata": {},
   "outputs": [
    {
     "name": "stderr",
     "output_type": "stream",
     "text": [
      "100%|██████████████████████████████████████████████████████████████████████████████| 5000/5000 [25:37<00:00,  3.25it/s]\n"
     ]
    }
   ],
   "source": [
    "#Цикл для повторения прокрутки\n",
    "for i in tqdm(range(times_scroll)):\n",
    "    driver.execute_script(\"window.scrollTo(0, document.body.scrollHeight);\")\n",
    "    if i%5==0: #Здесь каждую пятую прокрутку цикл засыпает на 1 секунду, чтобы страница прогрузилась\n",
    "               #Если убрать эту строчку, может не дорабатывать до конца и прогружать меньше\n",
    "        time.sleep(1)"
   ]
  },
  {
   "cell_type": "code",
   "execution_count": 86,
   "metadata": {},
   "outputs": [
    {
     "name": "stderr",
     "output_type": "stream",
     "text": [
      "100%|████████████████████████████████████████████████████████████████████████████████| 183/183 [01:59<00:00,  1.54it/s]\n",
      "100%|██████████████████████████████████████████████████████████████████████████████████| 62/62 [00:45<00:00,  1.36it/s]\n",
      "100%|██████████████████████████████████████████████████████████████████████████████████| 33/33 [00:27<00:00,  1.20it/s]\n"
     ]
    }
   ],
   "source": [
    "#Костыли для открытия комментов\n",
    "buttons = driver.find_elements_by_xpath(\"//div[contains(text(), 'Ещё')]\")\n",
    "for i in tqdm(range(len(buttons))):\n",
    "    try: \n",
    "        buttons[i].click()\n",
    "    except:\n",
    "        continue\n",
    "\n",
    "#Костыли, созданные, чтобы открыть все длинные посты. К сожалению к двум циклам пришлось прибегнуть, так как\n",
    "#часть кнопок не нажимаются с первого раза из-за того, что сайт недогрузился или не доскролился до нужной кнопки            \n",
    "for i in range(2):       \n",
    "    should_restart = True\n",
    "    while should_restart:\n",
    "        should_restart = False\n",
    "        buttons = driver.find_elements_by_xpath(\"//span[contains(text(), 'Показать ещё')]\")\n",
    "        for i in range(len(buttons)):\n",
    "            try: \n",
    "                buttons[i].click()\n",
    "            except:\n",
    "                should_restart = True\n",
    "                break\n",
    "\n",
    "buttons = driver.find_elements_by_xpath(\"//span[contains(text(), 'ответ')]\")\n",
    "for i in tqdm(range(len(buttons))):\n",
    "    try: \n",
    "        buttons[i].click()\n",
    "    except:\n",
    "        continue\n",
    "buttons = driver.find_elements_by_xpath(\"//span[contains(text(), 'ответов')]\")\n",
    "for i in tqdm(range(len(buttons))):\n",
    "    try: \n",
    "        buttons[i].click()\n",
    "    except:\n",
    "        continue"
   ]
  },
  {
   "cell_type": "code",
   "execution_count": 87,
   "metadata": {},
   "outputs": [],
   "source": [
    "# Чтение HTML Страницы\n",
    "selen_page = driver.page_source\n",
    "soup = BeautifulSoup(selen_page,'html.parser')"
   ]
  },
  {
   "cell_type": "code",
   "execution_count": 88,
   "metadata": {},
   "outputs": [],
   "source": [
    "posts = (soup.findAll('div', attrs = {'class':\"kvgmc6g5 cxmmr5t8 oygrvhab hcukyx3x c1et5uql ii04i59q\"}))\n",
    "b = soup.findAll('span', attrs = {'class':\"gpro0wi8 j1lvzwm4 stjgntxs ni8dbmo4 q9uorilb\"})\n",
    "#текст постов и время размещения *не спрашивайте почему b*"
   ]
  },
  {
   "cell_type": "code",
   "execution_count": 89,
   "metadata": {},
   "outputs": [],
   "source": [
    "#from datetime import timedelta\n",
    "import datetime\n",
    "import time"
   ]
  },
  {
   "cell_type": "code",
   "execution_count": 90,
   "metadata": {},
   "outputs": [
    {
     "data": {
      "text/plain": [
       "4"
      ]
     },
     "execution_count": 90,
     "metadata": {},
     "output_type": "execute_result"
    }
   ],
   "source": [
    "(datetime.datetime.now() - datetime.timedelta (days = 1)).day"
   ]
  },
  {
   "cell_type": "code",
   "execution_count": 91,
   "metadata": {
    "scrolled": true
   },
   "outputs": [
    {
     "name": "stderr",
     "output_type": "stream",
     "text": [
      "100%|█████████████████████████████████████████████████████████████████████████████| 280/280 [00:00<00:00, 14777.22it/s]\n",
      "100%|█████████████████████████████████████████████████████████████████████████████| 140/140 [00:00<00:00, 70147.24it/s]\n",
      "100%|████████████████████████████████████████████████████████████████████████████| 140/140 [00:00<00:00, 140210.74it/s]\n"
     ]
    }
   ],
   "source": [
    "#Загрузка сегодняшней даты в нужном формате\n",
    "day_td = str(datetime.datetime.now().day)\n",
    "day_ytd = str((datetime.datetime.now() - datetime.timedelta (days = 1)).day)\n",
    "month_td = list(MonthDict.keys())[list(MonthDict.values()).index(datetime.datetime.now().month)]\n",
    "year_td = str(datetime.datetime.now().year)\n",
    "date_td = day_td+month_td+year_td\n",
    "date_ytd = day_ytd+month_td+year_td\n",
    "#Куча ИФ циклов для чистки и преобразования данных о времени\n",
    "parsed_ls = []\n",
    "#Первый цикл, для создания листа, где не будет лишних знаков\n",
    "for i in tqdm(range(len(b))):\n",
    "    parsed = (b[i].text.replace('=','').replace('·','').replace('\\xa0', ''))\n",
    "    if b[i].text != '':\n",
    "        parsed_ls.append(parsed)\n",
    "#Выкидывание ненужной информации и замена часов, минут и дней на дату\n",
    "for i in tqdm(range(len(parsed_ls))):\n",
    "    parsed_ls[i] = parsed_ls[i].replace(' ', '')\n",
    "    parsed_ls[i] = parsed_ls[i].replace('г.Москва', '')\n",
    "    parsed_ls[i] = parsed_ls[i].replace('г.', '')\n",
    "    if 'ч.' in parsed_ls[i]:\n",
    "        parsed_ls[i] = date_td\n",
    "    if 'мин.' in parsed_ls[i]:\n",
    "        parsed_ls[i] = date_td\n",
    "    if 'Вчера' in parsed_ls[i]:\n",
    "        parsed_ls[i] = date_ytd\n",
    "#Перевод дат в формат д/м/г\n",
    "for i in tqdm(range(len(parsed_ls))):\n",
    "    if (parsed_ls[i][-3]==':')==True:\n",
    "        parsed_ls[i]= parsed_ls[i][:-6]+year_td\n",
    "    if parsed_ls[i][-4:-2]!='20':\n",
    "        parsed_ls[i] = parsed_ls[i]+parsed_ls[i-1][-4:]\n",
    "    if parsed_ls[i][:2].isnumeric():\n",
    "        month = str(MonthDict[parsed_ls[i][2:-4]])\n",
    "        date = (parsed_ls[i][:2])\n",
    "        year = (parsed_ls[i][-4:])\n",
    "        parsed_ls[i] = date+'/'+month+'/'+year\n",
    "    if parsed_ls[i][:2].isnumeric()==False:\n",
    "        month = str(MonthDict[parsed_ls[i][1:-4]])\n",
    "        date = (parsed_ls[i][:1])\n",
    "        year = (parsed_ls[i][-4:])\n",
    "        parsed_ls[i] = date+'/'+month+'/'+year"
   ]
  },
  {
   "cell_type": "code",
   "execution_count": 92,
   "metadata": {},
   "outputs": [],
   "source": [
    "#перевод дат в формат datetime, перевод листа с хтмл кодом в текстовый лист\n",
    "dt_ls = []\n",
    "for date in (parsed_ls):\n",
    "    dt_ls.append(datetime.datetime.strptime(date, '%d/%m/%Y'))\n",
    "for i in range(len(posts)):\n",
    "    posts[i] = posts[i].text"
   ]
  },
  {
   "cell_type": "code",
   "execution_count": 93,
   "metadata": {},
   "outputs": [],
   "source": [
    "#Создание датафрейма\n",
    "Dict = {'time': dt_ls[:len(posts)], 'post': posts}\n",
    "df = pd.DataFrame.from_dict(Dict)"
   ]
  },
  {
   "cell_type": "code",
   "execution_count": 94,
   "metadata": {},
   "outputs": [],
   "source": [
    "#считывание комментариев и количества комментариев под каждым постом\n",
    "comms = (soup.findAll('div', attrs = {'class':\"tw6a2znq sj5x9vvc d1544ag0 cxgpxx05\"}))\n",
    "comm_num_cl = 'd2edcug0 hpfvmrgz qv66sw1b c1et5uql gk29lw5a a8c37x1j keod5gw0 nxhoafnm aigsh9s9 d9wwppkn fe6kdd0r mau55g9w c8b282yb hrzyx87i jq4qci2q a3bd9o3v knj5qynh m9osqain'\n",
    "comm_num = (soup.findAll('span', attrs = {'class':\"d2edcug0 hpfvmrgz qv66sw1b c1et5uql rrkovp55 a8c37x1j keod5gw0 nxhoafnm aigsh9s9 d3f4x2em fe6kdd0r mau55g9w c8b282yb iv3no6db jq4qci2q a3bd9o3v knj5qynh m9osqain\"}))"
   ]
  },
  {
   "cell_type": "code",
   "execution_count": 95,
   "metadata": {},
   "outputs": [],
   "source": [
    "qqwee = 'd2edcug0 hpfvmrgz qv66sw1b c1et5uql rrkovp55 a8c37x1j keod5gw0 nxhoafnm aigsh9s9 d3f4x2em fe6kdd0r mau55g9w c8b282yb iv3no6db jq4qci2q a3bd9o3v knj5qynh m9osqain'"
   ]
  },
  {
   "cell_type": "code",
   "execution_count": 96,
   "metadata": {},
   "outputs": [
    {
     "name": "stderr",
     "output_type": "stream",
     "text": [
      "100%|█████████████████████████████████████████████████████████████████████████████| 144/144 [00:00<00:00, 28875.07it/s]\n"
     ]
    }
   ],
   "source": [
    "#выкидываем кол-во репостов\n",
    "comm_num_ls = []\n",
    "for i in tqdm(range(len(comm_num))):\n",
    "    if 'Комментарии' in comm_num[i].text:\n",
    "        comm_num_ls.append(int(comm_num[i].text.replace('Комментарии: ', '')))\n",
    "#почти всегда получается так, что посты без комментов технически сьедают комменты,\n",
    "#а нижние посты остаются без них. Добьем лист нулями. Общая картина текстов не теряется\n",
    "if len(comm_num_ls)<len(df):\n",
    "    for i in range(len(df)-len(comm_num_ls)):\n",
    "        comm_num_ls.append(0)"
   ]
  },
  {
   "cell_type": "code",
   "execution_count": 97,
   "metadata": {},
   "outputs": [],
   "source": [
    "#Добавляем колонку с кол-вом комментов\n",
    "df['number_comments'] = np.array(comm_num_ls[:len(df)])"
   ]
  },
  {
   "cell_type": "code",
   "execution_count": 98,
   "metadata": {},
   "outputs": [
    {
     "name": "stderr",
     "output_type": "stream",
     "text": [
      "100%|████████████████████████████████████████████████████████████████████████████| 2638/2638 [00:00<00:00, 3134.21it/s]\n"
     ]
    }
   ],
   "source": [
    "#токенизируем комменты, чтобы выкинуть мусор и убрать обращение по имени\n",
    "#шумовые слова выкидываю сразу, чтобы не засорять датасет\n",
    "tw = TweetTokenizer()\n",
    "det = TreebankWordDetokenizer()\n",
    "noise = stopwords.words('russian') + list(punctuation)\n",
    "upnoise = [letter.upper() for letter in noise]\n",
    "sum_noise = noise+upnoise+['.','»','«']\n",
    "for i in tqdm(range(len(comms))):\n",
    "    comms[i] = comms[i].text\n",
    "    tokenized_example = (tw.tokenize(comms[i])[2:])\n",
    "    #filtered_example = [word for word in tokenized_example if not word in noise]\n",
    "    comms[i] = det.detokenize(tokenized_example)"
   ]
  },
  {
   "cell_type": "code",
   "execution_count": 99,
   "metadata": {},
   "outputs": [
    {
     "name": "stderr",
     "output_type": "stream",
     "text": [
      "100%|██████████████████████████████████████████████████████████████████████████████| 112/112 [00:00<00:00, 7486.84it/s]\n"
     ]
    }
   ],
   "source": [
    "#разбиваем и клеим так, чтобы они были одним предложением. А также чтобы у каждого поста нужное кол-во\n",
    "comms_ls = []\n",
    "j = 0 \n",
    "for i in tqdm(range(len(df))):\n",
    "    comms_ls.append(comms[j:j+df.iloc[i,2]])\n",
    "    j+=df.iloc[i,2]\n",
    "\n",
    "#for i in range(len(comms_ls)):\n",
    " #   sentnc = ''\n",
    " #   for j in range(len(comms_ls[i])):\n",
    " #       sentnc += comms_ls[i][j]\n",
    "  #      sentnc += ' '\n",
    " #   comms_ls[i] = sentnc\n",
    "df['comment'] = comms_ls"
   ]
  },
  {
   "cell_type": "code",
   "execution_count": 102,
   "metadata": {},
   "outputs": [],
   "source": [
    "df.to_csv('fb.csv')"
   ]
  },
  {
   "cell_type": "code",
   "execution_count": 103,
   "metadata": {},
   "outputs": [
    {
     "data": {
      "text/html": [
       "<div>\n",
       "<style scoped>\n",
       "    .dataframe tbody tr th:only-of-type {\n",
       "        vertical-align: middle;\n",
       "    }\n",
       "\n",
       "    .dataframe tbody tr th {\n",
       "        vertical-align: top;\n",
       "    }\n",
       "\n",
       "    .dataframe thead th {\n",
       "        text-align: right;\n",
       "    }\n",
       "</style>\n",
       "<table border=\"1\" class=\"dataframe\">\n",
       "  <thead>\n",
       "    <tr style=\"text-align: right;\">\n",
       "      <th></th>\n",
       "      <th>time</th>\n",
       "      <th>post</th>\n",
       "      <th>number_comments</th>\n",
       "      <th>comment</th>\n",
       "    </tr>\n",
       "  </thead>\n",
       "  <tbody>\n",
       "    <tr>\n",
       "      <th>0</th>\n",
       "      <td>2020-10-01</td>\n",
       "      <td>Коллеги! Размещаю видео с судебным юристом Тат...</td>\n",
       "      <td>9</td>\n",
       "      <td>[, спасибо, из за очепятки я прочитала аккульт...</td>\n",
       "    </tr>\n",
       "    <tr>\n",
       "      <th>1</th>\n",
       "      <td>2020-10-05</td>\n",
       "      <td>Коллеги, клиент не спросив оплатил проверку 19...</td>\n",
       "      <td>2</td>\n",
       "      <td>[документы и регистрировать через регистратора...</td>\n",
       "    </tr>\n",
       "    <tr>\n",
       "      <th>2</th>\n",
       "      <td>2020-10-05</td>\n",
       "      <td>Приплыло. Сделка цепь. Нижний просит заложить ...</td>\n",
       "      <td>5</td>\n",
       "      <td>[ИтакаСоглашайтесь на их оценщика . Ссылку при...</td>\n",
       "    </tr>\n",
       "    <tr>\n",
       "      <th>3</th>\n",
       "      <td>2020-10-05</td>\n",
       "      <td>Коллеги, добрый день! Нужна помощь)) нужны фот...</td>\n",
       "      <td>52</td>\n",
       "      <td>[ты уже и в Америке работаешь, Наташ?, Лурье, ...</td>\n",
       "    </tr>\n",
       "    <tr>\n",
       "      <th>4</th>\n",
       "      <td>2020-10-05</td>\n",
       "      <td>Время сейчас такое, что иногда приходят два по...</td>\n",
       "      <td>10</td>\n",
       "      <td>[распашонка?, Лукашевская, да, банк?, Быкова, ...</td>\n",
       "    </tr>\n",
       "    <tr>\n",
       "      <th>...</th>\n",
       "      <td>...</td>\n",
       "      <td>...</td>\n",
       "      <td>...</td>\n",
       "      <td>...</td>\n",
       "    </tr>\n",
       "    <tr>\n",
       "      <th>107</th>\n",
       "      <td>2020-10-01</td>\n",
       "      <td>Уважаемые коллеги, поделитесь пожалуйста опыто...</td>\n",
       "      <td>0</td>\n",
       "      <td>[]</td>\n",
       "    </tr>\n",
       "    <tr>\n",
       "      <th>108</th>\n",
       "      <td>2020-10-01</td>\n",
       "      <td>Уважаемы, коллеги, кто как поступил бы в этой ...</td>\n",
       "      <td>0</td>\n",
       "      <td>[]</td>\n",
       "    </tr>\n",
       "    <tr>\n",
       "      <th>109</th>\n",
       "      <td>2019-10-31</td>\n",
       "      <td>Пост благодарности  Серебряков Андрей, или «не...</td>\n",
       "      <td>0</td>\n",
       "      <td>[]</td>\n",
       "    </tr>\n",
       "    <tr>\n",
       "      <th>110</th>\n",
       "      <td>2020-10-01</td>\n",
       "      <td>А нет ли среди вас волшебников, которые смогли...</td>\n",
       "      <td>0</td>\n",
       "      <td>[]</td>\n",
       "    </tr>\n",
       "    <tr>\n",
       "      <th>111</th>\n",
       "      <td>2020-09-29</td>\n",
       "      <td>Доброго дня всем! Поделитесь пожалуйста контак...</td>\n",
       "      <td>0</td>\n",
       "      <td>[]</td>\n",
       "    </tr>\n",
       "  </tbody>\n",
       "</table>\n",
       "<p>112 rows × 4 columns</p>\n",
       "</div>"
      ],
      "text/plain": [
       "          time                                               post  \\\n",
       "0   2020-10-01  Коллеги! Размещаю видео с судебным юристом Тат...   \n",
       "1   2020-10-05  Коллеги, клиент не спросив оплатил проверку 19...   \n",
       "2   2020-10-05  Приплыло. Сделка цепь. Нижний просит заложить ...   \n",
       "3   2020-10-05  Коллеги, добрый день! Нужна помощь)) нужны фот...   \n",
       "4   2020-10-05  Время сейчас такое, что иногда приходят два по...   \n",
       "..         ...                                                ...   \n",
       "107 2020-10-01  Уважаемые коллеги, поделитесь пожалуйста опыто...   \n",
       "108 2020-10-01  Уважаемы, коллеги, кто как поступил бы в этой ...   \n",
       "109 2019-10-31  Пост благодарности  Серебряков Андрей, или «не...   \n",
       "110 2020-10-01  А нет ли среди вас волшебников, которые смогли...   \n",
       "111 2020-09-29  Доброго дня всем! Поделитесь пожалуйста контак...   \n",
       "\n",
       "     number_comments                                            comment  \n",
       "0                  9  [, спасибо, из за очепятки я прочитала аккульт...  \n",
       "1                  2  [документы и регистрировать через регистратора...  \n",
       "2                  5  [ИтакаСоглашайтесь на их оценщика . Ссылку при...  \n",
       "3                 52  [ты уже и в Америке работаешь, Наташ?, Лурье, ...  \n",
       "4                 10  [распашонка?, Лукашевская, да, банк?, Быкова, ...  \n",
       "..               ...                                                ...  \n",
       "107                0                                                 []  \n",
       "108                0                                                 []  \n",
       "109                0                                                 []  \n",
       "110                0                                                 []  \n",
       "111                0                                                 []  \n",
       "\n",
       "[112 rows x 4 columns]"
      ]
     },
     "execution_count": 103,
     "metadata": {},
     "output_type": "execute_result"
    }
   ],
   "source": [
    "df"
   ]
  },
  {
   "cell_type": "code",
   "execution_count": 104,
   "metadata": {},
   "outputs": [],
   "source": [
    "df.to_excel('exfb.xlsx')"
   ]
  },
  {
   "cell_type": "code",
   "execution_count": null,
   "metadata": {},
   "outputs": [],
   "source": []
  }
 ],
 "metadata": {
  "kernelspec": {
   "display_name": "Python 3",
   "language": "python",
   "name": "python3"
  },
  "language_info": {
   "codemirror_mode": {
    "name": "ipython",
    "version": 3
   },
   "file_extension": ".py",
   "mimetype": "text/x-python",
   "name": "python",
   "nbconvert_exporter": "python",
   "pygments_lexer": "ipython3",
   "version": "3.7.6"
  }
 },
 "nbformat": 4,
 "nbformat_minor": 2
}
