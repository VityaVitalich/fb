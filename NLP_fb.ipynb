{
 "cells": [
  {
   "cell_type": "code",
   "execution_count": 1,
   "metadata": {},
   "outputs": [
    {
     "name": "stderr",
     "output_type": "stream",
     "text": [
      "[nltk_data] Downloading package stopwords to /home/victor/nltk_data...\n",
      "[nltk_data]   Package stopwords is already up-to-date!\n",
      "[nltk_data] Downloading package wordnet to /home/victor/nltk_data...\n",
      "[nltk_data]   Package wordnet is already up-to-date!\n"
     ]
    },
    {
     "data": {
      "text/html": [
       "        <script type=\"text/javascript\">\n",
       "        window.PlotlyConfig = {MathJaxConfig: 'local'};\n",
       "        if (window.MathJax) {MathJax.Hub.Config({SVG: {font: \"STIX-Web\"}});}\n",
       "        if (typeof require !== 'undefined') {\n",
       "        require.undef(\"plotly\");\n",
       "        requirejs.config({\n",
       "            paths: {\n",
       "                'plotly': ['https://cdn.plot.ly/plotly-latest.min']\n",
       "            }\n",
       "        });\n",
       "        require(['plotly'], function(Plotly) {\n",
       "            window._Plotly = Plotly;\n",
       "        });\n",
       "        }\n",
       "        </script>\n",
       "        "
      ]
     },
     "metadata": {},
     "output_type": "display_data"
    }
   ],
   "source": [
    "import nltk\n",
    "from nltk.tokenize import word_tokenize\n",
    "import numpy as np \n",
    "import pandas as pd\n",
    "import collections\n",
    "import matplotlib.pyplot as plt\n",
    "%matplotlib inline\n",
    "from nltk.tokenize import TweetTokenizer\n",
    "from nltk.tokenize.treebank import TreebankWordDetokenizer\n",
    "from nltk.corpus import stopwords\n",
    "from string import punctuation\n",
    "nltk.download(\"stopwords\")\n",
    "from tqdm import tqdm\n",
    "from nltk.stem import WordNetLemmatizer\n",
    "nltk.download(\"wordnet\")\n",
    "from pymystem3 import Mystem\n",
    "from datetime import datetime, timedelta\n",
    "import functools\n",
    "import operator\n",
    "import chart_studio.plotly as py\n",
    "#import plotly.graph_obs as go\n",
    "from plotly.offline import iplot\n",
    "import cufflinks as cf\n",
    "from nltk import ngrams\n",
    "import plotly.express as px\n",
    "from copy import deepcopy\n",
    "from sklearn.feature_extraction.text import TfidfVectorizer\n",
    "from sklearn.feature_extraction.text import CountVectorizer\n",
    "noise = stopwords.words('russian') + list(punctuation)\n",
    "upnoise = [letter.upper() for letter in noise]\n",
    "sum_noise = noise+upnoise+['.','»','«', 'Коллега', \"коллега\", \"это\", \"который\", \"свой\"]"
   ]
  },
  {
   "cell_type": "code",
   "execution_count": 2,
   "metadata": {},
   "outputs": [],
   "source": [
    "df = pd.read_csv(\"fb.csv\", index_col=0)"
   ]
  },
  {
   "cell_type": "code",
   "execution_count": 3,
   "metadata": {},
   "outputs": [
    {
     "data": {
      "text/html": [
       "<div>\n",
       "<style scoped>\n",
       "    .dataframe tbody tr th:only-of-type {\n",
       "        vertical-align: middle;\n",
       "    }\n",
       "\n",
       "    .dataframe tbody tr th {\n",
       "        vertical-align: top;\n",
       "    }\n",
       "\n",
       "    .dataframe thead th {\n",
       "        text-align: right;\n",
       "    }\n",
       "</style>\n",
       "<table border=\"1\" class=\"dataframe\">\n",
       "  <thead>\n",
       "    <tr style=\"text-align: right;\">\n",
       "      <th></th>\n",
       "      <th>time</th>\n",
       "      <th>post</th>\n",
       "      <th>number_comments</th>\n",
       "      <th>comment</th>\n",
       "    </tr>\n",
       "  </thead>\n",
       "  <tbody>\n",
       "    <tr>\n",
       "      <th>0</th>\n",
       "      <td>2020-10-01</td>\n",
       "      <td>Коллеги! Размещаю видео с судебным юристом Тат...</td>\n",
       "      <td>9</td>\n",
       "      <td>[', спасибо, из за очепятки я прочитала аккуль...</td>\n",
       "    </tr>\n",
       "    <tr>\n",
       "      <th>1</th>\n",
       "      <td>2020-10-05</td>\n",
       "      <td>Коллеги, клиент не спросив оплатил проверку 19...</td>\n",
       "      <td>2</td>\n",
       "      <td>['документы и регистрировать через регистратор...</td>\n",
       "    </tr>\n",
       "    <tr>\n",
       "      <th>2</th>\n",
       "      <td>2020-10-05</td>\n",
       "      <td>Приплыло. Сделка цепь. Нижний просит заложить ...</td>\n",
       "      <td>5</td>\n",
       "      <td>['ИтакаСоглашайтесь на их оценщика . Ссылку пр...</td>\n",
       "    </tr>\n",
       "    <tr>\n",
       "      <th>3</th>\n",
       "      <td>2020-10-05</td>\n",
       "      <td>Коллеги, добрый день! Нужна помощь)) нужны фот...</td>\n",
       "      <td>52</td>\n",
       "      <td>['ты уже и в Америке работаешь, Наташ?', 'Лурь...</td>\n",
       "    </tr>\n",
       "    <tr>\n",
       "      <th>4</th>\n",
       "      <td>2020-10-05</td>\n",
       "      <td>Время сейчас такое, что иногда приходят два по...</td>\n",
       "      <td>10</td>\n",
       "      <td>['распашонка?', 'Лукашевская, да', 'банк?', 'Б...</td>\n",
       "    </tr>\n",
       "    <tr>\n",
       "      <th>...</th>\n",
       "      <td>...</td>\n",
       "      <td>...</td>\n",
       "      <td>...</td>\n",
       "      <td>...</td>\n",
       "    </tr>\n",
       "    <tr>\n",
       "      <th>107</th>\n",
       "      <td>2020-10-01</td>\n",
       "      <td>Уважаемые коллеги, поделитесь пожалуйста опыто...</td>\n",
       "      <td>0</td>\n",
       "      <td>[]</td>\n",
       "    </tr>\n",
       "    <tr>\n",
       "      <th>108</th>\n",
       "      <td>2020-10-01</td>\n",
       "      <td>Уважаемы, коллеги, кто как поступил бы в этой ...</td>\n",
       "      <td>0</td>\n",
       "      <td>[]</td>\n",
       "    </tr>\n",
       "    <tr>\n",
       "      <th>109</th>\n",
       "      <td>2019-10-31</td>\n",
       "      <td>Пост благодарности  Серебряков Андрей, или «не...</td>\n",
       "      <td>0</td>\n",
       "      <td>[]</td>\n",
       "    </tr>\n",
       "    <tr>\n",
       "      <th>110</th>\n",
       "      <td>2020-10-01</td>\n",
       "      <td>А нет ли среди вас волшебников, которые смогли...</td>\n",
       "      <td>0</td>\n",
       "      <td>[]</td>\n",
       "    </tr>\n",
       "    <tr>\n",
       "      <th>111</th>\n",
       "      <td>2020-09-29</td>\n",
       "      <td>Доброго дня всем! Поделитесь пожалуйста контак...</td>\n",
       "      <td>0</td>\n",
       "      <td>[]</td>\n",
       "    </tr>\n",
       "  </tbody>\n",
       "</table>\n",
       "<p>112 rows × 4 columns</p>\n",
       "</div>"
      ],
      "text/plain": [
       "           time                                               post  \\\n",
       "0    2020-10-01  Коллеги! Размещаю видео с судебным юристом Тат...   \n",
       "1    2020-10-05  Коллеги, клиент не спросив оплатил проверку 19...   \n",
       "2    2020-10-05  Приплыло. Сделка цепь. Нижний просит заложить ...   \n",
       "3    2020-10-05  Коллеги, добрый день! Нужна помощь)) нужны фот...   \n",
       "4    2020-10-05  Время сейчас такое, что иногда приходят два по...   \n",
       "..          ...                                                ...   \n",
       "107  2020-10-01  Уважаемые коллеги, поделитесь пожалуйста опыто...   \n",
       "108  2020-10-01  Уважаемы, коллеги, кто как поступил бы в этой ...   \n",
       "109  2019-10-31  Пост благодарности  Серебряков Андрей, или «не...   \n",
       "110  2020-10-01  А нет ли среди вас волшебников, которые смогли...   \n",
       "111  2020-09-29  Доброго дня всем! Поделитесь пожалуйста контак...   \n",
       "\n",
       "     number_comments                                            comment  \n",
       "0                  9  [', спасибо, из за очепятки я прочитала аккуль...  \n",
       "1                  2  ['документы и регистрировать через регистратор...  \n",
       "2                  5  ['ИтакаСоглашайтесь на их оценщика . Ссылку пр...  \n",
       "3                 52  ['ты уже и в Америке работаешь, Наташ?', 'Лурь...  \n",
       "4                 10  ['распашонка?', 'Лукашевская, да', 'банк?', 'Б...  \n",
       "..               ...                                                ...  \n",
       "107                0                                                 []  \n",
       "108                0                                                 []  \n",
       "109                0                                                 []  \n",
       "110                0                                                 []  \n",
       "111                0                                                 []  \n",
       "\n",
       "[112 rows x 4 columns]"
      ]
     },
     "execution_count": 3,
     "metadata": {},
     "output_type": "execute_result"
    }
   ],
   "source": [
    "df"
   ]
  },
  {
   "cell_type": "code",
   "execution_count": 4,
   "metadata": {},
   "outputs": [
    {
     "data": {
      "text/html": [
       "<div>\n",
       "<style scoped>\n",
       "    .dataframe tbody tr th:only-of-type {\n",
       "        vertical-align: middle;\n",
       "    }\n",
       "\n",
       "    .dataframe tbody tr th {\n",
       "        vertical-align: top;\n",
       "    }\n",
       "\n",
       "    .dataframe thead th {\n",
       "        text-align: right;\n",
       "    }\n",
       "</style>\n",
       "<table border=\"1\" class=\"dataframe\">\n",
       "  <thead>\n",
       "    <tr style=\"text-align: right;\">\n",
       "      <th></th>\n",
       "      <th>time</th>\n",
       "      <th>post</th>\n",
       "      <th>number_comments</th>\n",
       "      <th>comment</th>\n",
       "    </tr>\n",
       "  </thead>\n",
       "  <tbody>\n",
       "    <tr>\n",
       "      <th>0</th>\n",
       "      <td>2020-10-01 00:00:00</td>\n",
       "      <td>[коллега, размещать, видео, судебный, юрист, т...</td>\n",
       "      <td>9</td>\n",
       "      <td>[[спасибо], [очепятка, прочитывать, аккультный...</td>\n",
       "    </tr>\n",
       "    <tr>\n",
       "      <th>1</th>\n",
       "      <td>2020-10-05 00:00:00</td>\n",
       "      <td>[коллега, клиент, спрашивать, оплачивать, пров...</td>\n",
       "      <td>2</td>\n",
       "      <td>[[документ, регистрировать, регистратор], [ден...</td>\n",
       "    </tr>\n",
       "    <tr>\n",
       "      <th>2</th>\n",
       "      <td>2020-10-05 00:00:00</td>\n",
       "      <td>[приплывать, сделка, цепь, нижний, просить, за...</td>\n",
       "      <td>5</td>\n",
       "      <td>[[итакасоглашаться, оценщик, ссылка, присылать...</td>\n",
       "    </tr>\n",
       "    <tr>\n",
       "      <th>3</th>\n",
       "      <td>2020-10-05 00:00:00</td>\n",
       "      <td>[коллега, добрый, день, нужный, помощь, нужный...</td>\n",
       "      <td>52</td>\n",
       "      <td>[[америка, работать], [наташа], [лурье], [вспо...</td>\n",
       "    </tr>\n",
       "    <tr>\n",
       "      <th>4</th>\n",
       "      <td>2020-10-05 00:00:00</td>\n",
       "      <td>[время, такой, приходить, покупатель, квартира...</td>\n",
       "      <td>10</td>\n",
       "      <td>[[распашонка], [лукашевский], [банк], [быков],...</td>\n",
       "    </tr>\n",
       "    <tr>\n",
       "      <th>...</th>\n",
       "      <td>...</td>\n",
       "      <td>...</td>\n",
       "      <td>...</td>\n",
       "      <td>...</td>\n",
       "    </tr>\n",
       "    <tr>\n",
       "      <th>107</th>\n",
       "      <td>2020-10-01 00:00:00</td>\n",
       "      <td>[уважаемый, коллега, поделиться, пожалуйста, о...</td>\n",
       "      <td>0</td>\n",
       "      <td>[]</td>\n",
       "    </tr>\n",
       "    <tr>\n",
       "      <th>108</th>\n",
       "      <td>2020-10-01 00:00:00</td>\n",
       "      <td>[уважаемый, коллега, поступать, ситуация, стоя...</td>\n",
       "      <td>0</td>\n",
       "      <td>[]</td>\n",
       "    </tr>\n",
       "    <tr>\n",
       "      <th>109</th>\n",
       "      <td>2019-10-31 00:00:00</td>\n",
       "      <td>[пост, благодарность, серебряков, андрей, имет...</td>\n",
       "      <td>0</td>\n",
       "      <td>[]</td>\n",
       "    </tr>\n",
       "    <tr>\n",
       "      <th>110</th>\n",
       "      <td>2020-10-01 00:00:00</td>\n",
       "      <td>[среди, волшебник, который, смочь, срочно, пре...</td>\n",
       "      <td>0</td>\n",
       "      <td>[]</td>\n",
       "    </tr>\n",
       "    <tr>\n",
       "      <th>111</th>\n",
       "      <td>2020-09-29 00:00:00</td>\n",
       "      <td>[добрый, день, все, поделиться, пожалуйста, ко...</td>\n",
       "      <td>0</td>\n",
       "      <td>[]</td>\n",
       "    </tr>\n",
       "  </tbody>\n",
       "</table>\n",
       "<p>112 rows × 4 columns</p>\n",
       "</div>"
      ],
      "text/plain": [
       "                    time                                               post  \\\n",
       "0    2020-10-01 00:00:00  [коллега, размещать, видео, судебный, юрист, т...   \n",
       "1    2020-10-05 00:00:00  [коллега, клиент, спрашивать, оплачивать, пров...   \n",
       "2    2020-10-05 00:00:00  [приплывать, сделка, цепь, нижний, просить, за...   \n",
       "3    2020-10-05 00:00:00  [коллега, добрый, день, нужный, помощь, нужный...   \n",
       "4    2020-10-05 00:00:00  [время, такой, приходить, покупатель, квартира...   \n",
       "..                   ...                                                ...   \n",
       "107  2020-10-01 00:00:00  [уважаемый, коллега, поделиться, пожалуйста, о...   \n",
       "108  2020-10-01 00:00:00  [уважаемый, коллега, поступать, ситуация, стоя...   \n",
       "109  2019-10-31 00:00:00  [пост, благодарность, серебряков, андрей, имет...   \n",
       "110  2020-10-01 00:00:00  [среди, волшебник, который, смочь, срочно, пре...   \n",
       "111  2020-09-29 00:00:00  [добрый, день, все, поделиться, пожалуйста, ко...   \n",
       "\n",
       "     number_comments                                            comment  \n",
       "0                  9  [[спасибо], [очепятка, прочитывать, аккультный...  \n",
       "1                  2  [[документ, регистрировать, регистратор], [ден...  \n",
       "2                  5  [[итакасоглашаться, оценщик, ссылка, присылать...  \n",
       "3                 52  [[америка, работать], [наташа], [лурье], [вспо...  \n",
       "4                 10  [[распашонка], [лукашевский], [банк], [быков],...  \n",
       "..               ...                                                ...  \n",
       "107                0                                                 []  \n",
       "108                0                                                 []  \n",
       "109                0                                                 []  \n",
       "110                0                                                 []  \n",
       "111                0                                                 []  \n",
       "\n",
       "[112 rows x 4 columns]"
      ]
     },
     "execution_count": 4,
     "metadata": {},
     "output_type": "execute_result"
    }
   ],
   "source": [
    "def tokeniz(df):\n",
    "        ##########TIME#######################\n",
    "    for i in range(len(df)):\n",
    "        df['time'][i] = datetime.strptime(df[\"time\"][i], '%Y-%m-%d')\n",
    "    #########COMMENTS#####################\n",
    "    for i in range(len(df)):\n",
    "        df[\"comment\"][i] = list(df[\"comment\"][i][2:-2].replace(\"'\", '').split(','))\n",
    "    tw = TweetTokenizer()\n",
    "    det = TreebankWordDetokenizer()\n",
    "    for i in (range(len(df))):\n",
    "        for j in range(len(df[\"comment\"][i])):\n",
    "            tokenized_example = (tw.tokenize(df[\"comment\"][i][j]))\n",
    "            filtered_example = [word for word in tokenized_example if not word in sum_noise]\n",
    "            df[\"comment\"][i][j] = det.detokenize(filtered_example)\n",
    "    mystem_analyzer = Mystem(entire_input=False)\n",
    "    for i in (range(len(df))):\n",
    "        df[\"comment\"][i] = [mystem_analyzer.lemmatize(w) for w in df[\"comment\"][i]]\n",
    "        df[\"comment\"][i] = list(filter(None, df[\"comment\"][i]))\n",
    "\n",
    "\n",
    "    ##########POSTS##############\n",
    "    for i in (range(len(df))):\n",
    "            tokenized_example = (tw.tokenize(df[\"post\"][i]))\n",
    "            filtered_example = [word for word in tokenized_example if not word in sum_noise]\n",
    "            df[\"post\"][i] = det.detokenize(filtered_example)\n",
    "    for i in (range(len(df))):\n",
    "        a = []\n",
    "        a.append(df['post'][i])\n",
    "        df[\"post\"][i] = a\n",
    "    for i in (range(len(df))):\n",
    "        df[\"post\"][i] = [mystem_analyzer.lemmatize(w) for w in df[\"post\"][i]][0]\n",
    "tokeniz(df)\n",
    "df"
   ]
  },
  {
   "cell_type": "code",
   "execution_count": 5,
   "metadata": {},
   "outputs": [],
   "source": [
    "def avg_datetime(series):\n",
    "    return (series - series.min()).mean() + series.min()\n"
   ]
  },
  {
   "cell_type": "code",
   "execution_count": 6,
   "metadata": {},
   "outputs": [],
   "source": [
    "class TextAnalyzer:\n",
    "    def __init__(self, df):\n",
    "        self.df = deepcopy(df)\n",
    "    def date_slice(self, start_date = None, end_date = None):\n",
    "        if start_date == None and end_date == None:\n",
    "                self.df1 = deepcopy(self.df)\n",
    "        \n",
    "        if (type(start_date) == list or type(end_date) == list):\n",
    "            if (not start_date == None ) and (not end_date==None):\n",
    "                start_date = datetime(start_date[2], start_date[1], start_date[0], 0, 0)\n",
    "                end_date = datetime(end_date[2], end_date[1], end_date[0], 0, 0)\n",
    "                self.df1 = self.df[self.df['time']<end_date]\n",
    "                self.df1 = self.df1[self.df1['time']>start_date]\n",
    "            elif (not start_date == None ) and (end_date==None):\n",
    "                start_date = datetime(start_date[2], start_date[1], start_date[0], 0, 0)\n",
    "                self.df1 = self.df[self.df['time']>start_date]\n",
    "            elif (start_date == None ) and (not end_date==None):\n",
    "                end_date = datetime(end_date[2], end_date[1], end_date[0], 0, 0)\n",
    "                self.df1 = self.df[self.df['time']<end_date]\n",
    "        elif (type(start_date) == datetime  and type(end_date) == datetime):\n",
    "            self.df1 = self.df[self.df['time']<end_date]\n",
    "            self.df1 = self.df1[self.df1['time']>=start_date]\n",
    "    def frequency(self,  numb, text_type, start_date = None, end_date = None, ngram = 1, draw=True, output=True):\n",
    "        #start&end date = [d, m ,y]\n",
    "        if ngram>1:\n",
    "            draw = False\n",
    "        self.numb = numb\n",
    "        self.wordcount = {}\n",
    "        self.text_type = text_type\n",
    "        self.draw = draw\n",
    "        #self.start_date = start_date\n",
    "        #self.end_date = end_date\n",
    "       \n",
    "        self.date_slice(start_date, end_date)\n",
    "        \n",
    "        if self.text_type == 'comment':\n",
    "            \n",
    "            self.df1.index = np.arange(len(self.df1))\n",
    "            if ngram>1:\n",
    "                for i in range(len(self.df1)):\n",
    "                    for j in range(len(self.df1['comment'][i])):\n",
    "                        self.df1['comment'][i][j] = list(ngrams(self.df1['comment'][i][j],ngram))\n",
    "            for i in range(len(self.df1)):\n",
    "                for j in range(len(self.df1['comment'][i])):\n",
    "                    for word in (self.df1['comment'][i][j]):\n",
    "                        if ngram==1:\n",
    "                            word = word.replace(\".\",\"\")\n",
    "                            word = word.replace(\",\",\"\")\n",
    "                            word = word.replace(\":\",\"\")\n",
    "                            word = word.replace(\"\\\"\",\"\")\n",
    "                            word = word.replace(\"!\",\"\")\n",
    "                            word = word.replace(\"â€œ\",\"\")\n",
    "                            word = word.replace(\"â€˜\",\"\")\n",
    "                            word = word.replace(\"*\",\"\")\n",
    "                            word = word.replace(\" \",\"\")\n",
    "                        if word not in sum_noise:\n",
    "                            if word not in self.wordcount.keys():\n",
    "                                self.wordcount[word] = 1\n",
    "                            else:\n",
    "                                self.wordcount[word] += 1\n",
    "        if self.text_type == 'post':\n",
    "            self.df1.index = np.arange(len(self.df1))\n",
    "            if ngram>1:\n",
    "                for i in range(len(self.df1)):\n",
    "                    self.df1['post'][i] = list(ngrams(self.df1['post'][i],ngram))\n",
    "            for i in range(len(self.df1)):   \n",
    "                for word in self.df1['post'][i]:\n",
    "                    if ngram==1:\n",
    "                        word = word.replace(\".\",\"\")\n",
    "                        word = word.replace(\",\",\"\")\n",
    "                        word = word.replace(\":\",\"\")\n",
    "                        word = word.replace(\"\\\"\",\"\")\n",
    "                        word = word.replace(\"!\",\"\")\n",
    "                        word = word.replace(\"â€œ\",\"\")\n",
    "                        word = word.replace(\"â€˜\",\"\")\n",
    "                        word = word.replace(\"*\",\"\")\n",
    "                        word = word.replace(\" \",\"\")\n",
    "                    if word not in sum_noise:\n",
    "                        if word not in self.wordcount.keys():\n",
    "                            self.wordcount[word] = 1\n",
    "                        else:\n",
    "                            self.wordcount[word] += 1\n",
    "        self.word_counter = collections.Counter(self.wordcount)\n",
    "        if output:\n",
    "            print(\"The {} most common words are as follows\\n\".format(self.numb))\n",
    "            for word, count in self.word_counter.most_common(self.numb):\n",
    "                print(word, \": \", count)\n",
    "        if self.draw:\n",
    "            lst = self.word_counter.most_common(self.numb)\n",
    "            df_cnt = pd.DataFrame(lst, columns = ['Word', 'Count'])\n",
    "            df_cnt.plot.bar(x='Word',y='Count')\n",
    "        if ngram>1:\n",
    "            global df \n",
    "            df = pd.read_csv(\"fb.csv\", index_col=0)\n",
    "            tokeniz(df)\n",
    "            self.df = df\n",
    "    def date_top(self, text_type, start_date_1 = None, end_date_1 = None, draw = False):\n",
    "        if start_date_1 == None and end_date_1 == None:\n",
    "            self.df1 = self.df\n",
    "        elif (not start_date_1 == None ) and (not end_date_1==None):\n",
    "            start_date_1 = datetime(start_date_1[2], start_date_1[1], start_date_1[0], 0, 0)\n",
    "            end_date_1 = datetime(end_date_1[2], end_date_1[1], end_date_1[0], 0, 0)\n",
    "            self.df1 = self.df[self.df['time']<end_date_1]\n",
    "            self.df1 = self.df1[self.df1['time']>=start_date_1]\n",
    "        elif (not start_date_1 == None ) and (end_date_1==None):\n",
    "            start_date_1 = datetime(start_date_1[2], start_date_1[1], start_date_1[0], 0, 0)\n",
    "            self.df1 = self.df[self.df['time']>=start_date_1]\n",
    "        elif (start_date_1 == None ) and (not end_date_1==None):\n",
    "            end_date_1 = datetime(end_date_1[2], end_date_1[1], end_date_1[0], 0, 0)\n",
    "            self.df1 = self.df[self.df['time']<end_date_1]\n",
    "            \n",
    "        self.dates = np.sort(self.df1['time'].unique())\n",
    "        self.top_words = []\n",
    "        for i in range(len(self.dates)):\n",
    "            self.frequency(1, text_type, start_date = self.dates[i], end_date = self.dates[i]+timedelta(days=1), draw = draw, output=False)\n",
    "            #self.top_words.append(self.word_counter.most_common(1)[0][0])\n",
    "            if not len(self.word_counter.most_common(1)) == 0:\n",
    "                print(self.word_counter.most_common(1)[0][0], self.dates[i].date(), '\\n')\n",
    "            else:\n",
    "                print('no comments', self.dates[i].date(), '\\n')\n",
    "    def word_in_time(self, word):\n",
    "        self.word = word\n",
    "        self.dates = np.sort(self.df['time'].unique())\n",
    "        self.wrd_cnt = []\n",
    "        for i in range(len(self.dates)):\n",
    "            self.count = 0\n",
    "            self.dfwrd = df[df['time'] == self.dates[i]]\n",
    "            self.dfwrd.index = np.arange(len(self.dfwrd))\n",
    "            for j in range(len(self.dfwrd)):\n",
    "                for word1 in self.dfwrd['post'][j]:\n",
    "                    if word1 == self.word:\n",
    "                        self.count +=1\n",
    "                for comm in self.dfwrd['comment'][j]:\n",
    "                    for word2 in comm:\n",
    "                        if word2 == self.word:\n",
    "                            self.count +=1\n",
    "            self.wrd_cnt.append(self.count)\n",
    "        self.plots = pd.DataFrame(self.wrd_cnt)\n",
    "        self.plots['date'] = self.dates\n",
    "        f = plt.figure(figsize=(19, 15))\n",
    "        fig = px.line(self.plots, x='date', y = 0)\n",
    "        fig.update_xaxes(\n",
    "            rangeslider_visible=True,\n",
    "            rangeselector=dict(\n",
    "                buttons=list([\n",
    "                    dict(count=1, label=\"1m\", step=\"month\", stepmode=\"backward\"),\n",
    "                    dict(count=6, label=\"6m\", step=\"month\", stepmode=\"backward\"),\n",
    "                    dict(count=1, label=\"YTD\", step=\"year\", stepmode=\"todate\"),\n",
    "                    dict(count=1, label=\"1y\", step=\"year\", stepmode=\"backward\"),\n",
    "                    dict(step=\"all\")\n",
    "                ])\n",
    "            )\n",
    "        )\n",
    "        fig.show()\n",
    "        \n",
    "    def date_unique(self, nmb, start_date = None, end_date = None):\n",
    "        self.date_slice(start_date, end_date)\n",
    "        self.df1_nd = deepcopy(self.df.iloc[np.delete(np.arange(len(self.df)), self.df1.index),:])\n",
    "        self.df1.index = np.arange(len(self.df1))\n",
    "        self.nmb = nmb\n",
    "        self.d = ''\n",
    "        for i in range(len(self.df1)):\n",
    "            self.d += ' ' + det.detokenize(self.df1['post'][i])\n",
    "        for i in range(len(self.df1)):\n",
    "            for j in range(len(self.df1['comment'][i])):\n",
    "                self.d += ' ' + det.detokenize(self.df1['comment'][i][j])\n",
    "        self.df1_nd.index = np.arange(len(self.df1_nd))\n",
    "        self.nd = ''\n",
    "        for i in range(len(self.df1_nd)):\n",
    "            self.nd += ' ' + det.detokenize(self.df1_nd['post'][i])\n",
    "        for i in range(len(self.df1_nd)):\n",
    "            for j in range(len(self.df1_nd['comment'][i])):\n",
    "                self.nd += ' ' + det.detokenize(self.df1_nd['comment'][i][j])\n",
    "        self.ls_dt = [self.d, self.nd]\n",
    "        vectorizer = TfidfVectorizer()\n",
    "        self.X = vectorizer.fit_transform(self.ls_dt)\n",
    "        self.tt = pd.DataFrame(self.X.toarray(), columns=vectorizer.get_feature_names())\n",
    "        self.dick = dict(zip(self.tt.columns, self.tt.loc[0]))\n",
    "        self.utp = sorted(self.dick, key=self.dick.get, reverse=True)\n",
    "        for i in range(10):\n",
    "            print('{}:'.format(i+1)+' '+self.utp[i])"
   ]
  },
  {
   "cell_type": "code",
   "execution_count": 139,
   "metadata": {},
   "outputs": [],
   "source": [
    "test = TextAnalyzer(df)"
   ]
  },
  {
   "cell_type": "code",
   "execution_count": 140,
   "metadata": {},
   "outputs": [
    {
     "name": "stdout",
     "output_type": "stream",
     "text": [
      "The 10 most common words are as follows\n",
      "\n",
      "квартира :  268\n",
      "сделка :  164\n",
      "право :  149\n",
      "ребенок :  142\n",
      "клиент :  124\n",
      "год :  121\n",
      "мочь :  114\n",
      "покупатель :  113\n",
      "человек :  107\n",
      "продавец :  92\n"
     ]
    },
    {
     "data": {
      "image/png": "[encoded data removed]",
      "text/plain": [
       "<Figure size 432x288 with 1 Axes>"
      ]
     },
     "metadata": {
      "needs_background": "light"
     },
     "output_type": "display_data"
    }
   ],
   "source": [
    "test.frequency(10, 'comment', start_date=[28,9,2020])"
   ]
  },
  {
   "cell_type": "code",
   "execution_count": 142,
   "metadata": {},
   "outputs": [
    {
     "name": "stdout",
     "output_type": "stream",
     "text": [
      "1: такой\n",
      "2: квартира\n",
      "3: сделка\n",
      "4: клиент\n",
      "5: вы\n",
      "6: покупатель\n",
      "7: мочь\n",
      "8: другой\n",
      "9: собственник\n",
      "10: человек\n"
     ]
    }
   ],
   "source": [
    "test.date_unique(5, start_date=[3,10,2020])"
   ]
  },
  {
   "cell_type": "code",
   "execution_count": 110,
   "metadata": {},
   "outputs": [
    {
     "name": "stdout",
     "output_type": "stream",
     "text": [
      "андрей 2019-10-31 \n",
      "\n",
      "хороший 2020-01-10 \n",
      "\n",
      "уважаемый 2020-08-25 \n",
      "\n",
      "сегодня 2020-08-31 \n",
      "\n",
      "задаток 2020-09-18 \n",
      "\n",
      "⠀ 2020-09-21 \n",
      "\n",
      "завещание 2020-09-23 \n",
      "\n",
      "добрый 2020-09-24 \n",
      "\n",
      "бороться 2020-09-26 \n",
      "\n",
      "продавать 2020-09-28 \n",
      "\n",
      "друг 2020-09-29 \n",
      "\n",
      "сказать 2020-09-30 \n",
      "\n",
      "квартира 2020-10-01 \n",
      "\n",
      "сделка 2020-10-02 \n",
      "\n",
      "шуба 2020-10-03 \n",
      "\n",
      "дом 2020-10-04 \n",
      "\n",
      "квартира 2020-10-05 \n",
      "\n"
     ]
    }
   ],
   "source": [
    "test.date_top('post')\n",
    "#next to 1 word"
   ]
  },
  {
   "cell_type": "code",
   "execution_count": 28,
   "metadata": {},
   "outputs": [
    {
     "data": {
      "text/plain": [
       "datetime.date(2020, 1, 10)"
      ]
     },
     "execution_count": 28,
     "metadata": {},
     "output_type": "execute_result"
    }
   ],
   "source": [
    "test.dates[1].date()"
   ]
  },
  {
   "cell_type": "code",
   "execution_count": 117,
   "metadata": {},
   "outputs": [
    {
     "data": {
      "application/vnd.plotly.v1+json": {
       "config": {
        "plotlyServerURL": "https://plot.ly"
       },
       "data": [
        {
         "hovertemplate": "date=%{x}<br>0=%{y}<extra></extra>",
         "legendgroup": "",
         "line": {
          "color": "#636efa",
          "dash": "solid"
         },
         "mode": "lines",
         "name": "",
         "orientation": "v",
         "showlegend": false,
         "type": "scatter",
         "x": [
          "2019-10-31T00:00:00",
          "2020-01-10T00:00:00",
          "2020-08-25T00:00:00",
          "2020-08-31T00:00:00",
          "2020-09-18T00:00:00",
          "2020-09-21T00:00:00",
          "2020-09-23T00:00:00",
          "2020-09-24T00:00:00",
          "2020-09-26T00:00:00",
          "2020-09-28T00:00:00",
          "2020-09-29T00:00:00",
          "2020-09-30T00:00:00",
          "2020-10-01T00:00:00",
          "2020-10-02T00:00:00",
          "2020-10-03T00:00:00",
          "2020-10-04T00:00:00",
          "2020-10-05T00:00:00"
         ],
         "xaxis": "x",
         "y": [
          0,
          0,
          0,
          1,
          1,
          0,
          0,
          0,
          0,
          0,
          0,
          1,
          7,
          6,
          0,
          2,
          4
         ],
         "yaxis": "y"
        }
       ],
       "layout": {
        "legend": {
         "tracegroupgap": 0
        },
        "margin": {
         "t": 60
        },
        "template": {
         "data": {
          "bar": [
           {
            "error_x": {
             "color": "#2a3f5f"
            },
            "error_y": {
             "color": "#2a3f5f"
            },
            "marker": {
             "line": {
              "color": "#E5ECF6",
              "width": 0.5
             }
            },
            "type": "bar"
           }
          ],
          "barpolar": [
           {
            "marker": {
             "line": {
              "color": "#E5ECF6",
              "width": 0.5
             }
            },
            "type": "barpolar"
           }
          ],
          "carpet": [
           {
            "aaxis": {
             "endlinecolor": "#2a3f5f",
             "gridcolor": "white",
             "linecolor": "white",
             "minorgridcolor": "white",
             "startlinecolor": "#2a3f5f"
            },
            "baxis": {
             "endlinecolor": "#2a3f5f",
             "gridcolor": "white",
             "linecolor": "white",
             "minorgridcolor": "white",
             "startlinecolor": "#2a3f5f"
            },
            "type": "carpet"
           }
          ],
          "choropleth": [
           {
            "colorbar": {
             "outlinewidth": 0,
             "ticks": ""
            },
            "type": "choropleth"
           }
          ],
          "contour": [
           {
            "colorbar": {
             "outlinewidth": 0,
             "ticks": ""
            },
            "colorscale": [
             [
              0,
              "#0d0887"
             ],
             [
              0.1111111111111111,
              "#46039f"
             ],
             [
              0.2222222222222222,
              "#7201a8"
             ],
             [
              0.3333333333333333,
              "#9c179e"
             ],
             [
              0.4444444444444444,
              "#bd3786"
             ],
             [
              0.5555555555555556,
              "#d8576b"
             ],
             [
              0.6666666666666666,
              "#ed7953"
             ],
             [
              0.7777777777777778,
              "#fb9f3a"
             ],
             [
              0.8888888888888888,
              "#fdca26"
             ],
             [
              1,
              "#f0f921"
             ]
            ],
            "type": "contour"
           }
          ],
          "contourcarpet": [
           {
            "colorbar": {
             "outlinewidth": 0,
             "ticks": ""
            },
            "type": "contourcarpet"
           }
          ],
          "heatmap": [
           {
            "colorbar": {
             "outlinewidth": 0,
             "ticks": ""
            },
            "colorscale": [
             [
              0,
              "#0d0887"
             ],
             [
              0.1111111111111111,
              "#46039f"
             ],
             [
              0.2222222222222222,
              "#7201a8"
             ],
             [
              0.3333333333333333,
              "#9c179e"
             ],
             [
              0.4444444444444444,
              "#bd3786"
             ],
             [
              0.5555555555555556,
              "#d8576b"
             ],
             [
              0.6666666666666666,
              "#ed7953"
             ],
             [
              0.7777777777777778,
              "#fb9f3a"
             ],
             [
              0.8888888888888888,
              "#fdca26"
             ],
             [
              1,
              "#f0f921"
             ]
            ],
            "type": "heatmap"
           }
          ],
          "heatmapgl": [
           {
            "colorbar": {
             "outlinewidth": 0,
             "ticks": ""
            },
            "colorscale": [
             [
              0,
              "#0d0887"
             ],
             [
              0.1111111111111111,
              "#46039f"
             ],
             [
              0.2222222222222222,
              "#7201a8"
             ],
             [
              0.3333333333333333,
              "#9c179e"
             ],
             [
              0.4444444444444444,
              "#bd3786"
             ],
             [
              0.5555555555555556,
              "#d8576b"
             ],
             [
              0.6666666666666666,
              "#ed7953"
             ],
             [
              0.7777777777777778,
              "#fb9f3a"
             ],
             [
              0.8888888888888888,
              "#fdca26"
             ],
             [
              1,
              "#f0f921"
             ]
            ],
            "type": "heatmapgl"
           }
          ],
          "histogram": [
           {
            "marker": {
             "colorbar": {
              "outlinewidth": 0,
              "ticks": ""
             }
            },
            "type": "histogram"
           }
          ],
          "histogram2d": [
           {
            "colorbar": {
             "outlinewidth": 0,
             "ticks": ""
            },
            "colorscale": [
             [
              0,
              "#0d0887"
             ],
             [
              0.1111111111111111,
              "#46039f"
             ],
             [
              0.2222222222222222,
              "#7201a8"
             ],
             [
              0.3333333333333333,
              "#9c179e"
             ],
             [
              0.4444444444444444,
              "#bd3786"
             ],
             [
              0.5555555555555556,
              "#d8576b"
             ],
             [
              0.6666666666666666,
              "#ed7953"
             ],
             [
              0.7777777777777778,
              "#fb9f3a"
             ],
             [
              0.8888888888888888,
              "#fdca26"
             ],
             [
              1,
              "#f0f921"
             ]
            ],
            "type": "histogram2d"
           }
          ],
          "histogram2dcontour": [
           {
            "colorbar": {
             "outlinewidth": 0,
             "ticks": ""
            },
            "colorscale": [
             [
              0,
              "#0d0887"
             ],
             [
              0.1111111111111111,
              "#46039f"
             ],
             [
              0.2222222222222222,
              "#7201a8"
             ],
             [
              0.3333333333333333,
              "#9c179e"
             ],
             [
              0.4444444444444444,
              "#bd3786"
             ],
             [
              0.5555555555555556,
              "#d8576b"
             ],
             [
              0.6666666666666666,
              "#ed7953"
             ],
             [
              0.7777777777777778,
              "#fb9f3a"
             ],
             [
              0.8888888888888888,
              "#fdca26"
             ],
             [
              1,
              "#f0f921"
             ]
            ],
            "type": "histogram2dcontour"
           }
          ],
          "mesh3d": [
           {
            "colorbar": {
             "outlinewidth": 0,
             "ticks": ""
            },
            "type": "mesh3d"
           }
          ],
          "parcoords": [
           {
            "line": {
             "colorbar": {
              "outlinewidth": 0,
              "ticks": ""
             }
            },
            "type": "parcoords"
           }
          ],
          "pie": [
           {
            "automargin": true,
            "type": "pie"
           }
          ],
          "scatter": [
           {
            "marker": {
             "colorbar": {
              "outlinewidth": 0,
              "ticks": ""
             }
            },
            "type": "scatter"
           }
          ],
          "scatter3d": [
           {
            "line": {
             "colorbar": {
              "outlinewidth": 0,
              "ticks": ""
             }
            },
            "marker": {
             "colorbar": {
              "outlinewidth": 0,
              "ticks": ""
             }
            },
            "type": "scatter3d"
           }
          ],
          "scattercarpet": [
           {
            "marker": {
             "colorbar": {
              "outlinewidth": 0,
              "ticks": ""
             }
            },
            "type": "scattercarpet"
           }
          ],
          "scattergeo": [
           {
            "marker": {
             "colorbar": {
              "outlinewidth": 0,
              "ticks": ""
             }
            },
            "type": "scattergeo"
           }
          ],
          "scattergl": [
           {
            "marker": {
             "colorbar": {
              "outlinewidth": 0,
              "ticks": ""
             }
            },
            "type": "scattergl"
           }
          ],
          "scattermapbox": [
           {
            "marker": {
             "colorbar": {
              "outlinewidth": 0,
              "ticks": ""
             }
            },
            "type": "scattermapbox"
           }
          ],
          "scatterpolar": [
           {
            "marker": {
             "colorbar": {
              "outlinewidth": 0,
              "ticks": ""
             }
            },
            "type": "scatterpolar"
           }
          ],
          "scatterpolargl": [
           {
            "marker": {
             "colorbar": {
              "outlinewidth": 0,
              "ticks": ""
             }
            },
            "type": "scatterpolargl"
           }
          ],
          "scatterternary": [
           {
            "marker": {
             "colorbar": {
              "outlinewidth": 0,
              "ticks": ""
             }
            },
            "type": "scatterternary"
           }
          ],
          "surface": [
           {
            "colorbar": {
             "outlinewidth": 0,
             "ticks": ""
            },
            "colorscale": [
             [
              0,
              "#0d0887"
             ],
             [
              0.1111111111111111,
              "#46039f"
             ],
             [
              0.2222222222222222,
              "#7201a8"
             ],
             [
              0.3333333333333333,
              "#9c179e"
             ],
             [
              0.4444444444444444,
              "#bd3786"
             ],
             [
              0.5555555555555556,
              "#d8576b"
             ],
             [
              0.6666666666666666,
              "#ed7953"
             ],
             [
              0.7777777777777778,
              "#fb9f3a"
             ],
             [
              0.8888888888888888,
              "#fdca26"
             ],
             [
              1,
              "#f0f921"
             ]
            ],
            "type": "surface"
           }
          ],
          "table": [
           {
            "cells": {
             "fill": {
              "color": "#EBF0F8"
             },
             "line": {
              "color": "white"
             }
            },
            "header": {
             "fill": {
              "color": "#C8D4E3"
             },
             "line": {
              "color": "white"
             }
            },
            "type": "table"
           }
          ]
         },
         "layout": {
          "annotationdefaults": {
           "arrowcolor": "#2a3f5f",
           "arrowhead": 0,
           "arrowwidth": 1
          },
          "coloraxis": {
           "colorbar": {
            "outlinewidth": 0,
            "ticks": ""
           }
          },
          "colorscale": {
           "diverging": [
            [
             0,
             "#8e0152"
            ],
            [
             0.1,
             "#c51b7d"
            ],
            [
             0.2,
             "#de77ae"
            ],
            [
             0.3,
             "#f1b6da"
            ],
            [
             0.4,
             "#fde0ef"
            ],
            [
             0.5,
             "#f7f7f7"
            ],
            [
             0.6,
             "#e6f5d0"
            ],
            [
             0.7,
             "#b8e186"
            ],
            [
             0.8,
             "#7fbc41"
            ],
            [
             0.9,
             "#4d9221"
            ],
            [
             1,
             "#276419"
            ]
           ],
           "sequential": [
            [
             0,
             "#0d0887"
            ],
            [
             0.1111111111111111,
             "#46039f"
            ],
            [
             0.2222222222222222,
             "#7201a8"
            ],
            [
             0.3333333333333333,
             "#9c179e"
            ],
            [
             0.4444444444444444,
             "#bd3786"
            ],
            [
             0.5555555555555556,
             "#d8576b"
            ],
            [
             0.6666666666666666,
             "#ed7953"
            ],
            [
             0.7777777777777778,
             "#fb9f3a"
            ],
            [
             0.8888888888888888,
             "#fdca26"
            ],
            [
             1,
             "#f0f921"
            ]
           ],
           "sequentialminus": [
            [
             0,
             "#0d0887"
            ],
            [
             0.1111111111111111,
             "#46039f"
            ],
            [
             0.2222222222222222,
             "#7201a8"
            ],
            [
             0.3333333333333333,
             "#9c179e"
            ],
            [
             0.4444444444444444,
             "#bd3786"
            ],
            [
             0.5555555555555556,
             "#d8576b"
            ],
            [
             0.6666666666666666,
             "#ed7953"
            ],
            [
             0.7777777777777778,
             "#fb9f3a"
            ],
            [
             0.8888888888888888,
             "#fdca26"
            ],
            [
             1,
             "#f0f921"
            ]
           ]
          },
          "colorway": [
           "#636efa",
           "#EF553B",
           "#00cc96",
           "#ab63fa",
           "#FFA15A",
           "#19d3f3",
           "#FF6692",
           "#B6E880",
           "#FF97FF",
           "#FECB52"
          ],
          "font": {
           "color": "#2a3f5f"
          },
          "geo": {
           "bgcolor": "white",
           "lakecolor": "white",
           "landcolor": "#E5ECF6",
           "showlakes": true,
           "showland": true,
           "subunitcolor": "white"
          },
          "hoverlabel": {
           "align": "left"
          },
          "hovermode": "closest",
          "mapbox": {
           "style": "light"
          },
          "paper_bgcolor": "white",
          "plot_bgcolor": "#E5ECF6",
          "polar": {
           "angularaxis": {
            "gridcolor": "white",
            "linecolor": "white",
            "ticks": ""
           },
           "bgcolor": "#E5ECF6",
           "radialaxis": {
            "gridcolor": "white",
            "linecolor": "white",
            "ticks": ""
           }
          },
          "scene": {
           "xaxis": {
            "backgroundcolor": "#E5ECF6",
            "gridcolor": "white",
            "gridwidth": 2,
            "linecolor": "white",
            "showbackground": true,
            "ticks": "",
            "zerolinecolor": "white"
           },
           "yaxis": {
            "backgroundcolor": "#E5ECF6",
            "gridcolor": "white",
            "gridwidth": 2,
            "linecolor": "white",
            "showbackground": true,
            "ticks": "",
            "zerolinecolor": "white"
           },
           "zaxis": {
            "backgroundcolor": "#E5ECF6",
            "gridcolor": "white",
            "gridwidth": 2,
            "linecolor": "white",
            "showbackground": true,
            "ticks": "",
            "zerolinecolor": "white"
           }
          },
          "shapedefaults": {
           "line": {
            "color": "#2a3f5f"
           }
          },
          "ternary": {
           "aaxis": {
            "gridcolor": "white",
            "linecolor": "white",
            "ticks": ""
           },
           "baxis": {
            "gridcolor": "white",
            "linecolor": "white",
            "ticks": ""
           },
           "bgcolor": "#E5ECF6",
           "caxis": {
            "gridcolor": "white",
            "linecolor": "white",
            "ticks": ""
           }
          },
          "title": {
           "x": 0.05
          },
          "xaxis": {
           "automargin": true,
           "gridcolor": "white",
           "linecolor": "white",
           "ticks": "",
           "title": {
            "standoff": 15
           },
           "zerolinecolor": "white",
           "zerolinewidth": 2
          },
          "yaxis": {
           "automargin": true,
           "gridcolor": "white",
           "linecolor": "white",
           "ticks": "",
           "title": {
            "standoff": 15
           },
           "zerolinecolor": "white",
           "zerolinewidth": 2
          }
         }
        },
        "xaxis": {
         "anchor": "y",
         "domain": [
          0,
          1
         ],
         "rangeselector": {
          "buttons": [
           {
            "count": 1,
            "label": "1m",
            "step": "month",
            "stepmode": "backward"
           },
           {
            "count": 6,
            "label": "6m",
            "step": "month",
            "stepmode": "backward"
           },
           {
            "count": 1,
            "label": "YTD",
            "step": "year",
            "stepmode": "todate"
           },
           {
            "count": 1,
            "label": "1y",
            "step": "year",
            "stepmode": "backward"
           },
           {
            "step": "all"
           }
          ]
         },
         "rangeslider": {
          "visible": true
         },
         "title": {
          "text": "date"
         }
        },
        "yaxis": {
         "anchor": "x",
         "domain": [
          0,
          1
         ],
         "title": {
          "text": "0"
         }
        }
       }
      },
      "text/html": [
       "<div>\n",
       "        \n",
       "        \n",
       "            <div id=\"8692cab8-279e-404f-99c3-6eec5ec279a1\" class=\"plotly-graph-div\" style=\"height:525px; width:100%;\"></div>\n",
       "            <script type=\"text/javascript\">\n",
       "                require([\"plotly\"], function(Plotly) {\n",
       "                    window.PLOTLYENV=window.PLOTLYENV || {};\n",
       "                    \n",
       "                if (document.getElementById(\"8692cab8-279e-404f-99c3-6eec5ec279a1\")) {\n",
       "                    Plotly.newPlot(\n",
       "                        '8692cab8-279e-404f-99c3-6eec5ec279a1',\n",
       "                        [{\"hovertemplate\": \"date=%{x}<br>0=%{y}<extra></extra>\", \"legendgroup\": \"\", \"line\": {\"color\": \"#636efa\", \"dash\": \"solid\"}, \"mode\": \"lines\", \"name\": \"\", \"orientation\": \"v\", \"showlegend\": false, \"type\": \"scatter\", \"x\": [\"2019-10-31T00:00:00\", \"2020-01-10T00:00:00\", \"2020-08-25T00:00:00\", \"2020-08-31T00:00:00\", \"2020-09-18T00:00:00\", \"2020-09-21T00:00:00\", \"2020-09-23T00:00:00\", \"2020-09-24T00:00:00\", \"2020-09-26T00:00:00\", \"2020-09-28T00:00:00\", \"2020-09-29T00:00:00\", \"2020-09-30T00:00:00\", \"2020-10-01T00:00:00\", \"2020-10-02T00:00:00\", \"2020-10-03T00:00:00\", \"2020-10-04T00:00:00\", \"2020-10-05T00:00:00\"], \"xaxis\": \"x\", \"y\": [0, 0, 0, 1, 1, 0, 0, 0, 0, 0, 0, 1, 7, 6, 0, 2, 4], \"yaxis\": \"y\"}],\n",
       "                        {\"legend\": {\"tracegroupgap\": 0}, \"margin\": {\"t\": 60}, \"template\": {\"data\": {\"bar\": [{\"error_x\": {\"color\": \"#2a3f5f\"}, \"error_y\": {\"color\": \"#2a3f5f\"}, \"marker\": {\"line\": {\"color\": \"#E5ECF6\", \"width\": 0.5}}, \"type\": \"bar\"}], \"barpolar\": [{\"marker\": {\"line\": {\"color\": \"#E5ECF6\", \"width\": 0.5}}, \"type\": \"barpolar\"}], \"carpet\": [{\"aaxis\": {\"endlinecolor\": \"#2a3f5f\", \"gridcolor\": \"white\", \"linecolor\": \"white\", \"minorgridcolor\": \"white\", \"startlinecolor\": \"#2a3f5f\"}, \"baxis\": {\"endlinecolor\": \"#2a3f5f\", \"gridcolor\": \"white\", \"linecolor\": \"white\", \"minorgridcolor\": \"white\", \"startlinecolor\": \"#2a3f5f\"}, \"type\": \"carpet\"}], \"choropleth\": [{\"colorbar\": {\"outlinewidth\": 0, \"ticks\": \"\"}, \"type\": \"choropleth\"}], \"contour\": [{\"colorbar\": {\"outlinewidth\": 0, \"ticks\": \"\"}, \"colorscale\": [[0.0, \"#0d0887\"], [0.1111111111111111, \"#46039f\"], [0.2222222222222222, \"#7201a8\"], [0.3333333333333333, \"#9c179e\"], [0.4444444444444444, \"#bd3786\"], [0.5555555555555556, \"#d8576b\"], [0.6666666666666666, \"#ed7953\"], [0.7777777777777778, \"#fb9f3a\"], [0.8888888888888888, \"#fdca26\"], [1.0, \"#f0f921\"]], \"type\": \"contour\"}], \"contourcarpet\": [{\"colorbar\": {\"outlinewidth\": 0, \"ticks\": \"\"}, \"type\": \"contourcarpet\"}], \"heatmap\": [{\"colorbar\": {\"outlinewidth\": 0, \"ticks\": \"\"}, \"colorscale\": [[0.0, \"#0d0887\"], [0.1111111111111111, \"#46039f\"], [0.2222222222222222, \"#7201a8\"], [0.3333333333333333, \"#9c179e\"], [0.4444444444444444, \"#bd3786\"], [0.5555555555555556, \"#d8576b\"], [0.6666666666666666, \"#ed7953\"], [0.7777777777777778, \"#fb9f3a\"], [0.8888888888888888, \"#fdca26\"], [1.0, \"#f0f921\"]], \"type\": \"heatmap\"}], \"heatmapgl\": [{\"colorbar\": {\"outlinewidth\": 0, \"ticks\": \"\"}, \"colorscale\": [[0.0, \"#0d0887\"], [0.1111111111111111, \"#46039f\"], [0.2222222222222222, \"#7201a8\"], [0.3333333333333333, \"#9c179e\"], [0.4444444444444444, \"#bd3786\"], [0.5555555555555556, \"#d8576b\"], [0.6666666666666666, \"#ed7953\"], [0.7777777777777778, \"#fb9f3a\"], [0.8888888888888888, \"#fdca26\"], [1.0, \"#f0f921\"]], \"type\": \"heatmapgl\"}], \"histogram\": [{\"marker\": {\"colorbar\": {\"outlinewidth\": 0, \"ticks\": \"\"}}, \"type\": \"histogram\"}], \"histogram2d\": [{\"colorbar\": {\"outlinewidth\": 0, \"ticks\": \"\"}, \"colorscale\": [[0.0, \"#0d0887\"], [0.1111111111111111, \"#46039f\"], [0.2222222222222222, \"#7201a8\"], [0.3333333333333333, \"#9c179e\"], [0.4444444444444444, \"#bd3786\"], [0.5555555555555556, \"#d8576b\"], [0.6666666666666666, \"#ed7953\"], [0.7777777777777778, \"#fb9f3a\"], [0.8888888888888888, \"#fdca26\"], [1.0, \"#f0f921\"]], \"type\": \"histogram2d\"}], \"histogram2dcontour\": [{\"colorbar\": {\"outlinewidth\": 0, \"ticks\": \"\"}, \"colorscale\": [[0.0, \"#0d0887\"], [0.1111111111111111, \"#46039f\"], [0.2222222222222222, \"#7201a8\"], [0.3333333333333333, \"#9c179e\"], [0.4444444444444444, \"#bd3786\"], [0.5555555555555556, \"#d8576b\"], [0.6666666666666666, \"#ed7953\"], [0.7777777777777778, \"#fb9f3a\"], [0.8888888888888888, \"#fdca26\"], [1.0, \"#f0f921\"]], \"type\": \"histogram2dcontour\"}], \"mesh3d\": [{\"colorbar\": {\"outlinewidth\": 0, \"ticks\": \"\"}, \"type\": \"mesh3d\"}], \"parcoords\": [{\"line\": {\"colorbar\": {\"outlinewidth\": 0, \"ticks\": \"\"}}, \"type\": \"parcoords\"}], \"pie\": [{\"automargin\": true, \"type\": \"pie\"}], \"scatter\": [{\"marker\": {\"colorbar\": {\"outlinewidth\": 0, \"ticks\": \"\"}}, \"type\": \"scatter\"}], \"scatter3d\": [{\"line\": {\"colorbar\": {\"outlinewidth\": 0, \"ticks\": \"\"}}, \"marker\": {\"colorbar\": {\"outlinewidth\": 0, \"ticks\": \"\"}}, \"type\": \"scatter3d\"}], \"scattercarpet\": [{\"marker\": {\"colorbar\": {\"outlinewidth\": 0, \"ticks\": \"\"}}, \"type\": \"scattercarpet\"}], \"scattergeo\": [{\"marker\": {\"colorbar\": {\"outlinewidth\": 0, \"ticks\": \"\"}}, \"type\": \"scattergeo\"}], \"scattergl\": [{\"marker\": {\"colorbar\": {\"outlinewidth\": 0, \"ticks\": \"\"}}, \"type\": \"scattergl\"}], \"scattermapbox\": [{\"marker\": {\"colorbar\": {\"outlinewidth\": 0, \"ticks\": \"\"}}, \"type\": \"scattermapbox\"}], \"scatterpolar\": [{\"marker\": {\"colorbar\": {\"outlinewidth\": 0, \"ticks\": \"\"}}, \"type\": \"scatterpolar\"}], \"scatterpolargl\": [{\"marker\": {\"colorbar\": {\"outlinewidth\": 0, \"ticks\": \"\"}}, \"type\": \"scatterpolargl\"}], \"scatterternary\": [{\"marker\": {\"colorbar\": {\"outlinewidth\": 0, \"ticks\": \"\"}}, \"type\": \"scatterternary\"}], \"surface\": [{\"colorbar\": {\"outlinewidth\": 0, \"ticks\": \"\"}, \"colorscale\": [[0.0, \"#0d0887\"], [0.1111111111111111, \"#46039f\"], [0.2222222222222222, \"#7201a8\"], [0.3333333333333333, \"#9c179e\"], [0.4444444444444444, \"#bd3786\"], [0.5555555555555556, \"#d8576b\"], [0.6666666666666666, \"#ed7953\"], [0.7777777777777778, \"#fb9f3a\"], [0.8888888888888888, \"#fdca26\"], [1.0, \"#f0f921\"]], \"type\": \"surface\"}], \"table\": [{\"cells\": {\"fill\": {\"color\": \"#EBF0F8\"}, \"line\": {\"color\": \"white\"}}, \"header\": {\"fill\": {\"color\": \"#C8D4E3\"}, \"line\": {\"color\": \"white\"}}, \"type\": \"table\"}]}, \"layout\": {\"annotationdefaults\": {\"arrowcolor\": \"#2a3f5f\", \"arrowhead\": 0, \"arrowwidth\": 1}, \"coloraxis\": {\"colorbar\": {\"outlinewidth\": 0, \"ticks\": \"\"}}, \"colorscale\": {\"diverging\": [[0, \"#8e0152\"], [0.1, \"#c51b7d\"], [0.2, \"#de77ae\"], [0.3, \"#f1b6da\"], [0.4, \"#fde0ef\"], [0.5, \"#f7f7f7\"], [0.6, \"#e6f5d0\"], [0.7, \"#b8e186\"], [0.8, \"#7fbc41\"], [0.9, \"#4d9221\"], [1, \"#276419\"]], \"sequential\": [[0.0, \"#0d0887\"], [0.1111111111111111, \"#46039f\"], [0.2222222222222222, \"#7201a8\"], [0.3333333333333333, \"#9c179e\"], [0.4444444444444444, \"#bd3786\"], [0.5555555555555556, \"#d8576b\"], [0.6666666666666666, \"#ed7953\"], [0.7777777777777778, \"#fb9f3a\"], [0.8888888888888888, \"#fdca26\"], [1.0, \"#f0f921\"]], \"sequentialminus\": [[0.0, \"#0d0887\"], [0.1111111111111111, \"#46039f\"], [0.2222222222222222, \"#7201a8\"], [0.3333333333333333, \"#9c179e\"], [0.4444444444444444, \"#bd3786\"], [0.5555555555555556, \"#d8576b\"], [0.6666666666666666, \"#ed7953\"], [0.7777777777777778, \"#fb9f3a\"], [0.8888888888888888, \"#fdca26\"], [1.0, \"#f0f921\"]]}, \"colorway\": [\"#636efa\", \"#EF553B\", \"#00cc96\", \"#ab63fa\", \"#FFA15A\", \"#19d3f3\", \"#FF6692\", \"#B6E880\", \"#FF97FF\", \"#FECB52\"], \"font\": {\"color\": \"#2a3f5f\"}, \"geo\": {\"bgcolor\": \"white\", \"lakecolor\": \"white\", \"landcolor\": \"#E5ECF6\", \"showlakes\": true, \"showland\": true, \"subunitcolor\": \"white\"}, \"hoverlabel\": {\"align\": \"left\"}, \"hovermode\": \"closest\", \"mapbox\": {\"style\": \"light\"}, \"paper_bgcolor\": \"white\", \"plot_bgcolor\": \"#E5ECF6\", \"polar\": {\"angularaxis\": {\"gridcolor\": \"white\", \"linecolor\": \"white\", \"ticks\": \"\"}, \"bgcolor\": \"#E5ECF6\", \"radialaxis\": {\"gridcolor\": \"white\", \"linecolor\": \"white\", \"ticks\": \"\"}}, \"scene\": {\"xaxis\": {\"backgroundcolor\": \"#E5ECF6\", \"gridcolor\": \"white\", \"gridwidth\": 2, \"linecolor\": \"white\", \"showbackground\": true, \"ticks\": \"\", \"zerolinecolor\": \"white\"}, \"yaxis\": {\"backgroundcolor\": \"#E5ECF6\", \"gridcolor\": \"white\", \"gridwidth\": 2, \"linecolor\": \"white\", \"showbackground\": true, \"ticks\": \"\", \"zerolinecolor\": \"white\"}, \"zaxis\": {\"backgroundcolor\": \"#E5ECF6\", \"gridcolor\": \"white\", \"gridwidth\": 2, \"linecolor\": \"white\", \"showbackground\": true, \"ticks\": \"\", \"zerolinecolor\": \"white\"}}, \"shapedefaults\": {\"line\": {\"color\": \"#2a3f5f\"}}, \"ternary\": {\"aaxis\": {\"gridcolor\": \"white\", \"linecolor\": \"white\", \"ticks\": \"\"}, \"baxis\": {\"gridcolor\": \"white\", \"linecolor\": \"white\", \"ticks\": \"\"}, \"bgcolor\": \"#E5ECF6\", \"caxis\": {\"gridcolor\": \"white\", \"linecolor\": \"white\", \"ticks\": \"\"}}, \"title\": {\"x\": 0.05}, \"xaxis\": {\"automargin\": true, \"gridcolor\": \"white\", \"linecolor\": \"white\", \"ticks\": \"\", \"title\": {\"standoff\": 15}, \"zerolinecolor\": \"white\", \"zerolinewidth\": 2}, \"yaxis\": {\"automargin\": true, \"gridcolor\": \"white\", \"linecolor\": \"white\", \"ticks\": \"\", \"title\": {\"standoff\": 15}, \"zerolinecolor\": \"white\", \"zerolinewidth\": 2}}}, \"xaxis\": {\"anchor\": \"y\", \"domain\": [0.0, 1.0], \"rangeselector\": {\"buttons\": [{\"count\": 1, \"label\": \"1m\", \"step\": \"month\", \"stepmode\": \"backward\"}, {\"count\": 6, \"label\": \"6m\", \"step\": \"month\", \"stepmode\": \"backward\"}, {\"count\": 1, \"label\": \"YTD\", \"step\": \"year\", \"stepmode\": \"todate\"}, {\"count\": 1, \"label\": \"1y\", \"step\": \"year\", \"stepmode\": \"backward\"}, {\"step\": \"all\"}]}, \"rangeslider\": {\"visible\": true}, \"title\": {\"text\": \"date\"}}, \"yaxis\": {\"anchor\": \"x\", \"domain\": [0.0, 1.0], \"title\": {\"text\": \"0\"}}},\n",
       "                        {\"responsive\": true}\n",
       "                    ).then(function(){\n",
       "                            \n",
       "var gd = document.getElementById('8692cab8-279e-404f-99c3-6eec5ec279a1');\n",
       "var x = new MutationObserver(function (mutations, observer) {{\n",
       "        var display = window.getComputedStyle(gd).display;\n",
       "        if (!display || display === 'none') {{\n",
       "            console.log([gd, 'removed!']);\n",
       "            Plotly.purge(gd);\n",
       "            observer.disconnect();\n",
       "        }}\n",
       "}});\n",
       "\n",
       "// Listen for the removal of the full notebook cells\n",
       "var notebookContainer = gd.closest('#notebook-container');\n",
       "if (notebookContainer) {{\n",
       "    x.observe(notebookContainer, {childList: true});\n",
       "}}\n",
       "\n",
       "// Listen for the clearing of the current output cell\n",
       "var outputEl = gd.closest('.output');\n",
       "if (outputEl) {{\n",
       "    x.observe(outputEl, {childList: true});\n",
       "}}\n",
       "\n",
       "                        })\n",
       "                };\n",
       "                });\n",
       "            </script>\n",
       "        </div>"
      ]
     },
     "metadata": {},
     "output_type": "display_data"
    },
    {
     "data": {
      "text/plain": [
       "<Figure size 1368x1080 with 0 Axes>"
      ]
     },
     "metadata": {},
     "output_type": "display_data"
    }
   ],
   "source": [
    "test.word_in_time('дкп')"
   ]
  },
  {
   "cell_type": "code",
   "execution_count": 124,
   "metadata": {},
   "outputs": [
    {
     "data": {
      "text/plain": [
       "[('документ', 'регистрировать'), ('регистрировать', 'регистратор')]"
      ]
     },
     "execution_count": 124,
     "metadata": {},
     "output_type": "execute_result"
    }
   ],
   "source": [
    "list(ngrams(df['comment'][1][0],2))"
   ]
  },
  {
   "cell_type": "code",
   "execution_count": 39,
   "metadata": {},
   "outputs": [],
   "source": [
    "df['post'][1][1]\n",
    "wordcount = {}"
   ]
  },
  {
   "cell_type": "code",
   "execution_count": 40,
   "metadata": {},
   "outputs": [],
   "source": [
    "for i in range(len(df)):   \n",
    "        for word in df['post'][i]:\n",
    "            '''word = word.replace(\".\",\"\")\n",
    "            word = word.replace(\",\",\"\")\n",
    "            word = word.replace(\":\",\"\")\n",
    "            word = word.replace(\"\\\"\",\"\")\n",
    "            word = word.replace(\"!\",\"\")\n",
    "            word = word.replace(\"â€œ\",\"\")\n",
    "            word = word.replace(\"â€˜\",\"\")\n",
    "            word = word.replace(\"*\",\"\")\n",
    "            word = word.replace(\" \",\"\")'''\n",
    "            if word not in sum_noise:\n",
    "                if word not in wordcount.keys():\n",
    "                    wordcount[word] = 1\n",
    "                else:\n",
    "                    wordcount[word] += 1"
   ]
  },
  {
   "cell_type": "code",
   "execution_count": 43,
   "metadata": {},
   "outputs": [
    {
     "data": {
      "text/plain": [
       "{(('коллега', 'размещать'), ('размещать', 'видео')): 1,\n",
       " (('размещать', 'видео'), ('видео', 'судебный')): 1,\n",
       " (('видео', 'судебный'), ('судебный', 'юрист')): 1,\n",
       " (('судебный', 'юрист'), ('юрист', 'татьяна')): 1,\n",
       " (('юрист', 'татьяна'), ('татьяна', 'пак')): 1,\n",
       " (('татьяна', 'пак'), ('пак', 'мы')): 1,\n",
       " (('пак', 'мы'), ('мы', 'поговорить')): 1,\n",
       " (('мы', 'поговорить'), ('поговорить', 'процедура')): 1,\n",
       " (('поговорить', 'процедура'), ('процедура', 'банкротство')): 1,\n",
       " (('процедура', 'банкротство'), ('банкротство', 'физический')): 1,\n",
       " (('банкротство', 'физический'), ('физический', 'лицо')): 1,\n",
       " (('физический', 'лицо'), ('лицо', 'посмотреть')): 1,\n",
       " (('лицо', 'посмотреть'), ('посмотреть', 'именно')): 1,\n",
       " (('посмотреть', 'именно'), ('именно', 'глаз')): 1,\n",
       " (('именно', 'глаз'), ('глаз', 'этот')): 1,\n",
       " (('глаз', 'этот'), ('этот', 'процедура')): 1,\n",
       " (('этот', 'процедура'), ('процедура', 'заниматься')): 1,\n",
       " (('процедура', 'заниматься'), ('заниматься', 'надеяться')): 1,\n",
       " (('заниматься', 'надеяться'), ('надеяться', 'вы')): 1,\n",
       " (('надеяться', 'вы'), ('вы', 'интересный')): 1,\n",
       " (('вы', 'интересный'), ('интересный', 'ссылка')): 1,\n",
       " (('интересный', 'ссылка'), ('ссылка', 'видео')): 1,\n",
       " (('ссылка', 'видео'), ('видео', 'первый')): 1,\n",
       " (('видео', 'первый'), ('первый', 'комментарий')): 1,\n",
       " (('первый', 'комментарий'), ('комментарий', 'мой')): 1,\n",
       " (('комментарий', 'мой'), ('мой', 'пост')): 1,\n",
       " (('мой', 'пост'), ('пост', 'тема')): 1,\n",
       " (('пост', 'тема'), ('тема', 'актуальный')): 1,\n",
       " (('тема', 'актуальный'), ('актуальный', 'возникать')): 1,\n",
       " (('актуальный', 'возникать'), ('возникать', 'вопрос')): 1,\n",
       " (('возникать', 'вопрос'), ('вопрос', 'риэлтор')): 1,\n",
       " (('вопрос', 'риэлтор'), ('риэлтор', 'особенно')): 1,\n",
       " (('риэлтор', 'особенно'), ('особенно', 'защищать')): 1,\n",
       " (('особенно', 'защищать'), ('защищать', 'покупатель')): 1,\n",
       " (('защищать', 'покупатель'),\n",
       "  ('покупатель', 'законобанкротствефизическихлица')): 1,\n",
       " (('покупатель', 'законобанкротствефизическихлица'),\n",
       "  ('законобанкротствефизическихлица', 'обучениериэлтор')): 1,\n",
       " (('законобанкротствефизическихлица', 'обучениериэлтор'),\n",
       "  ('обучениериэлтор', 'юристпонедвижимость')): 1,\n",
       " (('коллега', 'клиент'), ('клиент', 'спрашивать')): 1,\n",
       " (('клиент', 'спрашивать'), ('спрашивать', 'оплачивать')): 1,\n",
       " (('спрашивать', 'оплачивать'), ('оплачивать', 'проверка')): 1,\n",
       " (('оплачивать', 'проверка'), ('проверка', 'сбера')): 1,\n",
       " (('проверка', 'сбера'), ('сбера', 'якобы')): 1,\n",
       " (('сбера', 'якобы'), ('якобы', 'надежно')): 1,\n",
       " (('якобы', 'надежно'), ('надежно', 'теперь')): 1,\n",
       " (('надежно', 'теперь'), ('теперь', 'кабинет')): 1,\n",
       " (('теперь', 'кабинет'), ('кабинет', 'висеть')): 1,\n",
       " (('кабинет', 'висеть'), ('висеть', 'красный')): 1,\n",
       " (('висеть', 'красный'), ('красный', 'замечание')): 1,\n",
       " (('красный', 'замечание'), ('замечание', 'отчет')): 1,\n",
       " (('замечание', 'отчет'), ('отчет', 'оценка')): 1,\n",
       " (('отчет', 'оценка'), ('оценка', 'объект')): 1,\n",
       " (('оценка', 'объект'), ('объект', 'висеть')): 1,\n",
       " (('объект', 'висеть'), ('висеть', 'витрина')): 1,\n",
       " (('висеть', 'витрина'), ('витрина', 'отчет')): 1,\n",
       " (('витрина', 'отчет'), ('отчет', 'оценка')): 1,\n",
       " (('отчет', 'оценка'), ('оценка', 'все')): 1,\n",
       " (('оценка', 'все'), ('все', 'пропадать')): 1,\n",
       " (('все', 'пропадать'), ('пропадать', 'еще')): 1,\n",
       " (('пропадать', 'еще'), ('еще', 'оценка')): 1,\n",
       " (('еще', 'оценка'), ('оценка', 'делать')): 1,\n",
       " (('оценка', 'делать'), ('делать', 'приходиться')): 1,\n",
       " (('делать', 'приходиться'), ('приходиться', 'обходиться')): 1,\n",
       " (('приплывать', 'сделка'), ('сделка', 'цепь')): 1,\n",
       " (('сделка', 'цепь'), ('цепь', 'нижний')): 1,\n",
       " (('цепь', 'нижний'), ('нижний', 'просить')): 1,\n",
       " (('нижний', 'просить'), ('просить', 'закладывать')): 1,\n",
       " (('просить', 'закладывать'), ('закладывать', 'доллар')): 1,\n",
       " (('коллега', 'добрый'), ('добрый', 'день')): 4,\n",
       " (('добрый', 'день'), ('день', 'нужный')): 1,\n",
       " (('день', 'нужный'), ('нужный', 'помощь')): 1,\n",
       " (('нужный', 'помощь'), ('помощь', 'нужный')): 1,\n",
       " (('помощь', 'нужный'), ('нужный', 'фото')): 1,\n",
       " (('нужный', 'фото'), ('фото', 'оценка')): 1,\n",
       " (('фото', 'оценка'), ('оценка', 'квартира')): 1,\n",
       " (('оценка', 'квартира'), ('квартира', 'данный')): 1,\n",
       " (('квартира', 'данный'), ('данный', 'планировка')): 1,\n",
       " (('данный', 'планировка'), ('планировка', 'помогать')): 1,\n",
       " (('время', 'такой'), ('такой', 'приходить')): 1,\n",
       " (('такой', 'приходить'), ('приходить', 'покупатель')): 1,\n",
       " (('приходить', 'покупатель'), ('покупатель', 'квартира')): 1,\n",
       " (('покупатель', 'квартира'), ('квартира', 'предлагать')): 1,\n",
       " (('квартира', 'предлагать'), ('предлагать', 'заплатить')): 1,\n",
       " (('предлагать', 'заплатить'), ('заплатить', 'квартира')): 1,\n",
       " (('заплатить', 'квартира'), ('квартира', 'предлагаться')): 1,\n",
       " (('квартира', 'предлагаться'), ('предлагаться', 'реклама')): 1,\n",
       " (('предлагаться', 'реклама'), ('реклама', 'хотеться')): 1,\n",
       " (('реклама', 'хотеться'), ('хотеться', 'дорогой')): 1,\n",
       " (('хотеться', 'дорогой'), ('дорогой', 'коллега')): 1,\n",
       " (('дорогой', 'коллега'), ('коллега', 'такой')): 1,\n",
       " (('коллега', 'такой'), ('такой', 'предложение')): 1,\n",
       " (('такой', 'предложение'), ('предложение', 'передаваться')): 1,\n",
       " (('предложение', 'передаваться'), ('передаваться', 'собственник')): 1,\n",
       " (('передаваться', 'собственник'), ('собственник', 'говориться')): 1,\n",
       " (('собственник', 'говориться'), ('говориться', 'нет')): 1,\n",
       " (('говориться', 'нет'), ('нет', 'отдавать')): 1,\n",
       " (('нет', 'отдавать'), ('отдавать', 'квартира')): 1,\n",
       " (('отдавать', 'квартира'), ('квартира', 'приходить')): 1,\n",
       " (('квартира', 'приходить'), ('приходить', 'рано')): 1,\n",
       " (('приходить', 'рано'), ('рано', 'приходить')): 1,\n",
       " (('рано', 'приходить'), ('приходить', 'повторно')): 1,\n",
       " (('приходить', 'повторно'), ('повторно', 'неудобно')): 1,\n",
       " (('повторно', 'неудобно'), ('неудобно', 'раз')): 1,\n",
       " (('неудобно', 'раз'), ('раз', 'ездить')): 1,\n",
       " (('раз', 'ездить'), ('ездить', 'тот')): 1,\n",
       " (('ездить', 'тот'), ('тот', 'другой')): 1,\n",
       " (('тот', 'другой'), ('другой', 'предлагать')): 1,\n",
       " (('другой', 'предлагать'), ('предлагать', 'еще')): 1,\n",
       " (('предлагать', 'еще'), ('еще', 'повышать')): 1,\n",
       " (('еще', 'повышать'), ('повышать', 'тяжело')): 1,\n",
       " (('повышать', 'тяжело'), ('тяжело', 'перестраиваться')): 1,\n",
       " (('тяжело', 'перестраиваться'), ('перестраиваться', 'парадигма')): 1,\n",
       " (('перестраиваться', 'парадигма'), ('парадигма', 'приятный')): 1,\n",
       " (('парадигма', 'приятный'), ('приятный', 'женщина')): 1,\n",
       " (('приятный', 'женщина'), ('женщина', 'нехороший')): 1,\n",
       " (('женщина', 'нехороший'), ('нехороший', 'человек')): 1,\n",
       " (('нехороший', 'человек'), ('человек', 'подымать')): 1,\n",
       " (('человек', 'подымать'), ('подымать', 'подымать')): 1,\n",
       " (('подымать', 'подымать'), ('подымать', 'цена')): 1,\n",
       " (('подымать', 'цена'), ('цена', 'хотеться')): 1,\n",
       " (('цена', 'хотеться'), ('хотеться', 'предложение')): 1,\n",
       " (('хотеться', 'предложение'), ('предложение', 'конец')): 1,\n",
       " (('предложение', 'конец'), ('конец', 'торг')): 1,\n",
       " (('конец', 'торг'), ('торг', 'передаваться')): 1,\n",
       " (('торг', 'передаваться'), ('передаваться', 'собственник')): 1,\n",
       " (('добрый', 'утро'), ('утро', 'нбки')): 1,\n",
       " (('утро', 'нбки'), ('нбки', 'кто-то')): 1,\n",
       " (('нбки', 'кто-то'), ('кто-то', 'быстро')): 1,\n",
       " (('кто-то', 'быстро'), ('быстро', 'сделать')): 1,\n",
       " (('быстро', 'сделать'), ('сделать', 'делать')): 1,\n",
       " (('сделать', 'делать'), ('делать', 'ресурс')): 1,\n",
       " (('делать', 'ресурс'), ('ресурс', 'работать')): 1,\n",
       " (('ресурс', 'работать'), ('работать', 'поделиться')): 1,\n",
       " (('работать', 'поделиться'), ('поделиться', 'пожа')): 1,\n",
       " (('поделиться', 'пожа'), ('пожа', 'контакт')): 1,\n",
       " (('коллега', 'добрый'), ('добрый', 'утро')): 1,\n",
       " (('что', 'коллега'), ('коллега', 'это')): 1,\n",
       " (('коллега', 'это'), ('это', 'реклама')): 1,\n",
       " (('это', 'реклама'), ('реклама', 'один')): 1,\n",
       " (('реклама', 'один'), ('один', 'квартира')): 1,\n",
       " (('домклик', 'забанить'), ('забанить', 'объявление')): 1,\n",
       " (('забанить', 'объявление'), ('объявление', 'причина')): 1,\n",
       " (('объявление', 'причина'), ('причина', 'невозможно')): 1,\n",
       " (('причина', 'невозможно'), ('невозможно', 'дозваниваться')): 1,\n",
       " (('невозможно', 'дозваниваться'), ('дозваниваться', 'ну')): 1,\n",
       " (('дозваниваться', 'ну'), ('ну', 'бред')): 1,\n",
       " (('ну', 'бред'), ('бред', 'до')): 1,\n",
       " (('бред', 'до'), ('до', 'действителить')): 1,\n",
       " (('до', 'действителить'), ('действителить', 'невозможно')): 1,\n",
       " (('действителить', 'невозможно'), ('невозможно', 'дозваниваться')): 1,\n",
       " (('невозможно', 'дозваниваться'), ('дозваниваться', 'начинать')): 1,\n",
       " (('утро', 'позвонить'), ('позвонить', 'попросить')): 1,\n",
       " (('позвонить', 'попросить'), ('попросить', 'поработать')): 1,\n",
       " (('попросить', 'поработать'), ('поработать', 'нужно')): 1,\n",
       " (('поработать', 'нужно'), ('нужно', 'нежилой')): 1,\n",
       " (('нужно', 'нежилой'), ('нежилой', 'помещение')): 1,\n",
       " (('нежилой', 'помещение'), ('помещение', 'аренда')): 1,\n",
       " (('помещение', 'аренда'), ('аренда', 'район')): 1,\n",
       " (('аренда', 'район'), ('район', 'м')): 1,\n",
       " (('район', 'м'), ('м', 'киевский')): 1,\n",
       " (('м', 'киевский'), ('киевский', 'бережковский')): 1,\n",
       " (('киевский', 'бережковский'), ('бережковский', 'наб')): 1,\n",
       " (('бережковский', 'наб'), ('наб', 'не')): 1,\n",
       " (('наб', 'не'), ('не', 'понимать')): 1,\n",
       " (('не', 'понимать'), ('понимать', 'утро')): 1,\n",
       " (('понимать', 'утро'), ('утро', 'плохо')): 1,\n",
       " (('утро', 'плохо'), ('плохо', 'воспринимать')): 1,\n",
       " (('плохо', 'воспринимать'), ('воспринимать', 'информация')): 1,\n",
       " (('воспринимать', 'информация'), ('информация', 'работа')): 1,\n",
       " (('информация', 'работа'), ('работа', 'достаточно')): 1,\n",
       " (('работа', 'достаточно'), ('достаточно', 'аренда')): 1,\n",
       " (('достаточно', 'аренда'), ('аренда', 'особо')): 1,\n",
       " (('аренда', 'особо'), ('особо', 'заниматься')): 1,\n",
       " (('особо', 'заниматься'), ('заниматься', 'кто')): 1,\n",
       " (('заниматься', 'кто'), ('кто', 'отдавать')): 1,\n",
       " (('кто', 'отдавать'), ('отдавать', 'клиент')): 1,\n",
       " (('уважаемый', 'коллега'), ('коллега', 'кто')): 1,\n",
       " (('коллега', 'кто'), ('кто', 'подобный')): 1,\n",
       " (('кто', 'подобный'), ('подобный', 'ситуация')): 1,\n",
       " (('подобный', 'ситуация'), ('ситуация', 'подсказывать')): 1,\n",
       " (('ситуация', 'подсказывать'), ('подсказывать', 'пожалуйста')): 1,\n",
       " (('подсказывать', 'пожалуйста'), ('пожалуйста', 'нужно')): 2,\n",
       " (('пожалуйста', 'нужно'), ('нужно', 'продавать')): 1,\n",
       " (('нужно', 'продавать'), ('продавать', 'секция')): 1,\n",
       " (('продавать', 'секция'), ('секция', 'таунхаус')): 1,\n",
       " (('секция', 'таунхаус'), ('таунхаус', 'новый')): 1,\n",
       " (('таунхаус', 'новый'), ('новый', 'москва')): 1,\n",
       " (('новый', 'москва'), ('москва', 'свой')): 1,\n",
       " (('москва', 'свой'), ('свой', 'время')): 1,\n",
       " (('свой', 'время'), ('время', 'сособственник')): 1,\n",
       " (('время', 'сособственник'), ('сособственник', 'покупать')): 1,\n",
       " (('сособственник', 'покупать'), ('покупать', 'земля')): 1,\n",
       " (('покупать', 'земля'), ('земля', 'сотня')): 1,\n",
       " (('земля', 'сотня'), ('сотня', 'по')): 1,\n",
       " (('сотня', 'по'), ('по', 'доля')): 1,\n",
       " (('по', 'доля'), ('доля', 'потом')): 1,\n",
       " (('доля', 'потом'), ('потом', 'построить')): 1,\n",
       " (('потом', 'построить'), ('построить', 'таунхаус')): 1,\n",
       " (('построить', 'таунхаус'), ('таунхаус', 'секция')): 1,\n",
       " (('таунхаус', 'секция'), ('секция', 'доля')): 1,\n",
       " (('секция', 'доля'), ('доля', 'земля')): 1,\n",
       " (('доля', 'земля'), ('земля', 'собственность')): 1,\n",
       " (('земля', 'собственность'), ('собственность', 'мой')): 1,\n",
       " (('собственность', 'мой'), ('мой', 'клиентка')): 1,\n",
       " (('мой', 'клиентка'), ('клиентка', 'сталкиваться')): 1,\n",
       " (('клиентка', 'сталкиваться'), ('сталкиваться', 'проблема')): 1,\n",
       " (('сталкиваться', 'проблема'), ('проблема', 'док')): 1,\n",
       " (('проблема', 'док'), ('док', 'земля')): 1,\n",
       " (('док', 'земля'), ('земля', 'указывать')): 1,\n",
       " (('земля', 'указывать'), ('указывать', 'новый')): 1,\n",
       " (('указывать', 'новый'), ('новый', 'адрес')): 1,\n",
       " (('новый', 'адрес'), ('адрес', 'таунхаус')): 1,\n",
       " (('адрес', 'таунхаус'), ('таунхаус', 'числиться')): 1,\n",
       " (('таунхаус', 'числиться'), ('числиться', 'мо')): 1,\n",
       " (('числиться', 'мо'), ('мо', 'старый')): 1,\n",
       " (('мо', 'старый'), ('старый', 'адрес')): 1,\n",
       " (('старый', 'адрес'), ('адрес', 'сказать')): 1,\n",
       " (('адрес', 'сказать'), ('сказать', 'клиентка')): 1,\n",
       " (('сказать', 'клиентка'), ('клиентка', 'нужно')): 1,\n",
       " (('клиентка', 'нужно'), ('нужно', 'делать')): 1,\n",
       " (('нужно', 'делать'), ('делать', 'межевание')): 1,\n",
       " (('делать', 'межевание'), ('межевание', 'ставить')): 1,\n",
       " (('межевание', 'ставить'), ('ставить', 'таунзаус')): 1,\n",
       " (('ставить', 'таунзаус'), ('таунзаус', 'новый')): 1,\n",
       " (('таунзаус', 'новый'), ('новый', 'кадастровый')): 1,\n",
       " (('новый', 'кадастровый'), ('кадастровый', 'учет')): 1,\n",
       " (('кадастровый', 'учет'), ('учет', 'присвоение')): 1,\n",
       " (('учет', 'присвоение'), ('присвоение', 'новый')): 1,\n",
       " (('присвоение', 'новый'), ('новый', 'адрес')): 1,\n",
       " (('новый', 'адрес'), ('адрес', 'но')): 1,\n",
       " (('адрес', 'но'), ('но', 'один')): 1,\n",
       " (('но', 'один'), ('один', 'собственница')): 1,\n",
       " (('один', 'собственница'), ('собственница', 'соседний')): 1,\n",
       " (('собственница', 'соседний'), ('соседний', 'участок')): 1,\n",
       " (('соседний', 'участок'), ('участок', 'начинать')): 1,\n",
       " (('участок', 'начинать'), ('начинать', 'ставить')): 1,\n",
       " (('начинать', 'ставить'), ('ставить', 'палка')): 1,\n",
       " (('ставить', 'палка'), ('палка', 'колесо')): 1,\n",
       " (('палка', 'колесо'), ('колесо', 'она')): 1,\n",
       " (('колесо', 'она'), ('она', 'слово')): 1,\n",
       " (('она', 'слово'), ('слово', 'согласный')): 1,\n",
       " (('слово', 'согласный'), ('согласный', 'дело')): 1,\n",
       " (('согласный', 'дело'), ('дело', 'давать')): 1,\n",
       " (('дело', 'давать'), ('давать', 'доверенность')): 1,\n",
       " (('давать', 'доверенность'), ('доверенность', 'человек')): 1,\n",
       " (('доверенность', 'человек'), ('человек', 'готовый')): 1,\n",
       " (('человек', 'готовый'), ('готовый', 'заниматься')): 1,\n",
       " (('готовый', 'заниматься'), ('заниматься', 'межевание')): 1,\n",
       " (('заниматься', 'межевание'), ('межевание', 'кадастрирование')): 1,\n",
       " (('межевание', 'кадастрирование'), ('кадастрирование', 'наш')): 1,\n",
       " (('кадастрирование', 'наш'), ('наш', 'юрист')): 1,\n",
       " (('наш', 'юрист'), ('юрист', 'говорить')): 1,\n",
       " (('юрист', 'говорить'), ('говорить', 'ее')): 1,\n",
       " (('говорить', 'ее'), ('ее', 'согласие')): 1,\n",
       " (('ее', 'согласие'), ('согласие', 'доверенность')): 1,\n",
       " (('согласие', 'доверенность'), ('доверенность', 'мочь')): 1,\n",
       " (('доверенность', 'мочь'), ('мочь', 'сделать')): 1,\n",
       " (('мочь', 'сделать'), ('сделать', 'теперь')): 1,\n",
       " (('сделать', 'теперь'), ('теперь', 'продажа')): 1,\n",
       " (('теперь', 'продажа'), ('продажа', 'угроза')): 1,\n",
       " (('продажа', 'угроза'), ('угроза', 'покупатель')): 1,\n",
       " (('угроза', 'покупатель'), ('покупатель', 'ипотечник')): 1,\n",
       " (('покупатель', 'ипотечник'), ('ипотечник', 'готовый')): 1,\n",
       " (('ипотечник', 'готовый'), ('готовый', 'купить')): 1,\n",
       " (('готовый', 'купить'), ('купить', 'подождать')): 1,\n",
       " (('купить', 'подождать'), ('подождать', 'соседка')): 1,\n",
       " (('подождать', 'соседка'), ('соседка', 'самовольный')): 1,\n",
       " (('соседка', 'самовольный'), ('самовольный', 'захватить')): 1,\n",
       " (('самовольный', 'захватить'), ('захватить', 'часть')): 1,\n",
       " (('захватить', 'часть'), ('часть', 'земля')): 1,\n",
       " (('часть', 'земля'), ('земля', 'видимо')): 1,\n",
       " (('земля', 'видимо'), ('видимо', 'поэтому')): 1,\n",
       " (('видимо', 'поэтому'), ('поэтому', 'постоянно')): 1,\n",
       " (('поэтому', 'постоянно'), ('постоянно', 'говорить')): 1,\n",
       " (('постоянно', 'говорить'), ('говорить', 'она')): 1,\n",
       " (('говорить', 'она'), ('она', 'время')): 1,\n",
       " (('она', 'время'), ('время', 'ехать')): 1,\n",
       " (('время', 'ехать'), ('ехать', 'нотариус')): 1,\n",
       " (('ехать', 'нотариус'), ('нотариус', 'доверенность')): 1,\n",
       " (('нотариус', 'доверенность'), ('доверенность', 'мой')): 1,\n",
       " (('доверенность', 'мой'), ('мой', 'клиент')): 1,\n",
       " (('мой', 'клиент'), ('клиент', 'предлагать')): 1,\n",
       " (('клиент', 'предлагать'), ('предлагать', 'приглашать')): 1,\n",
       " (('предлагать', 'приглашать'), ('приглашать', 'нотариус')): 1,\n",
       " (('приглашать', 'нотариус'), ('нотариус', 'оплачивать')): 1,\n",
       " (('нотариус', 'оплачивать'), ('оплачивать', 'услуга')): 1,\n",
       " (('оплачивать', 'услуга'), ('услуга', 'соседка')): 1,\n",
       " (('услуга', 'соседка'), ('соседка', 'некогда')): 1,\n",
       " (('соседка', 'некогда'), ('некогда', 'от')): 1,\n",
       " (('некогда', 'от'), ('от', 'другой')): 1,\n",
       " (('от', 'другой'), ('другой', 'сособственник')): 1,\n",
       " (('другой', 'сособственник'), ('сособственник', 'получать')): 1,\n",
       " (('сособственник', 'получать'), ('получать', 'доверенность')): 1,\n",
       " (('получать', 'доверенность'), ('доверенность', 'отказ')): 1,\n",
       " (('доверенность', 'отказ'), ('отказ', 'преимущественный')): 1,\n",
       " (('отказ', 'преимущественный'), ('преимущественный', 'право')): 1,\n",
       " (('преимущественный', 'право'), ('право', 'покупка')): 1,\n",
       " (('право', 'покупка'), ('покупка', 'участок')): 1,\n",
       " (('покупка', 'участок'), ('участок', 'секция')): 1,\n",
       " (('участок', 'секция'), ('секция', 'мой')): 1,\n",
       " (('секция', 'мой'), ('мой', 'клиентка')): 1,\n",
       " (('мой', 'клиентка'), ('клиентка', 'из-за')): 1,\n",
       " (('клиентка', 'из-за'), ('из-за', 'один')): 1,\n",
       " (('из-за', 'один'), ('один', 'взбалмошный')): 1,\n",
       " (('один', 'взбалмошный'), ('взбалмошный', 'дама')): 1,\n",
       " (('взбалмошный', 'дама'), ('дама', 'останавливаться')): 1,\n",
       " (('дама', 'останавливаться'), ('останавливаться', 'как')): 1,\n",
       " (('останавливаться', 'как'), ('как', 'мы')): 1,\n",
       " (('как', 'мы'), ('мы', 'поступать')): 1,\n",
       " (('мы', 'поступать'), ('поступать', 'ситуация')): 1,\n",
       " (('поступать', 'ситуация'), ('ситуация', 'криминальный')): 1,\n",
       " (('ситуация', 'криминальный'), ('криминальный', 'предложение')): 1,\n",
       " (('криминальный', 'предложение'), ('предложение', 'рассматривать')): 1,\n",
       " (('вы', 'какой'), ('какой', 'соотношение')): 1,\n",
       " (('какой', 'соотношение'), ('соотношение', 'исходить')): 1,\n",
       " (('соотношение', 'исходить'), ('исходить', 'входящий')): 1,\n",
       " (('исходить', 'входящий'), ('входящий', 'коммуникация')): 1,\n",
       " (('проактивный', 'реактивный'), ('реактивный', 'принцип')): 1,\n",
       " (('реактивный', 'принцип'), ('принцип', 'работа')): 1,\n",
       " (('принцип', 'работа'), ('работа', 'риелтор')): 1,\n",
       " (('работа', 'риелтор'), ('риелтор', 'агетство')): 1,\n",
       " (('риелтор', 'агетство'), ('агетство', 'недвижимость')): 1,\n",
       " (('прекрасно', 'удалять'), ('удалять', 'твой')): 1,\n",
       " (('удалять', 'твой'), ('твой', 'публикация')): 1,\n",
       " (('твой', 'публикация'), ('публикация', 'давать')): 1,\n",
       " (('публикация', 'давать'), ('давать', 'проживать')): 1,\n",
       " (('давать', 'проживать'), ('проживать', 'час')): 1,\n",
       " (('проживать', 'час'), ('час', 'хоумап')): 1,\n",
       " (('час', 'хоумап'), ('хоумап', 'совпадение')): 1,\n",
       " (('хоумап', 'совпадение'), ('совпадение', 'не')): 1,\n",
       " (('совпадение', 'не'), ('не', 'думать')): 1,\n",
       " (('не', 'думать'), ('думать', 'бывать')): 1,\n",
       " (('думать', 'бывать'), ('бывать', 'правда')): 1,\n",
       " (('бывать', 'правда'), ('правда', 'глаз')): 1,\n",
       " (('правда', 'глаз'), ('глаз', 'колоть')): 1,\n",
       " (('казаться', 'какой'), ('какой', 'отношение')): 1,\n",
       " (('какой', 'отношение'), ('отношение', 'сей')): 1,\n",
       " (('отношение', 'сей'), ('сей', 'факт')): 1,\n",
       " (('сей', 'факт'), ('факт', 'иметь')): 1,\n",
       " (('факт', 'иметь'), ('иметь', 'риэлторство')): 1,\n",
       " (('передавать', 'пожалуйста'), ('пожалуйста', 'герман')): 1,\n",
       " (('пожалуйста', 'герман'), ('герман', 'оскарович')): 1,\n",
       " (('герман', 'оскарович'), ('оскарович', 'цик')): 1,\n",
       " (('оскарович', 'цик'), ('цик', 'большой')): 1,\n",
       " (('цик', 'большой'), ('большой', 'якиманка')): 1,\n",
       " (('большой', 'якиманка'), ('якиманка', 'километр')): 1,\n",
       " (('якиманка', 'километр'), ('километр', 'кремль')): 1,\n",
       " (('километр', 'кремль'), ('кремль', 'сей')): 1,\n",
       " (('кремль', 'сей'), ('сей', 'пора')): 1,\n",
       " (('сей', 'пора'), ('пора', 'клиентский')): 1,\n",
       " (('пора', 'клиентский'), ('клиентский', 'туалет')): 1,\n",
       " (('клиентский', 'туалет'), ('туалет', 'сотрудник')): 1,\n",
       " (('туалет', 'сотрудник'), ('сотрудник', 'вынуждать')): 1,\n",
       " (('сотрудник', 'вынуждать'), ('вынуждать', 'отвлекаться')): 1,\n",
       " (('вынуждать', 'отвлекаться'), ('отвлекаться', 'работа')): 1,\n",
       " (('отвлекаться', 'работа'), ('работа', 'водить')): 1,\n",
       " (('работа', 'водить'), ('водить', 'клиент')): 1,\n",
       " (('водить', 'клиент'), ('клиент', 'ручка')): 1,\n",
       " (('клиент', 'ручка'), ('ручка', 'стоять')): 1,\n",
       " (('ручка', 'стоять'), ('стоять', 'дверь')): 1,\n",
       " (('стоять', 'дверь'), ('дверь', 'ждать')): 1,\n",
       " (('дверь', 'ждать'), ('ждать', 'пока')): 1,\n",
       " (('ждать', 'пока'), ('пока', 'тот')): 1,\n",
       " (('пока', 'тот'), ('тот', 'справлять')): 1,\n",
       " (('тот', 'справлять'), ('справлять', 'нужда')): 1,\n",
       " (('справлять', 'нужда'), ('нужда', 'этак')): 1,\n",
       " (('нужда', 'этак'), ('этак', 'экосистема')): 1,\n",
       " (('этак', 'экосистема'), ('экосистема', 'построить')): 1,\n",
       " (('экосистема', 'построить'), ('построить', 'сбер')): 1,\n",
       " (('построить', 'сбер'), ('сбер', 'сбербанк')): 1,\n",
       " (('сбер', 'сбербанк'), ('сбербанк', 'домклик')): 1,\n",
       " (('часто', 'слышать'), ('слышать', 'разный')): 1,\n",
       " (('слышать', 'разный'), ('разный', 'человек')): 1,\n",
       " (('разный', 'человек'), ('человек', 'заявление')): 1,\n",
       " (('человек', 'заявление'), ('заявление', 'тип')): 1,\n",
       " (('заявление', 'тип'), ('тип', 'давно')): 1,\n",
       " (('тип', 'давно'), ('давно', 'проходить')): 1,\n",
       " (('давно', 'проходить'), ('проходить', 'тот')): 2,\n",
       " (('проходить', 'тот'), ('тот', 'время')): 2,\n",
       " (('тот', 'время'), ('время', 'человек')): 2,\n",
       " (('время', 'человек'), ('человек', 'обманывать')): 2,\n",
       " (('человек', 'обманывать'), ('обманывать', 'оставаться')): 2,\n",
       " (('обманывать', 'оставаться'), ('оставаться', 'жилье')): 2,\n",
       " (('оставаться', 'жилье'), ('жилье', 'да')): 2,\n",
       " (('жилье', 'да'), ('да', 'нешто')): 2,\n",
       " (('да', 'нешто'), ('нешто', 'наш')): 2,\n",
       " (('нешто', 'наш'), ('наш', 'время')): 2,\n",
       " (('наш', 'время'), ('время', 'такой')): 2,\n",
       " (('время', 'такой'), ('такой', 'бывать')): 2,\n",
       " (('такой', 'бывать'), ('бывать', 'врать')): 1,\n",
       " (('бывать', 'врать'), ('врать', 'выдумывать')): 1,\n",
       " (('врать', 'выдумывать'), ('выдумывать', 'всякий')): 1,\n",
       " (('выдумывать', 'всякий'), ('всякий', 'история')): 1,\n",
       " (('всякий', 'история'), ('история', 'красный')): 1,\n",
       " (('история', 'красный'), ('красный', 'словцо')): 1,\n",
       " (('красный', 'словцо'), ('словцо', 'за')): 1,\n",
       " (('словцо', 'за'), ('за', 'говорить')): 1,\n",
       " (('за', 'говорить'), ('говорить', 'быть')): 1,\n",
       " (('говорить', 'быть'), ('быть', 'основывать')): 1,\n",
       " (('быть', 'основывать'), ('основывать', 'реальный')): 1,\n",
       " (('основывать', 'реальный'), ('реальный', 'событие')): 2,\n",
       " (('реальный', 'событие'), ('событие', 'живой')): 1,\n",
       " (('событие', 'живой'), ('живой', 'пример')): 1,\n",
       " (('живой', 'пример'), ('пример', 'очень')): 1,\n",
       " (('пример', 'очень'), ('очень', 'уютный')): 1,\n",
       " (('очень', 'уютный'), ('уютный', 'двушка')): 1,\n",
       " (('уютный', 'двушка'), ('двушка', 'хороший')): 1,\n",
       " (('двушка', 'хороший'), ('хороший', 'ремонт')): 1,\n",
       " (('хороший', 'ремонт'), ('ремонт', 'продаваться')): 1,\n",
       " (('ремонт', 'продаваться'), ('продаваться', 'строгино')): 1,\n",
       " (('продаваться', 'строгино'), ('строгино', 'они')): 1,\n",
       " (('строгино', 'они'), ('они', 'хотеть')): 1,\n",
       " (('они', 'хотеть'), ('хотеть', 'продавать')): 1,\n",
       " (('хотеть', 'продавать'), ('продавать', 'хотеть')): 1,\n",
       " (('продавать', 'хотеть'), ('хотеть', 'купить')): 1,\n",
       " (('хотеть', 'купить'), ('купить', 'устраивать')): 1,\n",
       " (('купить', 'устраивать'), ('устраивать', 'нынешний')): 1,\n",
       " (('устраивать', 'нынешний'), ('нынешний', 'собственник')): 1,\n",
       " (('нынешний', 'собственник'), ('собственник', 'приобретать')): 1,\n",
       " (('собственник', 'приобретать'), ('приобретать', 'квартира')): 1,\n",
       " (('приобретать', 'квартира'), ('квартира', 'мало')): 1,\n",
       " (('квартира', 'мало'), ('мало', 'год')): 1,\n",
       " (('мало', 'год'), ('год', 'назад')): 1,\n",
       " (('год', 'назад'), ('назад', 'сам')): 1,\n",
       " (('назад', 'сам'), ('сам', 'факт')): 1,\n",
       " (('сам', 'факт'), ('факт', 'криминальный')): 1,\n",
       " (('факт', 'криминальный'), ('криминальный', 'результат')): 1,\n",
       " (('криминальный', 'результат'), ('результат', 'орм')): 1,\n",
       " (('результат', 'орм'), ('орм', 'мы')): 1,\n",
       " (('орм', 'мы'), ('мы', 'удаваться')): 1,\n",
       " (('мы', 'удаваться'), ('удаваться', 'выяснивать')): 1,\n",
       " (('удаваться', 'выяснивать'), ('выяснивать', 'продавец')): 1,\n",
       " (('выяснивать', 'продавец'), ('продавец', 'г')): 1,\n",
       " (('продавец', 'г'), ('г', 'р')): 1,\n",
       " (('г', 'р'), ('р', 'тот')): 1,\n",
       " (('р', 'тот'), ('тот', 'сделка')): 1,\n",
       " (('тот', 'сделка'), ('сделка', 'страдать')): 1,\n",
       " (('сделка', 'страдать'), ('страдать', 'биполярный')): 1,\n",
       " (('страдать', 'биполярный'), ('биполярный', 'расстройство')): 1,\n",
       " (('биполярный', 'расстройство'), ('расстройство', 'личность')): 1,\n",
       " (('расстройство', 'личность'), ('личность', 'называть')): 1,\n",
       " (('личность', 'называть'), ('называть', 'психиатр')): 1,\n",
       " (('называть', 'психиатр'), ('психиатр', 'маниакально-депрессивный')): 1,\n",
       " (('психиатр', 'маниакально-депрессивный'),\n",
       "  ('маниакально-депрессивный', 'синдром')): 1,\n",
       " (('маниакально-депрессивный', 'синдром'), ('синдром', 'более')): 1,\n",
       " (('синдром', 'более'), ('более', 'данный')): 1,\n",
       " (('более', 'данный'), ('данный', 'момент')): 1,\n",
       " (('данный', 'момент'), ('момент', 'находиться')): 1,\n",
       " (('момент', 'находиться'), ('находиться', 'лечение')): 1,\n",
       " (('находиться', 'лечение'), ('лечение', 'профильный')): 1,\n",
       " (('лечение', 'профильный'), ('профильный', 'заведение')): 1,\n",
       " (('профильный', 'заведение'), ('заведение', 'ориентироваться')): 1,\n",
       " (('заведение', 'ориентироваться'), ('ориентироваться', 'пространство')): 1,\n",
       " (('ориентироваться', 'пространство'), ('пространство', 'мало')): 1,\n",
       " (('пространство', 'мало'), ('мало', 'кто')): 1,\n",
       " (('мало', 'кто'), ('кто', 'узнавать')): 1,\n",
       " (('кто', 'узнавать'), ('узнавать', 'помнить')): 1,\n",
       " (('узнавать', 'помнить'), ('помнить', 'продавать')): 1,\n",
       " (('помнить', 'продавать'), ('продавать', 'квартира')): 1,\n",
       " (('продавать', 'квартира'), ('квартира', 'со')): 1,\n",
       " (('квартира', 'со'), ('со', 'слово')): 1,\n",
       " (('со', 'слово'), ('слово', 'гражданский')): 1,\n",
       " (('слово', 'гражданский'), ('гражданский', 'супруга')): 1,\n",
       " (('гражданский', 'супруга'), ('супруга', 'известно')): 1,\n",
       " (('супруга', 'известно'), ('известно', 'факт')): 1,\n",
       " (('известно', 'факт'), ('факт', 'продажа')): 1,\n",
       " (('факт', 'продажа'), ('продажа', 'квартира')): 1,\n",
       " (('продажа', 'квартира'), ('квартира', 'уверенный')): 1,\n",
       " (('квартира', 'уверенный'), ('уверенный', 'деньги')): 1,\n",
       " (('уверенный', 'деньги'), ('деньги', 'никакой')): 1,\n",
       " (('деньги', 'никакой'), ('никакой', 'получать')): 1,\n",
       " (('никакой', 'получать'), ('получать', 'планировать')): 1,\n",
       " (('получать', 'планировать'), ('планировать', 'инициировать')): 1,\n",
       " (('планировать', 'инициировать'), ('инициировать', 'процесс')): 1,\n",
       " (('инициировать', 'процесс'), ('процесс', 'признание')): 1,\n",
       " (('процесс', 'признание'), ('признание', 'сделка')): 1,\n",
       " (('признание', 'сделка'), ('сделка', 'недействительный')): 1,\n",
       " (('сделка', 'недействительный'), ('недействительный', 'представитель')): 1,\n",
       " (('недействительный', 'представитель'), ('представитель', 'продавец')): 1,\n",
       " (('представитель', 'продавец'), ('продавец', 'аванс')): 1,\n",
       " (('продавец', 'аванс'), ('аванс', 'говорить')): 1,\n",
       " (('аванс', 'говорить'), ('говорить', 'тот')): 1,\n",
       " (('говорить', 'тот'), ('тот', 'слово')): 1,\n",
       " (('тот', 'слово'), ('слово', 'давно')): 1,\n",
       " (('слово', 'давно'), ('давно', 'проходить')): 1,\n",
       " (('такой', 'бывать'), ('бывать', 'вы')): 1,\n",
       " (('бывать', 'вы'), ('вы', 'чрезмерно')): 1,\n",
       " (('вы', 'чрезмерно'), ('чрезмерно', 'щепетильный')): 1,\n",
       " (('чрезмерно', 'щепетильный'), ('щепетильный', 'хватить')): 1,\n",
       " (('щепетильный', 'хватить'), ('хватить', 'придумывать')): 1,\n",
       " (('хватить', 'придумывать'), ('придумывать', 'всякий')): 1,\n",
       " (('придумывать', 'всякий'), ('всякий', 'ерунда')): 1,\n",
       " (('всякий', 'ерунда'), ('ерунда', 'человек')): 1,\n",
       " (('ерунда', 'человек'), ('человек', 'быть')): 1,\n",
       " (('человек', 'быть'), ('быть', 'бдительный')): 1,\n",
       " (('быть', 'бдительный'), ('бдительный', 'беречь')): 1,\n",
       " (('бдительный', 'беречь'), ('беречь', 'свой')): 1,\n",
       " (('беречь', 'свой'), ('свой', 'деньги')): 1,\n",
       " (('свой', 'деньги'), ('деньги', 'обращаться')): 1,\n",
       " (('деньги', 'обращаться'), ('обращаться', 'специалист')): 1,\n",
       " (('обращаться', 'специалист'), ('специалист', 'P')): 1,\n",
       " (('специалист', 'P'), ('P', 'S')): 1,\n",
       " (('P', 'S'), ('S', 'еще')): 1,\n",
       " (('S', 'еще'), ('еще', 'повторять')): 1,\n",
       " (('еще', 'повторять'), ('повторять', 'история')): 1,\n",
       " (('повторять', 'история'), ('история', 'основывать')): 1,\n",
       " (('история', 'основывать'), ('основывать', 'реальный')): 1,\n",
       " (('уважаемый', 'дама'), ('дама', 'господин')): 1,\n",
       " (('дама', 'господин'), ('господин', 'думать')): 1,\n",
       " (('господин', 'думать'), ('думать', 'смочь')): 1,\n",
       " (('думать', 'смочь'), ('смочь', 'достоинство')): 1,\n",
       " (('смочь', 'достоинство'), ('достоинство', 'оценивать')): 1,\n",
       " (('достоинство', 'оценивать'), ('оценивать', 'красота')): 1,\n",
       " (('оценивать', 'красота'), ('красота', 'мошеннический')): 1,\n",
       " (('красота', 'мошеннический'), ('мошеннический', 'схема')): 1,\n",
       " (('мошеннический', 'схема'), ('схема', 'определение')): 1,\n",
       " (('схема', 'определение'), ('определение', '№')): 1,\n",
       " (('знать', 'риелтор'), ('риелтор', 'очень')): 1,\n",
       " (('риелтор', 'очень'), ('очень', 'наблюдательный')): 1,\n",
       " (('очень', 'наблюдательный'), ('наблюдательный', 'отличный')): 1,\n",
       " (('наблюдательный', 'отличный'), ('отличный', 'психолог')): 1,\n",
       " (('отличный', 'психолог'), ('психолог', 'помогать')): 1,\n",
       " (('психолог', 'помогать'), ('помогать', 'разбираться')): 1,\n",
       " (('помогать', 'разбираться'), ('разбираться', 'совершенно')): 1,\n",
       " (('разбираться', 'совершенно'), ('совершенно', 'неожиданно')): 1,\n",
       " (('совершенно', 'неожиданно'), ('неожиданно', 'становиться')): 1,\n",
       " (('неожиданно', 'становиться'), ('становиться', 'участница')): 1,\n",
       " (('становиться', 'участница'), ('участница', 'дискуссия')): 1,\n",
       " (('участница', 'дискуссия'), ('дискуссия', 'повод')): 1,\n",
       " (('дискуссия', 'повод'), ('повод', 'приобретение')): 1,\n",
       " (('повод', 'приобретение'), ('приобретение', 'доля')): 1,\n",
       " (('приобретение', 'доля'), ('доля', 'число')): 1,\n",
       " (('доля', 'число'), ('число', 'микро')): 1,\n",
       " (('число', 'микро'), ('микро', 'доля')): 1,\n",
       " (('микро', 'доля'), ('доля', 'жилой')): 1,\n",
       " (('доля', 'жилой'), ('жилой', 'собственность')): 1,\n",
       " (('жилой', 'собственность'), ('собственность', 'мой')): 1,\n",
       " (('собственность', 'мой'), ('мой', 'знакомый')): 1,\n",
       " (('мой', 'знакомый'), ('знакомый', 'приобретать')): 1,\n",
       " (('знакомый', 'приобретать'), ('приобретать', 'такой')): 1,\n",
       " (('приобретать', 'такой'), ('такой', 'однушка')): 1,\n",
       " (('такой', 'однушка'), ('однушка', 'цель')): 1,\n",
       " (('однушка', 'цель'), ('цель', 'обеспечивать')): 1,\n",
       " (('цель', 'обеспечивать'), ('обеспечивать', 'свой')): 1,\n",
       " (('обеспечивать', 'свой'), ('свой', 'родитель')): 1,\n",
       " (('свой', 'родитель'), ('родитель', 'московский')): 1,\n",
       " (('родитель', 'московский'), ('московский', 'прописка')): 1,\n",
       " (('московский', 'прописка'), ('прописка', 'следовательно')): 1,\n",
       " (('прописка', 'следовательно'), ('следовательно', 'повышенный')): 1,\n",
       " (('следовательно', 'повышенный'), ('повышенный', 'пенсия')): 1,\n",
       " (('повышенный', 'пенсия'), ('пенсия', 'медобслуживание')): 1,\n",
       " (('пенсия', 'медобслуживание'), ('медобслуживание', 'операция')): 1,\n",
       " (('медобслуживание', 'операция'), ('операция', 'который')): 1,\n",
       " (('операция', 'который'), ('который', 'ждать')): 1,\n",
       " (('который', 'ждать'), ('ждать', 'бесплатный')): 1,\n",
       " (('ждать', 'бесплатный'), ('бесплатный', 'проезд')): 1,\n",
       " (('бесплатный', 'проезд'), ('проезд', 'сказать')): 1,\n",
       " (('проезд', 'сказать'), ('сказать', 'мы')): 1,\n",
       " (('сказать', 'мы'), ('мы', 'обсуждать')): 1,\n",
       " (('мы', 'обсуждать'), ('обсуждать', 'один')): 1,\n",
       " (('обсуждать', 'один'), ('один', 'мой')): 1,\n",
       " (('один', 'мой'), ('мой', 'друг')): 1,\n",
       " (('мой', 'друг'), ('друг', 'обсуждение')): 1,\n",
       " (('друг', 'обсуждение'), ('обсуждение', 'становиться')): 1,\n",
       " (('обсуждение', 'становиться'), ('становиться', 'очень')): 1,\n",
       " (('становиться', 'очень'), ('очень', 'эмоциональный')): 1,\n",
       " (('очень', 'эмоциональный'), ('эмоциональный', 'друг')): 1,\n",
       " (('эмоциональный', 'друг'), ('друг', 'считать')): 1,\n",
       " (('друг', 'считать'), ('считать', 'этот')): 1,\n",
       " (('считать', 'этот'), ('этот', 'причина')): 1,\n",
       " (('этот', 'причина'), ('причина', 'никто')): 1,\n",
       " (('причина', 'никто'), ('никто', 'становиться')): 1,\n",
       " (('никто', 'становиться'), ('становиться', 'покупать')): 1,\n",
       " (('становиться', 'покупать'), ('покупать', 'доля')): 1,\n",
       " (('покупать', 'доля'), ('доля', 'однушка')): 1,\n",
       " (('доля', 'однушка'), ('однушка', 'как')): 1,\n",
       " (('однушка', 'как'), ('как', 'самый')): 1,\n",
       " (('как', 'самый'), ('самый', 'дело')): 1,\n",
       " (('https', 'www'), ('www', 'anews')): 1,\n",
       " (('www', 'anews'), ('anews', 'com')): 1,\n",
       " (('anews', 'com'), ('com', 'semyu')): 1,\n",
       " (('com', 'semyu'), ('semyu', 's')): 1,\n",
       " (('semyu', 's'), ('s', 'detmi')): 1,\n",
       " (('друг', 'сегодня'), ('сегодня', 'очередной')): 1,\n",
       " (('сегодня', 'очередной'), ('очередной', 'показ')): 1,\n",
       " (('очередной', 'показ'), ('показ', 'дом')): 1,\n",
       " (('показ', 'дом'), ('дом', 'интересант')): 1,\n",
       " (('дом', 'интересант'), ('интересант', 'полезть')): 1,\n",
       " (('интересант', 'полезть'), ('полезть', 'ветка')): 1,\n",
       " (('полезть', 'ветка'), ('ветка', 'яблоко')): 1,\n",
       " (('ветка', 'яблоко'), ('яблоко', 'Мммм')): 1,\n",
       " (('яблоко', 'Мммм'), ('Мммм', 'какой')): 1,\n",
       " (('Мммм', 'какой'), ('какой', 'вкусный')): 1,\n",
       " (('какой', 'вкусный'), ('вкусный', 'пойти')): 1,\n",
       " (('вкусный', 'пойти'), ('пойти', 'ка')): 1,\n",
       " (('пойти', 'ка'), ('ка', 'пакетик')): 1,\n",
       " (('ка', 'пакетик'), ('пакетик', 'сходить')): 1,\n",
       " (('пакетик', 'сходить'), ('сходить', 'не')): 1,\n",
       " (('сходить', 'не'), ('не', 'пускать')): 1,\n",
       " (('не', 'пускать'), ('пускать', 'пакетик')): 1,\n",
       " (('пускать', 'пакетик'), ('пакетик', 'ссылаться')): 1,\n",
       " (('пакетик', 'ссылаться'), ('ссылаться', 'промышленный')): 1,\n",
       " (('ссылаться', 'промышленный'), ('промышленный', 'масштаб')): 1,\n",
       " (('промышленный', 'масштаб'), ('масштаб', 'свой')): 1,\n",
       " (('масштаб', 'свой'), ('свой', 'нужно')): 1,\n",
       " (('свой', 'нужно'), ('нужно', 'яблоня')): 1,\n",
       " (('нужно', 'яблоня'), ('яблоня', 'обирать')): 1,\n",
       " (('яблоня', 'обирать'), ('обирать', 'не')): 1,\n",
       " (('обирать', 'не'), ('не', 'понравиться')): 1,\n",
       " (('не', 'понравиться'), ('понравиться', 'человек')): 1,\n",
       " (('понравиться', 'человек'), ('человек', 'большинство')): 1,\n",
       " (('человек', 'большинство'), ('большинство', 'другой')): 1,\n",
       " (('большинство', 'другой'), ('другой', 'такой')): 1,\n",
       " (('другой', 'такой'), ('такой', 'вы')): 1,\n",
       " (('такой', 'вы'), ('вы', 'разрешать')): 1,\n",
       " (('вы', 'разрешать'), ('разрешать', 'клиентский')): 1,\n",
       " (('разрешать', 'клиентский'), ('клиентский', 'плод')): 1,\n",
       " (('клиентский', 'плод'), ('плод', 'вынос')): 1,\n",
       " (('плод', 'вынос'), ('вынос', 'сразу')): 1,\n",
       " (('вынос', 'сразу'), ('сразу', 'сказать')): 1,\n",
       " (('сразу', 'сказать'), ('сказать', 'несколько')): 1,\n",
       " (('сказать', 'несколько'), ('несколько', 'запрещать')): 1,\n",
       " (('несколько', 'запрещать'), ('запрещать', 'проба')): 1,\n",
       " (('запрещать', 'проба'), ('проба', 'сказать')): 1,\n",
       " (('проба', 'сказать'), ('сказать', 'наглеть')): 1,\n",
       " (('сказать', 'наглеть'), ('наглеть', 'давать')): 1,\n",
       " (('сегодня', 'сбер'), ('сбер', 'превосходить')): 1,\n",
       " (('сбер', 'превосходить'), ('превосходить', 'готовый')): 1,\n",
       " (('превосходить', 'готовый'), ('готовый', 'на')): 1,\n",
       " (('готовый', 'на'), ('на', 'учиться')): 1,\n",
       " (('на', 'учиться'), ('учиться', 'цепь')): 1,\n",
       " (('учиться', 'цепь'), ('цепь', 'квартира')): 1,\n",
       " (('цепь', 'квартира'), ('квартира', 'аккредитив')): 1,\n",
       " (('квартира', 'аккредитив'), ('аккредитив', 'красногорск')): 1,\n",
       " (('аккредитив', 'красногорск'), ('красногорск', 'переживать')): 1,\n",
       " (('красногорск', 'переживать'), ('переживать', 'договор')): 1,\n",
       " (('переживать', 'договор'), ('договор', 'сшивать')): 1,\n",
       " (('договор', 'сшивать'), ('сшивать', 'отказываться')): 1,\n",
       " (('сшивать', 'отказываться'), ('отказываться', 'поэтому')): 1,\n",
       " (('отказываться', 'поэтому'), ('поэтому', 'первый')): 1,\n",
       " (('поэтому', 'первый'), ('первый', 'жизнь')): 1,\n",
       " (('первый', 'жизнь'), ('жизнь', 'экологически')): 1,\n",
       " (('жизнь', 'экологически'), ('экологически', 'чистый')): 1,\n",
       " (('экологически', 'чистый'), ('чистый', 'материал')): 1,\n",
       " (('чистый', 'материал'), ('материал', 'толстоватый')): 1,\n",
       " (('материал', 'толстоватый'), ('толстоватый', 'зато')): 1,\n",
       " (('толстоватый', 'зато'), ('зато', 'заметный')): 1,\n",
       " (('зато', 'заметный'), ('заметный', 'вниманиеее')): 1,\n",
       " (('заметный', 'вниманиеее'), ('вниманиеее', 'бееечевкаа')): 1,\n",
       " (('входить', 'вы'), ('вы', 'вопрос')): 1,\n",
       " (('вы', 'вопрос'), ('вопрос', 'запрос')): 1,\n",
       " (('вопрос', 'запрос'), ('запрос', 'отвечать')): 1,\n",
       " (('октябрь', 'циан'), ('циан', 'приглашать')): 1,\n",
       " (('циан', 'приглашать'), ('приглашать', 'посещать')): 1,\n",
       " (('приглашать', 'посещать'), ('посещать', 'международный')): 1,\n",
       " (('посещать', 'международный'), ('международный', 'жилищный')): 1,\n",
       " (('международный', 'жилищный'), ('жилищный', 'конгресс')): 1,\n",
       " (('жилищный', 'конгресс'), ('конгресс', 'санкт-петербург')): 1,\n",
       " (('конгресс', 'санкт-петербург'), ('санкт-петербург', 'это')): 1,\n",
       " (('санкт-петербург', 'это'), ('это', 'крупный')): 1,\n",
       " (('это', 'крупный'), ('крупный', 'мероприятие')): 1,\n",
       " (('крупный', 'мероприятие'), ('мероприятие', 'сфера')): 1,\n",
       " (('мероприятие', 'сфера'), ('сфера', 'недвижимость')): 1,\n",
       " (('сфера', 'недвижимость'), ('недвижимость', 'формат')): 1,\n",
       " (('недвижимость', 'формат'), ('формат', 'ежегодно')): 1,\n",
       " (('формат', 'ежегодно'), ('ежегодно', 'собирать')): 1,\n",
       " (('ежегодно', 'собирать'), ('собирать', 'руководитель')): 1,\n",
       " (('собирать', 'руководитель'), ('руководитель', 'агентство')): 1,\n",
       " (('руководитель', 'агентство'), ('агентство', 'недвижимость')): 1,\n",
       " (('агентство', 'недвижимость'), ('недвижимость', 'строительный')): 1,\n",
       " (('недвижимость', 'строительный'), ('строительный', 'компания')): 1,\n",
       " (('строительный', 'компания'), ('компания', 'банк')): 1,\n",
       " (('компания', 'банк'), ('банк', 'эксперт')): 1,\n",
       " (('банк', 'эксперт'), ('эксперт', 'сфера')): 1,\n",
       " (('эксперт', 'сфера'), ('сфера', 'недвижимость')): 1,\n",
       " (('сфера', 'недвижимость'), ('недвижимость', 'россия')): 1,\n",
       " (('недвижимость', 'россия'), ('россия', 'зарубежный')): 1,\n",
       " (('россия', 'зарубежный'), ('зарубежный', 'страна')): 1,\n",
       " (('зарубежный', 'страна'), ('страна', 'мероприятие')): 1,\n",
       " (('страна', 'мероприятие'), ('мероприятие', 'пройти')): 1,\n",
       " (('мероприятие', 'пройти'), ('пройти', 'отель')): 1,\n",
       " (('пройти', 'отель'), ('отель', 'Park')): 1,\n",
       " (('отель', 'Park'), ('Park', 'Inn')): 1,\n",
       " (('Park', 'Inn'), ('Inn', 'прибалтийский')): 1,\n",
       " (('Inn', 'прибалтийский'), ('прибалтийский', 'офлайн')): 1,\n",
       " (('прибалтийский', 'офлайн'), ('офлайн', 'формат')): 1,\n",
       " (('офлайн', 'формат'), ('формат', 'циан')): 1,\n",
       " (('формат', 'циан'), ('циан', 'выступать')): 1,\n",
       " (('циан', 'выступать'), ('выступать', 'генеральный')): 1,\n",
       " (('выступать', 'генеральный'), ('генеральный', 'информационный')): 1,\n",
       " (('генеральный', 'информационный'), ('информационный', 'партнер')): 1,\n",
       " (('информационный', 'партнер'), ('партнер', 'конгресс')): 1,\n",
       " (('партнер', 'конгресс'), ('конгресс', 'от')): 1,\n",
       " (('конгресс', 'от'), ('от', 'циан')): 1,\n",
       " (('от', 'циан'), ('циан', 'рамка')): 1,\n",
       " (('циан', 'рамка'), ('рамка', 'конгресс')): 1,\n",
       " (('рамка', 'конгресс'), ('конгресс', 'выступать')): 1,\n",
       " (('конгресс', 'выступать'), ('выступать', 'спикер')): 1,\n",
       " (('выступать', 'спикер'), ('спикер', 'эксперт')): 1,\n",
       " (('спикер', 'эксперт'), ('эксперт', 'рассказывать')): 1,\n",
       " (('эксперт', 'рассказывать'), ('рассказывать', 'влияние')): 1,\n",
       " (('рассказывать', 'влияние'), ('влияние', 'пандемия')): 1,\n",
       " (('влияние', 'пандемия'), ('пандемия', 'развитие')): 1,\n",
       " (('пандемия', 'развитие'), ('развитие', 'жилищный')): 1,\n",
       " (('развитие', 'жилищный'), ('жилищный', 'рынок')): 1,\n",
       " (('жилищный', 'рынок'), ('рынок', 'перспектива')): 1,\n",
       " (('рынок', 'перспектива'), ('перспектива', 'цифровой')): 1,\n",
       " (('перспектива', 'цифровой'), ('цифровой', 'сервис')): 1,\n",
       " (('цифровой', 'сервис'), ('сервис', 'изменение')): 1,\n",
       " (('сервис', 'изменение'), ('изменение', 'поведение')): 1,\n",
       " (('изменение', 'поведение'), ('поведение', 'потребитель')): 1,\n",
       " (('поведение', 'потребитель'), ('потребитель', 'поделиться')): 1,\n",
       " (('потребитель', 'поделиться'), ('поделиться', 'прогноз')): 1,\n",
       " (('поделиться', 'прогноз'), ('прогноз', 'загородный')): 1,\n",
       " (('прогноз', 'загородный'), ('загородный', 'коммерческий')): 1,\n",
       " (('загородный', 'коммерческий'), ('коммерческий', 'недвижимость')): 1,\n",
       " (('коммерческий', 'недвижимость'), ('недвижимость', 'подробность')): 1,\n",
       " (('недвижимость', 'подробность'), ('подробность', 'регистрация')): 1,\n",
       " (('подробность', 'регистрация'), ('регистрация', 'ссылка')): 1,\n",
       " (('коллега', 'помогать'), ('помогать', 'на')): 1,\n",
       " (('помогать', 'на'), ('на', 'сайт')): 1,\n",
       " (('на', 'сайт'), ('сайт', 'росреестр')): 1,\n",
       " (('сайт', 'росреестр'), ('росреестр', 'вводить')): 1,\n",
       " (('росреестр', 'вводить'), ('вводить', 'номер')): 1,\n",
       " (('вводить', 'номер'), ('номер', 'mfc')): 1,\n",
       " (('номер', 'mfc'), ('mfc', 'видеть')): 1,\n",
       " (('mfc', 'видеть'), ('видеть', 'запрос')): 1,\n",
       " (('видеть', 'запрос'), ('запрос', 'или')): 1,\n",
       " (('запрос', 'или'), ('или', 'иначе')): 1,\n",
       " (('или', 'иначе'), ('иначе', 'вводить')): 1,\n",
       " (('коллега', 'все'), ('все', 'здравствовать')): 1,\n",
       " (('все', 'здравствовать'), ('здравствовать', 'кто')): 1,\n",
       " (('здравствовать', 'кто'), ('кто', 'опыт')): 1,\n",
       " (('кто', 'опыт'), ('опыт', 'доверенность')): 1,\n",
       " (('опыт', 'доверенность'), ('доверенность', 'другой')): 1,\n",
       " (('доверенность', 'другой'), ('другой', 'государство')): 1,\n",
       " (('другой', 'государство'), ('государство', 'посольство')): 1,\n",
       " (('государство', 'посольство'), ('посольство', 'рф')): 1,\n",
       " (('посольство', 'рф'), ('рф', 'венгрия')): 1,\n",
       " (('рф', 'венгрия'), ('венгрия', 'сделать')): 1,\n",
       " (('венгрия', 'сделать'), ('сделать', 'нотариальный')): 1,\n",
       " (('сделать', 'нотариальный'), ('нотариальный', 'доверенность')): 1,\n",
       " (('нотариальный', 'доверенность'), ('доверенность', 'покупка')): 1,\n",
       " (('доверенность', 'покупка'), ('покупка', 'квартира')): 1,\n",
       " (('покупка', 'квартира'), ('квартира', 'получать')): 1,\n",
       " (('квартира', 'получать'), ('получать', 'москва')): 1,\n",
       " (('получать', 'москва'), ('москва', 'нотариус')): 1,\n",
       " (('москва', 'нотариус'), ('нотариус', 'или')): 1,\n",
       " (('нотариус', 'или'), ('или', 'курьерский')): 1,\n",
       " (('или', 'курьерский'), ('курьерский', 'отправлять')): 1,\n",
       " (('курьерский', 'отправлять'), ('отправлять', 'оригинал')): 1,\n",
       " (('отправлять', 'оригинал'), ('оригинал', 'сталкиваться')): 1,\n",
       " (('оригинал', 'сталкиваться'), ('сталкиваться', 'такой')): 1,\n",
       " (('добрый', 'день'), ('день', 'вот')): 1,\n",
       " (('день', 'вот'), ('вот', 'интересно')): 1,\n",
       " (('вот', 'интересно'), ('интересно', 'мнение')): 1,\n",
       " (('интересно', 'мнение'), ('мнение', 'профессионал')): 1,\n",
       " (('мнение', 'профессионал'), ('профессионал', 'продавец')): 1,\n",
       " (('профессионал', 'продавец'), ('продавец', 'требование')): 1,\n",
       " (('продавец', 'требование'), ('требование', 'предоставлять')): 1,\n",
       " (('требование', 'предоставлять'), ('предоставлять', 'справка')): 1,\n",
       " (('предоставлять', 'справка'), ('справка', 'нд')): 1,\n",
       " (('справка', 'нд'), ('нд', 'ПНД')): 2,\n",
       " (('нд', 'ПНД'), ('ПНД', 'встречный')): 1,\n",
       " (('ПНД', 'встречный'), ('встречный', 'просить')): 1,\n",
       " (('встречный', 'просить'), ('просить', 'справка')): 1,\n",
       " (('просить', 'справка'), ('справка', 'покупатель')): 1,\n",
       " (('справка', 'покупатель'), ('покупатель', 'как')): 1,\n",
       " (('покупатель', 'как'), ('как', 'такой')): 1,\n",
       " (('как', 'такой'), ('такой', 'случай')): 1,\n",
       " (('такой', 'случай'), ('случай', 'поступать')): 1,\n",
       " (('случай', 'поступать'), ('поступать', 'что')): 1,\n",
       " (('поступать', 'что'), ('что', 'говорить')): 1,\n",
       " (('что', 'говорить'), ('говорить', 'предоставлять')): 1,\n",
       " (('говорить', 'предоставлять'), ('предоставлять', 'на')): 1,\n",
       " (('предоставлять', 'на'), ('на', 'сколько')): 1,\n",
       " (('на', 'сколько'), ('сколько', 'целесообразный')): 1,\n",
       " (('сколько', 'целесообразный'), ('целесообразный', 'уточнять')): 1,\n",
       " (('целесообразный', 'уточнять'), ('уточнять', 'справка')): 1,\n",
       " (('уточнять', 'справка'), ('справка', 'нд')): 1,\n",
       " (('нд', 'ПНД'), ('ПНД', 'покупатель')): 1,\n",
       " (('ПНД', 'покупатель'), ('покупатель', 'для')): 1,\n",
       " (('покупатель', 'для'), ('для', 'какой')): 1,\n",
       " (('для', 'какой'), ('какой', 'цель')): 1,\n",
       " (('какой', 'цель'), ('цель', 'нужный')): 1,\n",
       " (('криминальный', 'риэлтор'), ('риэлтор', 'черный')): 1,\n",
       " (('риэлтор', 'черный'), ('черный', 'изыди')): 1,\n",
       " (('черный', 'изыди'), ('изыди', 'вон')): 1,\n",
       " (('небоскреб', 'откидываться'), ('откидываться', 'часть')): 1,\n",
       " (('откидываться', 'часть'), ('часть', 'стена')): 1,\n",
       " (('чикаго', 'наклоняться'), ('наклоняться', 'смотровой')): 1,\n",
       " (('наклоняться', 'смотровой'), ('смотровой', 'площадка')): 1,\n",
       " (('смотровой', 'площадка'), ('площадка', 'один')): 1,\n",
       " (('площадка', 'один'), ('один', 'небоскреб')): 1,\n",
       " (('один', 'небоскреб'), ('небоскреб', 'вид')): 1,\n",
       " (('небоскреб', 'вид'), ('вид', 'открываться')): 1,\n",
       " (('вид', 'открываться'), ('открываться', 'поразительный')): 1,\n",
       " (('коллега', 'посоветовать'), ('посоветовать', 'пожалуйста')): 1,\n",
       " (('посоветовать', 'пожалуйста'), ('пожалуйста', 'послушать')): 1,\n",
       " (('пожалуйста', 'послушать'), ('послушать', 'посмотреть')): 1,\n",
       " (('послушать', 'посмотреть'), ('посмотреть', 'почитать')): 1,\n",
       " (('посмотреть', 'почитать'), ('почитать', 'умный')): 1,\n",
       " (('почитать', 'умный'), ('умный', 'человек')): 1,\n",
       " (('умный', 'человек'), ('человек', 'психология')): 1,\n",
       " (('человек', 'психология'), ('психология', 'продажа')): 1,\n",
       " (('психология', 'продажа'), ('продажа', 'развитие')): 1,\n",
       " (('продажа', 'развитие'), ('развитие', 'агентство')): 1,\n",
       " (('развитие', 'агентство'), ('агентство', 'недвижимость')): 1,\n",
       " (('агентство', 'недвижимость'), ('недвижимость', 'только')): 1,\n",
       " (('недвижимость', 'только'), ('только', 'глубинный')): 1,\n",
       " (('только', 'глубинный'), ('глубинный', 'тип')): 1,\n",
       " (('глубинный', 'тип'), ('тип', 'капитан')): 1,\n",
       " (('тип', 'капитан'), ('капитан', 'очевидность')): 1,\n",
       " (('капитан', 'очевидность'), ('очевидность', 'совет')): 1,\n",
       " (('очевидность', 'совет'), ('совет', 'тип')): 1,\n",
       " (('совет', 'тип'), ('тип', 'принимать')): 1,\n",
       " (('тип', 'принимать'), ('принимать', 'аванс')): 1,\n",
       " (('принимать', 'аванс'), ('аванс', 'сделка')): 1,\n",
       " (('аванс', 'сделка'), ('сделка', 'расслабляться')): 1,\n",
       " (('сделка', 'расслабляться'), ('расслабляться', 'завтрашний')): 1,\n",
       " (('расслабляться', 'завтрашний'), ('завтрашний', 'день')): 1,\n",
       " (('завтрашний', 'день'), ('день', 'начинать')): 1,\n",
       " (('день', 'начинать'), ('начинать', 'генерировать')): 1,\n",
       " (('начинать', 'генерировать'), ('генерировать', 'новый')): 1,\n",
       " (('генерировать', 'новый'), ('новый', 'заявка')): 1,\n",
       " (('новый', 'заявка'), ('заявка', 'слишком')): 1,\n",
       " (('заявка', 'слишком'), ('слишком', 'простой')): 1,\n",
       " (('слишком', 'простой'), ('простой', 'я')): 1,\n",
       " (('простой', 'я'), ('я', 'что-то')): 1,\n",
       " (('я', 'что-то'), ('что-то', 'умный')): 1,\n",
       " (('что-то', 'умный'), ('умный', 'но')): 1,\n",
       " (('умный', 'но'), ('но', 'сам')): 1,\n",
       " (('но', 'сам'), ('сам', 'как-то')): 1,\n",
       " (('сам', 'как-то'), ('как-то', 'находить')): 1,\n",
       " (('как-то', 'находить'), ('находить', 'спасибо')): 1,\n",
       " (('находить', 'спасибо'), ('спасибо', 'заранее')): 1,\n",
       " (('добрый', 'день'), ('день', 'мочь')): 1,\n",
       " (('день', 'мочь'), ('мочь', 'ситуация')): 1,\n",
       " (('мочь', 'ситуация'), ('ситуация', 'подсказывать')): 1,\n",
       " (('ситуация', 'подсказывать'), ('подсказывать', 'выход')): 1,\n",
       " (('подсказывать', 'выход'), ('выход', 'покупка')): 1,\n",
       " (('выход', 'покупка'), ('покупка', 'квартира')): 1,\n",
       " (('покупка', 'квартира'), ('квартира', 'ипотека')): 1,\n",
       " (('квартира', 'ипотека'), ('ипотека', 'сбербанк')): 1,\n",
       " (('ипотека', 'сбербанк'), ('сбербанк', 'госпрограмма')): 1,\n",
       " (('сбербанк', 'госпрограмма'), ('госпрограмма', 'получать')): 1,\n",
       " (('госпрограмма', 'получать'), ('получать', 'решение')): 1,\n",
       " (('получать', 'решение'), ('решение', 'оценка')): 1,\n",
       " (('решение', 'оценка'), ('оценка', 'получать')): 1,\n",
       " (('оценка', 'получать'), ('получать', 'сбер')): 1,\n",
       " (('получать', 'сбер'), ('сбер', 'говорить')): 1,\n",
       " (('сбер', 'говорить'), ('говорить', 'оценка')): 1,\n",
       " (('говорить', 'оценка'), ('оценка', 'завышать')): 1,\n",
       " (('оценка', 'завышать'), ('завышать', 'квартира')): 1,\n",
       " (('завышать', 'квартира'), ('квартира', 'элитный')): 1,\n",
       " (('квартира', 'элитный'), ('элитный', 'дом')): 2,\n",
       " (('элитный', 'дом'), ('дом', 'велеть')): 1,\n",
       " (('дом', 'велеть'), ('велеть', 'сделать')): 1,\n",
       " (('велеть', 'сделать'), ('сделать', 'оценка')): 1,\n",
       " (('сделать', 'оценка'), ('оценка', 'сделать')): 1,\n",
       " (('оценка', 'сделать'), ('сделать', 'сбер')): 1,\n",
       " (('сделать', 'сбер'), ('сбер', 'говорить')): 1,\n",
       " (('сбер', 'говорить'), ('говорить', 'этот')): 1,\n",
       " (('говорить', 'этот'), ('этот', 'оценка')): 1,\n",
       " (('этот', 'оценка'), ('оценка', 'завышать')): 1,\n",
       " (('оценка', 'завышать'), ('завышать', 'стоять')): 1,\n",
       " (('завышать', 'стоять'), ('стоять', 'квартира')): 1,\n",
       " (('стоять', 'квартира'), ('квартира', 'элитный')): 1,\n",
       " (('элитный', 'дом'), ('дом', 'стоять')): 1,\n",
       " (('дом', 'стоять'), ('стоять', 'гореть')): 1,\n",
       " (('стоять', 'гореть'), ('гореть', 'решение')): 1,\n",
       " (('гореть', 'решение'), ('решение', 'соответственно')): 1,\n",
       " (('решение', 'соответственно'), ('соответственно', 'находить')): 1,\n",
       " (('соответственно', 'находить'), ('находить', 'наличные')): 1,\n",
       " (('находить', 'наличные'), ('наличные', 'млн')): 1,\n",
       " (('наличные', 'млн'), ('млн', 'представляться')): 1,\n",
       " (('млн', 'представляться'), ('представляться', 'возможный')): 1,\n",
       " (('представляться', 'возможный'), ('возможный', 'быть')): 1,\n",
       " (('возможный', 'быть'), ('быть', 'путь')): 1,\n",
       " (('быть', 'путь'), ('путь', 'решение')): 1,\n",
       " (('путь', 'решение'), ('решение', 'заранее')): 1,\n",
       " (('решение', 'заранее'), ('заранее', 'спасибо')): 1,\n",
       " (('уважаемый', 'участник'), ('участник', 'конгресс')): 1,\n",
       " (('участник', 'конгресс'), ('конгресс', 'напоминать')): 1,\n",
       " (('конгресс', 'напоминать'), ('напоминать', 'печатный')): 1,\n",
       " (('напоминать', 'печатный'), ('печатный', 'издание')): 1,\n",
       " (('печатный', 'издание'), ('издание', 'деловой')): 1,\n",
       " (('издание', 'деловой'), ('деловой', 'программа')): 1,\n",
       " (('деловой', 'программа'), ('программа', 'конгресс')): 1,\n",
       " (('программа', 'конгресс'), ('конгресс', 'поэтому')): 1,\n",
       " (('конгресс', 'поэтому'), ('поэтому', 'настоятельно')): 1,\n",
       " (('поэтому', 'настоятельно'), ('настоятельно', 'рекомендовать')): 1,\n",
       " (('настоятельно', 'рекомендовать'), ('рекомендовать', 'скачать')): 1,\n",
       " (('рекомендовать', 'скачать'), ('скачать', 'мобильный')): 1,\n",
       " (('скачать', 'мобильный'), ('мобильный', 'приложение')): 1,\n",
       " (('мобильный', 'приложение'), ('приложение', 'конгресс')): 1,\n",
       " (('приложение', 'конгресс'), ('конгресс', 'находить')): 1,\n",
       " (('конгресс', 'находить'), ('находить', 'информация')): 1,\n",
       " (('находить', 'информация'), ('информация', 'деловой')): 1,\n",
       " (('информация', 'деловой'), ('деловой', 'культурно')): 1,\n",
       " (('деловой', 'культурно'), ('культурно', 'развлекательный')): 1,\n",
       " (('культурно', 'развлекательный'), ('развлекательный', 'мероприятие')): 1,\n",
       " (('развлекательный', 'мероприятие'), ('мероприятие', 'последний')): 1,\n",
       " (('мероприятие', 'последний'), ('последний', 'новость')): 1,\n",
       " (('последний', 'новость'), ('новость', 'другой')): 1,\n",
       " (('новость', 'другой'), ('другой', 'полезный')): 1,\n",
       " (('другой', 'полезный'), ('полезный', 'сведение')): 1,\n",
       " (('полезный', 'сведение'), ('сведение', 'помощь')): 1,\n",
       " (('сведение', 'помощь'), ('помощь', 'данный')): 1,\n",
       " (('помощь', 'данный'), ('данный', 'сервис')): 1,\n",
       " (('данный', 'сервис'), ('сервис', 'также')): 1,\n",
       " (('сервис', 'также'), ('также', 'смочь')): 1,\n",
       " (('также', 'смочь'), ('смочь', 'общаться')): 1,\n",
       " (('смочь', 'общаться'), ('общаться', 'друг')): 1,\n",
       " (('общаться', 'друг'), ('друг', 'друг')): 1,\n",
       " (('друг', 'друг'), ('друг', 'назначать')): 1,\n",
       " (('друг', 'назначать'), ('назначать', 'встреча')): 1,\n",
       " (('назначать', 'встреча'), ('встреча', 'участник')): 1,\n",
       " (('встреча', 'участник'), ('участник', 'конгресс')): 1,\n",
       " (('участник', 'конгресс'), ('конгресс', 'инструкция')): 1,\n",
       " (('конгресс', 'инструкция'), ('инструкция', 'использование')): 1,\n",
       " (('инструкция', 'использование'), ('использование', 'приложение')): 1,\n",
       " (('использование', 'приложение'), ('приложение', 'размещать')): 1,\n",
       " (('приложение', 'размещать'), ('размещать', 'https')): 1,\n",
       " (('размещать', 'https'), ('https', 'spbcongress')): 1,\n",
       " (('https', 'spbcongress'), ('spbcongress', 'ru')): 1,\n",
       " (('spbcongress', 'ru'), ('ru', 'congress')): 1,\n",
       " (('ru', 'congress'), ('congress', 'pril')): 1,\n",
       " (('congress', 'pril'), ('pril', 'html')): 1,\n",
       " (('важный', 'информация'), ('информация', 'бесплатный')): 1,\n",
       " (('информация', 'бесплатный'), ('бесплатный', 'участник')): 1,\n",
       " (('бесплатный', 'участник'), ('участник', 'конгрессам')): 1,\n",
       " (('участник', 'конгрессам'), ('конгрессам', 'уважение')): 1,\n",
       " (('конгрессам', 'уважение'), ('уважение', 'понимание')): 1,\n",
       " (('уважение', 'понимание'), ('понимание', 'относиться')): 1,\n",
       " (('понимание', 'относиться'), ('относиться', 'ваш')): 1,\n",
       " (('относиться', 'ваш'), ('ваш', 'выбор')): 1,\n",
       " (('ваш', 'выбор'), ('выбор', 'бесплатный')): 1,\n",
       " (('выбор', 'бесплатный'), ('бесплатный', 'пакет')): 1,\n",
       " (('бесплатный', 'пакет'), ('пакет', 'участие')): 1,\n",
       " (('пакет', 'участие'), ('участие', 'то')): 1,\n",
       " (('участие', 'то'), ('то', 'просить')): 1,\n",
       " (('то', 'просить'), ('просить', 'ответ')): 1,\n",
       " (('просить', 'ответ'), ('ответ', 'оргкомитет')): 1,\n",
       " (('ответ', 'оргкомитет'), ('оргкомитет', 'конгресс')): 1,\n",
       " (('оргкомитет', 'конгресс'), ('конгресс', 'получать')): 1,\n",
       " (('конгресс', 'получать'), ('получать', 'городской')): 1,\n",
       " (('получать', 'городской'), ('городской', 'властей')): 1,\n",
       " (('городской', 'властей'), ('властей', 'разрешение')): 1,\n",
       " (('властей', 'разрешение'), ('разрешение', 'проведение')): 1,\n",
       " (('разрешение', 'проведение'), ('проведение', 'форум')): 1,\n",
       " (('проведение', 'форум'), ('форум', 'неукоснительный')): 1,\n",
       " (('форум', 'неукоснительный'), ('неукоснительный', 'соблюдение')): 1,\n",
       " (('неукоснительный', 'соблюдение'), ('соблюдение', 'рекомендация')): 1,\n",
       " (('соблюдение', 'рекомендация'), ('рекомендация', 'требование')): 1,\n",
       " (('рекомендация', 'требование'), ('требование', 'роспотребнадзор')): 1,\n",
       " (('требование', 'роспотребнадзор'), ('роспотребнадзор', 'поэтому')): 1,\n",
       " (('роспотребнадзор', 'поэтому'), ('поэтому', 'многий')): 1,\n",
       " (('поэтому', 'многий'), ('многий', 'зала')): 1,\n",
       " (('многий', 'зала'), ('зала', 'прибалтия')): 1,\n",
       " (('зала', 'прибалтия'), ('прибалтия', 'скои')): 1,\n",
       " (('прибалтия', 'скои'), ('скои', 'расширять')): 1,\n",
       " (('скои', 'расширять'), ('расширять', 'убираться')): 1,\n",
       " (('расширять', 'убираться'), ('убираться', 'стена')): 1,\n",
       " (('убираться', 'стена'), ('стена', 'также')): 1,\n",
       " (('стена', 'также'), ('также', 'дополнительно')): 1,\n",
       " (('также', 'дополнительно'), ('дополнительно', 'арендовать')): 1,\n",
       " (('дополнительно', 'арендовать'), ('арендовать', 'конгресс')): 1,\n",
       " (('арендовать', 'конгресс'), ('конгресс', 'центр')): 1,\n",
       " (('конгресс', 'центр'), ('центр', 'горный')): 1,\n",
       " (('центр', 'горный'), ('горный', 'институт')): 1,\n",
       " (('горный', 'институт'), ('институт', 'несмотря')): 1,\n",
       " (('институт', 'несмотря'), ('несмотря', 'принимать')): 1,\n",
       " (('несмотря', 'принимать'), ('принимать', 'мера')): 1,\n",
       " (('принимать', 'мера'), ('мера', 'е')): 1,\n",
       " (('мера', 'е'), ('е', 'мкость')): 1,\n",
       " (('е', 'мкость'), ('мкость', 'многий')): 1,\n",
       " (('мкость', 'многий'), ('многий', 'зал')): 1,\n",
       " (('многий', 'зал'), ('зал', 'позволять')): 1,\n",
       " (('зал', 'позволять'), ('позволять', 'размещать')): 1,\n",
       " (('позволять', 'размещать'), ('размещать', 'желающий')): 1,\n",
       " (('размещать', 'желающий'), ('желающий', 'напоминать')): 1,\n",
       " (('желающий', 'напоминать'), ('напоминать', 'приоритет')): 1,\n",
       " (('напоминать', 'приоритет'), ('приоритет', 'запуск')): 1,\n",
       " (('приоритет', 'запуск'), ('запуск', 'зал')): 1,\n",
       " (('запуск', 'зал'), ('зал', 'иметь')): 1,\n",
       " (('зал', 'иметь'), ('иметь', 'платный')): 1,\n",
       " (('иметь', 'платный'), ('платный', 'участник')): 1,\n",
       " (('платный', 'участник'), ('участник', 'спикер')): 1,\n",
       " (('участник', 'спикер'), ('спикер', 'только')): 1,\n",
       " (('спикер', 'только'), ('только', 'истечение')): 1,\n",
       " (('только', 'истечение'), ('истечение', 'минута')): 1,\n",
       " (('истечение', 'минута'), ('минута', 'начало')): 1,\n",
       " (('минута', 'начало'), ('начало', 'мероприятие')): 1,\n",
       " (('начало', 'мероприятие'), ('мероприятие', 'дверь')): 1,\n",
       " (('мероприятие', 'дверь'), ('дверь', 'секция')): 1,\n",
       " (('дверь', 'секция'), ('секция', 'быть')): 1,\n",
       " (('секция', 'быть'), ('быть', 'открывать')): 1,\n",
       " (('быть', 'открывать'), ('открывать', 'бесплатный')): 1,\n",
       " (('открывать', 'бесплатный'), ('бесплатный', 'участник')): 1,\n",
       " (('бесплатный', 'участник'), ('участник', 'до')): 1,\n",
       " ...}"
      ]
     },
     "execution_count": 43,
     "metadata": {},
     "output_type": "execute_result"
    }
   ],
   "source": [
    "wordcount"
   ]
  },
  {
   "cell_type": "code",
   "execution_count": 48,
   "metadata": {},
   "outputs": [
    {
     "data": {
      "text/plain": [
       "[((('коллега', 'добрый'), ('добрый', 'день')), 4),\n",
       " ((('подсказывать', 'пожалуйста'), ('пожалуйста', 'нужно')), 2),\n",
       " ((('давно', 'проходить'), ('проходить', 'тот')), 2),\n",
       " ((('проходить', 'тот'), ('тот', 'время')), 2),\n",
       " ((('тот', 'время'), ('время', 'человек')), 2),\n",
       " ((('время', 'человек'), ('человек', 'обманывать')), 2),\n",
       " ((('человек', 'обманывать'), ('обманывать', 'оставаться')), 2),\n",
       " ((('обманывать', 'оставаться'), ('оставаться', 'жилье')), 2),\n",
       " ((('оставаться', 'жилье'), ('жилье', 'да')), 2),\n",
       " ((('жилье', 'да'), ('да', 'нешто')), 2)]"
      ]
     },
     "execution_count": 48,
     "metadata": {},
     "output_type": "execute_result"
    }
   ],
   "source": [
    "collections.Counter(wordcount).most_common(10)"
   ]
  },
  {
   "cell_type": "code",
   "execution_count": 40,
   "metadata": {},
   "outputs": [
    {
     "ename": "NameError",
     "evalue": "name 'wordcount' is not defined",
     "output_type": "error",
     "traceback": [
      "\u001b[0;31m---------------------------------------------------------------------------\u001b[0m",
      "\u001b[0;31mNameError\u001b[0m                                 Traceback (most recent call last)",
      "\u001b[0;32m<ipython-input-40-bb7e39a6e5f8>\u001b[0m in \u001b[0;36m<module>\u001b[0;34m\u001b[0m\n\u001b[1;32m     10\u001b[0m                     \u001b[0mword\u001b[0m \u001b[0;34m=\u001b[0m \u001b[0mword\u001b[0m\u001b[0;34m.\u001b[0m\u001b[0mreplace\u001b[0m\u001b[0;34m(\u001b[0m\u001b[0;34m\"*\"\u001b[0m\u001b[0;34m,\u001b[0m\u001b[0;34m\"\"\u001b[0m\u001b[0;34m)\u001b[0m\u001b[0;34m\u001b[0m\u001b[0;34m\u001b[0m\u001b[0m\n\u001b[1;32m     11\u001b[0m                     \u001b[0;32mif\u001b[0m \u001b[0mword\u001b[0m \u001b[0;32mnot\u001b[0m \u001b[0;32min\u001b[0m \u001b[0msum_noise\u001b[0m\u001b[0;34m:\u001b[0m\u001b[0;34m\u001b[0m\u001b[0;34m\u001b[0m\u001b[0m\n\u001b[0;32m---> 12\u001b[0;31m                         \u001b[0;32mif\u001b[0m \u001b[0mword\u001b[0m \u001b[0;32mnot\u001b[0m \u001b[0;32min\u001b[0m \u001b[0mwordcount\u001b[0m\u001b[0;34m:\u001b[0m\u001b[0;34m\u001b[0m\u001b[0;34m\u001b[0m\u001b[0m\n\u001b[0m\u001b[1;32m     13\u001b[0m                             \u001b[0mwordcount\u001b[0m\u001b[0;34m[\u001b[0m\u001b[0mword\u001b[0m\u001b[0;34m]\u001b[0m \u001b[0;34m=\u001b[0m \u001b[0;36m1\u001b[0m\u001b[0;34m\u001b[0m\u001b[0;34m\u001b[0m\u001b[0m\n\u001b[1;32m     14\u001b[0m                         \u001b[0;32melse\u001b[0m\u001b[0;34m:\u001b[0m\u001b[0;34m\u001b[0m\u001b[0;34m\u001b[0m\u001b[0m\n",
      "\u001b[0;31mNameError\u001b[0m: name 'wordcount' is not defined"
     ]
    }
   ],
   "source": [
    "for i in range(len(df1)):   \n",
    "                for word in df1['post'][i]:\n",
    "                    word = word.replace(\".\",\"\")\n",
    "                    word = word.replace(\",\",\"\")\n",
    "                    word = word.replace(\":\",\"\")\n",
    "                    word = word.replace(\"\\\"\",\"\")\n",
    "                    word = word.replace(\"!\",\"\")\n",
    "                    word = word.replace(\"â€œ\",\"\")\n",
    "                    word = word.replace(\"â€˜\",\"\")\n",
    "                    word = word.replace(\"*\",\"\")\n",
    "                    if word not in sum_noise:\n",
    "                        if word not in wordcount:\n",
    "                            wordcount[word] = 1\n",
    "                        else:\n",
    "                            wordcount[word] += 1\n",
    "print(\"The {} most common words are as follows\\n\".format(numb))\n",
    "self.word_counter = collections.Counter(wordcount)\n",
    "for word, count in self.word_counter.most_common(numb):\n",
    "    print(word, \": \", count)"
   ]
  },
  {
   "cell_type": "code",
   "execution_count": 99,
   "metadata": {},
   "outputs": [
    {
     "data": {
      "text/plain": [
       "'квартира'"
      ]
     },
     "execution_count": 99,
     "metadata": {},
     "output_type": "execute_result"
    }
   ],
   "source": [
    "a[0][0]"
   ]
  },
  {
   "cell_type": "code",
   "execution_count": 90,
   "metadata": {},
   "outputs": [],
   "source": [
    "df = pd.read_csv('fb.csv', index_col=0)"
   ]
  },
  {
   "cell_type": "code",
   "execution_count": 92,
   "metadata": {},
   "outputs": [],
   "source": [
    "tokeniz(df)"
   ]
  },
  {
   "cell_type": "code",
   "execution_count": 94,
   "metadata": {},
   "outputs": [],
   "source": [
    "df1 = deepcopy(df)"
   ]
  },
  {
   "cell_type": "code",
   "execution_count": 87,
   "metadata": {},
   "outputs": [
    {
     "name": "stdout",
     "output_type": "stream",
     "text": [
      "a:  [10, 3, 4] 139771536083536\n",
      "b:  [10, 3, 4] 139771536083536\n",
      "c:  [7, 3, 4] 139771536077360\n"
     ]
    }
   ],
   "source": [
    "a = [7, 3, 4]\n",
    "b = a\n",
    "c = a[:]\n",
    "b[0] = 10\n",
    "print ('a: ', a, id(a))\n",
    "print ('b: ', b, id(b))\n",
    "print ('c: ', c, id(c))\n"
   ]
  },
  {
   "cell_type": "code",
   "execution_count": 109,
   "metadata": {},
   "outputs": [
    {
     "data": {
      "text/plain": [
       "(139771532743248, 139771540288400)"
      ]
     },
     "execution_count": 109,
     "metadata": {},
     "output_type": "execute_result"
    }
   ],
   "source": [
    "id(test.df), id(df)"
   ]
  },
  {
   "cell_type": "code",
   "execution_count": 108,
   "metadata": {},
   "outputs": [],
   "source": [
    "test.df['post'][1]=['xuy']"
   ]
  },
  {
   "cell_type": "code",
   "execution_count": 111,
   "metadata": {},
   "outputs": [
    {
     "data": {
      "text/html": [
       "<div>\n",
       "<style scoped>\n",
       "    .dataframe tbody tr th:only-of-type {\n",
       "        vertical-align: middle;\n",
       "    }\n",
       "\n",
       "    .dataframe tbody tr th {\n",
       "        vertical-align: top;\n",
       "    }\n",
       "\n",
       "    .dataframe thead th {\n",
       "        text-align: right;\n",
       "    }\n",
       "</style>\n",
       "<table border=\"1\" class=\"dataframe\">\n",
       "  <thead>\n",
       "    <tr style=\"text-align: right;\">\n",
       "      <th></th>\n",
       "      <th>time</th>\n",
       "      <th>post</th>\n",
       "      <th>number_comments</th>\n",
       "      <th>comment</th>\n",
       "    </tr>\n",
       "  </thead>\n",
       "  <tbody>\n",
       "    <tr>\n",
       "      <th>0</th>\n",
       "      <td>2020-10-01 00:00:00</td>\n",
       "      <td>[коллега, размещать, видео, судебный, юрист, т...</td>\n",
       "      <td>9</td>\n",
       "      <td>[[спасибо], [очепятка, прочитывать, аккультный...</td>\n",
       "    </tr>\n",
       "    <tr>\n",
       "      <th>1</th>\n",
       "      <td>2020-10-05 00:00:00</td>\n",
       "      <td>[коллега, клиент, спрашивать, оплачивать, пров...</td>\n",
       "      <td>2</td>\n",
       "      <td>[[документ, регистрировать, регистратор], [ден...</td>\n",
       "    </tr>\n",
       "    <tr>\n",
       "      <th>2</th>\n",
       "      <td>2020-10-05 00:00:00</td>\n",
       "      <td>[приплывать, сделка, цепь, нижний, просить, за...</td>\n",
       "      <td>5</td>\n",
       "      <td>[[итакасоглашаться, оценщик, ссылка, присылать...</td>\n",
       "    </tr>\n",
       "    <tr>\n",
       "      <th>3</th>\n",
       "      <td>2020-10-05 00:00:00</td>\n",
       "      <td>[коллега, добрый, день, нужный, помощь, нужный...</td>\n",
       "      <td>52</td>\n",
       "      <td>[[америка, работать], [наташа], [лурье], [вспо...</td>\n",
       "    </tr>\n",
       "    <tr>\n",
       "      <th>4</th>\n",
       "      <td>2020-10-05 00:00:00</td>\n",
       "      <td>[время, такой, приходить, покупатель, квартира...</td>\n",
       "      <td>10</td>\n",
       "      <td>[[распашонка], [лукашевский], [банк], [быков],...</td>\n",
       "    </tr>\n",
       "    <tr>\n",
       "      <th>...</th>\n",
       "      <td>...</td>\n",
       "      <td>...</td>\n",
       "      <td>...</td>\n",
       "      <td>...</td>\n",
       "    </tr>\n",
       "    <tr>\n",
       "      <th>107</th>\n",
       "      <td>2020-10-01 00:00:00</td>\n",
       "      <td>[уважаемый, коллега, поделиться, пожалуйста, о...</td>\n",
       "      <td>0</td>\n",
       "      <td>[]</td>\n",
       "    </tr>\n",
       "    <tr>\n",
       "      <th>108</th>\n",
       "      <td>2020-10-01 00:00:00</td>\n",
       "      <td>[уважаемый, коллега, поступать, ситуация, стоя...</td>\n",
       "      <td>0</td>\n",
       "      <td>[]</td>\n",
       "    </tr>\n",
       "    <tr>\n",
       "      <th>109</th>\n",
       "      <td>2019-10-31 00:00:00</td>\n",
       "      <td>[пост, благодарность, серебряков, андрей, имет...</td>\n",
       "      <td>0</td>\n",
       "      <td>[]</td>\n",
       "    </tr>\n",
       "    <tr>\n",
       "      <th>110</th>\n",
       "      <td>2020-10-01 00:00:00</td>\n",
       "      <td>[среди, волшебник, который, смочь, срочно, пре...</td>\n",
       "      <td>0</td>\n",
       "      <td>[]</td>\n",
       "    </tr>\n",
       "    <tr>\n",
       "      <th>111</th>\n",
       "      <td>2020-09-29 00:00:00</td>\n",
       "      <td>[добрый, день, все, поделиться, пожалуйста, ко...</td>\n",
       "      <td>0</td>\n",
       "      <td>[]</td>\n",
       "    </tr>\n",
       "  </tbody>\n",
       "</table>\n",
       "<p>112 rows × 4 columns</p>\n",
       "</div>"
      ],
      "text/plain": [
       "                    time                                               post  \\\n",
       "0    2020-10-01 00:00:00  [коллега, размещать, видео, судебный, юрист, т...   \n",
       "1    2020-10-05 00:00:00  [коллега, клиент, спрашивать, оплачивать, пров...   \n",
       "2    2020-10-05 00:00:00  [приплывать, сделка, цепь, нижний, просить, за...   \n",
       "3    2020-10-05 00:00:00  [коллега, добрый, день, нужный, помощь, нужный...   \n",
       "4    2020-10-05 00:00:00  [время, такой, приходить, покупатель, квартира...   \n",
       "..                   ...                                                ...   \n",
       "107  2020-10-01 00:00:00  [уважаемый, коллега, поделиться, пожалуйста, о...   \n",
       "108  2020-10-01 00:00:00  [уважаемый, коллега, поступать, ситуация, стоя...   \n",
       "109  2019-10-31 00:00:00  [пост, благодарность, серебряков, андрей, имет...   \n",
       "110  2020-10-01 00:00:00  [среди, волшебник, который, смочь, срочно, пре...   \n",
       "111  2020-09-29 00:00:00  [добрый, день, все, поделиться, пожалуйста, ко...   \n",
       "\n",
       "     number_comments                                            comment  \n",
       "0                  9  [[спасибо], [очепятка, прочитывать, аккультный...  \n",
       "1                  2  [[документ, регистрировать, регистратор], [ден...  \n",
       "2                  5  [[итакасоглашаться, оценщик, ссылка, присылать...  \n",
       "3                 52  [[америка, работать], [наташа], [лурье], [вспо...  \n",
       "4                 10  [[распашонка], [лукашевский], [банк], [быков],...  \n",
       "..               ...                                                ...  \n",
       "107                0                                                 []  \n",
       "108                0                                                 []  \n",
       "109                0                                                 []  \n",
       "110                0                                                 []  \n",
       "111                0                                                 []  \n",
       "\n",
       "[112 rows x 4 columns]"
      ]
     },
     "execution_count": 111,
     "metadata": {},
     "output_type": "execute_result"
    }
   ],
   "source": [
    "df"
   ]
  },
  {
   "cell_type": "code",
   "execution_count": 113,
   "metadata": {},
   "outputs": [],
   "source": [
    "test.df1 = test.df"
   ]
  },
  {
   "cell_type": "code",
   "execution_count": 114,
   "metadata": {},
   "outputs": [],
   "source": [
    "for i in range(len(test.df1)):\n",
    "    for j in range(len(test.df1['comment'][i])):\n",
    "        test.df1['comment'][i][j] = list(ngrams(test.df1['comment'][i][j],2))"
   ]
  },
  {
   "cell_type": "code",
   "execution_count": 120,
   "metadata": {},
   "outputs": [
    {
     "data": {
      "text/plain": [
       "(139771532743248, 139771532743248, 139771540288400)"
      ]
     },
     "execution_count": 120,
     "metadata": {},
     "output_type": "execute_result"
    }
   ],
   "source": [
    "id(test.df), id(test.df1), id(df)"
   ]
  },
  {
   "cell_type": "code",
   "execution_count": 13,
   "metadata": {},
   "outputs": [],
   "source": [
    "det = TreebankWordDetokenizer()\n",
    "a = [det.detokenize(df['post'][1]), det.detokenize(df['post'][2])]"
   ]
  },
  {
   "cell_type": "code",
   "execution_count": 14,
   "metadata": {},
   "outputs": [],
   "source": [
    "vectorizer = TfidfVectorizer()\n",
    "X = vectorizer.fit_transform(a)"
   ]
  },
  {
   "cell_type": "code",
   "execution_count": 40,
   "metadata": {},
   "outputs": [],
   "source": [
    "tt = pd.DataFrame(X.toarray(), columns=vectorizer.get_feature_names())"
   ]
  },
  {
   "cell_type": "code",
   "execution_count": 38,
   "metadata": {},
   "outputs": [
    {
     "data": {
      "text/plain": [
       "array([[0.        , 0.        , 0.        , 0.        , 0.        ,\n",
       "        0.        , 0.        , 0.        , 0.        , 0.        ,\n",
       "        0.        , 0.        , 0.        , 0.        , 0.        ,\n",
       "        0.        , 0.        , 0.        , 0.        , 0.        ,\n",
       "        0.        , 0.        , 0.        , 0.37796447, 0.37796447,\n",
       "        0.37796447, 0.37796447, 0.37796447, 0.37796447, 0.37796447],\n",
       "       [0.        , 0.        , 0.        , 0.        , 0.        ,\n",
       "        0.        , 0.        , 0.16439899, 0.16439899, 0.16439899,\n",
       "        0.16439899, 0.16439899, 0.16439899, 0.16439899, 0.16439899,\n",
       "        0.16439899, 0.16439899, 0.16439899, 0.16439899, 0.16439899,\n",
       "        0.16439899, 0.16439899, 0.16439899, 0.16439899, 0.16439899,\n",
       "        0.16439899, 0.16439899, 0.32879797, 0.32879797, 0.49319696]])"
      ]
     },
     "execution_count": 38,
     "metadata": {},
     "output_type": "execute_result"
    }
   ],
   "source": [
    "np.sort(pd.DataFrame(X.toarray(), columns=vectorizer.get_feature_names()))[::-1][:2]"
   ]
  },
  {
   "cell_type": "code",
   "execution_count": 41,
   "metadata": {},
   "outputs": [
    {
     "data": {
      "text/html": [
       "<div>\n",
       "<style scoped>\n",
       "    .dataframe tbody tr th:only-of-type {\n",
       "        vertical-align: middle;\n",
       "    }\n",
       "\n",
       "    .dataframe tbody tr th {\n",
       "        vertical-align: top;\n",
       "    }\n",
       "\n",
       "    .dataframe thead th {\n",
       "        text-align: right;\n",
       "    }\n",
       "</style>\n",
       "<table border=\"1\" class=\"dataframe\">\n",
       "  <thead>\n",
       "    <tr style=\"text-align: right;\">\n",
       "      <th></th>\n",
       "      <th>висеть</th>\n",
       "      <th>витрина</th>\n",
       "      <th>все</th>\n",
       "      <th>делать</th>\n",
       "      <th>доллар</th>\n",
       "      <th>еще</th>\n",
       "      <th>закладывать</th>\n",
       "      <th>замечание</th>\n",
       "      <th>кабинет</th>\n",
       "      <th>клиент</th>\n",
       "      <th>...</th>\n",
       "      <th>приходиться</th>\n",
       "      <th>проверка</th>\n",
       "      <th>пропадать</th>\n",
       "      <th>просить</th>\n",
       "      <th>сбера</th>\n",
       "      <th>сделка</th>\n",
       "      <th>спрашивать</th>\n",
       "      <th>теперь</th>\n",
       "      <th>цепь</th>\n",
       "      <th>якобы</th>\n",
       "    </tr>\n",
       "  </thead>\n",
       "  <tbody>\n",
       "    <tr>\n",
       "      <th>0</th>\n",
       "      <td>0.328798</td>\n",
       "      <td>0.164399</td>\n",
       "      <td>0.164399</td>\n",
       "      <td>0.164399</td>\n",
       "      <td>0.000000</td>\n",
       "      <td>0.164399</td>\n",
       "      <td>0.000000</td>\n",
       "      <td>0.164399</td>\n",
       "      <td>0.164399</td>\n",
       "      <td>0.164399</td>\n",
       "      <td>...</td>\n",
       "      <td>0.164399</td>\n",
       "      <td>0.164399</td>\n",
       "      <td>0.164399</td>\n",
       "      <td>0.000000</td>\n",
       "      <td>0.164399</td>\n",
       "      <td>0.000000</td>\n",
       "      <td>0.164399</td>\n",
       "      <td>0.164399</td>\n",
       "      <td>0.000000</td>\n",
       "      <td>0.164399</td>\n",
       "    </tr>\n",
       "    <tr>\n",
       "      <th>1</th>\n",
       "      <td>0.000000</td>\n",
       "      <td>0.000000</td>\n",
       "      <td>0.000000</td>\n",
       "      <td>0.000000</td>\n",
       "      <td>0.377964</td>\n",
       "      <td>0.000000</td>\n",
       "      <td>0.377964</td>\n",
       "      <td>0.000000</td>\n",
       "      <td>0.000000</td>\n",
       "      <td>0.000000</td>\n",
       "      <td>...</td>\n",
       "      <td>0.000000</td>\n",
       "      <td>0.000000</td>\n",
       "      <td>0.000000</td>\n",
       "      <td>0.377964</td>\n",
       "      <td>0.000000</td>\n",
       "      <td>0.377964</td>\n",
       "      <td>0.000000</td>\n",
       "      <td>0.000000</td>\n",
       "      <td>0.377964</td>\n",
       "      <td>0.000000</td>\n",
       "    </tr>\n",
       "  </tbody>\n",
       "</table>\n",
       "<p>2 rows × 30 columns</p>\n",
       "</div>"
      ],
      "text/plain": [
       "     висеть   витрина       все    делать    доллар       еще  закладывать  \\\n",
       "0  0.328798  0.164399  0.164399  0.164399  0.000000  0.164399     0.000000   \n",
       "1  0.000000  0.000000  0.000000  0.000000  0.377964  0.000000     0.377964   \n",
       "\n",
       "   замечание   кабинет    клиент  ...  приходиться  проверка  пропадать  \\\n",
       "0   0.164399  0.164399  0.164399  ...     0.164399  0.164399   0.164399   \n",
       "1   0.000000  0.000000  0.000000  ...     0.000000  0.000000   0.000000   \n",
       "\n",
       "    просить     сбера    сделка  спрашивать    теперь      цепь     якобы  \n",
       "0  0.000000  0.164399  0.000000    0.164399  0.164399  0.000000  0.164399  \n",
       "1  0.377964  0.000000  0.377964    0.000000  0.000000  0.377964  0.000000  \n",
       "\n",
       "[2 rows x 30 columns]"
      ]
     },
     "execution_count": 41,
     "metadata": {},
     "output_type": "execute_result"
    }
   ],
   "source": [
    "tt"
   ]
  },
  {
   "cell_type": "code",
   "execution_count": 51,
   "metadata": {},
   "outputs": [],
   "source": [
    "dick = dict(zip(tt.columns, tt.loc[1]))"
   ]
  },
  {
   "cell_type": "code",
   "execution_count": 52,
   "metadata": {},
   "outputs": [
    {
     "data": {
      "text/plain": [
       "['доллар',\n",
       " 'закладывать',\n",
       " 'нижний',\n",
       " 'приплывать',\n",
       " 'просить',\n",
       " 'сделка',\n",
       " 'цепь',\n",
       " 'висеть',\n",
       " 'витрина',\n",
       " 'все',\n",
       " 'делать',\n",
       " 'еще',\n",
       " 'замечание',\n",
       " 'кабинет',\n",
       " 'клиент',\n",
       " 'коллега',\n",
       " 'красный',\n",
       " 'надежно',\n",
       " 'обходиться',\n",
       " 'объект',\n",
       " 'оплачивать',\n",
       " 'отчет',\n",
       " 'оценка',\n",
       " 'приходиться',\n",
       " 'проверка',\n",
       " 'пропадать',\n",
       " 'сбера',\n",
       " 'спрашивать',\n",
       " 'теперь',\n",
       " 'якобы']"
      ]
     },
     "execution_count": 52,
     "metadata": {},
     "output_type": "execute_result"
    }
   ],
   "source": [
    "sorted(dick, key=dick.get, reverse=True)"
   ]
  },
  {
   "cell_type": "code",
   "execution_count": 53,
   "metadata": {},
   "outputs": [
    {
     "data": {
      "text/plain": [
       "{'висеть': 0.0,\n",
       " 'витрина': 0.0,\n",
       " 'все': 0.0,\n",
       " 'делать': 0.0,\n",
       " 'доллар': 0.3779644730092272,\n",
       " 'еще': 0.0,\n",
       " 'закладывать': 0.3779644730092272,\n",
       " 'замечание': 0.0,\n",
       " 'кабинет': 0.0,\n",
       " 'клиент': 0.0,\n",
       " 'коллега': 0.0,\n",
       " 'красный': 0.0,\n",
       " 'надежно': 0.0,\n",
       " 'нижний': 0.3779644730092272,\n",
       " 'обходиться': 0.0,\n",
       " 'объект': 0.0,\n",
       " 'оплачивать': 0.0,\n",
       " 'отчет': 0.0,\n",
       " 'оценка': 0.0,\n",
       " 'приплывать': 0.3779644730092272,\n",
       " 'приходиться': 0.0,\n",
       " 'проверка': 0.0,\n",
       " 'пропадать': 0.0,\n",
       " 'просить': 0.3779644730092272,\n",
       " 'сбера': 0.0,\n",
       " 'сделка': 0.3779644730092272,\n",
       " 'спрашивать': 0.0,\n",
       " 'теперь': 0.0,\n",
       " 'цепь': 0.3779644730092272,\n",
       " 'якобы': 0.0}"
      ]
     },
     "execution_count": 53,
     "metadata": {},
     "output_type": "execute_result"
    }
   ],
   "source": [
    "dick"
   ]
  },
  {
   "cell_type": "code",
   "execution_count": 54,
   "metadata": {},
   "outputs": [],
   "source": [
    "a = ''\n",
    "for i in range(len(df)):\n",
    "    a += ' ' + det.detokenize(df['post'][i])"
   ]
  },
  {
   "cell_type": "code",
   "execution_count": 55,
   "metadata": {},
   "outputs": [
    {
     "data": {
      "text/plain": [
       "' коллега размещать видео судебный юрист татьяна пак мы поговорить процедура банкротство физический лицо посмотреть именно глаз этот процедура заниматься надеяться вы интересный ссылка видео первый комментарий мой пост тема актуальный возникать вопрос риэлтор особенно защищать покупатель законобанкротствефизическихлица обучениериэлтор юристпонедвижимость коллега клиент спрашивать оплачивать проверка сбера якобы надежно теперь кабинет висеть красный замечание отчет оценка объект висеть витрина отчет оценка все пропадать еще оценка делать приходиться обходиться приплывать сделка цепь нижний просить закладывать доллар коллега добрый день нужный помощь нужный фото оценка квартира данный планировка помогать время такой приходить покупатель квартира предлагать заплатить квартира предлагаться реклама хотеться дорогой коллега такой предложение передаваться собственник говориться нет отдавать квартира приходить рано приходить повторно неудобно раз ездить тот другой предлагать еще повышать тяжело перестраиваться парадигма приятный женщина нехороший человек подымать подымать цена хотеться предложение конец торг передаваться собственник добрый утро нбки кто-то быстро сделать делать ресурс работать поделиться пожа контакт коллега добрый утро что коллега это реклама один квартира домклик забанить объявление причина невозможно дозваниваться ну бред до действителить невозможно дозваниваться начинать утро позвонить попросить поработать нужно нежилой помещение аренда район м киевский бережковский наб не понимать утро плохо воспринимать информация работа достаточно аренда особо заниматься кто отдавать клиент уважаемый коллега кто подобный ситуация подсказывать пожалуйста нужно продавать секция таунхаус новый москва свой время сособственник покупать земля сотня по доля потом построить таунхаус секция доля земля собственность мой клиентка сталкиваться проблема док земля указывать новый адрес таунхаус числиться мо старый адрес сказать клиентка нужно делать межевание ставить таунзаус новый кадастровый учет присвоение новый адрес но один собственница соседний участок начинать ставить палка колесо она слово согласный дело давать доверенность человек готовый заниматься межевание кадастрирование наш юрист говорить ее согласие доверенность мочь сделать теперь продажа угроза покупатель ипотечник готовый купить подождать соседка самовольный захватить часть земля видимо поэтому постоянно говорить она время ехать нотариус доверенность мой клиент предлагать приглашать нотариус оплачивать услуга соседка некогда от другой сособственник получать доверенность отказ преимущественный право покупка участок секция мой клиентка из-за один взбалмошный дама останавливаться как мы поступать ситуация криминальный предложение рассматривать вы какой соотношение исходить входящий коммуникация проактивный реактивный принцип работа риелтор агетство недвижимость прекрасно удалять твой публикация давать проживать час хоумап совпадение не думать бывать правда глаз колоть казаться какой отношение сей факт иметь риэлторство передавать пожалуйста герман оскарович цик большой якиманка километр кремль сей пора клиентский туалет сотрудник вынуждать отвлекаться работа водить клиент ручка стоять дверь ждать пока тот справлять нужда этак экосистема построить сбер сбербанк домклик коллега работать часто слышать разный человек заявление тип давно проходить тот время человек обманывать оставаться жилье да нешто наш время такой бывать врать выдумывать всякий история красный словцо за говорить быть основывать реальный событие живой пример очень уютный двушка хороший ремонт продаваться строгино они хотеть продавать хотеть купить устраивать нынешний собственник приобретать квартира мало год назад сам факт криминальный результат орм мы удаваться выяснивать продавец г р тот сделка страдать биполярный расстройство личность называть психиатр маниакально-депрессивный синдром более данный момент находиться лечение профильный заведение ориентироваться пространство мало кто узнавать помнить продавать квартира со слово гражданский супруга известно факт продажа квартира уверенный деньги никакой получать планировать инициировать процесс признание сделка недействительный представитель продавец аванс говорить тот слово давно проходить тот время человек обманывать оставаться жилье да нешто наш время такой бывать вы чрезмерно щепетильный хватить придумывать всякий ерунда человек быть бдительный беречь свой деньги обращаться специалист P S еще повторять история основывать реальный событие уважаемый дама господин думать смочь достоинство оценивать красота мошеннический схема определение № знать риелтор очень наблюдательный отличный психолог помогать разбираться совершенно неожиданно становиться участница дискуссия повод приобретение доля число микро доля жилой собственность мой знакомый приобретать такой однушка цель обеспечивать свой родитель московский прописка следовательно повышенный пенсия медобслуживание операция который ждать бесплатный проезд сказать мы обсуждать один мой друг обсуждение становиться очень эмоциональный друг считать этот причина никто становиться покупать доля однушка как самый дело https www anews com semyu s detmi друг сегодня очередной показ дом интересант полезть ветка яблоко Мммм какой вкусный пойти ка пакетик сходить не пускать пакетик ссылаться промышленный масштаб свой нужно яблоня обирать не понравиться человек большинство другой такой вы разрешать клиентский плод вынос сразу сказать несколько запрещать проба сказать наглеть давать сегодня сбер превосходить готовый на учиться цепь квартира аккредитив красногорск переживать договор сшивать отказываться поэтому первый жизнь экологически чистый материал толстоватый зато заметный вниманиеее бееечевкаа входить вы вопрос запрос отвечать октябрь циан приглашать посещать международный жилищный конгресс санкт-петербург это крупный мероприятие сфера недвижимость формат ежегодно собирать руководитель агентство недвижимость строительный компания банк эксперт сфера недвижимость россия зарубежный страна мероприятие пройти отель Park Inn прибалтийский офлайн формат циан выступать генеральный информационный партнер конгресс от циан рамка конгресс выступать спикер эксперт рассказывать влияние пандемия развитие жилищный рынок перспектива цифровой сервис изменение поведение потребитель поделиться прогноз загородный коммерческий недвижимость подробность регистрация ссылка коллега помогать на сайт росреестр вводить номер mfc видеть запрос или иначе вводить коллега все здравствовать кто опыт доверенность другой государство посольство рф венгрия сделать нотариальный доверенность покупка квартира получать москва нотариус или курьерский отправлять оригинал сталкиваться такой коллега добрый день вот интересно мнение профессионал продавец требование предоставлять справка нд ПНД встречный просить справка покупатель как такой случай поступать что говорить предоставлять на сколько целесообразный уточнять справка нд ПНД покупатель для какой цель нужный криминальный риэлтор черный изыди вон небоскреб откидываться часть стена чикаго наклоняться смотровой площадка один небоскреб вид открываться поразительный коллега посоветовать пожалуйста послушать посмотреть почитать умный человек психология продажа развитие агентство недвижимость только глубинный тип капитан очевидность совет тип принимать аванс сделка расслабляться завтрашний день начинать генерировать новый заявка слишком простой я что-то умный но сам как-то находить спасибо заранее коллега добрый день мочь ситуация подсказывать выход покупка квартира ипотека сбербанк госпрограмма получать решение оценка получать сбер говорить оценка завышать квартира элитный дом велеть сделать оценка сделать сбер говорить этот оценка завышать стоять квартира элитный дом стоять гореть решение соответственно находить наличные млн представляться возможный быть путь решение заранее спасибо уважаемый участник конгресс напоминать печатный издание деловой программа конгресс поэтому настоятельно рекомендовать скачать мобильный приложение конгресс находить информация деловой культурно развлекательный мероприятие последний новость другой полезный сведение помощь данный сервис также смочь общаться друг друг назначать встреча участник конгресс инструкция использование приложение размещать https spbcongress ru congress pril html важный информация бесплатный участник конгрессам уважение понимание относиться ваш выбор бесплатный пакет участие то просить ответ оргкомитет конгресс получать городской властей разрешение проведение форум неукоснительный соблюдение рекомендация требование роспотребнадзор поэтому многий зала прибалтия скои расширять убираться стена также дополнительно арендовать конгресс центр горный институт несмотря принимать мера е мкость многий зал позволять размещать желающий напоминать приоритет запуск зал иметь платный участник спикер только истечение минута начало мероприятие дверь секция быть открывать бесплатный участник до избавлять излишнеи суета беготня горный прибалтия скои подготовить картинка программои мероприятие скоро быть свободный место ивента неинтересный просто зал достаточно большой уверенный мероприятие разочаровывать если оффлай н чашечкои кофе лобби бар прибалтия скои фои е этаж смочь посмотреть прямой трансляция популярный секция также обращать внимание регистрация бесплатный участник осуществляться октябрь утро пожалуй сто приходить рано утро иначе ждать большой очередь просматривать фото квартира как думать вопрос знаток материнский прочий капитал продавать квартира ребенок покупать другой доплата согласие ооп получать можно качество доплата использовать мат кап коллега добрый день вопрос квартира приватизировать супруг жизнь прописывать иметь отношение квартира супруга знать но покупатель настаивать взять согласие супруга продажа сказать взять ваш счет он соглашаться на сделка менеджер сбербанк потребовать тождественность согласие упрекать риелтор знать покупатель порадоваться сказать знать семейный кодекс обращать внимание пусть успокаиваться на следущий день просить вернуть согласие что сказать кто правый много перечитывать уверенный править администратор сделка основной обязанность подготовка договор аванс проведение встреча аванс подготовка сделка подготовка согласование договор купля продажа участник сделка наш юрист бронирование ячейка аккредитив банк согласование способ расчет участник сделка расписка обязательство составление памятка сделка схема расчет организация регистрация организация нотариальный действие дкп доверенность согласие обязательство пр заказ юрид проверка согласование юрист выход сделка получение одобрение юрист составление чек лист готовность выход сделка брокер юрист руководитель отдел продажа подшивать документ архив клиент агентство требование опыт проведение сделка недвижимость юридический образование приветствоваться переговорный навык коммуникабельность возраст год презентабельный внешность стрессоустойчивость умение убеждать аргументировать способность видение ситуация путь выход сложный ситуация от клиент помощь первый этап консультация первый этап согласование сделка фиксированный оплата каждый сделка рабочий график скользить пока выезд объем увеличиваться полный занятость дружный команда все добрый день завтра традиционно утро прямои эфир инстаграм прямои эфир https www instagram com sviridov real estate мой рабочие аккаунт новый тип жилье модульный который легко транспортироваться место после оставаться разгружать развертывать европа сей пора активно применяться сборный разборный малоэтажный дом производитель предлагать некий вариант конструктор владелец дом собирать готовый блок представлять вариант сборка подразумевать просто разворачивать домик практически готовый проживание исключение территория применение такой дом суровый зима толщина стена теплоизоляция позволять использовать такой дом но вполне возможно эксперимент лишь первый пробный шаг возможно появляться теплый транспортабельный готовый модульный дом дома трансформер эксперимент строительство дом который легко перевозить место место также легко смонтировать посторонний помощь привозить разгружать жить по архивко из квартира год мать ребенок выписываться квартира год приватизация из москва область оставаться отец приватизация продажа Homeapp интересный месяц нутри наблюдать компания очень интересный распил инвестиционный деньги слабый руководящий состав сырой срм некомпетентный айтишник пинать друг друг вечно вылетать реклама площадка весь инсткруция попытка призывать коучий недвижимость фиша орехов славо бог орех сразу понимать уходить туда плюс обман сотрудник расчет туда приходить отдел слон тип HRd уходить пол команда ну развитие хоумап главное главное распил инвестиция сколково тип айти компания год работать срм сказка личный кабинет работать стыдно подставлять клиент проблема ай пи телефония ай ти компания десяток агент получать звонок свой обьект слак инструкция писать ждать рекомендовать агентво хоумапп думать хороший мина полный гениальный идея руководство перевести агент ипать июль уходить ржать голос коллега подсказывать пожалуйста получать быстро постановление присвоение почтовый адрес дом адрес присваивать год дом химки добрый вечер уважаемый коллега очень нужный помощь зал загородка честно заниматься земля далеко погружаться дебри понимать нюанс подводный камень квартира снимать шляпа человек который этот вода плавать мой интерес азарт разбираться подсказывать направление направлять один сторона ситуация следующий приобретение доля дома мо договор дарение договор отдельный пункт идти упоминание земля соответствие ст ЗК рсфср приобретать право пользование ЗУ занятый отчуждать доля жилой дом необходимый ее использование как результат часть дома отдельный вход выделять натура земля никакой документ обращаться администрация данные отправлять куи сказать архив данные задача приводить документ соответствие продавать доля содольщик находить конец земля получаться земля весь видимость муниципальный т предпринимать попытка выкупать кусок отгораживать земля сторона доля который сделать ситуационный план дальнейший межевание т долевой дом получать отказ причина долевой собственность заявление должно поступать но другой собственник данные росреестр часть дом видимо зарегистрировать ранее возникать вопрос продавать собственник доля свой содольщик оформление земля или все-таки нужно собственник доля зарегистрировать ранее возникать сделать ситуационный план участок подавать заявление собственник администрация предварительный согласование выделение ЗУ получение согласие проводить межевание выкупать бесплатно оформлять т док год спасибо все смочь осиливать дочитывать конец очень быть ждать ваш мнение совет все добро коллега делиться уведомление приостановка гос регистрация причина отсутствие подписывать акт прием передача так решать регистратор ульяновск хотя ДКП прописывать передача акт течение день регистрация объект мо але это банк да звать анна мочь помогать ваш шуба съедать моль быть платить кредит проходить месяц вставать суд идти ваш честь осень прошлый год взять кредит пять год норковый шуба сезон отходить но лето шуба съедать моль поэтому переставать платить кредит требовать банк компенсация приносить ущерб моральный ущерб судебный издержки почему решать банк нести ответственность случай поедание шуба моль вот кредитный договор написать момент полный погашение кредит шуба являться собственность банк банк сохранять свой имущество должный вид почему должный продолжать платить извинять ваш честь банк возражать договор написать мочь пользоваться шуба написать вино банк ваш честь вопрос использование шуба банка претензия целый сезон пользоваться шуба но сказать пользоваться шуба лето раз пользоваться шуба зима значит должный сохранять следующий сезон показывать пожалуйста какой пункт договор прописывать или вы отдельный договор доверительный хранение но использование шуба предполагать хранение сезон обработка моль ваш честь конец сезон приходить время убирать хранение зимний вещь позвонить банк проконсультироваться вопрос хранение имущество запись разговор здравствовать банк да звать светлана мочь помогать брать норковый шуба кредит ваш банк проверять пожалуйста задолженность номер договор дробь тир ноль один минуточка ольга павловна да на сегодняшний день задолженность платеж поступать вовремя что-то мочь помогать подсказывать пожалуйста нужно хранить шуба летний период извинять знать ну повесить куда-нибудь можно прихожая шкаф оставлять или какой дополнительный требование хранение никакой требование оставлять шкаф удобно что-то нет спасибо ваш честь банк протестовать клиентка задавать оператор вопрос который компетентный ваш честь если оператор банк компетентный такой вопрос почему переводить специалист банк отвечать межсезонный хранение шуба банк такой отдел очень интересный шуба отдел хранение протест отклонять ваш представление должный обеспечивать сохранность шуба почему спрашивать это ваш шуба думать сохранять мочь продолжать пользоваться вы озабочиваться сохранность свой имущество пытаться сделать виноватый не выходить за побивать моль шуба платить быть суд удаляться совещание вставать суд идти иск гражданка N банка F удовлетворять полный объем да здравствовать юрист уважаемый коллега нужный срочно контакт хороший риэлтор ростов писать пожалуйста личка заранее спасибо еще покупка недвижимость крым здравствовать слегка подзависать регистрация кто-то рабочий контакт росреестр мо по телефон интернет никто отвечать риэлторскиечастушка хотеть купить квартиручто делать не пойти мируслышать риэлтор враг сейчас самый время скоро зимай ваш внимание предлагать организовывать наш помощь доходный очень прибыльный дело использование любой подвальный помещение подробность наш сайт для способный человек отдельно продаваться организационный материал консультация уважаемый коллега подсказывать человек говорить состоять учет ПНД продавец риэлтор покупатель заказывать проверка состоять как понимать самый очевидный ответ проверка врать можно верить вообще добрый вечер коллега завтра сделка сбер тверская ситуация такой клиентка ипотечник брать студия который залог сбера один собственник ипотечник за месяц находить время сниматься регистрационный учет сбер сделка переносить отказываться домклик поступать звонок менеджер резкий форма заявлять зарегистрировать собственник какой мелочь сбер уверять просто выходить второй часть сделка собственник сниматься регистрационный учет второй часть деньги сбера пойти счет погашение ипотека предыдущий собственник кто какой мысль P S домклик сбер менеджер обшаться грубо друг думать нужно реклама объект использовать тур не эффективно организовывать живой показ встреча потенциальный покупатель тур квартира дорогой квартира увидеть показывать такой образ скоро снова продажа каргопольский быть внимательный продавец менять документ фамилия я казаться авито агонизировать бесконечный поднятие цена здравый яснение поддаваться вспомнить контора местный рулить она россия наемный эффективный менеджер сильно подозревать поднятие цена исключительно вызывать необходимость демонстрация финансовый благополучие акционер фон отгрызать провинциальный рынок кусок кусок циан болеть циан надеяться сжирать авито максимально быстро удача петербуржец писать пост давно встречать контрагент агентство бац сглазить подряд аванс агентство приятно радостно узреть изменение поведение уважаемый агентство не настаивать продавец ехать офис мирно приезжать квартира вносить инк еще один мало приятный это переобуваться кто-то еще старинка настаивать агентство офис учебный центр ассоциация недвижимость севастополь сегодня алушта выпускать группа сотрудник ан альянсити программа основа риэлторский деятельность экзамен все сдавать успешно готовить документ аттестация сотрудник надеяться дальнейший сертификация самый агентство алушта один жемчужина крым несколько недооценивать ее набережная уступать сочи ялта ждать виктор жуков альянсити РГР коллега помощь нужный вот прямой голова сломать вчера решение хотеться менее еще подтверждение свой решение давать вчера два квартира трешка двушка один район два брат оба доставаться наследство двушка разделять пополам но брат хотеть жить согласный продавать трешка она выделять деньги брат двушка друг возможно стыдно побыть просто специалист или обязательно иметь свой мнение любой вопрос связанный недвижимость раз год последний неделя месяц проводить занятие риэлтор прямой эфир во вторник утро среда вечер ⠀ занятие платный для начинать участие прямой эфир эксперт продвигать запись час навсегда ⠀ на следующий день выделять время телефонный консультация участник звонить риэлтор ⠀ как использовать информация получать опрос сосед супруга конфликтовать ⠀ отвечать супруг собственник брачный договор соглашение раздел имущество мочь проблема выписка сделка ⠀ он комментировать точно вадим шабалин утренний вебинар говорить посмотреть запись вечерний там говорить ⠀ да бывать это прямой эфир сценарий одинаковый импровизация доработка практиковать например утренний эфир сентябрь добавлять слайд скорректировать сценарий вместо длинный монолог шабалин вставлять диалог мы ⠀ если участвовать наш вебинар написать впечатление ⠀ втдеокнигатва Охх москва мфц росреестр москваколлега делиться вчера переставать принимать заявление выписка например бороться почетный звание дом высокий культура быт втб ипотека купитьквартира купитьд втбзеленоград если кто нормальный соглашение задаток пользоваться принимать аванс квартира выбирать альтернатива сделка завтра продавец агент год продавать требовать задаток договор никакой предлагать на день задаток выдавать покупатель передумывать ехать банк еще многий отказывать день сначала подумать просто задатки человек собирать оказываться реально парадигма такой реновация бывать недвижимость рассказ мужик хотеть старый жена новый поменять городской программа реновация юрий стоянов знать толк так бывать личный кабинет госуслуга ру клиент приходить сообщение такой содержание предупреждать находиться закладная заемщик год дельта надо заемщик разный банк проверять свой личный кабинет коллега заваляться кто первичка ЖК университетский ленинский юрист покупатель просить мой продавец застройщик взять свой время удосуживаться на сайт капитал группа инф капитал звонить общий порядок вообще помнить строить написать письмо сомневаться отвечать запрашивать РПМ договор аренда земля разрешение ввод ну инвестконтракт идея куча получать https rg ru pri prodazhe nedvizhimosti strahovka po как коллега сегодня участвовать ВКС конференция руководитель росреестр организованный ТПП рф среди прочий вопрос г-н скуфинский заявлять считать необходимый цель борьба мошенник ограничивать доступ сведение егрн посторонний чтобы доступ информация иметь собственник как вы считать сколько обоснованно необходимый уже никто удивлять молодой дама поправлять носик делать губка скула ухо сися поп пойти веяние менять родитель дарить внешность добрый день просьба поделиться тело грамотный адвокат дело доля квартира коллега думать ликвидность квартира объект культурный наследие низко высоко соседний дом вообще влиять статус дом P s клиент понравиться квартира дом октябрьский поле деревянный перекрытие вот ситуация покупать квартира альтернатива наш продавец находить альтернатива свободный квартира продавать кореец доверенность другой кореец разрывать сделка отцеплять хвост получаться очень беспокоить этот ситуация доверенность закладывать ячейка продавец квартира миновать предыдущий никакой информация продавец кореец уверенность все чисто как подстраховываться случай расторжение последний ДКП доходить компания C E Investments партнерство канал предлагать новый инструмент развитие бизнес реклама ваш возможность привлечение клиент как понимать начинающий агент этот работа подходить кто-нибудь помогать раздобывать градостроительный план зем участок щелковский р-н м хороший проект сфера коммерческий недвижимость получать сегодня заслуживать награда церемония награждение Arendator Awards сегодня награждать лауреат премия Arendator Awards номинация хороший складской комплекс выигрывать Largest Fulfilment hub of the leading online retailer in Russia OZON Orientir Sever большой удовольствие вручать представитель компания заслуживать награда от весь душа поздравлять победитель ольга хасанов спасибо прекрасный вечер встреча партнер друг как вы новость коллега кто слышать уважаемый коллега продаваться зем участок жилой дом СНТ стоимость общий тыс рубль продавец пенсионерка владение объект год быть налог данный случай добрый день коллега давненько писать но решать спрашивать знать итак покупка апартамент город греза мекка отдых сочи тыдыщ договор намерение обеспечение наикрутой документ пометка ах белый роза желтый тюльпан а-ля е год говорить весь доверие прочий херня что накидать страшилка пожалуйста время хотеться покупка продажа немного зарабатывать этот факт важный страшилка помнить коллега подсказывать пожалуйста брать справка дом признавать аварийный подлежать снос срок вот озадачиваться вчера весь канал объявлять поймать группа который оттяпывать квартира фальшивый завещание вычислять ведь реестровый книга заноситься задний число данные завещание уважаемый коллега нужный ваш помощь сдавать документ МФЦ регистрация аренда земля москва мы сделать приостановка месяц просить доносить документ доносить ждать месяц регистрация как выходить регистратор мочь кто-то помогать рекомендация благодарность коллега не мочь оставлять пост восхищение радость гордость прекрасный специалист наш дело работа непростой объект залог перепланировка прочий трудность путь продажа именно группа мой счастие познакомиться прекрасный специалист менеджер райффайзенбанк серебряков андрей уровень знание участие этап сделка заинтересованность процесс нацеленность положительный результат зашкаливать полный ощущение командный работа даже момент опускаться рука верить приободрять искать решение выход сложный ситуация всегда связь свой нерабочий время вовлекать происходить спасибо огромный андрей вы хороший я доводиться встречать профессиональный специалист ваш область рекомендовать такой специалист вес золото они должно благодаря работа хотеться часто взаимодействовать райффайзен если подобный рекомендация делиться пожалуйста наш работа приносить радость на фон слух заход пандемия второй круг большинство россиянин обоснованно переживать цена поводить ипотечный ставка вообще бежать бежать циан журнал выяснять положение дело спрашивать совет эксперт поделиться насчет опека еще возможно решать вопрос не знать реально такой москва попробовать быть кто квартира мо собственник полностью ребенок будущее вставать вопрос продажа квартира мама ребенок прописывать мо жить другой регион россия жить дед ребенок отец мать мать отец один фамилия ребенок фамилия отец отец погибать дед регион х квартира так ребенок пойти школа дед сделать временный регистрация свой квартира процесс оформлять ребенкин квартира мо дед ребенок отдавать дедов квартира обращаться опека регион ребенок временно зарегистрировать опека обращаться повод договор мена повод продажа квартира мо взамен приобретение квартира опека давать согласие обмен теперь ребенок владеть х ком кв опека видеть ущемление право ребенок нарушение статья семейный кодекс потом быть продавать квартира дед мо пока сдавать пока продажа квартира ребенок кто-то попробовать такой схема московский опека рост цена новый жилье россия итог год составлять писать газета известие ссылка эксперт рынок недвижимость участник рынок полагать вторичный жилье конец год подорожать рост цена ожидаться из-за переход стройотрасль механизм проектный финансирование все добрый день завтра прямои эфир инстаграм программа зарядка мозги прямой эфир узбекистан ташкент массив чиланзар й квартал домклик знать писать заявка никто работать цепочка объект опека нотариус верхушка продавать квартира домклик хотеть работать мы готовый уходить банк сегодня прекращаться издевательство вопрос скоро будущий сделка иметь завещание квартира мать новорожденный ребенок случай брак мать ребенок отец ребенок которвй завещать зарегестрировпн пример возникать ситуация мать необходимо продавать квартира часть решать какой вопрос здоровье ребенок т д если половина ребенок завещание совершенолетний возможно продавать какой образ квартира приобретать мало наделение доля или вообще продавать возможность пока совершенолетний понимать продажа больший покупка меньший квартира пример интерес лечение ребенок опека пропускать интерес мать врятли приветствовать друг просить помогать я геодезист нужный давать контакт близкий знакомый спасибо продуктивный октябрь гостиный двор самый креативный реклама гараж катерина день рождение подхватывать флешмоб александр галямов черный речка активно развивающийся локация петербург готовый инфраструктура расти цена жилье предлагать пятерка самый заметный проект бизнес-класс часть приморский район коллега делиться опыт ждать готовый высокий чек лйфхаки продавать день выход реклама продавать карантин элекронный регистрация продавать пентхаус напополам два разный покупатель набивать база клиент млн день разводить мужик прямой смысл переносный раздел имущество требование кредитор https granatmaxim ru moshennichestvo pri razdele вы знать риэлтор работать плохо работать плохо правильно это удивлять давать разбираться почему самый дело взять один недавний сделка продажа квартира который настоящий момент успешно завершать клиент женщина положение еще сильно квартира отделка новый дом один подмосковный город риэлтор жить город недалеко объект тратить время поездка показ уважаемый коллега поделиться пожалуйста опыт недавно оформлять ипотека росбанк сколько день росбанк одобрять объект момент предоставление документ уважаемый коллега поступать ситуация стоять связываться продавец квартира который иметься действовать кредит просрочка непогашенный кредит летний давность на сколько большой вероятность признавать банкрот как-то рано обращать внимание но последний время шумиха вокруг закон банкротство сомнение возникать вдруг что-то улавливать пост благодарность серебряков андрей иметь рубль иметь друг простой сделка ипотека покупатель продавец расчет депозит райфа человек непростой продавец день проведение сделка попросить перенести ее следующий день покупатель билет день отдыхать собираться поэтому банк мы попадать утро банк ждать все расписывать звонок андрей просьба помогать разрешать наш проблема сегодня утро проводить сделка все проходить быстро четко клиент довольный фэйсбук наш группа очень полезный работа андрей огромный риэлтерский спасибо среди волшебник который смочь срочно пресрочно помогать снимать запрет рег действие зарегать ипотека м пристав направлять постановление снятие запрет эл вид межвести день назад почта отправлять еще получать ожидать адресат почта добрый день все поделиться пожалуйста контакт ускорять процесс снятие запрет регистрация росреестр объект московский область истра запрет налагать судебный пристав г москва исполнительный производство прекращать связь оплата задолженность заранее спасибо'"
      ]
     },
     "execution_count": 55,
     "metadata": {},
     "output_type": "execute_result"
    }
   ],
   "source": [
    "a"
   ]
  },
  {
   "cell_type": "code",
   "execution_count": 82,
   "metadata": {},
   "outputs": [],
   "source": [
    "df_d = df[df['time']<datetime(2020,10,5,0,0)]"
   ]
  },
  {
   "cell_type": "code",
   "execution_count": 70,
   "metadata": {},
   "outputs": [],
   "source": [
    "df_nd = deepcopy(df[~(df['time']<datetime(2020,10,5,0,0))])"
   ]
  },
  {
   "cell_type": "code",
   "execution_count": 128,
   "metadata": {},
   "outputs": [],
   "source": [
    "df_d.index = np.arange(len(df_d))\n",
    "d = ''\n",
    "for i in range(len(df_d)):\n",
    "    d += ' ' + det.detokenize(df_d['post'][i])\n",
    "for i in range(len(df_d)):\n",
    "    for j in range(len(df_d['comment'][i])):\n",
    "        d += ' ' + det.detokenize(df_d['comment'][i][j])\n",
    "df_nd.index = np.arange(len(df_nd))\n",
    "nd = ''\n",
    "for i in range(len(df_nd)):\n",
    "    nd += ' ' + det.detokenize(df_nd['post'][i])\n",
    "for i in range(len(df_nd)):\n",
    "    for j in range(len(df_nd['comment'][i])):\n",
    "        nd += ' ' + det.detokenize(df_nd['comment'][i][j])"
   ]
  },
  {
   "cell_type": "code",
   "execution_count": 129,
   "metadata": {},
   "outputs": [],
   "source": [
    "ls_dt = [d, nd]\n",
    "vectorizer = TfidfVectorizer()\n",
    "X = vectorizer.fit_transform(ls_dt)\n",
    "tt = pd.DataFrame(X.toarray(), columns=vectorizer.get_feature_names())"
   ]
  },
  {
   "cell_type": "code",
   "execution_count": 130,
   "metadata": {},
   "outputs": [
    {
     "data": {
      "text/html": [
       "<div>\n",
       "<style scoped>\n",
       "    .dataframe tbody tr th:only-of-type {\n",
       "        vertical-align: middle;\n",
       "    }\n",
       "\n",
       "    .dataframe tbody tr th {\n",
       "        vertical-align: top;\n",
       "    }\n",
       "\n",
       "    .dataframe thead th {\n",
       "        text-align: right;\n",
       "    }\n",
       "</style>\n",
       "<table border=\"1\" class=\"dataframe\">\n",
       "  <thead>\n",
       "    <tr style=\"text-align: right;\">\n",
       "      <th></th>\n",
       "      <th>aln</th>\n",
       "      <th>alyakina</th>\n",
       "      <th>anchevskaya</th>\n",
       "      <th>anews</th>\n",
       "      <th>app</th>\n",
       "      <th>arendator</th>\n",
       "      <th>awards</th>\n",
       "      <th>ba</th>\n",
       "      <th>balashova</th>\n",
       "      <th>be</th>\n",
       "      <th>...</th>\n",
       "      <th>ялта</th>\n",
       "      <th>янао</th>\n",
       "      <th>яндекс</th>\n",
       "      <th>янчиков</th>\n",
       "      <th>ясинский</th>\n",
       "      <th>яснение</th>\n",
       "      <th>ясно</th>\n",
       "      <th>ясный</th>\n",
       "      <th>яхрома</th>\n",
       "      <th>ячейка</th>\n",
       "    </tr>\n",
       "  </thead>\n",
       "  <tbody>\n",
       "    <tr>\n",
       "      <th>0</th>\n",
       "      <td>0.001407</td>\n",
       "      <td>0.001407</td>\n",
       "      <td>0.002814</td>\n",
       "      <td>0.000000</td>\n",
       "      <td>0.001407</td>\n",
       "      <td>0.002814</td>\n",
       "      <td>0.002814</td>\n",
       "      <td>0.001407</td>\n",
       "      <td>0.001001</td>\n",
       "      <td>0.007035</td>\n",
       "      <td>...</td>\n",
       "      <td>0.001407</td>\n",
       "      <td>0.001407</td>\n",
       "      <td>0.004221</td>\n",
       "      <td>0.002814</td>\n",
       "      <td>0.002814</td>\n",
       "      <td>0.001407</td>\n",
       "      <td>0.004221</td>\n",
       "      <td>0.002814</td>\n",
       "      <td>0.001407</td>\n",
       "      <td>0.008009</td>\n",
       "    </tr>\n",
       "    <tr>\n",
       "      <th>1</th>\n",
       "      <td>0.000000</td>\n",
       "      <td>0.000000</td>\n",
       "      <td>0.000000</td>\n",
       "      <td>0.009564</td>\n",
       "      <td>0.000000</td>\n",
       "      <td>0.000000</td>\n",
       "      <td>0.000000</td>\n",
       "      <td>0.000000</td>\n",
       "      <td>0.020414</td>\n",
       "      <td>0.000000</td>\n",
       "      <td>...</td>\n",
       "      <td>0.000000</td>\n",
       "      <td>0.000000</td>\n",
       "      <td>0.000000</td>\n",
       "      <td>0.000000</td>\n",
       "      <td>0.000000</td>\n",
       "      <td>0.000000</td>\n",
       "      <td>0.000000</td>\n",
       "      <td>0.000000</td>\n",
       "      <td>0.000000</td>\n",
       "      <td>0.006805</td>\n",
       "    </tr>\n",
       "  </tbody>\n",
       "</table>\n",
       "<p>2 rows × 6506 columns</p>\n",
       "</div>"
      ],
      "text/plain": [
       "        aln  alyakina  anchevskaya     anews       app  arendator    awards  \\\n",
       "0  0.001407  0.001407     0.002814  0.000000  0.001407   0.002814  0.002814   \n",
       "1  0.000000  0.000000     0.000000  0.009564  0.000000   0.000000  0.000000   \n",
       "\n",
       "         ba  balashova        be  ...      ялта      янао    яндекс   янчиков  \\\n",
       "0  0.001407   0.001001  0.007035  ...  0.001407  0.001407  0.004221  0.002814   \n",
       "1  0.000000   0.020414  0.000000  ...  0.000000  0.000000  0.000000  0.000000   \n",
       "\n",
       "   ясинский   яснение      ясно     ясный    яхрома    ячейка  \n",
       "0  0.002814  0.001407  0.004221  0.002814  0.001407  0.008009  \n",
       "1  0.000000  0.000000  0.000000  0.000000  0.000000  0.006805  \n",
       "\n",
       "[2 rows x 6506 columns]"
      ]
     },
     "execution_count": 130,
     "metadata": {},
     "output_type": "execute_result"
    }
   ],
   "source": [
    "tt"
   ]
  },
  {
   "cell_type": "code",
   "execution_count": 132,
   "metadata": {},
   "outputs": [
    {
     "name": "stdout",
     "output_type": "stream",
     "text": [
      "1: квартира\n",
      "2: еще\n",
      "3: сделка\n",
      "4: такой\n",
      "5: ребенок\n",
      "6: право\n",
      "7: вы\n",
      "8: год\n",
      "9: клиент\n",
      "10: то\n",
      "11: который\n",
      "12: покупатель\n",
      "13: мочь\n",
      "14: свой\n",
      "15: продавец\n"
     ]
    }
   ],
   "source": [
    "dick = dict(zip(tt.columns, tt.loc[0]))\n",
    "utp = sorted(dick, key=dick.get, reverse=True)\n",
    "for i in range(15):\n",
    "    print('{}:'.format(i+1)+' '+utp[i])"
   ]
  },
  {
   "cell_type": "code",
   "execution_count": 89,
   "metadata": {},
   "outputs": [
    {
     "data": {
      "text/plain": [
       "(Int64Index([  0,   8,  11,  12,  15,  16,  17,  18,  19,  21,  22,  23,  24,\n",
       "              25,  27,  28,  29,  30,  31,  32,  33,  34,  36,  37,  38,  39,\n",
       "              40,  41,  42,  43,  44,  45,  46,  47,  48,  49,  50,  51,  52,\n",
       "              53,  54,  55,  56,  57,  58,  59,  60,  61,  62,  63,  64,  65,\n",
       "              66,  67,  68,  69,  70,  71,  72,  73,  74,  75,  76,  77,  78,\n",
       "              79,  80,  81,  82,  83,  84,  85,  86,  87,  88,  89,  90,  91,\n",
       "              92,  93,  94,  95,  96,  97,  98,  99, 100, 101, 102, 103, 104,\n",
       "             105, 106, 107, 108, 109, 110, 111],\n",
       "            dtype='int64'),\n",
       " array([  0,   1,   2,   3,   4,   5,   6,   7,   8,   9,  10,  11,  12,\n",
       "         13,  14,  15,  16,  17,  18,  19,  20,  21,  22,  23,  24,  25,\n",
       "         26,  27,  28,  29,  30,  31,  32,  33,  34,  35,  36,  37,  38,\n",
       "         39,  40,  41,  42,  43,  44,  45,  46,  47,  48,  49,  50,  51,\n",
       "         52,  53,  54,  55,  56,  57,  58,  59,  60,  61,  62,  63,  64,\n",
       "         65,  66,  67,  68,  69,  70,  71,  72,  73,  74,  75,  76,  77,\n",
       "         78,  79,  80,  81,  82,  83,  84,  85,  86,  87,  88,  89,  90,\n",
       "         91,  92,  93,  94,  95,  96,  97,  98,  99, 100, 101, 102, 103,\n",
       "        104, 105, 106, 107, 108, 109, 110, 111]))"
      ]
     },
     "execution_count": 89,
     "metadata": {},
     "output_type": "execute_result"
    }
   ],
   "source": [
    "df_d.index, np.arange(len(df))"
   ]
  },
  {
   "cell_type": "code",
   "execution_count": 92,
   "metadata": {},
   "outputs": [
    {
     "data": {
      "text/html": [
       "<div>\n",
       "<style scoped>\n",
       "    .dataframe tbody tr th:only-of-type {\n",
       "        vertical-align: middle;\n",
       "    }\n",
       "\n",
       "    .dataframe tbody tr th {\n",
       "        vertical-align: top;\n",
       "    }\n",
       "\n",
       "    .dataframe thead th {\n",
       "        text-align: right;\n",
       "    }\n",
       "</style>\n",
       "<table border=\"1\" class=\"dataframe\">\n",
       "  <thead>\n",
       "    <tr style=\"text-align: right;\">\n",
       "      <th></th>\n",
       "      <th>time</th>\n",
       "      <th>post</th>\n",
       "      <th>number_comments</th>\n",
       "      <th>comment</th>\n",
       "    </tr>\n",
       "  </thead>\n",
       "  <tbody>\n",
       "    <tr>\n",
       "      <th>1</th>\n",
       "      <td>2020-10-05 00:00:00</td>\n",
       "      <td>[коллега, клиент, спрашивать, оплачивать, пров...</td>\n",
       "      <td>2</td>\n",
       "      <td>[[документ, регистрировать, регистратор], [ден...</td>\n",
       "    </tr>\n",
       "    <tr>\n",
       "      <th>2</th>\n",
       "      <td>2020-10-05 00:00:00</td>\n",
       "      <td>[приплывать, сделка, цепь, нижний, просить, за...</td>\n",
       "      <td>5</td>\n",
       "      <td>[[итакасоглашаться, оценщик, ссылка, присылать...</td>\n",
       "    </tr>\n",
       "    <tr>\n",
       "      <th>3</th>\n",
       "      <td>2020-10-05 00:00:00</td>\n",
       "      <td>[коллега, добрый, день, нужный, помощь, нужный...</td>\n",
       "      <td>52</td>\n",
       "      <td>[[америка, работать], [наташа], [лурье], [вспо...</td>\n",
       "    </tr>\n",
       "    <tr>\n",
       "      <th>4</th>\n",
       "      <td>2020-10-05 00:00:00</td>\n",
       "      <td>[время, такой, приходить, покупатель, квартира...</td>\n",
       "      <td>10</td>\n",
       "      <td>[[распашонка], [лукашевский], [банк], [быков],...</td>\n",
       "    </tr>\n",
       "    <tr>\n",
       "      <th>5</th>\n",
       "      <td>2020-10-05 00:00:00</td>\n",
       "      <td>[добрый, утро, нбки, кто-то, быстро, сделать, ...</td>\n",
       "      <td>35</td>\n",
       "      <td>[[предлагать, выходить, собственник, обход, аг...</td>\n",
       "    </tr>\n",
       "    <tr>\n",
       "      <th>6</th>\n",
       "      <td>2020-10-05 00:00:00</td>\n",
       "      <td>[коллега, добрый, утро]</td>\n",
       "      <td>6</td>\n",
       "      <td>[[давно, отказываться, завышение, ну, вариант,...</td>\n",
       "    </tr>\n",
       "    <tr>\n",
       "      <th>7</th>\n",
       "      <td>2020-10-05 00:00:00</td>\n",
       "      <td>[что, коллега, это, реклама, один, квартира]</td>\n",
       "      <td>14</td>\n",
       "      <td>[[узнавать], [Shuk, завышение, договор, просит...</td>\n",
       "    </tr>\n",
       "    <tr>\n",
       "      <th>9</th>\n",
       "      <td>2020-10-05 00:00:00</td>\n",
       "      <td>[утро, позвонить, попросить, поработать, нужно...</td>\n",
       "      <td>10</td>\n",
       "      <td>[[вот, понимать, мочь, текст, пост], [земля, н...</td>\n",
       "    </tr>\n",
       "    <tr>\n",
       "      <th>10</th>\n",
       "      <td>2020-10-05 00:00:00</td>\n",
       "      <td>[уважаемый, коллега, кто, подобный, ситуация, ...</td>\n",
       "      <td>15</td>\n",
       "      <td>[[земля, поменять, адрес], [нужно, брать, расп...</td>\n",
       "    </tr>\n",
       "    <tr>\n",
       "      <th>13</th>\n",
       "      <td>2020-10-05 00:00:00</td>\n",
       "      <td>[прекрасно, удалять, твой, публикация, давать,...</td>\n",
       "      <td>70</td>\n",
       "      <td>[[добрянский, какой, ремонт, речь, вы, последн...</td>\n",
       "    </tr>\n",
       "    <tr>\n",
       "      <th>14</th>\n",
       "      <td>2020-10-05 00:00:00</td>\n",
       "      <td>[казаться, какой, отношение, сей, факт, иметь,...</td>\n",
       "      <td>3</td>\n",
       "      <td>[[макеева, сторона, деньги, выкуп, другой, жил...</td>\n",
       "    </tr>\n",
       "    <tr>\n",
       "      <th>20</th>\n",
       "      <td>2020-10-05 00:00:00</td>\n",
       "      <td>[https, www, anews, com, semyu, s, detmi]</td>\n",
       "      <td>60</td>\n",
       "      <td>[[давыдов, старый, закалка, п, не, смочь, дока...</td>\n",
       "    </tr>\n",
       "    <tr>\n",
       "      <th>26</th>\n",
       "      <td>2020-10-05 00:00:00</td>\n",
       "      <td>[коллега, все, здравствовать, кто, опыт, довер...</td>\n",
       "      <td>5</td>\n",
       "      <td>[[простигосподисбербанк, когда, сбер, становит...</td>\n",
       "    </tr>\n",
       "    <tr>\n",
       "      <th>35</th>\n",
       "      <td>2020-10-05 00:00:00</td>\n",
       "      <td>[просматривать, фото, квартира, как, думать]</td>\n",
       "      <td>10</td>\n",
       "      <td>[[кузнецов, взрослый, усыновлять, вообще, прив...</td>\n",
       "    </tr>\n",
       "  </tbody>\n",
       "</table>\n",
       "</div>"
      ],
      "text/plain": [
       "                   time                                               post  \\\n",
       "1   2020-10-05 00:00:00  [коллега, клиент, спрашивать, оплачивать, пров...   \n",
       "2   2020-10-05 00:00:00  [приплывать, сделка, цепь, нижний, просить, за...   \n",
       "3   2020-10-05 00:00:00  [коллега, добрый, день, нужный, помощь, нужный...   \n",
       "4   2020-10-05 00:00:00  [время, такой, приходить, покупатель, квартира...   \n",
       "5   2020-10-05 00:00:00  [добрый, утро, нбки, кто-то, быстро, сделать, ...   \n",
       "6   2020-10-05 00:00:00                            [коллега, добрый, утро]   \n",
       "7   2020-10-05 00:00:00       [что, коллега, это, реклама, один, квартира]   \n",
       "9   2020-10-05 00:00:00  [утро, позвонить, попросить, поработать, нужно...   \n",
       "10  2020-10-05 00:00:00  [уважаемый, коллега, кто, подобный, ситуация, ...   \n",
       "13  2020-10-05 00:00:00  [прекрасно, удалять, твой, публикация, давать,...   \n",
       "14  2020-10-05 00:00:00  [казаться, какой, отношение, сей, факт, иметь,...   \n",
       "20  2020-10-05 00:00:00          [https, www, anews, com, semyu, s, detmi]   \n",
       "26  2020-10-05 00:00:00  [коллега, все, здравствовать, кто, опыт, довер...   \n",
       "35  2020-10-05 00:00:00       [просматривать, фото, квартира, как, думать]   \n",
       "\n",
       "    number_comments                                            comment  \n",
       "1                 2  [[документ, регистрировать, регистратор], [ден...  \n",
       "2                 5  [[итакасоглашаться, оценщик, ссылка, присылать...  \n",
       "3                52  [[америка, работать], [наташа], [лурье], [вспо...  \n",
       "4                10  [[распашонка], [лукашевский], [банк], [быков],...  \n",
       "5                35  [[предлагать, выходить, собственник, обход, аг...  \n",
       "6                 6  [[давно, отказываться, завышение, ну, вариант,...  \n",
       "7                14  [[узнавать], [Shuk, завышение, договор, просит...  \n",
       "9                10  [[вот, понимать, мочь, текст, пост], [земля, н...  \n",
       "10               15  [[земля, поменять, адрес], [нужно, брать, расп...  \n",
       "13               70  [[добрянский, какой, ремонт, речь, вы, последн...  \n",
       "14                3  [[макеева, сторона, деньги, выкуп, другой, жил...  \n",
       "20               60  [[давыдов, старый, закалка, п, не, смочь, дока...  \n",
       "26                5  [[простигосподисбербанк, когда, сбер, становит...  \n",
       "35               10  [[кузнецов, взрослый, усыновлять, вообще, прив...  "
      ]
     },
     "execution_count": 92,
     "metadata": {},
     "output_type": "execute_result"
    }
   ],
   "source": [
    "df.iloc[np.delete(np.arange(len(df)), df_d.index),:]"
   ]
  },
  {
   "cell_type": "code",
   "execution_count": null,
   "metadata": {},
   "outputs": [],
   "source": []
  }
 ],
 "metadata": {
  "kernelspec": {
   "display_name": "Python 3",
   "language": "python",
   "name": "python3"
  },
  "language_info": {
   "codemirror_mode": {
    "name": "ipython",
    "version": 3
   },
   "file_extension": ".py",
   "mimetype": "text/x-python",
   "name": "python",
   "nbconvert_exporter": "python",
   "pygments_lexer": "ipython3",
   "version": "3.7.6"
  }
 },
 "nbformat": 4,
 "nbformat_minor": 4
}
