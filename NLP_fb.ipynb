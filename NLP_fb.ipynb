{
 "cells": [
  {
   "cell_type": "code",
   "execution_count": 1,
   "metadata": {},
   "outputs": [
    {
     "name": "stderr",
     "output_type": "stream",
     "text": [
      "[nltk_data] Downloading package stopwords to /home/victor/nltk_data...\n",
      "[nltk_data]   Package stopwords is already up-to-date!\n",
      "[nltk_data] Downloading package wordnet to /home/victor/nltk_data...\n",
      "[nltk_data]   Package wordnet is already up-to-date!\n"
     ]
    },
    {
     "data": {
      "text/html": [
       "        <script type=\"text/javascript\">\n",
       "        window.PlotlyConfig = {MathJaxConfig: 'local'};\n",
       "        if (window.MathJax) {MathJax.Hub.Config({SVG: {font: \"STIX-Web\"}});}\n",
       "        if (typeof require !== 'undefined') {\n",
       "        require.undef(\"plotly\");\n",
       "        requirejs.config({\n",
       "            paths: {\n",
       "                'plotly': ['https://cdn.plot.ly/plotly-latest.min']\n",
       "            }\n",
       "        });\n",
       "        require(['plotly'], function(Plotly) {\n",
       "            window._Plotly = Plotly;\n",
       "        });\n",
       "        }\n",
       "        </script>\n",
       "        "
      ]
     },
     "metadata": {},
     "output_type": "display_data"
    },
    {
     "name": "stderr",
     "output_type": "stream",
     "text": [
      "/home/victor/anaconda3/lib/python3.7/site-packages/torch/cuda/__init__.py:52: UserWarning:\n",
      "\n",
      "CUDA initialization: Found no NVIDIA driver on your system. Please check that you have an NVIDIA GPU and installed a driver from http://www.nvidia.com/Download/index.aspx (Triggered internally at  /pytorch/c10/cuda/CUDAFunctions.cpp:100.)\n",
      "\n"
     ]
    }
   ],
   "source": [
    "#basics\n",
    "import numpy as np \n",
    "import pandas as pd\n",
    "import collections\n",
    "import re\n",
    "import functools\n",
    "import operator\n",
    "from datetime import datetime, timedelta\n",
    "from accessify import protected\n",
    "from copy import deepcopy\n",
    "\n",
    "#NLP\n",
    "import nltk\n",
    "from nltk.tokenize import word_tokenize\n",
    "from nltk.tokenize import TweetTokenizer\n",
    "from nltk.tokenize.treebank import TreebankWordDetokenizer\n",
    "from nltk.corpus import stopwords\n",
    "from string import punctuation\n",
    "nltk.download(\"stopwords\")\n",
    "from tqdm import tqdm\n",
    "from nltk.stem import WordNetLemmatizer\n",
    "nltk.download(\"wordnet\")\n",
    "from pymystem3 import Mystem\n",
    "from sklearn.feature_extraction.text import TfidfVectorizer\n",
    "from sklearn.feature_extraction.text import CountVectorizer\n",
    "import gensim\n",
    "from sklearn.manifold import TSNE\n",
    "from nltk import ngrams\n",
    "\n",
    "#visualise\n",
    "import matplotlib.pyplot as plt\n",
    "%matplotlib inline\n",
    "import chart_studio.plotly as py\n",
    "#import plotly.graph_obs as go\n",
    "from plotly.offline import iplot\n",
    "import cufflinks as cf\n",
    "import matplotlib.cm as cm\n",
    "import plotly.express as px\n",
    "\n",
    "\n",
    "#fastai\n",
    "from sklearn.model_selection import train_test_split\n",
    "import fastai\n",
    "from fastai.text.transform import Tokenizer\n",
    "from fastai.text.learner import text_classifier_learner\n",
    "from fastai.text.models import AWD_LSTM\n",
    "from fastai.text.models import awd_lstm_lm_config\n",
    "\n",
    "\n",
    "#extra\n",
    "noise = stopwords.words('russian') + list(punctuation)\n",
    "upnoise = [letter.upper() for letter in noise]\n",
    "sum_noise = noise+upnoise+['.','»','«', 'Коллега', \"коллега\", \"это\",'спасибо', \n",
    "                           'такой',\"уважаемый\", \"квартира\", \"который\", \"свой\", \"пожалуйста\"]\n",
    "path = ''"
   ]
  },
  {
   "cell_type": "code",
   "execution_count": 2,
   "metadata": {},
   "outputs": [],
   "source": [
    "df = pd.read_csv(\"fb1.csv\", index_col=0)\n",
    "df = df.drop(columns=['entry_id', 'hash_sum', 'tech_load_ts'])\n",
    "df = df.dropna()\n",
    "df.index = np.arange(len(df))"
   ]
  },
  {
   "cell_type": "code",
   "execution_count": 12,
   "metadata": {},
   "outputs": [
    {
     "data": {
      "text/plain": [
       "\"['2 млн лучше брать в кредит', 'KarnestoУ меня была аналогичная ситуация, клиентка инвестор, которая со мною провела уже достаточно много сделок с недвижимостью в том же сбере', 'услышать домклик', 'Шишкина Хотеть не вредно . По-моему, стремление общаться через Домклик и с Домкликом, как с абсолютно лишним звеном на рынке недвижимости, чаще мешающим, чем помогающим проведению сделок - это просто мазохизм . Стараюсь держаться от всего это...Ещё', 'нас похожая ситуация, говорят про риск, но не говорят какой . В документах все прозрачно, хотя есть ребенок-собственник, но есть разрешение опеки . Кредитных средств 30% всего', 'Сбербанк реагирует на свой хэштег . Но тут видимо сказать нечего (( а я уже нашла другого продавца и ипотека не понадобится.', 'хорошо . Но кто зрители, и как вы хотите принудить их смотреть это шесть минут и зачем?', 'Демин Снято для соискателей, которые не дошли до собеседования . Задача - показать как у нас проходят понедельники )']\""
      ]
     },
     "execution_count": 12,
     "metadata": {},
     "output_type": "execute_result"
    }
   ],
   "source": [
    "df['comment'][1]"
   ]
  },
  {
   "cell_type": "code",
   "execution_count": 5,
   "metadata": {},
   "outputs": [],
   "source": [
    "class SentimentalModel:\n",
    "    \n",
    "    def __init__(self, pos='positive_senti.csv', neg='negative_senti.csv'):\n",
    "        self.pos = pos\n",
    "        self.neg = neg\n",
    "        \n",
    "    def token_text(self, text):\n",
    "        return [word for word in word_tokenize(text.lower()) if word not in sum_noise]\n",
    "    \n",
    "    def preprocess_text(self, text):\n",
    "        text = text.lower().replace(\"ё\", \"е\")\n",
    "        text = text.lower().replace(\"USER\", \"\")\n",
    "        text = text.lower().replace(\"rt\", \"\")\n",
    "        text = text.lower().replace(\"URL\", \"\")\n",
    "        text = text.lower().replace(\"\", \"\")\n",
    "        text = re.sub('((www\\.[^\\s]+)|(https?://[^\\s]+))', 'URL', text)\n",
    "        text = re.sub('@[^\\s]+', 'USER', text)\n",
    "        text = re.sub('[^a-zA-Zа-яА-Я1-9]+', ' ', text)\n",
    "        text = re.sub(' +', ' ', text)\n",
    "        return text.strip()\n",
    "    \n",
    "    def create_data(self):\n",
    "        n = ['id', 'date', 'name', 'text', 'typr', 'rep', 'rtw', 'faw', 'stcount', 'foll', 'frien', 'listcount']\n",
    "        data_positive = pd.read_csv(self.pos, sep=';', error_bad_lines=False, names=n, usecols=['text'])\n",
    "        data_negative = pd.read_csv(self.neg, sep=';', error_bad_lines=False, names=n, usecols=['text'])\n",
    "\n",
    "        # Формируем сбалансированный датасет\n",
    "        sample_size = min(data_positive.shape[0], data_negative.shape[0])\n",
    "        raw_data = np.concatenate((data_positive['text'].values[:sample_size],\n",
    "                                   data_negative['text'].values[:sample_size]), axis=0)\n",
    "        self.labels = [1] * sample_size + [0] * sample_size\n",
    "        \n",
    "        \n",
    "        self.data = [self.preprocess_text(t) for t in raw_data]\n",
    "        self.data_tok = pd.Series(self.data).apply(self.token_text)\n",
    "\n",
    "        self.WORDS = set()\n",
    "        for sent in self.data_tok:\n",
    "            for w in sent:\n",
    "                self.WORDS.add(w)\n",
    "                \n",
    "                \n",
    "        df_train=pd.DataFrame(columns=['Text', 'Label'])\n",
    "        df_test=pd.DataFrame(columns=['Text', 'Label'])\n",
    "\n",
    "        df_train['Text'], df_test['Text'], df_train['Label'], df_test['Label'] = train_test_split(self.data,\n",
    "                                                                                                  self.labels,\n",
    "                                                                                                  test_size=0.2,\n",
    "                                                                                                  random_state=1)\n",
    "        \n",
    "        df_val=pd.DataFrame(columns=['Text', 'Label'])\n",
    "        self.df_train, self.df_val = train_test_split(df_train, test_size=0.2, random_state=1)\n",
    "        \n",
    "        print('data created')\n",
    "        \n",
    "    def fit(self):\n",
    "        \n",
    "        self.create_data()\n",
    "        \n",
    "        \n",
    "        \n",
    "        tokenizer=Tokenizer(lang='xx')\n",
    "        data_lm = fastai.text.data.TextLMDataBunch.from_df(path, tokenizer=tokenizer,\n",
    "                                                   bs=16, train_df=self.df_train, valid_df=self.df_val,\n",
    "                                                           text_cols=0)\n",
    "        print('batches formed')\n",
    "        \n",
    "        data_test_clas = fastai.text.data.TextClasDataBunch.from_df(path, vocab=data_lm.train_ds.vocab,\n",
    "                                                            bs=32, train_df=self.df_train, valid_df=self.df_val,\n",
    "                                                            text_cols=0, label_cols=1, tokenizer=tokenizer)\n",
    "        \n",
    "        \n",
    "        config = fastai.text.models.awd_lstm_clas_config.copy()\n",
    "        config['n_hid'] = 1150\n",
    "        self.learn_test =text_classifier_learner(data_test_clas, AWD_LSTM, config=config, drop_mult=0.5)\n",
    "        \n",
    "        self.learn_test.load_encoder('/home/victor/fb/ft_enc')\n",
    "        self.learn_test.load('/home/victor/fb/tw_lstm')\n",
    "        \n",
    "        print('model learned')\n",
    "        \n",
    "    def predict(self, obj:'str'):\n",
    "        \n",
    "        return self.learn_test.predict(obj)"
   ]
  },
  {
   "cell_type": "code",
   "execution_count": 26,
   "metadata": {},
   "outputs": [
    {
     "data": {
      "text/plain": [
       "2020-12-23    82\n",
       "2020-12-07    75\n",
       "2020-12-25    72\n",
       "2020-12-21    69\n",
       "2020-12-24    65\n",
       "              ..\n",
       "2020-10-28     1\n",
       "2020-11-01     1\n",
       "2019-07-12     1\n",
       "2017-12-22     1\n",
       "2020-10-25     1\n",
       "Name: time, Length: 131, dtype: int64"
      ]
     },
     "execution_count": 26,
     "metadata": {},
     "output_type": "execute_result"
    }
   ],
   "source": [
    "df['time'].value_counts()"
   ]
  },
  {
   "cell_type": "code",
   "execution_count": 6,
   "metadata": {},
   "outputs": [],
   "source": [
    "mod = SentimentalModel()"
   ]
  },
  {
   "cell_type": "code",
   "execution_count": 7,
   "metadata": {},
   "outputs": [
    {
     "name": "stdout",
     "output_type": "stream",
     "text": [
      "data created\n"
     ]
    },
    {
     "data": {
      "text/html": [],
      "text/plain": [
       "<IPython.core.display.HTML object>"
      ]
     },
     "metadata": {},
     "output_type": "display_data"
    },
    {
     "name": "stderr",
     "output_type": "stream",
     "text": [
      "/home/victor/anaconda3/lib/python3.7/site-packages/fastai/core.py:302: VisibleDeprecationWarning:\n",
      "\n",
      "Creating an ndarray from ragged nested sequences (which is a list-or-tuple of lists-or-tuples-or ndarrays with different lengths or shapes) is deprecated. If you meant to do this, you must specify 'dtype=object' when creating the ndarray\n",
      "\n"
     ]
    },
    {
     "data": {
      "text/html": [],
      "text/plain": [
       "<IPython.core.display.HTML object>"
      ]
     },
     "metadata": {},
     "output_type": "display_data"
    },
    {
     "name": "stdout",
     "output_type": "stream",
     "text": [
      "batches formed\n"
     ]
    },
    {
     "data": {
      "text/html": [],
      "text/plain": [
       "<IPython.core.display.HTML object>"
      ]
     },
     "metadata": {},
     "output_type": "display_data"
    },
    {
     "data": {
      "text/html": [],
      "text/plain": [
       "<IPython.core.display.HTML object>"
      ]
     },
     "metadata": {},
     "output_type": "display_data"
    },
    {
     "name": "stderr",
     "output_type": "stream",
     "text": [
      "/home/victor/anaconda3/lib/python3.7/site-packages/numpy/core/_asarray.py:83: VisibleDeprecationWarning:\n",
      "\n",
      "Creating an ndarray from ragged nested sequences (which is a list-or-tuple of lists-or-tuples-or ndarrays with different lengths or shapes) is deprecated. If you meant to do this, you must specify 'dtype=object' when creating the ndarray\n",
      "\n",
      "<string>:6: VisibleDeprecationWarning:\n",
      "\n",
      "Creating an ndarray from ragged nested sequences (which is a list-or-tuple of lists-or-tuples-or ndarrays with different lengths or shapes) is deprecated. If you meant to do this, you must specify 'dtype=object' when creating the ndarray\n",
      "\n"
     ]
    },
    {
     "name": "stdout",
     "output_type": "stream",
     "text": [
      "model learned\n"
     ]
    }
   ],
   "source": [
    "mod.fit()"
   ]
  },
  {
   "cell_type": "code",
   "execution_count": 8,
   "metadata": {},
   "outputs": [
    {
     "name": "stderr",
     "output_type": "stream",
     "text": [
      "/home/victor/anaconda3/lib/python3.7/site-packages/fastai/text/data.py:339: UserWarning:\n",
      "\n",
      "This overload of nonzero is deprecated:\n",
      "\tnonzero()\n",
      "Consider using one of the following signatures instead:\n",
      "\tnonzero(*, bool as_tuple) (Triggered internally at  /pytorch/torch/csrc/utils/python_arg_parser.cpp:882.)\n",
      "\n"
     ]
    },
    {
     "data": {
      "text/plain": [
       "(Category tensor(0), tensor(0), tensor([0.9980, 0.0020]))"
      ]
     },
     "execution_count": 8,
     "metadata": {},
     "output_type": "execute_result"
    }
   ],
   "source": [
    "mod.predict('плохо')"
   ]
  },
  {
   "cell_type": "code",
   "execution_count": 10,
   "metadata": {},
   "outputs": [],
   "source": [
    "class TextAnalyzer:\n",
    "    def __init__(self, df):\n",
    "        ##########TIME#######################\n",
    "        for i in range(len(df)):\n",
    "            try:\n",
    "                df['time'][i] = datetime.strptime(df[\"time\"][i], '%Y-%m-%d')\n",
    "            except TypeError:\n",
    "                continue\n",
    "            \n",
    "        self.df = deepcopy(self.tokeniz(df))\n",
    "        self.df2 = deepcopy(df)\n",
    "        \n",
    "    @protected\n",
    "    def tokeniz(self, df):\n",
    "\n",
    "        #########COMMENTS#####################\n",
    "        for i in range(len(df)):\n",
    "            df[\"comment\"][i] = list(df[\"comment\"][i][2:-2].replace(\"'\", '').split(','))\n",
    "        tw = TweetTokenizer()\n",
    "        det = TreebankWordDetokenizer()\n",
    "        for i in (range(len(df))):\n",
    "            for j in range(len(df[\"comment\"][i])):\n",
    "                tokenized_example = (tw.tokenize(df[\"comment\"][i][j]))\n",
    "                filtered_example = [word for word in tokenized_example if not word in sum_noise]\n",
    "                df[\"comment\"][i][j] = det.detokenize(filtered_example)\n",
    "        mystem_analyzer = Mystem(entire_input=False)\n",
    "        for i in (range(len(df))):\n",
    "            df[\"comment\"][i] = [mystem_analyzer.lemmatize(w) for w in df[\"comment\"][i]]\n",
    "            df[\"comment\"][i] = list(filter(None, df[\"comment\"][i]))\n",
    "        for i in range(len(df)):\n",
    "            for j in range(len(df['comment'][i])):\n",
    "                df['comment'][i][j] = [word for word in df['comment'][i][j] if not word in sum_noise]\n",
    "\n",
    "\n",
    "        ##########POSTS##############\n",
    "        for i in (range(len(df))):\n",
    "                tokenized_example = (tw.tokenize(df[\"post\"][i]))\n",
    "                filtered_example = [word for word in tokenized_example if not word in sum_noise]\n",
    "                df[\"post\"][i] = det.detokenize(filtered_example)\n",
    "        for i in (range(len(df))):\n",
    "            a = []\n",
    "            a.append(df['post'][i])\n",
    "            df[\"post\"][i] = a\n",
    "        for i in (range(len(df))):\n",
    "            df[\"post\"][i] = [mystem_analyzer.lemmatize(w) for w in df[\"post\"][i]][0]\n",
    "        for i in range(len(df)):\n",
    "            df['post'][i] = [word for word in df['post'][i] if not word in sum_noise]\n",
    "        \n",
    "        return df\n",
    "    \n",
    "    @protected\n",
    "    def date_slice(self, start_date = None, end_date = None):\n",
    "        if start_date == None and end_date == None:\n",
    "                self.df1 = deepcopy(self.df)\n",
    "        \n",
    "        if (type(start_date) == list or type(end_date) == list):\n",
    "            if (not start_date == None ) and (not end_date==None):\n",
    "                start_date = datetime(start_date[2], start_date[1], start_date[0], 0, 0)\n",
    "                end_date = datetime(end_date[2], end_date[1], end_date[0], 0, 0)\n",
    "                self.df1 = self.df[self.df['time']<end_date]\n",
    "                self.df1 = self.df1[self.df1['time']>start_date]\n",
    "            elif (not start_date == None ) and (end_date==None):\n",
    "                start_date = datetime(start_date[2], start_date[1], start_date[0], 0, 0)\n",
    "                self.df1 = self.df[self.df['time']>start_date]\n",
    "            elif (start_date == None ) and (not end_date==None):\n",
    "                end_date = datetime(end_date[2], end_date[1], end_date[0], 0, 0)\n",
    "                self.df1 = self.df[self.df['time']<end_date]\n",
    "        elif (type(start_date) == datetime  and type(end_date) == datetime):\n",
    "            self.df1 = self.df[self.df['time']<end_date]\n",
    "            self.df1 = self.df1[self.df1['time']>=start_date]\n",
    "            \n",
    "    @protected\n",
    "    def date_slice1(self, df, start_date = None, end_date = None):\n",
    "        if start_date == None and end_date == None:\n",
    "                self.df1 = deepcopy(df)\n",
    "        \n",
    "        if (type(start_date) == list or type(end_date) == list):\n",
    "            if (not start_date == None ) and (not end_date==None):\n",
    "                start_date = datetime(start_date[2], start_date[1], start_date[0], 0, 0)\n",
    "                end_date = datetime(end_date[2], end_date[1], end_date[0], 0, 0)\n",
    "                self.df1 = df[df['time']<end_date]\n",
    "                self.df1 = self.df1[self.df1['time']>start_date]\n",
    "            elif (not start_date == None ) and (end_date==None):\n",
    "                start_date = datetime(start_date[2], start_date[1], start_date[0], 0, 0)\n",
    "                self.df1 = df[df['time']>start_date]\n",
    "            elif (start_date == None ) and (not end_date==None):\n",
    "                end_date = datetime(end_date[2], end_date[1], end_date[0], 0, 0)\n",
    "                self.df1 = df[df['time']<end_date]\n",
    "        elif (type(start_date) == datetime  and type(end_date) == datetime):\n",
    "            self.df1 = df[df['time']<end_date]\n",
    "            self.df1 = self.df1[self.df1['time']>=start_date]\n",
    "            \n",
    "    def frequency(self,  numb, text_type, start_date = None, end_date = None, ngram = 1, draw=True, output=True):\n",
    "        #start&end date = [d, m ,y]\n",
    "        if ngram>1:\n",
    "            draw = False\n",
    "        self.numb = numb\n",
    "        self.wordcount = {}\n",
    "        self.text_type = text_type\n",
    "        self.draw = draw\n",
    "        #self.start_date = start_date\n",
    "        #self.end_date = end_date\n",
    "       \n",
    "        self.date_slice1(self.df, start_date, end_date)\n",
    "        \n",
    "        if self.text_type == 'comment':\n",
    "            \n",
    "            self.df1.index = np.arange(len(self.df1))\n",
    "            if ngram>1:\n",
    "                for i in range(len(self.df1)):\n",
    "                    for j in range(len(self.df1['comment'][i])):\n",
    "                        self.df1['comment'][i][j] = list(ngrams(self.df1['comment'][i][j],ngram))\n",
    "            for i in range(len(self.df1)):\n",
    "                for j in range(len(self.df1['comment'][i])):\n",
    "                    for word in (self.df1['comment'][i][j]):\n",
    "                       # if ngram==1:\n",
    "                        #    word = word.replace(\".\",\"\")\n",
    "                         #   word = word.replace(\",\",\"\")\n",
    "                          #  word = word.replace(\":\",\"\")\n",
    "                           # word = word.replace(\"\\\"\",\"\")\n",
    "                           # word = word.replace(\"!\",\"\")\n",
    "                           # word = word.replace(\"â€œ\",\"\")\n",
    "                           # word = word.replace(\"â€˜\",\"\")\n",
    "                           # word = word.replace(\"*\",\"\")\n",
    "                           # word = word.replace(\" \",\"\")\n",
    "                        if word not in sum_noise:\n",
    "                            if word not in self.wordcount.keys():\n",
    "                                self.wordcount[word] = 1\n",
    "                            else:\n",
    "                                self.wordcount[word] += 1\n",
    "        if self.text_type == 'post':\n",
    "            self.df1.index = np.arange(len(self.df1))\n",
    "            if ngram>1:\n",
    "                for i in range(len(self.df1)):\n",
    "                    self.df1['post'][i] = list(ngrams(self.df1['post'][i],ngram))\n",
    "            for i in range(len(self.df1)):   \n",
    "                for word in self.df1['post'][i]:\n",
    "                  #  if ngram==1:\n",
    "                   #     word = word.replace(\".\",\"\")\n",
    "                    ##    word = word.replace(\",\",\"\")\n",
    "                     #   word = word.replace(\":\",\"\")\n",
    "                     #   word = word.replace(\"\\\"\",\"\")\n",
    "                     #   word = word.replace(\"!\",\"\")\n",
    "                     #   word = word.replace(\"â€œ\",\"\")\n",
    "                     #   word = word.replace(\"â€˜\",\"\")\n",
    "                     #   word = word.replace(\"*\",\"\")\n",
    "                     #   word = word.replace(\" \",\"\")\n",
    "                    if word not in sum_noise:\n",
    "                        if word not in self.wordcount.keys():\n",
    "                            self.wordcount[word] = 1\n",
    "                        else:\n",
    "                            self.wordcount[word] += 1\n",
    "        self.word_counter = collections.Counter(self.wordcount)\n",
    "        if output:\n",
    "            print(\"{} наиболее часто встречающихся слов\\n\".format(self.numb))\n",
    "            for word, count in self.word_counter.most_common(self.numb):\n",
    "                print(word, \": \", count)\n",
    "        if self.draw:\n",
    "            lst = self.word_counter.most_common(self.numb)\n",
    "            df_cnt = pd.DataFrame(lst, columns = ['Word', 'Count'])\n",
    "            plt.figure(figsize=(20, 12))\n",
    "            plt.bar(df_cnt['Word'], df_cnt['Count'])\n",
    "        if ngram>1:\n",
    "            global df \n",
    "            df = pd.read_csv(\"fb.csv\", index_col=0)\n",
    "            tokeniz(df)\n",
    "            self.df = df\n",
    "    def date_top(self, text_type, nmb, start_date = None, end_date = None, draw = False):\n",
    "        self.date_slice1(self.df, start_date, end_date)\n",
    "            \n",
    "        self.dates = np.sort(self.df1['time'].unique())\n",
    "        self.top_words = []\n",
    "        print(\"Самое частое слово за день\\n\")\n",
    "        for i in range(len(self.dates)):\n",
    "            self.frequency(nmb, text_type, start_date = self.dates[i], end_date = self.dates[i]+timedelta(days=1), draw = draw, output=False)\n",
    "            #self.top_words.append(self.word_counter.most_common(1)[0][0])\n",
    "            if not len(self.word_counter.most_common(nmb)) == 0:\n",
    "                print(self.word_counter.most_common(nmb), self.dates[i].date(), '\\n')\n",
    "            else:\n",
    "                print('no comments', self.dates[i].date(), '\\n')\n",
    "    def word_in_time(self, word):\n",
    "        self.word = word\n",
    "        self.dates = np.sort(self.df['time'].unique())\n",
    "        self.wrd_cnt = []\n",
    "        for i in range(len(self.dates)):\n",
    "            self.count = 0\n",
    "            self.dfwrd = self.df[self.df['time'] == self.dates[i]]\n",
    "            self.dfwrd.index = np.arange(len(self.dfwrd))\n",
    "            for j in range(len(self.dfwrd)):\n",
    "                for word1 in self.dfwrd['post'][j]:\n",
    "                    if word1 == self.word:\n",
    "                        self.count +=1\n",
    "                for comm in self.dfwrd['comment'][j]:\n",
    "                    for word2 in comm:\n",
    "                        if word2 == self.word:\n",
    "                            self.count +=1\n",
    "            self.wrd_cnt.append(self.count)\n",
    "        self.plots = pd.DataFrame(self.wrd_cnt, columns=['Количество упоминаний'])\n",
    "        self.plots['Дата'] = self.dates\n",
    "        f = plt.figure(figsize=(19, 15))\n",
    "        fig = px.line(self.plots, x='Дата', y = 'Количество упоминаний', title = 'Встречаемость слова \"{}\" во времени'.format(word))\n",
    "        fig.update_xaxes(\n",
    "            rangeslider_visible=True,\n",
    "            rangeselector=dict(\n",
    "                buttons=list([\n",
    "                    dict(count=1, label=\"1m\", step=\"month\", stepmode=\"backward\"),\n",
    "                    dict(count=6, label=\"6m\", step=\"month\", stepmode=\"backward\"),\n",
    "                    dict(count=1, label=\"YTD\", step=\"year\", stepmode=\"todate\"),\n",
    "                    dict(count=1, label=\"1y\", step=\"year\", stepmode=\"backward\"),\n",
    "                    dict(step=\"all\")\n",
    "                ])\n",
    "            )\n",
    "        )\n",
    "        fig.show()\n",
    "        \n",
    "    def date_unique(self, nmb, start_date = None, end_date = None):\n",
    "        self.date_slice1(self.df, start_date, end_date)\n",
    "        self.df1_nd = deepcopy(self.df.iloc[np.delete(np.arange(len(self.df)), self.df1.index),:])\n",
    "        self.df1.index = np.arange(len(self.df1))\n",
    "        self.nmb = nmb\n",
    "        self.d = ''\n",
    "        det = TreebankWordDetokenizer()\n",
    "        for i in range(len(self.df1)):\n",
    "            self.d += ' ' + det.detokenize(self.df1['post'][i])\n",
    "        for i in range(len(self.df1)):\n",
    "            for j in range(len(self.df1['comment'][i])):\n",
    "                self.d += ' ' + det.detokenize(self.df1['comment'][i][j])\n",
    "        self.df1_nd.index = np.arange(len(self.df1_nd))\n",
    "        self.nd = ''\n",
    "        for i in range(len(self.df1_nd)):\n",
    "            self.nd += ' ' + det.detokenize(self.df1_nd['post'][i])\n",
    "        for i in range(len(self.df1_nd)):\n",
    "            for j in range(len(self.df1_nd['comment'][i])):\n",
    "                self.nd += ' ' + det.detokenize(self.df1_nd['comment'][i][j])\n",
    "        self.ls_dt = [self.d, self.nd]\n",
    "        vectorizer = TfidfVectorizer()\n",
    "        self.X = vectorizer.fit_transform(self.ls_dt)\n",
    "        self.tt = pd.DataFrame(self.X.toarray(), columns=vectorizer.get_feature_names())\n",
    "        self.dick = dict(zip(self.tt.columns, self.tt.loc[0]))\n",
    "        self.utp = sorted(self.dick, key=self.dick.get, reverse=True)\n",
    "        print ('{} самых значимых слов для данного промежутка\\n'.format(self.nmb))\n",
    "        for i in range(nmb):\n",
    "            print('{}:'.format(i+1)+' '+self.utp[i])\n",
    "    def context(self, word, start_date = None, end_date = None, k = 15, ngram = 1, draw=True):\n",
    "        self.date_slice1(self.df, start_date, end_date)\n",
    "        self.closest = []\n",
    "        if ngram ==1:     \n",
    "            for i in range(len(self.df1)):\n",
    "                j = 0\n",
    "                try:\n",
    "                    index = self.df1['post'][i][j:].index(word)\n",
    "                    if index>k:\n",
    "                        if len(self.df1['post'][i][j:][index:])>k:\n",
    "                            context_ls = self.df1['post'][i][j:][index-k:index+k]\n",
    "                        elif len(self.df1['post'][i][j:][index:])<=k:\n",
    "                            context_ls = self.df1['post'][i][j:][index-k:]\n",
    "                    elif index<=k:\n",
    "                        if len(self.df1['post'][i][j:][index:])>k:\n",
    "                            context_ls = self.df1['post'][i][j:][:index+k]\n",
    "                        elif len(self.df1['post'][i][j:][index:])<=k:\n",
    "                            context_ls = self.df1['post'][i][j:][:]\n",
    "                    self.closest.append(context_ls)\n",
    "                    j = index\n",
    "                except ValueError:\n",
    "                    continue\n",
    "            for i in range(len(self.df1)):\n",
    "                for f in range(len(self.df1['comment'][i])):\n",
    "                    j = 0\n",
    "                    try:\n",
    "                        index = self.df1['comment'][i][f][j:].index(word)\n",
    "                        if index>k:\n",
    "                            if len(self.df1['comment'][i][f][j:][index:])>k:\n",
    "                                context_ls = self.df1['comment'][i][f][j:][index-k:index+k]\n",
    "                            elif len(self.df1['comment'][i][f][j:][index:])<=k:\n",
    "                                context_ls = self.df1['comment'][i][f][j:][index-k:]\n",
    "                        elif index<=k:\n",
    "                            if len(self.df1['comment'][i][f][j:][index:])>k:\n",
    "                                context_ls = self.df1['comment'][i][f][j:][:index+k]\n",
    "                            elif len(self.df1['comment'][i][f][j:][index:])<=k:\n",
    "                                context_ls = self.df1['comment'][i][f][j:][:]\n",
    "                        self.closest.append(context_ls)\n",
    "                        j = index\n",
    "                    except ValueError:\n",
    "                        continue\n",
    "            self.wordcount_contxt = {}\n",
    "            for i in range(len(self.closest)):   \n",
    "                        for word in self.closest[i]:\n",
    "                            word = word.replace(\".\",\"\")\n",
    "                            word = word.replace(\",\",\"\")\n",
    "                            word = word.replace(\":\",\"\")\n",
    "                            word = word.replace(\"\\\"\",\"\")\n",
    "                            word = word.replace(\"!\",\"\")\n",
    "                            word = word.replace(\"â€œ\",\"\")\n",
    "                            word = word.replace(\"â€˜\",\"\")\n",
    "                            word = word.replace(\"*\",\"\")\n",
    "                            if word not in sum_noise:\n",
    "                                if word not in self.wordcount_contxt:\n",
    "                                    self.wordcount_contxt[word] = 1\n",
    "                                else:\n",
    "                                    self.wordcount_contxt[word] += 1\n",
    "            print(\"{} наиболее часто встречающихся слов контекста\\n\".format(k))\n",
    "            self.wordcount_contxt.pop(word)\n",
    "            word_counter = collections.Counter(self.wordcount_contxt)\n",
    "            for word, count in word_counter.most_common(k):\n",
    "                   print(word, \": \", count)\n",
    "                \n",
    "        if ngram>1:\n",
    "            print('не работает, извините(')\n",
    "            draw=False\n",
    "            '''\n",
    "            \n",
    "            for i in range(len(self.df1)):\n",
    "                    for j in range(len(self.df1['comment'][i])):\n",
    "                        self.df1['comment'][i][j] = list(ngrams(self.df1['comment'][i][j],ngram))\n",
    "            for i in range(len(self.df1)):\n",
    "                    self.df1['post'][i] = list(ngrams(self.df1['post'][i],ngram))\n",
    "                    \n",
    "            self.contxt_ls = []\n",
    "            for i in range(len(self.df1)):\n",
    "                for j in range(len(self.df1['post'][i])):\n",
    "                    if word in self.df1['post'][i][j]:\n",
    "                        self.contxt_ls.append(self.df1['post'][i][j])\n",
    "            for i in range(len(self.df1)):\n",
    "                for j in range(len(self.df1['comment'][i])):\n",
    "                    for f in range(len(self.df1['comment'][i][j])):\n",
    "                        if word in self.df1['comment'][i][j][f]:\n",
    "                            self.contxt_ls.append(self.df1['comment'][i][j][f])\n",
    "            self.wordcount_contxt = {}\n",
    "            for word in (self.contxt_ls):   \n",
    "                if word not in sum_noise:\n",
    "                    if word not in self.wordcount_contxt:\n",
    "                        self.wordcount_contxt[word] = 1\n",
    "                    else:\n",
    "                        self.wordcount_contxt[word] += 1\n",
    "            self.wordcount_contxt.pop(word)\n",
    "            print(\"{} наиболее часто встречающихся слов контекста\\n\".format(k))\n",
    "            word_counter = collections.Counter(self.wordcount_contxt)\n",
    "            for word, count in word_counter.most_common(k):\n",
    "                   print(word, \": \", count) \n",
    "            \n",
    "            global df\n",
    "            df = pd.read_csv(\"fb.csv\", index_col=0)\n",
    "            tokeniz(df)\n",
    "            self.df = deepcopy(df)\n",
    "            '''\n",
    "        if draw:\n",
    "            lst = word_counter.most_common(k)\n",
    "            df_cnt = pd.DataFrame(lst, columns = ['Word', 'Count'])\n",
    "            plt.figure(figsize=(20, 12))\n",
    "            plt.bar(df_cnt['Word'], df_cnt['Count'])\n",
    "\n",
    "    def visualise_context(self, keys:\"list\", n, start_date=None, end_date=None, min_cnt = 5, wind = 20, \n",
    "                         draw=True, title='Context Visualisation', a=0.7):\n",
    "        \n",
    "        self.date_slice1(self.df2, start_date, end_date)\n",
    "        \n",
    "        corpus = []\n",
    "        for ls in self.df1['post']:\n",
    "            corpus.append(ls)\n",
    "        for i in range(len(self.df1)):\n",
    "            for j in range(len(self.df1['comment'][i])):\n",
    "                corpus.append(self.df1['comment'][i][j])\n",
    "                \n",
    "        \n",
    "        self.keys = keys\n",
    "        model = gensim.models.word2vec.Word2Vec(sentences = corpus, min_count = min_cnt, window=wind,\n",
    "                                                workers=4)\n",
    "\n",
    "        embedding_clusters = []\n",
    "        word_clusters = []\n",
    "        for word in keys:\n",
    "            embeddings = []\n",
    "            words = []\n",
    "            for similar_word, _ in model.most_similar(word, topn=n):\n",
    "                words.append(similar_word)\n",
    "                embeddings.append(model[similar_word])\n",
    "            words.append(word)\n",
    "            embeddings.append(model[word])\n",
    "            embedding_clusters.append(embeddings)\n",
    "            word_clusters.append(words)\n",
    "        embedding_clusters = np.array(embedding_clusters)\n",
    "        n, m, k = embedding_clusters.shape\n",
    "        try:\n",
    "            tsne_model_en_2d = TSNE(perplexity=15, n_components=2, init='pca', n_iter=3500, random_state=32)\n",
    "            embeddings_en_2d = np.array(tsne_model_en_2d.fit_transform(embedding_clusters.reshape(n * m, k))).reshape(n, m, 2)\n",
    "        except:\n",
    "            tsne_model_en_2d = TSNE(perplexity=15, n_components=2, n_iter=3500, random_state=32)\n",
    "            embeddings_en_2d = np.array(tsne_model_en_2d.fit_transform(embedding_clusters.reshape(n * m, k))).reshape(n, m, 2)\n",
    "        \n",
    "        if draw:\n",
    "            \n",
    "            plt.figure(figsize=(20, 12))\n",
    "            colors = cm.rainbow(np.linspace(0, 1, len(self.keys)))\n",
    "            for label, embeddings, words, color in zip(self.keys, embeddings_en_2d, word_clusters, colors):\n",
    "                x = embeddings[:, 0]\n",
    "                y = embeddings[:, 1]\n",
    "                plt.scatter(x, y, c=color.reshape(1,-1), alpha=a, label=label)\n",
    "                for i, word in enumerate(words):\n",
    "                    plt.annotate(word, alpha=3, xy=(x[i], y[i]), xytext=(5, 2),\n",
    "                                 textcoords='offset points', ha='right', va='bottom', size=15)\n",
    "            plt.legend(loc=4)\n",
    "            plt.title(title)\n",
    "            plt.grid(True)\n",
    "            plt.show()\n"
   ]
  },
  {
   "cell_type": "code",
   "execution_count": null,
   "metadata": {},
   "outputs": [],
   "source": []
  },
  {
   "cell_type": "code",
   "execution_count": 11,
   "metadata": {},
   "outputs": [],
   "source": [
    "test = TextAnalyzer(df)"
   ]
  },
  {
   "cell_type": "code",
   "execution_count": 42,
   "metadata": {},
   "outputs": [
    {
     "name": "stderr",
     "output_type": "stream",
     "text": [
      "/home/victor/anaconda3/lib/python3.7/site-packages/ipykernel_launcher.py:374: DeprecationWarning:\n",
      "\n",
      "Call to deprecated `most_similar` (Method will be removed in 4.0.0, use self.wv.most_similar() instead).\n",
      "\n",
      "/home/victor/anaconda3/lib/python3.7/site-packages/ipykernel_launcher.py:376: DeprecationWarning:\n",
      "\n",
      "Call to deprecated `__getitem__` (Method will be removed in 4.0.0, use self.wv.__getitem__() instead).\n",
      "\n",
      "/home/victor/anaconda3/lib/python3.7/site-packages/ipykernel_launcher.py:378: DeprecationWarning:\n",
      "\n",
      "Call to deprecated `__getitem__` (Method will be removed in 4.0.0, use self.wv.__getitem__() instead).\n",
      "\n"
     ]
    },
    {
     "data": {
      "image/png": "[encoded data removed]",
      "text/plain": [
       "<Figure size 1440x864 with 1 Axes>"
      ]
     },
     "metadata": {
      "needs_background": "light"
     },
     "output_type": "display_data"
    }
   ],
   "source": [
    "test.visualise_context(['залог'], 15)"
   ]
  },
  {
   "cell_type": "code",
   "execution_count": 45,
   "metadata": {},
   "outputs": [
    {
     "name": "stdout",
     "output_type": "stream",
     "text": [
      "25 наиболее часто встречающихся слов контекста\n",
      "\n",
      "закладная :  53\n",
      "банк :  19\n",
      "обременение :  13\n",
      "электронный :  13\n",
      "день :  13\n",
      "залог :  10\n",
      "заявление :  10\n",
      "снятие :  9\n",
      "продавать :  9\n",
      "росреестр :  9\n",
      "писать :  9\n",
      "открытие :  8\n",
      "кредит :  8\n",
      "менеджер :  8\n",
      "доверенность :  8\n",
      "МФЦ :  8\n",
      "узнавать :  8\n",
      "покупатель :  7\n",
      "выдача :  7\n",
      "ипотека :  6\n",
      "проходить :  6\n",
      "решать :  6\n",
      "быстро :  6\n",
      "месяц :  6\n",
      "погасить :  5\n"
     ]
    },
    {
     "data": {
      "image/png": "[encoded data removed]",
      "text/plain": [
       "<Figure size 1440x864 with 1 Axes>"
      ]
     },
     "metadata": {
      "needs_background": "light"
     },
     "output_type": "display_data"
    }
   ],
   "source": [
    "test.context('закладная', k=25, ngram=1)"
   ]
  },
  {
   "cell_type": "code",
   "execution_count": 22,
   "metadata": {},
   "outputs": [
    {
     "name": "stdout",
     "output_type": "stream",
     "text": [
      "20 наиболее часто встречающихся слов\n",
      "\n",
      "сделка :  1355\n",
      "покупатель :  1147\n",
      "клиент :  1043\n",
      "год :  989\n",
      "деньги :  934\n",
      "продавец :  925\n",
      "договор :  865\n",
      "продавать :  830\n",
      "человек :  805\n",
      "вопрос :  786\n",
      "просто :  765\n",
      "банк :  744\n",
      "работать :  709\n",
      "мочь :  691\n",
      "понимать :  627\n",
      "очень :  613\n",
      "написать :  600\n",
      "риэлтор :  594\n",
      "делать :  591\n",
      "ваш :  580\n"
     ]
    },
    {
     "data": {
      "image/png": "[encoded data removed]",
      "text/plain": [
       "<Figure size 1440x864 with 1 Axes>"
      ]
     },
     "metadata": {
      "needs_background": "light"
     },
     "output_type": "display_data"
    }
   ],
   "source": [
    "test.frequency(20, 'comment', start_date=[28,9,2020])"
   ]
  },
  {
   "cell_type": "code",
   "execution_count": 25,
   "metadata": {},
   "outputs": [
    {
     "name": "stdout",
     "output_type": "stream",
     "text": [
      "15 самых значимых слов для данного промежутка\n",
      "\n",
      "1: сделка\n",
      "2: покупатель\n",
      "3: год\n",
      "4: клиент\n",
      "5: продавец\n",
      "6: деньги\n",
      "7: договор\n",
      "8: продавать\n",
      "9: вопрос\n",
      "10: человек\n",
      "11: банк\n",
      "12: мочь\n",
      "13: работать\n",
      "14: риэлтор\n",
      "15: день\n"
     ]
    }
   ],
   "source": [
    "test.date_unique(15, start_date=[3,10,2020])"
   ]
  },
  {
   "cell_type": "code",
   "execution_count": 17,
   "metadata": {},
   "outputs": [
    {
     "name": "stdout",
     "output_type": "stream",
     "text": [
      "Самое частое слово за день\n",
      "\n",
      "[('сделка', 12)] 2014-05-13 \n",
      "\n",
      "[('домклик', 3)] 2017-09-11 \n",
      "\n",
      "no comments 2017-09-12 \n",
      "\n",
      "no comments 2017-09-14 \n",
      "\n",
      "no comments 2017-09-20 \n",
      "\n",
      "[('юлия', 4)] 2017-09-30 \n",
      "\n",
      "[('проверять', 12)] 2017-10-11 \n",
      "\n",
      "[('циан', 3)] 2017-10-13 \n",
      "\n",
      "no comments 2017-11-23 \n",
      "\n",
      "no comments 2017-12-22 \n",
      "\n",
      "no comments 2018-04-02 \n",
      "\n",
      "no comments 2018-04-10 \n",
      "\n",
      "no comments 2018-09-19 \n",
      "\n",
      "no comments 2018-12-24 \n",
      "\n",
      "no comments 2019-07-12 \n",
      "\n",
      "[('вводить', 2)] 2019-07-16 \n",
      "\n",
      "no comments 2019-07-30 \n",
      "\n",
      "[('сделка', 11)] 2019-08-19 \n",
      "\n",
      "no comments 2019-08-26 \n",
      "\n",
      "no comments 2019-08-29 \n",
      "\n",
      "no comments 2019-09-15 \n",
      "\n",
      "no comments 2019-09-24 \n",
      "\n",
      "[('оценка', 4)] 2019-10-21 \n",
      "\n",
      "no comments 2019-10-27 \n",
      "\n",
      "[('клиент', 4)] 2019-11-21 \n",
      "\n",
      "no comments 2019-11-22 \n",
      "\n",
      "no comments 2020-02-22 \n",
      "\n",
      "no comments 2020-04-24 \n",
      "\n",
      "[('секс', 3)] 2020-05-20 \n",
      "\n",
      "no comments 2020-07-02 \n",
      "\n",
      "no comments 2020-07-20 \n",
      "\n",
      "no comments 2020-07-22 \n",
      "\n",
      "[('родитель', 13)] 2020-08-10 \n",
      "\n",
      "[('писать', 6)] 2020-08-12 \n",
      "\n",
      "no comments 2020-08-26 \n",
      "\n",
      "no comments 2020-08-27 \n",
      "\n",
      "no comments 2020-08-31 \n",
      "\n",
      "[('яковлев', 1)] 2020-09-16 \n",
      "\n",
      "no comments 2020-09-25 \n",
      "\n",
      "[('аренда', 8)] 2020-09-30 \n",
      "\n",
      "[('иметь', 2)] 2020-10-12 \n",
      "\n",
      "no comments 2020-10-14 \n",
      "\n",
      "no comments 2020-10-17 \n",
      "\n",
      "no comments 2020-10-21 \n",
      "\n",
      "[('вопрос', 6)] 2020-10-22 \n",
      "\n",
      "no comments 2020-10-25 \n",
      "\n",
      "no comments 2020-10-28 \n",
      "\n",
      "no comments 2020-10-30 \n",
      "\n",
      "[('поделиться', 2)] 2020-10-31 \n",
      "\n",
      "no comments 2020-11-01 \n",
      "\n",
      "no comments 2020-11-02 \n",
      "\n",
      "no comments 2020-11-03 \n",
      "\n",
      "no comments 2020-11-04 \n",
      "\n",
      "[('продавец', 14)] 2020-11-05 \n",
      "\n",
      "[('сафар', 2)] 2020-11-06 \n",
      "\n",
      "no comments 2020-11-08 \n",
      "\n",
      "no comments 2020-11-09 \n",
      "\n",
      "[('агентство', 9)] 2020-11-10 \n",
      "\n",
      "[('регистратор', 3)] 2020-11-11 \n",
      "\n",
      "[('продавать', 15)] 2020-11-12 \n",
      "\n",
      "[('счет', 7)] 2020-11-13 \n",
      "\n",
      "[('контакт', 8)] 2020-11-14 \n",
      "\n",
      "[('человек', 3)] 2020-11-15 \n",
      "\n",
      "[('деньги', 20)] 2020-11-16 \n",
      "\n",
      "[('клиент', 96)] 2020-11-17 \n",
      "\n",
      "[('клиент', 101)] 2020-11-18 \n",
      "\n",
      "[('год', 35)] 2020-11-19 \n",
      "\n",
      "[('покупатель', 91)] 2020-11-20 \n",
      "\n",
      "[('сделка', 93)] 2020-11-21 \n",
      "\n",
      "[('продавец', 14)] 2020-11-22 \n",
      "\n",
      "[('договор', 103)] 2020-11-23 \n",
      "\n",
      "no comments 2020-11-26 \n",
      "\n",
      "no comments 2020-11-28 \n",
      "\n",
      "[('косой', 20)] 2020-11-29 \n",
      "\n",
      "no comments 2020-11-30 \n",
      "\n",
      "[('покупатель', 39)] 2020-12-01 \n",
      "\n",
      "[('продавать', 12)] 2020-12-02 \n",
      "\n",
      "[('сделка', 70)] 2020-12-03 \n",
      "\n",
      "[('зелинская', 10)] 2020-12-04 \n",
      "\n",
      "[('продавать', 42)] 2020-12-05 \n",
      "\n",
      "[('договор', 40)] 2020-12-06 \n",
      "\n",
      "[('сделка', 50)] 2020-12-07 \n",
      "\n",
      "[('год', 33)] 2020-12-08 \n",
      "\n",
      "[('сделка', 54)] 2020-12-09 \n",
      "\n",
      "[('написать', 38)] 2020-12-10 \n",
      "\n",
      "[('сделка', 66)] 2020-12-11 \n",
      "\n",
      "[('комната', 46)] 2020-12-12 \n",
      "\n",
      "[('аванс', 33)] 2020-12-13 \n",
      "\n",
      "[('покупатель', 76)] 2020-12-14 \n",
      "\n",
      "[('сделка', 27)] 2020-12-15 \n",
      "\n",
      "[('брак', 15)] 2020-12-16 \n",
      "\n",
      "[('сделка', 81)] 2020-12-17 \n",
      "\n",
      "[('сделка', 76)] 2020-12-18 \n",
      "\n",
      "[('банк', 50)] 2020-12-19 \n",
      "\n",
      "[('работать', 13)] 2020-12-20 \n",
      "\n",
      "[('сумма', 21)] 2020-12-21 \n",
      "\n",
      "no comments 2020-12-22 \n",
      "\n",
      "[('сделка', 20)] 2020-12-23 \n",
      "\n",
      "[('покупатель', 16)] 2020-12-24 \n",
      "\n",
      "[('сделка', 34)] 2020-12-25 \n",
      "\n",
      "[('регистрация', 5)] 2020-12-26 \n",
      "\n",
      "no comments 2020-12-27 \n",
      "\n",
      "[('стена', 10)] 2020-12-28 \n",
      "\n",
      "[('сделка', 17)] 2020-12-29 \n",
      "\n",
      "no comments 2020-12-30 \n",
      "\n",
      "no comments 2020-12-31 \n",
      "\n",
      "no comments 2021-01-01 \n",
      "\n",
      "no comments 2021-01-02 \n",
      "\n",
      "no comments 2021-01-03 \n",
      "\n",
      "no comments 2021-01-04 \n",
      "\n",
      "[('год', 27)] 2021-01-05 \n",
      "\n",
      "[('регистрация', 7)] 2021-01-06 \n",
      "\n",
      "[('застройщик', 16)] 2021-01-07 \n",
      "\n",
      "no comments 2021-01-08 \n",
      "\n",
      "no comments 2021-01-09 \n",
      "\n",
      "no comments 2021-01-10 \n",
      "\n",
      "no comments 2021-01-11 \n",
      "\n",
      "[('₽', 18)] 2021-01-12 \n",
      "\n",
      "[('клиент', 14)] 2021-01-13 \n",
      "\n",
      "[('год', 30)] 2021-01-14 \n",
      "\n",
      "no comments 2021-01-15 \n",
      "\n",
      "no comments 2021-01-16 \n",
      "\n",
      "no comments 2021-01-17 \n",
      "\n",
      "no comments 2021-01-18 \n",
      "\n",
      "no comments 2021-01-19 \n",
      "\n",
      "no comments 2021-01-20 \n",
      "\n",
      "no comments 2021-01-21 \n",
      "\n",
      "no comments 2021-01-22 \n",
      "\n",
      "[('покупатель', 28)] 2021-01-23 \n",
      "\n",
      "[('учет', 2)] 2021-01-24 \n",
      "\n",
      "[('город', 31)] 2021-01-25 \n",
      "\n"
     ]
    }
   ],
   "source": [
    "test.date_top('comment', 1)"
   ]
  },
  {
   "cell_type": "code",
   "execution_count": 39,
   "metadata": {},
   "outputs": [
    {
     "name": "stdout",
     "output_type": "stream",
     "text": [
      "20 наиболее часто встречающихся слов контекста\n",
      "\n",
      "гарантия :  62\n",
      "давать :  10\n",
      "никакой :  8\n",
      "вопрос :  7\n",
      "продавец :  6\n",
      "покупатель :  5\n",
      "аванс :  4\n",
      "находить :  4\n",
      "клиент :  4\n",
      "сертификат :  4\n",
      "работать :  4\n",
      "новый :  4\n",
      "платить :  4\n",
      "нужный :  4\n",
      "продавать :  4\n",
      "просто :  4\n",
      "друг :  4\n",
      "сразу :  3\n",
      "собственник :  3\n",
      "ипотека :  3\n"
     ]
    },
    {
     "data": {
      "image/png": "[encoded data removed]",
      "text/plain": [
       "<Figure size 1440x864 with 1 Axes>"
      ]
     },
     "metadata": {
      "needs_background": "light"
     },
     "output_type": "display_data"
    }
   ],
   "source": [
    "test.context('гарантия', k = 20, ngram=1) "
   ]
  },
  {
   "cell_type": "code",
   "execution_count": 19,
   "metadata": {},
   "outputs": [
    {
     "data": {
      "application/vnd.plotly.v1+json": {
       "config": {
        "plotlyServerURL": "https://plot.ly"
       },
       "data": [
        {
         "hovertemplate": "Дата=%{x}<br>Количество упоминаний=%{y}<extra></extra>",
         "legendgroup": "",
         "line": {
          "color": "#636efa",
          "dash": "solid"
         },
         "mode": "lines",
         "name": "",
         "orientation": "v",
         "showlegend": false,
         "type": "scatter",
         "x": [
          "2014-05-13T00:00:00",
          "2017-09-11T00:00:00",
          "2017-09-12T00:00:00",
          "2017-09-14T00:00:00",
          "2017-09-20T00:00:00",
          "2017-09-30T00:00:00",
          "2017-10-11T00:00:00",
          "2017-10-13T00:00:00",
          "2017-11-23T00:00:00",
          "2017-12-22T00:00:00",
          "2018-04-02T00:00:00",
          "2018-04-10T00:00:00",
          "2018-09-19T00:00:00",
          "2018-12-24T00:00:00",
          "2019-07-12T00:00:00",
          "2019-07-16T00:00:00",
          "2019-07-30T00:00:00",
          "2019-08-19T00:00:00",
          "2019-08-26T00:00:00",
          "2019-08-29T00:00:00",
          "2019-09-15T00:00:00",
          "2019-09-24T00:00:00",
          "2019-10-21T00:00:00",
          "2019-10-27T00:00:00",
          "2019-11-21T00:00:00",
          "2019-11-22T00:00:00",
          "2020-02-22T00:00:00",
          "2020-04-24T00:00:00",
          "2020-05-20T00:00:00",
          "2020-07-02T00:00:00",
          "2020-07-20T00:00:00",
          "2020-07-22T00:00:00",
          "2020-08-10T00:00:00",
          "2020-08-12T00:00:00",
          "2020-08-26T00:00:00",
          "2020-08-27T00:00:00",
          "2020-08-31T00:00:00",
          "2020-09-16T00:00:00",
          "2020-09-25T00:00:00",
          "2020-09-30T00:00:00",
          "2020-10-12T00:00:00",
          "2020-10-14T00:00:00",
          "2020-10-17T00:00:00",
          "2020-10-21T00:00:00",
          "2020-10-22T00:00:00",
          "2020-10-25T00:00:00",
          "2020-10-28T00:00:00",
          "2020-10-30T00:00:00",
          "2020-10-31T00:00:00",
          "2020-11-01T00:00:00",
          "2020-11-02T00:00:00",
          "2020-11-03T00:00:00",
          "2020-11-04T00:00:00",
          "2020-11-05T00:00:00",
          "2020-11-06T00:00:00",
          "2020-11-08T00:00:00",
          "2020-11-09T00:00:00",
          "2020-11-10T00:00:00",
          "2020-11-11T00:00:00",
          "2020-11-12T00:00:00",
          "2020-11-13T00:00:00",
          "2020-11-14T00:00:00",
          "2020-11-15T00:00:00",
          "2020-11-16T00:00:00",
          "2020-11-17T00:00:00",
          "2020-11-18T00:00:00",
          "2020-11-19T00:00:00",
          "2020-11-20T00:00:00",
          "2020-11-21T00:00:00",
          "2020-11-22T00:00:00",
          "2020-11-23T00:00:00",
          "2020-11-26T00:00:00",
          "2020-11-28T00:00:00",
          "2020-11-29T00:00:00",
          "2020-11-30T00:00:00",
          "2020-12-01T00:00:00",
          "2020-12-02T00:00:00",
          "2020-12-03T00:00:00",
          "2020-12-04T00:00:00",
          "2020-12-05T00:00:00",
          "2020-12-06T00:00:00",
          "2020-12-07T00:00:00",
          "2020-12-08T00:00:00",
          "2020-12-09T00:00:00",
          "2020-12-10T00:00:00",
          "2020-12-11T00:00:00",
          "2020-12-12T00:00:00",
          "2020-12-13T00:00:00",
          "2020-12-14T00:00:00",
          "2020-12-15T00:00:00",
          "2020-12-16T00:00:00",
          "2020-12-17T00:00:00",
          "2020-12-18T00:00:00",
          "2020-12-19T00:00:00",
          "2020-12-20T00:00:00",
          "2020-12-21T00:00:00",
          "2020-12-22T00:00:00",
          "2020-12-23T00:00:00",
          "2020-12-24T00:00:00",
          "2020-12-25T00:00:00",
          "2020-12-26T00:00:00",
          "2020-12-27T00:00:00",
          "2020-12-28T00:00:00",
          "2020-12-29T00:00:00",
          "2020-12-30T00:00:00",
          "2020-12-31T00:00:00",
          "2021-01-01T00:00:00",
          "2021-01-02T00:00:00",
          "2021-01-03T00:00:00",
          "2021-01-04T00:00:00",
          "2021-01-05T00:00:00",
          "2021-01-06T00:00:00",
          "2021-01-07T00:00:00",
          "2021-01-08T00:00:00",
          "2021-01-09T00:00:00",
          "2021-01-10T00:00:00",
          "2021-01-11T00:00:00",
          "2021-01-12T00:00:00",
          "2021-01-13T00:00:00",
          "2021-01-14T00:00:00",
          "2021-01-15T00:00:00",
          "2021-01-16T00:00:00",
          "2021-01-17T00:00:00",
          "2021-01-18T00:00:00",
          "2021-01-19T00:00:00",
          "2021-01-20T00:00:00",
          "2021-01-21T00:00:00",
          "2021-01-22T00:00:00",
          "2021-01-23T00:00:00",
          "2021-01-24T00:00:00",
          "2021-01-25T00:00:00"
         ],
         "xaxis": "x",
         "y": [
          0,
          0,
          0,
          0,
          0,
          0,
          0,
          0,
          0,
          0,
          0,
          0,
          0,
          0,
          0,
          0,
          0,
          0,
          0,
          0,
          0,
          0,
          0,
          0,
          0,
          0,
          0,
          0,
          0,
          0,
          0,
          0,
          0,
          0,
          0,
          0,
          0,
          0,
          0,
          0,
          0,
          0,
          0,
          0,
          0,
          0,
          0,
          0,
          0,
          0,
          0,
          0,
          0,
          0,
          0,
          0,
          0,
          0,
          0,
          0,
          0,
          0,
          0,
          0,
          0,
          0,
          0,
          0,
          0,
          0,
          0,
          0,
          0,
          0,
          0,
          0,
          1,
          1,
          0,
          0,
          0,
          0,
          0,
          0,
          0,
          0,
          0,
          0,
          0,
          0,
          0,
          1,
          0,
          0,
          0,
          0,
          0,
          0,
          0,
          0,
          0,
          0,
          0,
          0,
          0,
          0,
          0,
          0,
          0,
          0,
          0,
          0,
          0,
          0,
          0,
          0,
          0,
          0,
          0,
          0,
          0,
          0,
          0,
          0,
          0,
          0,
          0,
          0,
          0,
          0,
          1
         ],
         "yaxis": "y"
        }
       ],
       "layout": {
        "legend": {
         "tracegroupgap": 0
        },
        "template": {
         "data": {
          "bar": [
           {
            "error_x": {
             "color": "#2a3f5f"
            },
            "error_y": {
             "color": "#2a3f5f"
            },
            "marker": {
             "line": {
              "color": "#E5ECF6",
              "width": 0.5
             }
            },
            "type": "bar"
           }
          ],
          "barpolar": [
           {
            "marker": {
             "line": {
              "color": "#E5ECF6",
              "width": 0.5
             }
            },
            "type": "barpolar"
           }
          ],
          "carpet": [
           {
            "aaxis": {
             "endlinecolor": "#2a3f5f",
             "gridcolor": "white",
             "linecolor": "white",
             "minorgridcolor": "white",
             "startlinecolor": "#2a3f5f"
            },
            "baxis": {
             "endlinecolor": "#2a3f5f",
             "gridcolor": "white",
             "linecolor": "white",
             "minorgridcolor": "white",
             "startlinecolor": "#2a3f5f"
            },
            "type": "carpet"
           }
          ],
          "choropleth": [
           {
            "colorbar": {
             "outlinewidth": 0,
             "ticks": ""
            },
            "type": "choropleth"
           }
          ],
          "contour": [
           {
            "colorbar": {
             "outlinewidth": 0,
             "ticks": ""
            },
            "colorscale": [
             [
              0,
              "#0d0887"
             ],
             [
              0.1111111111111111,
              "#46039f"
             ],
             [
              0.2222222222222222,
              "#7201a8"
             ],
             [
              0.3333333333333333,
              "#9c179e"
             ],
             [
              0.4444444444444444,
              "#bd3786"
             ],
             [
              0.5555555555555556,
              "#d8576b"
             ],
             [
              0.6666666666666666,
              "#ed7953"
             ],
             [
              0.7777777777777778,
              "#fb9f3a"
             ],
             [
              0.8888888888888888,
              "#fdca26"
             ],
             [
              1,
              "#f0f921"
             ]
            ],
            "type": "contour"
           }
          ],
          "contourcarpet": [
           {
            "colorbar": {
             "outlinewidth": 0,
             "ticks": ""
            },
            "type": "contourcarpet"
           }
          ],
          "heatmap": [
           {
            "colorbar": {
             "outlinewidth": 0,
             "ticks": ""
            },
            "colorscale": [
             [
              0,
              "#0d0887"
             ],
             [
              0.1111111111111111,
              "#46039f"
             ],
             [
              0.2222222222222222,
              "#7201a8"
             ],
             [
              0.3333333333333333,
              "#9c179e"
             ],
             [
              0.4444444444444444,
              "#bd3786"
             ],
             [
              0.5555555555555556,
              "#d8576b"
             ],
             [
              0.6666666666666666,
              "#ed7953"
             ],
             [
              0.7777777777777778,
              "#fb9f3a"
             ],
             [
              0.8888888888888888,
              "#fdca26"
             ],
             [
              1,
              "#f0f921"
             ]
            ],
            "type": "heatmap"
           }
          ],
          "heatmapgl": [
           {
            "colorbar": {
             "outlinewidth": 0,
             "ticks": ""
            },
            "colorscale": [
             [
              0,
              "#0d0887"
             ],
             [
              0.1111111111111111,
              "#46039f"
             ],
             [
              0.2222222222222222,
              "#7201a8"
             ],
             [
              0.3333333333333333,
              "#9c179e"
             ],
             [
              0.4444444444444444,
              "#bd3786"
             ],
             [
              0.5555555555555556,
              "#d8576b"
             ],
             [
              0.6666666666666666,
              "#ed7953"
             ],
             [
              0.7777777777777778,
              "#fb9f3a"
             ],
             [
              0.8888888888888888,
              "#fdca26"
             ],
             [
              1,
              "#f0f921"
             ]
            ],
            "type": "heatmapgl"
           }
          ],
          "histogram": [
           {
            "marker": {
             "colorbar": {
              "outlinewidth": 0,
              "ticks": ""
             }
            },
            "type": "histogram"
           }
          ],
          "histogram2d": [
           {
            "colorbar": {
             "outlinewidth": 0,
             "ticks": ""
            },
            "colorscale": [
             [
              0,
              "#0d0887"
             ],
             [
              0.1111111111111111,
              "#46039f"
             ],
             [
              0.2222222222222222,
              "#7201a8"
             ],
             [
              0.3333333333333333,
              "#9c179e"
             ],
             [
              0.4444444444444444,
              "#bd3786"
             ],
             [
              0.5555555555555556,
              "#d8576b"
             ],
             [
              0.6666666666666666,
              "#ed7953"
             ],
             [
              0.7777777777777778,
              "#fb9f3a"
             ],
             [
              0.8888888888888888,
              "#fdca26"
             ],
             [
              1,
              "#f0f921"
             ]
            ],
            "type": "histogram2d"
           }
          ],
          "histogram2dcontour": [
           {
            "colorbar": {
             "outlinewidth": 0,
             "ticks": ""
            },
            "colorscale": [
             [
              0,
              "#0d0887"
             ],
             [
              0.1111111111111111,
              "#46039f"
             ],
             [
              0.2222222222222222,
              "#7201a8"
             ],
             [
              0.3333333333333333,
              "#9c179e"
             ],
             [
              0.4444444444444444,
              "#bd3786"
             ],
             [
              0.5555555555555556,
              "#d8576b"
             ],
             [
              0.6666666666666666,
              "#ed7953"
             ],
             [
              0.7777777777777778,
              "#fb9f3a"
             ],
             [
              0.8888888888888888,
              "#fdca26"
             ],
             [
              1,
              "#f0f921"
             ]
            ],
            "type": "histogram2dcontour"
           }
          ],
          "mesh3d": [
           {
            "colorbar": {
             "outlinewidth": 0,
             "ticks": ""
            },
            "type": "mesh3d"
           }
          ],
          "parcoords": [
           {
            "line": {
             "colorbar": {
              "outlinewidth": 0,
              "ticks": ""
             }
            },
            "type": "parcoords"
           }
          ],
          "pie": [
           {
            "automargin": true,
            "type": "pie"
           }
          ],
          "scatter": [
           {
            "marker": {
             "colorbar": {
              "outlinewidth": 0,
              "ticks": ""
             }
            },
            "type": "scatter"
           }
          ],
          "scatter3d": [
           {
            "line": {
             "colorbar": {
              "outlinewidth": 0,
              "ticks": ""
             }
            },
            "marker": {
             "colorbar": {
              "outlinewidth": 0,
              "ticks": ""
             }
            },
            "type": "scatter3d"
           }
          ],
          "scattercarpet": [
           {
            "marker": {
             "colorbar": {
              "outlinewidth": 0,
              "ticks": ""
             }
            },
            "type": "scattercarpet"
           }
          ],
          "scattergeo": [
           {
            "marker": {
             "colorbar": {
              "outlinewidth": 0,
              "ticks": ""
             }
            },
            "type": "scattergeo"
           }
          ],
          "scattergl": [
           {
            "marker": {
             "colorbar": {
              "outlinewidth": 0,
              "ticks": ""
             }
            },
            "type": "scattergl"
           }
          ],
          "scattermapbox": [
           {
            "marker": {
             "colorbar": {
              "outlinewidth": 0,
              "ticks": ""
             }
            },
            "type": "scattermapbox"
           }
          ],
          "scatterpolar": [
           {
            "marker": {
             "colorbar": {
              "outlinewidth": 0,
              "ticks": ""
             }
            },
            "type": "scatterpolar"
           }
          ],
          "scatterpolargl": [
           {
            "marker": {
             "colorbar": {
              "outlinewidth": 0,
              "ticks": ""
             }
            },
            "type": "scatterpolargl"
           }
          ],
          "scatterternary": [
           {
            "marker": {
             "colorbar": {
              "outlinewidth": 0,
              "ticks": ""
             }
            },
            "type": "scatterternary"
           }
          ],
          "surface": [
           {
            "colorbar": {
             "outlinewidth": 0,
             "ticks": ""
            },
            "colorscale": [
             [
              0,
              "#0d0887"
             ],
             [
              0.1111111111111111,
              "#46039f"
             ],
             [
              0.2222222222222222,
              "#7201a8"
             ],
             [
              0.3333333333333333,
              "#9c179e"
             ],
             [
              0.4444444444444444,
              "#bd3786"
             ],
             [
              0.5555555555555556,
              "#d8576b"
             ],
             [
              0.6666666666666666,
              "#ed7953"
             ],
             [
              0.7777777777777778,
              "#fb9f3a"
             ],
             [
              0.8888888888888888,
              "#fdca26"
             ],
             [
              1,
              "#f0f921"
             ]
            ],
            "type": "surface"
           }
          ],
          "table": [
           {
            "cells": {
             "fill": {
              "color": "#EBF0F8"
             },
             "line": {
              "color": "white"
             }
            },
            "header": {
             "fill": {
              "color": "#C8D4E3"
             },
             "line": {
              "color": "white"
             }
            },
            "type": "table"
           }
          ]
         },
         "layout": {
          "annotationdefaults": {
           "arrowcolor": "#2a3f5f",
           "arrowhead": 0,
           "arrowwidth": 1
          },
          "coloraxis": {
           "colorbar": {
            "outlinewidth": 0,
            "ticks": ""
           }
          },
          "colorscale": {
           "diverging": [
            [
             0,
             "#8e0152"
            ],
            [
             0.1,
             "#c51b7d"
            ],
            [
             0.2,
             "#de77ae"
            ],
            [
             0.3,
             "#f1b6da"
            ],
            [
             0.4,
             "#fde0ef"
            ],
            [
             0.5,
             "#f7f7f7"
            ],
            [
             0.6,
             "#e6f5d0"
            ],
            [
             0.7,
             "#b8e186"
            ],
            [
             0.8,
             "#7fbc41"
            ],
            [
             0.9,
             "#4d9221"
            ],
            [
             1,
             "#276419"
            ]
           ],
           "sequential": [
            [
             0,
             "#0d0887"
            ],
            [
             0.1111111111111111,
             "#46039f"
            ],
            [
             0.2222222222222222,
             "#7201a8"
            ],
            [
             0.3333333333333333,
             "#9c179e"
            ],
            [
             0.4444444444444444,
             "#bd3786"
            ],
            [
             0.5555555555555556,
             "#d8576b"
            ],
            [
             0.6666666666666666,
             "#ed7953"
            ],
            [
             0.7777777777777778,
             "#fb9f3a"
            ],
            [
             0.8888888888888888,
             "#fdca26"
            ],
            [
             1,
             "#f0f921"
            ]
           ],
           "sequentialminus": [
            [
             0,
             "#0d0887"
            ],
            [
             0.1111111111111111,
             "#46039f"
            ],
            [
             0.2222222222222222,
             "#7201a8"
            ],
            [
             0.3333333333333333,
             "#9c179e"
            ],
            [
             0.4444444444444444,
             "#bd3786"
            ],
            [
             0.5555555555555556,
             "#d8576b"
            ],
            [
             0.6666666666666666,
             "#ed7953"
            ],
            [
             0.7777777777777778,
             "#fb9f3a"
            ],
            [
             0.8888888888888888,
             "#fdca26"
            ],
            [
             1,
             "#f0f921"
            ]
           ]
          },
          "colorway": [
           "#636efa",
           "#EF553B",
           "#00cc96",
           "#ab63fa",
           "#FFA15A",
           "#19d3f3",
           "#FF6692",
           "#B6E880",
           "#FF97FF",
           "#FECB52"
          ],
          "font": {
           "color": "#2a3f5f"
          },
          "geo": {
           "bgcolor": "white",
           "lakecolor": "white",
           "landcolor": "#E5ECF6",
           "showlakes": true,
           "showland": true,
           "subunitcolor": "white"
          },
          "hoverlabel": {
           "align": "left"
          },
          "hovermode": "closest",
          "mapbox": {
           "style": "light"
          },
          "paper_bgcolor": "white",
          "plot_bgcolor": "#E5ECF6",
          "polar": {
           "angularaxis": {
            "gridcolor": "white",
            "linecolor": "white",
            "ticks": ""
           },
           "bgcolor": "#E5ECF6",
           "radialaxis": {
            "gridcolor": "white",
            "linecolor": "white",
            "ticks": ""
           }
          },
          "scene": {
           "xaxis": {
            "backgroundcolor": "#E5ECF6",
            "gridcolor": "white",
            "gridwidth": 2,
            "linecolor": "white",
            "showbackground": true,
            "ticks": "",
            "zerolinecolor": "white"
           },
           "yaxis": {
            "backgroundcolor": "#E5ECF6",
            "gridcolor": "white",
            "gridwidth": 2,
            "linecolor": "white",
            "showbackground": true,
            "ticks": "",
            "zerolinecolor": "white"
           },
           "zaxis": {
            "backgroundcolor": "#E5ECF6",
            "gridcolor": "white",
            "gridwidth": 2,
            "linecolor": "white",
            "showbackground": true,
            "ticks": "",
            "zerolinecolor": "white"
           }
          },
          "shapedefaults": {
           "line": {
            "color": "#2a3f5f"
           }
          },
          "ternary": {
           "aaxis": {
            "gridcolor": "white",
            "linecolor": "white",
            "ticks": ""
           },
           "baxis": {
            "gridcolor": "white",
            "linecolor": "white",
            "ticks": ""
           },
           "bgcolor": "#E5ECF6",
           "caxis": {
            "gridcolor": "white",
            "linecolor": "white",
            "ticks": ""
           }
          },
          "title": {
           "x": 0.05
          },
          "xaxis": {
           "automargin": true,
           "gridcolor": "white",
           "linecolor": "white",
           "ticks": "",
           "title": {
            "standoff": 15
           },
           "zerolinecolor": "white",
           "zerolinewidth": 2
          },
          "yaxis": {
           "automargin": true,
           "gridcolor": "white",
           "linecolor": "white",
           "ticks": "",
           "title": {
            "standoff": 15
           },
           "zerolinecolor": "white",
           "zerolinewidth": 2
          }
         }
        },
        "title": {
         "text": "Встречаемость слова \"жопа\" во времени"
        },
        "xaxis": {
         "anchor": "y",
         "domain": [
          0,
          1
         ],
         "rangeselector": {
          "buttons": [
           {
            "count": 1,
            "label": "1m",
            "step": "month",
            "stepmode": "backward"
           },
           {
            "count": 6,
            "label": "6m",
            "step": "month",
            "stepmode": "backward"
           },
           {
            "count": 1,
            "label": "YTD",
            "step": "year",
            "stepmode": "todate"
           },
           {
            "count": 1,
            "label": "1y",
            "step": "year",
            "stepmode": "backward"
           },
           {
            "step": "all"
           }
          ]
         },
         "rangeslider": {
          "visible": true
         },
         "title": {
          "text": "Дата"
         }
        },
        "yaxis": {
         "anchor": "x",
         "domain": [
          0,
          1
         ],
         "title": {
          "text": "Количество упоминаний"
         }
        }
       }
      },
      "text/html": [
       "<div>\n",
       "        \n",
       "        \n",
       "            <div id=\"64594721-8637-45d4-aa2b-947e9f0b2aa1\" class=\"plotly-graph-div\" style=\"height:525px; width:100%;\"></div>\n",
       "            <script type=\"text/javascript\">\n",
       "                require([\"plotly\"], function(Plotly) {\n",
       "                    window.PLOTLYENV=window.PLOTLYENV || {};\n",
       "                    \n",
       "                if (document.getElementById(\"64594721-8637-45d4-aa2b-947e9f0b2aa1\")) {\n",
       "                    Plotly.newPlot(\n",
       "                        '64594721-8637-45d4-aa2b-947e9f0b2aa1',\n",
       "                        [{\"hovertemplate\": \"\\u0414\\u0430\\u0442\\u0430=%{x}<br>\\u041a\\u043e\\u043b\\u0438\\u0447\\u0435\\u0441\\u0442\\u0432\\u043e \\u0443\\u043f\\u043e\\u043c\\u0438\\u043d\\u0430\\u043d\\u0438\\u0439=%{y}<extra></extra>\", \"legendgroup\": \"\", \"line\": {\"color\": \"#636efa\", \"dash\": \"solid\"}, \"mode\": \"lines\", \"name\": \"\", \"orientation\": \"v\", \"showlegend\": false, \"type\": \"scatter\", \"x\": [\"2014-05-13T00:00:00\", \"2017-09-11T00:00:00\", \"2017-09-12T00:00:00\", \"2017-09-14T00:00:00\", \"2017-09-20T00:00:00\", \"2017-09-30T00:00:00\", \"2017-10-11T00:00:00\", \"2017-10-13T00:00:00\", \"2017-11-23T00:00:00\", \"2017-12-22T00:00:00\", \"2018-04-02T00:00:00\", \"2018-04-10T00:00:00\", \"2018-09-19T00:00:00\", \"2018-12-24T00:00:00\", \"2019-07-12T00:00:00\", \"2019-07-16T00:00:00\", \"2019-07-30T00:00:00\", \"2019-08-19T00:00:00\", \"2019-08-26T00:00:00\", \"2019-08-29T00:00:00\", \"2019-09-15T00:00:00\", \"2019-09-24T00:00:00\", \"2019-10-21T00:00:00\", \"2019-10-27T00:00:00\", \"2019-11-21T00:00:00\", \"2019-11-22T00:00:00\", \"2020-02-22T00:00:00\", \"2020-04-24T00:00:00\", \"2020-05-20T00:00:00\", \"2020-07-02T00:00:00\", \"2020-07-20T00:00:00\", \"2020-07-22T00:00:00\", \"2020-08-10T00:00:00\", \"2020-08-12T00:00:00\", \"2020-08-26T00:00:00\", \"2020-08-27T00:00:00\", \"2020-08-31T00:00:00\", \"2020-09-16T00:00:00\", \"2020-09-25T00:00:00\", \"2020-09-30T00:00:00\", \"2020-10-12T00:00:00\", \"2020-10-14T00:00:00\", \"2020-10-17T00:00:00\", \"2020-10-21T00:00:00\", \"2020-10-22T00:00:00\", \"2020-10-25T00:00:00\", \"2020-10-28T00:00:00\", \"2020-10-30T00:00:00\", \"2020-10-31T00:00:00\", \"2020-11-01T00:00:00\", \"2020-11-02T00:00:00\", \"2020-11-03T00:00:00\", \"2020-11-04T00:00:00\", \"2020-11-05T00:00:00\", \"2020-11-06T00:00:00\", \"2020-11-08T00:00:00\", \"2020-11-09T00:00:00\", \"2020-11-10T00:00:00\", \"2020-11-11T00:00:00\", \"2020-11-12T00:00:00\", \"2020-11-13T00:00:00\", \"2020-11-14T00:00:00\", \"2020-11-15T00:00:00\", \"2020-11-16T00:00:00\", \"2020-11-17T00:00:00\", \"2020-11-18T00:00:00\", \"2020-11-19T00:00:00\", \"2020-11-20T00:00:00\", \"2020-11-21T00:00:00\", \"2020-11-22T00:00:00\", \"2020-11-23T00:00:00\", \"2020-11-26T00:00:00\", \"2020-11-28T00:00:00\", \"2020-11-29T00:00:00\", \"2020-11-30T00:00:00\", \"2020-12-01T00:00:00\", \"2020-12-02T00:00:00\", \"2020-12-03T00:00:00\", \"2020-12-04T00:00:00\", \"2020-12-05T00:00:00\", \"2020-12-06T00:00:00\", \"2020-12-07T00:00:00\", \"2020-12-08T00:00:00\", \"2020-12-09T00:00:00\", \"2020-12-10T00:00:00\", \"2020-12-11T00:00:00\", \"2020-12-12T00:00:00\", \"2020-12-13T00:00:00\", \"2020-12-14T00:00:00\", \"2020-12-15T00:00:00\", \"2020-12-16T00:00:00\", \"2020-12-17T00:00:00\", \"2020-12-18T00:00:00\", \"2020-12-19T00:00:00\", \"2020-12-20T00:00:00\", \"2020-12-21T00:00:00\", \"2020-12-22T00:00:00\", \"2020-12-23T00:00:00\", \"2020-12-24T00:00:00\", \"2020-12-25T00:00:00\", \"2020-12-26T00:00:00\", \"2020-12-27T00:00:00\", \"2020-12-28T00:00:00\", \"2020-12-29T00:00:00\", \"2020-12-30T00:00:00\", \"2020-12-31T00:00:00\", \"2021-01-01T00:00:00\", \"2021-01-02T00:00:00\", \"2021-01-03T00:00:00\", \"2021-01-04T00:00:00\", \"2021-01-05T00:00:00\", \"2021-01-06T00:00:00\", \"2021-01-07T00:00:00\", \"2021-01-08T00:00:00\", \"2021-01-09T00:00:00\", \"2021-01-10T00:00:00\", \"2021-01-11T00:00:00\", \"2021-01-12T00:00:00\", \"2021-01-13T00:00:00\", \"2021-01-14T00:00:00\", \"2021-01-15T00:00:00\", \"2021-01-16T00:00:00\", \"2021-01-17T00:00:00\", \"2021-01-18T00:00:00\", \"2021-01-19T00:00:00\", \"2021-01-20T00:00:00\", \"2021-01-21T00:00:00\", \"2021-01-22T00:00:00\", \"2021-01-23T00:00:00\", \"2021-01-24T00:00:00\", \"2021-01-25T00:00:00\"], \"xaxis\": \"x\", \"y\": [0, 0, 0, 0, 0, 0, 0, 0, 0, 0, 0, 0, 0, 0, 0, 0, 0, 0, 0, 0, 0, 0, 0, 0, 0, 0, 0, 0, 0, 0, 0, 0, 0, 0, 0, 0, 0, 0, 0, 0, 0, 0, 0, 0, 0, 0, 0, 0, 0, 0, 0, 0, 0, 0, 0, 0, 0, 0, 0, 0, 0, 0, 0, 0, 0, 0, 0, 0, 0, 0, 0, 0, 0, 0, 0, 0, 1, 1, 0, 0, 0, 0, 0, 0, 0, 0, 0, 0, 0, 0, 0, 1, 0, 0, 0, 0, 0, 0, 0, 0, 0, 0, 0, 0, 0, 0, 0, 0, 0, 0, 0, 0, 0, 0, 0, 0, 0, 0, 0, 0, 0, 0, 0, 0, 0, 0, 0, 0, 0, 0, 1], \"yaxis\": \"y\"}],\n",
       "                        {\"legend\": {\"tracegroupgap\": 0}, \"template\": {\"data\": {\"bar\": [{\"error_x\": {\"color\": \"#2a3f5f\"}, \"error_y\": {\"color\": \"#2a3f5f\"}, \"marker\": {\"line\": {\"color\": \"#E5ECF6\", \"width\": 0.5}}, \"type\": \"bar\"}], \"barpolar\": [{\"marker\": {\"line\": {\"color\": \"#E5ECF6\", \"width\": 0.5}}, \"type\": \"barpolar\"}], \"carpet\": [{\"aaxis\": {\"endlinecolor\": \"#2a3f5f\", \"gridcolor\": \"white\", \"linecolor\": \"white\", \"minorgridcolor\": \"white\", \"startlinecolor\": \"#2a3f5f\"}, \"baxis\": {\"endlinecolor\": \"#2a3f5f\", \"gridcolor\": \"white\", \"linecolor\": \"white\", \"minorgridcolor\": \"white\", \"startlinecolor\": \"#2a3f5f\"}, \"type\": \"carpet\"}], \"choropleth\": [{\"colorbar\": {\"outlinewidth\": 0, \"ticks\": \"\"}, \"type\": \"choropleth\"}], \"contour\": [{\"colorbar\": {\"outlinewidth\": 0, \"ticks\": \"\"}, \"colorscale\": [[0.0, \"#0d0887\"], [0.1111111111111111, \"#46039f\"], [0.2222222222222222, \"#7201a8\"], [0.3333333333333333, \"#9c179e\"], [0.4444444444444444, \"#bd3786\"], [0.5555555555555556, \"#d8576b\"], [0.6666666666666666, \"#ed7953\"], [0.7777777777777778, \"#fb9f3a\"], [0.8888888888888888, \"#fdca26\"], [1.0, \"#f0f921\"]], \"type\": \"contour\"}], \"contourcarpet\": [{\"colorbar\": {\"outlinewidth\": 0, \"ticks\": \"\"}, \"type\": \"contourcarpet\"}], \"heatmap\": [{\"colorbar\": {\"outlinewidth\": 0, \"ticks\": \"\"}, \"colorscale\": [[0.0, \"#0d0887\"], [0.1111111111111111, \"#46039f\"], [0.2222222222222222, \"#7201a8\"], [0.3333333333333333, \"#9c179e\"], [0.4444444444444444, \"#bd3786\"], [0.5555555555555556, \"#d8576b\"], [0.6666666666666666, \"#ed7953\"], [0.7777777777777778, \"#fb9f3a\"], [0.8888888888888888, \"#fdca26\"], [1.0, \"#f0f921\"]], \"type\": \"heatmap\"}], \"heatmapgl\": [{\"colorbar\": {\"outlinewidth\": 0, \"ticks\": \"\"}, \"colorscale\": [[0.0, \"#0d0887\"], [0.1111111111111111, \"#46039f\"], [0.2222222222222222, \"#7201a8\"], [0.3333333333333333, \"#9c179e\"], [0.4444444444444444, \"#bd3786\"], [0.5555555555555556, \"#d8576b\"], [0.6666666666666666, \"#ed7953\"], [0.7777777777777778, \"#fb9f3a\"], [0.8888888888888888, \"#fdca26\"], [1.0, \"#f0f921\"]], \"type\": \"heatmapgl\"}], \"histogram\": [{\"marker\": {\"colorbar\": {\"outlinewidth\": 0, \"ticks\": \"\"}}, \"type\": \"histogram\"}], \"histogram2d\": [{\"colorbar\": {\"outlinewidth\": 0, \"ticks\": \"\"}, \"colorscale\": [[0.0, \"#0d0887\"], [0.1111111111111111, \"#46039f\"], [0.2222222222222222, \"#7201a8\"], [0.3333333333333333, \"#9c179e\"], [0.4444444444444444, \"#bd3786\"], [0.5555555555555556, \"#d8576b\"], [0.6666666666666666, \"#ed7953\"], [0.7777777777777778, \"#fb9f3a\"], [0.8888888888888888, \"#fdca26\"], [1.0, \"#f0f921\"]], \"type\": \"histogram2d\"}], \"histogram2dcontour\": [{\"colorbar\": {\"outlinewidth\": 0, \"ticks\": \"\"}, \"colorscale\": [[0.0, \"#0d0887\"], [0.1111111111111111, \"#46039f\"], [0.2222222222222222, \"#7201a8\"], [0.3333333333333333, \"#9c179e\"], [0.4444444444444444, \"#bd3786\"], [0.5555555555555556, \"#d8576b\"], [0.6666666666666666, \"#ed7953\"], [0.7777777777777778, \"#fb9f3a\"], [0.8888888888888888, \"#fdca26\"], [1.0, \"#f0f921\"]], \"type\": \"histogram2dcontour\"}], \"mesh3d\": [{\"colorbar\": {\"outlinewidth\": 0, \"ticks\": \"\"}, \"type\": \"mesh3d\"}], \"parcoords\": [{\"line\": {\"colorbar\": {\"outlinewidth\": 0, \"ticks\": \"\"}}, \"type\": \"parcoords\"}], \"pie\": [{\"automargin\": true, \"type\": \"pie\"}], \"scatter\": [{\"marker\": {\"colorbar\": {\"outlinewidth\": 0, \"ticks\": \"\"}}, \"type\": \"scatter\"}], \"scatter3d\": [{\"line\": {\"colorbar\": {\"outlinewidth\": 0, \"ticks\": \"\"}}, \"marker\": {\"colorbar\": {\"outlinewidth\": 0, \"ticks\": \"\"}}, \"type\": \"scatter3d\"}], \"scattercarpet\": [{\"marker\": {\"colorbar\": {\"outlinewidth\": 0, \"ticks\": \"\"}}, \"type\": \"scattercarpet\"}], \"scattergeo\": [{\"marker\": {\"colorbar\": {\"outlinewidth\": 0, \"ticks\": \"\"}}, \"type\": \"scattergeo\"}], \"scattergl\": [{\"marker\": {\"colorbar\": {\"outlinewidth\": 0, \"ticks\": \"\"}}, \"type\": \"scattergl\"}], \"scattermapbox\": [{\"marker\": {\"colorbar\": {\"outlinewidth\": 0, \"ticks\": \"\"}}, \"type\": \"scattermapbox\"}], \"scatterpolar\": [{\"marker\": {\"colorbar\": {\"outlinewidth\": 0, \"ticks\": \"\"}}, \"type\": \"scatterpolar\"}], \"scatterpolargl\": [{\"marker\": {\"colorbar\": {\"outlinewidth\": 0, \"ticks\": \"\"}}, \"type\": \"scatterpolargl\"}], \"scatterternary\": [{\"marker\": {\"colorbar\": {\"outlinewidth\": 0, \"ticks\": \"\"}}, \"type\": \"scatterternary\"}], \"surface\": [{\"colorbar\": {\"outlinewidth\": 0, \"ticks\": \"\"}, \"colorscale\": [[0.0, \"#0d0887\"], [0.1111111111111111, \"#46039f\"], [0.2222222222222222, \"#7201a8\"], [0.3333333333333333, \"#9c179e\"], [0.4444444444444444, \"#bd3786\"], [0.5555555555555556, \"#d8576b\"], [0.6666666666666666, \"#ed7953\"], [0.7777777777777778, \"#fb9f3a\"], [0.8888888888888888, \"#fdca26\"], [1.0, \"#f0f921\"]], \"type\": \"surface\"}], \"table\": [{\"cells\": {\"fill\": {\"color\": \"#EBF0F8\"}, \"line\": {\"color\": \"white\"}}, \"header\": {\"fill\": {\"color\": \"#C8D4E3\"}, \"line\": {\"color\": \"white\"}}, \"type\": \"table\"}]}, \"layout\": {\"annotationdefaults\": {\"arrowcolor\": \"#2a3f5f\", \"arrowhead\": 0, \"arrowwidth\": 1}, \"coloraxis\": {\"colorbar\": {\"outlinewidth\": 0, \"ticks\": \"\"}}, \"colorscale\": {\"diverging\": [[0, \"#8e0152\"], [0.1, \"#c51b7d\"], [0.2, \"#de77ae\"], [0.3, \"#f1b6da\"], [0.4, \"#fde0ef\"], [0.5, \"#f7f7f7\"], [0.6, \"#e6f5d0\"], [0.7, \"#b8e186\"], [0.8, \"#7fbc41\"], [0.9, \"#4d9221\"], [1, \"#276419\"]], \"sequential\": [[0.0, \"#0d0887\"], [0.1111111111111111, \"#46039f\"], [0.2222222222222222, \"#7201a8\"], [0.3333333333333333, \"#9c179e\"], [0.4444444444444444, \"#bd3786\"], [0.5555555555555556, \"#d8576b\"], [0.6666666666666666, \"#ed7953\"], [0.7777777777777778, \"#fb9f3a\"], [0.8888888888888888, \"#fdca26\"], [1.0, \"#f0f921\"]], \"sequentialminus\": [[0.0, \"#0d0887\"], [0.1111111111111111, \"#46039f\"], [0.2222222222222222, \"#7201a8\"], [0.3333333333333333, \"#9c179e\"], [0.4444444444444444, \"#bd3786\"], [0.5555555555555556, \"#d8576b\"], [0.6666666666666666, \"#ed7953\"], [0.7777777777777778, \"#fb9f3a\"], [0.8888888888888888, \"#fdca26\"], [1.0, \"#f0f921\"]]}, \"colorway\": [\"#636efa\", \"#EF553B\", \"#00cc96\", \"#ab63fa\", \"#FFA15A\", \"#19d3f3\", \"#FF6692\", \"#B6E880\", \"#FF97FF\", \"#FECB52\"], \"font\": {\"color\": \"#2a3f5f\"}, \"geo\": {\"bgcolor\": \"white\", \"lakecolor\": \"white\", \"landcolor\": \"#E5ECF6\", \"showlakes\": true, \"showland\": true, \"subunitcolor\": \"white\"}, \"hoverlabel\": {\"align\": \"left\"}, \"hovermode\": \"closest\", \"mapbox\": {\"style\": \"light\"}, \"paper_bgcolor\": \"white\", \"plot_bgcolor\": \"#E5ECF6\", \"polar\": {\"angularaxis\": {\"gridcolor\": \"white\", \"linecolor\": \"white\", \"ticks\": \"\"}, \"bgcolor\": \"#E5ECF6\", \"radialaxis\": {\"gridcolor\": \"white\", \"linecolor\": \"white\", \"ticks\": \"\"}}, \"scene\": {\"xaxis\": {\"backgroundcolor\": \"#E5ECF6\", \"gridcolor\": \"white\", \"gridwidth\": 2, \"linecolor\": \"white\", \"showbackground\": true, \"ticks\": \"\", \"zerolinecolor\": \"white\"}, \"yaxis\": {\"backgroundcolor\": \"#E5ECF6\", \"gridcolor\": \"white\", \"gridwidth\": 2, \"linecolor\": \"white\", \"showbackground\": true, \"ticks\": \"\", \"zerolinecolor\": \"white\"}, \"zaxis\": {\"backgroundcolor\": \"#E5ECF6\", \"gridcolor\": \"white\", \"gridwidth\": 2, \"linecolor\": \"white\", \"showbackground\": true, \"ticks\": \"\", \"zerolinecolor\": \"white\"}}, \"shapedefaults\": {\"line\": {\"color\": \"#2a3f5f\"}}, \"ternary\": {\"aaxis\": {\"gridcolor\": \"white\", \"linecolor\": \"white\", \"ticks\": \"\"}, \"baxis\": {\"gridcolor\": \"white\", \"linecolor\": \"white\", \"ticks\": \"\"}, \"bgcolor\": \"#E5ECF6\", \"caxis\": {\"gridcolor\": \"white\", \"linecolor\": \"white\", \"ticks\": \"\"}}, \"title\": {\"x\": 0.05}, \"xaxis\": {\"automargin\": true, \"gridcolor\": \"white\", \"linecolor\": \"white\", \"ticks\": \"\", \"title\": {\"standoff\": 15}, \"zerolinecolor\": \"white\", \"zerolinewidth\": 2}, \"yaxis\": {\"automargin\": true, \"gridcolor\": \"white\", \"linecolor\": \"white\", \"ticks\": \"\", \"title\": {\"standoff\": 15}, \"zerolinecolor\": \"white\", \"zerolinewidth\": 2}}}, \"title\": {\"text\": \"\\u0412\\u0441\\u0442\\u0440\\u0435\\u0447\\u0430\\u0435\\u043c\\u043e\\u0441\\u0442\\u044c \\u0441\\u043b\\u043e\\u0432\\u0430 \\\"\\u0436\\u043e\\u043f\\u0430\\\" \\u0432\\u043e \\u0432\\u0440\\u0435\\u043c\\u0435\\u043d\\u0438\"}, \"xaxis\": {\"anchor\": \"y\", \"domain\": [0.0, 1.0], \"rangeselector\": {\"buttons\": [{\"count\": 1, \"label\": \"1m\", \"step\": \"month\", \"stepmode\": \"backward\"}, {\"count\": 6, \"label\": \"6m\", \"step\": \"month\", \"stepmode\": \"backward\"}, {\"count\": 1, \"label\": \"YTD\", \"step\": \"year\", \"stepmode\": \"todate\"}, {\"count\": 1, \"label\": \"1y\", \"step\": \"year\", \"stepmode\": \"backward\"}, {\"step\": \"all\"}]}, \"rangeslider\": {\"visible\": true}, \"title\": {\"text\": \"\\u0414\\u0430\\u0442\\u0430\"}}, \"yaxis\": {\"anchor\": \"x\", \"domain\": [0.0, 1.0], \"title\": {\"text\": \"\\u041a\\u043e\\u043b\\u0438\\u0447\\u0435\\u0441\\u0442\\u0432\\u043e \\u0443\\u043f\\u043e\\u043c\\u0438\\u043d\\u0430\\u043d\\u0438\\u0439\"}}},\n",
       "                        {\"responsive\": true}\n",
       "                    ).then(function(){\n",
       "                            \n",
       "var gd = document.getElementById('64594721-8637-45d4-aa2b-947e9f0b2aa1');\n",
       "var x = new MutationObserver(function (mutations, observer) {{\n",
       "        var display = window.getComputedStyle(gd).display;\n",
       "        if (!display || display === 'none') {{\n",
       "            console.log([gd, 'removed!']);\n",
       "            Plotly.purge(gd);\n",
       "            observer.disconnect();\n",
       "        }}\n",
       "}});\n",
       "\n",
       "// Listen for the removal of the full notebook cells\n",
       "var notebookContainer = gd.closest('#notebook-container');\n",
       "if (notebookContainer) {{\n",
       "    x.observe(notebookContainer, {childList: true});\n",
       "}}\n",
       "\n",
       "// Listen for the clearing of the current output cell\n",
       "var outputEl = gd.closest('.output');\n",
       "if (outputEl) {{\n",
       "    x.observe(outputEl, {childList: true});\n",
       "}}\n",
       "\n",
       "                        })\n",
       "                };\n",
       "                });\n",
       "            </script>\n",
       "        </div>"
      ]
     },
     "metadata": {},
     "output_type": "display_data"
    },
    {
     "data": {
      "text/plain": [
       "<Figure size 1368x1080 with 0 Axes>"
      ]
     },
     "metadata": {},
     "output_type": "display_data"
    }
   ],
   "source": [
    "test.word_in_time('жопа') #наложить второй график"
   ]
  },
  {
   "cell_type": "code",
   "execution_count": 18,
   "metadata": {},
   "outputs": [
    {
     "name": "stdout",
     "output_type": "stream",
     "text": [
      "не работает, извините(\n"
     ]
    }
   ],
   "source": [
    "test.context('право', k = 20, ngram=2)"
   ]
  },
  {
   "cell_type": "code",
   "execution_count": 15,
   "metadata": {},
   "outputs": [
    {
     "name": "stderr",
     "output_type": "stream",
     "text": [
      "[nltk_data] Downloading package stopwords to /home/victor/nltk_data...\n",
      "[nltk_data]   Package stopwords is already up-to-date!\n",
      "[nltk_data] Downloading package wordnet to /home/victor/nltk_data...\n",
      "[nltk_data]   Package wordnet is already up-to-date!\n"
     ]
    }
   ],
   "source": [
    "import VV_TextAnalyzer as vv"
   ]
  },
  {
   "cell_type": "code",
   "execution_count": 17,
   "metadata": {},
   "outputs": [],
   "source": [
    "test = vv.TextAnalyzer(df)"
   ]
  },
  {
   "cell_type": "code",
   "execution_count": null,
   "metadata": {},
   "outputs": [],
   "source": [
    "test.freq"
   ]
  }
 ],
 "metadata": {
  "kernelspec": {
   "display_name": "Python 3",
   "language": "python",
   "name": "python3"
  },
  "language_info": {
   "codemirror_mode": {
    "name": "ipython",
    "version": 3
   },
   "file_extension": ".py",
   "mimetype": "text/x-python",
   "name": "python",
   "nbconvert_exporter": "python",
   "pygments_lexer": "ipython3",
   "version": "3.7.6"
  }
 },
 "nbformat": 4,
 "nbformat_minor": 4
}
