{
 "cells": [
  {
   "cell_type": "code",
   "execution_count": 38,
   "metadata": {},
   "outputs": [
    {
     "name": "stderr",
     "output_type": "stream",
     "text": [
      "[nltk_data] Downloading package stopwords to /home/victor/nltk_data...\n",
      "[nltk_data]   Package stopwords is already up-to-date!\n",
      "[nltk_data] Downloading package wordnet to /home/victor/nltk_data...\n",
      "[nltk_data]   Package wordnet is already up-to-date!\n"
     ]
    }
   ],
   "source": [
    "import nltk\n",
    "from nltk.tokenize import word_tokenize\n",
    "import numpy as np \n",
    "import pandas as pd\n",
    "import collections\n",
    "import matplotlib.pyplot as plt\n",
    "%matplotlib inline\n",
    "from nltk.tokenize import TweetTokenizer\n",
    "from nltk.tokenize.treebank import TreebankWordDetokenizer\n",
    "from nltk.corpus import stopwords\n",
    "from string import punctuation\n",
    "nltk.download(\"stopwords\")\n",
    "from tqdm import tqdm\n",
    "from nltk.stem import WordNetLemmatizer\n",
    "nltk.download(\"wordnet\")\n",
    "from pymystem3 import Mystem\n",
    "from datetime import datetime, timedelta\n",
    "import functools\n",
    "import operator\n",
    "import chart_studio.plotly as py\n",
    "#import plotly.graph_obs as go\n",
    "from plotly.offline import iplot\n",
    "import cufflinks as cf\n",
    "from nltk import ngrams\n",
    "import plotly.express as px\n"
   ]
  },
  {
   "cell_type": "code",
   "execution_count": 3,
   "metadata": {},
   "outputs": [],
   "source": [
    "df = pd.read_csv(\"fb.csv\", index_col=0)"
   ]
  },
  {
   "cell_type": "code",
   "execution_count": 4,
   "metadata": {},
   "outputs": [
    {
     "data": {
      "text/html": [
       "<div>\n",
       "<style scoped>\n",
       "    .dataframe tbody tr th:only-of-type {\n",
       "        vertical-align: middle;\n",
       "    }\n",
       "\n",
       "    .dataframe tbody tr th {\n",
       "        vertical-align: top;\n",
       "    }\n",
       "\n",
       "    .dataframe thead th {\n",
       "        text-align: right;\n",
       "    }\n",
       "</style>\n",
       "<table border=\"1\" class=\"dataframe\">\n",
       "  <thead>\n",
       "    <tr style=\"text-align: right;\">\n",
       "      <th></th>\n",
       "      <th>time</th>\n",
       "      <th>post</th>\n",
       "      <th>number_comments</th>\n",
       "      <th>comment</th>\n",
       "    </tr>\n",
       "  </thead>\n",
       "  <tbody>\n",
       "    <tr>\n",
       "      <th>0</th>\n",
       "      <td>2020-10-01</td>\n",
       "      <td>Коллеги! Размещаю видео с судебным юристом Тат...</td>\n",
       "      <td>9</td>\n",
       "      <td>[', спасибо, из за очепятки я прочитала аккуль...</td>\n",
       "    </tr>\n",
       "    <tr>\n",
       "      <th>1</th>\n",
       "      <td>2020-10-05</td>\n",
       "      <td>Коллеги, клиент не спросив оплатил проверку 19...</td>\n",
       "      <td>2</td>\n",
       "      <td>['документы и регистрировать через регистратор...</td>\n",
       "    </tr>\n",
       "    <tr>\n",
       "      <th>2</th>\n",
       "      <td>2020-10-05</td>\n",
       "      <td>Приплыло. Сделка цепь. Нижний просит заложить ...</td>\n",
       "      <td>5</td>\n",
       "      <td>['ИтакаСоглашайтесь на их оценщика . Ссылку пр...</td>\n",
       "    </tr>\n",
       "    <tr>\n",
       "      <th>3</th>\n",
       "      <td>2020-10-05</td>\n",
       "      <td>Коллеги, добрый день! Нужна помощь)) нужны фот...</td>\n",
       "      <td>52</td>\n",
       "      <td>['ты уже и в Америке работаешь, Наташ?', 'Лурь...</td>\n",
       "    </tr>\n",
       "    <tr>\n",
       "      <th>4</th>\n",
       "      <td>2020-10-05</td>\n",
       "      <td>Время сейчас такое, что иногда приходят два по...</td>\n",
       "      <td>10</td>\n",
       "      <td>['распашонка?', 'Лукашевская, да', 'банк?', 'Б...</td>\n",
       "    </tr>\n",
       "    <tr>\n",
       "      <th>...</th>\n",
       "      <td>...</td>\n",
       "      <td>...</td>\n",
       "      <td>...</td>\n",
       "      <td>...</td>\n",
       "    </tr>\n",
       "    <tr>\n",
       "      <th>107</th>\n",
       "      <td>2020-10-01</td>\n",
       "      <td>Уважаемые коллеги, поделитесь пожалуйста опыто...</td>\n",
       "      <td>0</td>\n",
       "      <td>[]</td>\n",
       "    </tr>\n",
       "    <tr>\n",
       "      <th>108</th>\n",
       "      <td>2020-10-01</td>\n",
       "      <td>Уважаемы, коллеги, кто как поступил бы в этой ...</td>\n",
       "      <td>0</td>\n",
       "      <td>[]</td>\n",
       "    </tr>\n",
       "    <tr>\n",
       "      <th>109</th>\n",
       "      <td>2019-10-31</td>\n",
       "      <td>Пост благодарности  Серебряков Андрей, или «не...</td>\n",
       "      <td>0</td>\n",
       "      <td>[]</td>\n",
       "    </tr>\n",
       "    <tr>\n",
       "      <th>110</th>\n",
       "      <td>2020-10-01</td>\n",
       "      <td>А нет ли среди вас волшебников, которые смогли...</td>\n",
       "      <td>0</td>\n",
       "      <td>[]</td>\n",
       "    </tr>\n",
       "    <tr>\n",
       "      <th>111</th>\n",
       "      <td>2020-09-29</td>\n",
       "      <td>Доброго дня всем! Поделитесь пожалуйста контак...</td>\n",
       "      <td>0</td>\n",
       "      <td>[]</td>\n",
       "    </tr>\n",
       "  </tbody>\n",
       "</table>\n",
       "<p>112 rows × 4 columns</p>\n",
       "</div>"
      ],
      "text/plain": [
       "           time                                               post  \\\n",
       "0    2020-10-01  Коллеги! Размещаю видео с судебным юристом Тат...   \n",
       "1    2020-10-05  Коллеги, клиент не спросив оплатил проверку 19...   \n",
       "2    2020-10-05  Приплыло. Сделка цепь. Нижний просит заложить ...   \n",
       "3    2020-10-05  Коллеги, добрый день! Нужна помощь)) нужны фот...   \n",
       "4    2020-10-05  Время сейчас такое, что иногда приходят два по...   \n",
       "..          ...                                                ...   \n",
       "107  2020-10-01  Уважаемые коллеги, поделитесь пожалуйста опыто...   \n",
       "108  2020-10-01  Уважаемы, коллеги, кто как поступил бы в этой ...   \n",
       "109  2019-10-31  Пост благодарности  Серебряков Андрей, или «не...   \n",
       "110  2020-10-01  А нет ли среди вас волшебников, которые смогли...   \n",
       "111  2020-09-29  Доброго дня всем! Поделитесь пожалуйста контак...   \n",
       "\n",
       "     number_comments                                            comment  \n",
       "0                  9  [', спасибо, из за очепятки я прочитала аккуль...  \n",
       "1                  2  ['документы и регистрировать через регистратор...  \n",
       "2                  5  ['ИтакаСоглашайтесь на их оценщика . Ссылку пр...  \n",
       "3                 52  ['ты уже и в Америке работаешь, Наташ?', 'Лурь...  \n",
       "4                 10  ['распашонка?', 'Лукашевская, да', 'банк?', 'Б...  \n",
       "..               ...                                                ...  \n",
       "107                0                                                 []  \n",
       "108                0                                                 []  \n",
       "109                0                                                 []  \n",
       "110                0                                                 []  \n",
       "111                0                                                 []  \n",
       "\n",
       "[112 rows x 4 columns]"
      ]
     },
     "execution_count": 4,
     "metadata": {},
     "output_type": "execute_result"
    }
   ],
   "source": [
    "df"
   ]
  },
  {
   "cell_type": "code",
   "execution_count": 5,
   "metadata": {},
   "outputs": [
    {
     "name": "stderr",
     "output_type": "stream",
     "text": [
      "100%|██████████| 112/112 [00:00<00:00, 151.05it/s]\n",
      "100%|██████████| 112/112 [00:01<00:00, 84.01it/s]\n",
      "100%|██████████| 112/112 [00:00<00:00, 1807.32it/s]\n",
      "100%|██████████| 112/112 [00:00<00:00, 12397.39it/s]\n",
      "100%|██████████| 112/112 [00:00<00:00, 635.09it/s]\n"
     ]
    },
    {
     "data": {
      "text/html": [
       "<div>\n",
       "<style scoped>\n",
       "    .dataframe tbody tr th:only-of-type {\n",
       "        vertical-align: middle;\n",
       "    }\n",
       "\n",
       "    .dataframe tbody tr th {\n",
       "        vertical-align: top;\n",
       "    }\n",
       "\n",
       "    .dataframe thead th {\n",
       "        text-align: right;\n",
       "    }\n",
       "</style>\n",
       "<table border=\"1\" class=\"dataframe\">\n",
       "  <thead>\n",
       "    <tr style=\"text-align: right;\">\n",
       "      <th></th>\n",
       "      <th>time</th>\n",
       "      <th>post</th>\n",
       "      <th>number_comments</th>\n",
       "      <th>comment</th>\n",
       "    </tr>\n",
       "  </thead>\n",
       "  <tbody>\n",
       "    <tr>\n",
       "      <th>0</th>\n",
       "      <td>2020-10-01 00:00:00</td>\n",
       "      <td>[коллега, размещать, видео, судебный, юрист, т...</td>\n",
       "      <td>9</td>\n",
       "      <td>[[спасибо], [очепятка, прочитывать, аккультный...</td>\n",
       "    </tr>\n",
       "    <tr>\n",
       "      <th>1</th>\n",
       "      <td>2020-10-05 00:00:00</td>\n",
       "      <td>[коллега, клиент, спрашивать, оплачивать, пров...</td>\n",
       "      <td>2</td>\n",
       "      <td>[[документ, регистрировать, регистратор], [ден...</td>\n",
       "    </tr>\n",
       "    <tr>\n",
       "      <th>2</th>\n",
       "      <td>2020-10-05 00:00:00</td>\n",
       "      <td>[приплывать, сделка, цепь, нижний, просить, за...</td>\n",
       "      <td>5</td>\n",
       "      <td>[[итакасоглашаться, оценщик, ссылка, присылать...</td>\n",
       "    </tr>\n",
       "    <tr>\n",
       "      <th>3</th>\n",
       "      <td>2020-10-05 00:00:00</td>\n",
       "      <td>[коллега, добрый, день, нужный, помощь, нужный...</td>\n",
       "      <td>52</td>\n",
       "      <td>[[америка, работать], [наташа], [лурье], [вспо...</td>\n",
       "    </tr>\n",
       "    <tr>\n",
       "      <th>4</th>\n",
       "      <td>2020-10-05 00:00:00</td>\n",
       "      <td>[время, такой, приходить, покупатель, квартира...</td>\n",
       "      <td>10</td>\n",
       "      <td>[[распашонка], [лукашевский], [банк], [быков],...</td>\n",
       "    </tr>\n",
       "    <tr>\n",
       "      <th>...</th>\n",
       "      <td>...</td>\n",
       "      <td>...</td>\n",
       "      <td>...</td>\n",
       "      <td>...</td>\n",
       "    </tr>\n",
       "    <tr>\n",
       "      <th>107</th>\n",
       "      <td>2020-10-01 00:00:00</td>\n",
       "      <td>[уважаемый, коллега, поделиться, пожалуйста, о...</td>\n",
       "      <td>0</td>\n",
       "      <td>[]</td>\n",
       "    </tr>\n",
       "    <tr>\n",
       "      <th>108</th>\n",
       "      <td>2020-10-01 00:00:00</td>\n",
       "      <td>[уважаемый, коллега, поступать, ситуация, стоя...</td>\n",
       "      <td>0</td>\n",
       "      <td>[]</td>\n",
       "    </tr>\n",
       "    <tr>\n",
       "      <th>109</th>\n",
       "      <td>2019-10-31 00:00:00</td>\n",
       "      <td>[пост, благодарность, серебряков, андрей, имет...</td>\n",
       "      <td>0</td>\n",
       "      <td>[]</td>\n",
       "    </tr>\n",
       "    <tr>\n",
       "      <th>110</th>\n",
       "      <td>2020-10-01 00:00:00</td>\n",
       "      <td>[среди, волшебник, который, смочь, срочно, пре...</td>\n",
       "      <td>0</td>\n",
       "      <td>[]</td>\n",
       "    </tr>\n",
       "    <tr>\n",
       "      <th>111</th>\n",
       "      <td>2020-09-29 00:00:00</td>\n",
       "      <td>[добрый, день, все, поделиться, пожалуйста, ко...</td>\n",
       "      <td>0</td>\n",
       "      <td>[]</td>\n",
       "    </tr>\n",
       "  </tbody>\n",
       "</table>\n",
       "<p>112 rows × 4 columns</p>\n",
       "</div>"
      ],
      "text/plain": [
       "                    time                                               post  \\\n",
       "0    2020-10-01 00:00:00  [коллега, размещать, видео, судебный, юрист, т...   \n",
       "1    2020-10-05 00:00:00  [коллега, клиент, спрашивать, оплачивать, пров...   \n",
       "2    2020-10-05 00:00:00  [приплывать, сделка, цепь, нижний, просить, за...   \n",
       "3    2020-10-05 00:00:00  [коллега, добрый, день, нужный, помощь, нужный...   \n",
       "4    2020-10-05 00:00:00  [время, такой, приходить, покупатель, квартира...   \n",
       "..                   ...                                                ...   \n",
       "107  2020-10-01 00:00:00  [уважаемый, коллега, поделиться, пожалуйста, о...   \n",
       "108  2020-10-01 00:00:00  [уважаемый, коллега, поступать, ситуация, стоя...   \n",
       "109  2019-10-31 00:00:00  [пост, благодарность, серебряков, андрей, имет...   \n",
       "110  2020-10-01 00:00:00  [среди, волшебник, который, смочь, срочно, пре...   \n",
       "111  2020-09-29 00:00:00  [добрый, день, все, поделиться, пожалуйста, ко...   \n",
       "\n",
       "     number_comments                                            comment  \n",
       "0                  9  [[спасибо], [очепятка, прочитывать, аккультный...  \n",
       "1                  2  [[документ, регистрировать, регистратор], [ден...  \n",
       "2                  5  [[итакасоглашаться, оценщик, ссылка, присылать...  \n",
       "3                 52  [[америка, работать], [наташа], [лурье], [вспо...  \n",
       "4                 10  [[распашонка], [лукашевский], [банк], [быков],...  \n",
       "..               ...                                                ...  \n",
       "107                0                                                 []  \n",
       "108                0                                                 []  \n",
       "109                0                                                 []  \n",
       "110                0                                                 []  \n",
       "111                0                                                 []  \n",
       "\n",
       "[112 rows x 4 columns]"
      ]
     },
     "execution_count": 5,
     "metadata": {},
     "output_type": "execute_result"
    }
   ],
   "source": [
    "##########TIME#######################\n",
    "for i in range(len(df)):\n",
    "    df['time'][i] = datetime.strptime(df[\"time\"][i], '%Y-%m-%d')\n",
    "#########COMMENTS#####################\n",
    "for i in range(len(df)):\n",
    "    df[\"comment\"][i] = list(df[\"comment\"][i][2:-2].replace(\"'\", '').split(','))\n",
    "tw = TweetTokenizer()\n",
    "det = TreebankWordDetokenizer()\n",
    "noise = stopwords.words('russian') + list(punctuation)\n",
    "upnoise = [letter.upper() for letter in noise]\n",
    "sum_noise = noise+upnoise+['.','»','«', 'Коллега', \"коллега\", \"это\", \"который\", \"свой\"]\n",
    "for i in tqdm(range(len(df))):\n",
    "    for j in range(len(df[\"comment\"][i])):\n",
    "        tokenized_example = (tw.tokenize(df[\"comment\"][i][j]))\n",
    "        filtered_example = [word for word in tokenized_example if not word in sum_noise]\n",
    "        df[\"comment\"][i][j] = det.detokenize(filtered_example)\n",
    "mystem_analyzer = Mystem(entire_input=False)\n",
    "for i in tqdm(range(len(df))):\n",
    "    df[\"comment\"][i] = [mystem_analyzer.lemmatize(w) for w in df[\"comment\"][i]]\n",
    "    df[\"comment\"][i] = list(filter(None, df[\"comment\"][i]))\n",
    "\n",
    "    \n",
    "##########POSTS##############\n",
    "for i in tqdm(range(len(df))):\n",
    "        tokenized_example = (tw.tokenize(df[\"post\"][i]))\n",
    "        filtered_example = [word for word in tokenized_example if not word in sum_noise]\n",
    "        df[\"post\"][i] = det.detokenize(filtered_example)\n",
    "for i in tqdm(range(len(df))):\n",
    "    a = []\n",
    "    a.append(df['post'][i])\n",
    "    df[\"post\"][i] = a\n",
    "for i in tqdm(range(len(df))):\n",
    "    df[\"post\"][i] = [mystem_analyzer.lemmatize(w) for w in df[\"post\"][i]][0]\n",
    "    \n",
    "df"
   ]
  },
  {
   "cell_type": "code",
   "execution_count": 6,
   "metadata": {},
   "outputs": [],
   "source": [
    "def avg_datetime(series):\n",
    "    return (series - series.min()).mean() + series.min()\n"
   ]
  },
  {
   "cell_type": "code",
   "execution_count": 39,
   "metadata": {},
   "outputs": [],
   "source": [
    "class TextAnalyzer:\n",
    "    def __init__(self, df):\n",
    "        self.df = df\n",
    "    def frequency(self,  numb, text_type, start_date = None, end_date = None, ngram = 1, draw=True, output=True):\n",
    "        #start&end date = [d, m ,y]\n",
    "        self.numb = numb\n",
    "        self.wordcount = {}\n",
    "        self.text_type = text_type\n",
    "        self.draw = draw\n",
    "        #self.start_date = start_date\n",
    "        #self.end_date = end_date\n",
    "        if start_date == None and end_date == None:\n",
    "                self.df1 = self.df\n",
    "        \n",
    "        if (type(start_date) == list or type(end_date) == list):\n",
    "            if (not start_date == None ) and (not end_date==None):\n",
    "                start_date = datetime(start_date[2], start_date[1], start_date[0], 0, 0)\n",
    "                end_date = datetime(end_date[2], end_date[1], end_date[0], 0, 0)\n",
    "                self.df1 = self.df[self.df['time']<end_date]\n",
    "                self.df1 = self.df1[self.df1['time']>start_date]\n",
    "            elif (not start_date == None ) and (end_date==None):\n",
    "                start_date = datetime(start_date[2], start_date[1], start_date[0], 0, 0)\n",
    "                self.df1 = self.df[self.df['time']>start_date]\n",
    "            elif (start_date == None ) and (not end_date==None):\n",
    "                end_date = datetime(end_date[2], end_date[1], end_date[0], 0, 0)\n",
    "                self.df1 = self.df[self.df['time']<end_date]\n",
    "        elif (type(start_date) == datetime  and type(end_date) == datetime):\n",
    "            self.df1 = self.df[self.df['time']<end_date]\n",
    "            self.df1 = self.df1[self.df1['time']>=start_date]\n",
    "            \n",
    "        if ngram>1:\n",
    "            for i in range(len(self.df1)):\n",
    "                self.df1['post'][i] = list(ngrams(self.df1['post'][i],2))\n",
    "        if self.text_type == 'comment':\n",
    "            self.df1.index = np.arange(len(self.df1))\n",
    "            for i in range(len(self.df1)):\n",
    "                for j in range(len(self.df1['comment'][i])):\n",
    "                    for word in (self.df1['comment'][i][j]):\n",
    "                        word = word.replace(\".\",\"\")\n",
    "                        word = word.replace(\",\",\"\")\n",
    "                        word = word.replace(\":\",\"\")\n",
    "                        word = word.replace(\"\\\"\",\"\")\n",
    "                        word = word.replace(\"!\",\"\")\n",
    "                        word = word.replace(\"â€œ\",\"\")\n",
    "                        word = word.replace(\"â€˜\",\"\")\n",
    "                        word = word.replace(\"*\",\"\")\n",
    "                        word = word.replace(\" \",\"\")\n",
    "                        if word not in sum_noise:\n",
    "                            if word not in self.wordcount:\n",
    "                                self.wordcount[word] = 1\n",
    "                            else:\n",
    "                                self.wordcount[word] += 1\n",
    "        if self.text_type == 'post':\n",
    "            self.df1.index = np.arange(len(self.df1))\n",
    "            for i in range(len(self.df1)):   \n",
    "                for word in self.df1['post'][i]:\n",
    "                    word = word.replace(\".\",\"\")\n",
    "                    word = word.replace(\",\",\"\")\n",
    "                    word = word.replace(\":\",\"\")\n",
    "                    word = word.replace(\"\\\"\",\"\")\n",
    "                    word = word.replace(\"!\",\"\")\n",
    "                    word = word.replace(\"â€œ\",\"\")\n",
    "                    word = word.replace(\"â€˜\",\"\")\n",
    "                    word = word.replace(\"*\",\"\")\n",
    "                    word = word.replace(\" \",\"\")\n",
    "                    if word not in sum_noise:\n",
    "                        if word not in self.wordcount:\n",
    "                            self.wordcount[word] = 1\n",
    "                        else:\n",
    "                            self.wordcount[word] += 1\n",
    "        self.word_counter = collections.Counter(self.wordcount)\n",
    "        if output:\n",
    "            print(\"The {} most common words are as follows\\n\".format(self.numb))\n",
    "            for word, count in self.word_counter.most_common(self.numb):\n",
    "                print(word, \": \", count)\n",
    "        if self.draw:\n",
    "            lst = self.word_counter.most_common(self.numb)\n",
    "            df_cnt = pd.DataFrame(lst, columns = ['Word', 'Count'])\n",
    "            df_cnt.plot.bar(x='Word',y='Count')\n",
    "    def date_top(self, text_type, start_date_1 = None, end_date_1 = None, draw = False):\n",
    "        if start_date_1 == None and end_date_1 == None:\n",
    "            self.df1 = self.df\n",
    "        elif (not start_date_1 == None ) and (not end_date_1==None):\n",
    "            start_date_1 = datetime(start_date_1[2], start_date_1[1], start_date_1[0], 0, 0)\n",
    "            end_date_1 = datetime(end_date_1[2], end_date_1[1], end_date_1[0], 0, 0)\n",
    "            self.df1 = self.df[self.df['time']<end_date_1]\n",
    "            self.df1 = self.df1[self.df1['time']>=start_date_1]\n",
    "        elif (not start_date_1 == None ) and (end_date_1==None):\n",
    "            start_date_1 = datetime(start_date_1[2], start_date_1[1], start_date_1[0], 0, 0)\n",
    "            self.df1 = self.df[self.df['time']>=start_date_1]\n",
    "        elif (start_date_1 == None ) and (not end_date_1==None):\n",
    "            end_date_1 = datetime(end_date_1[2], end_date_1[1], end_date_1[0], 0, 0)\n",
    "            self.df1 = self.df[self.df['time']<end_date_1]\n",
    "            \n",
    "        self.dates = np.sort(self.df1['time'].unique())\n",
    "        self.top_words = []\n",
    "        for i in range(len(self.dates)):\n",
    "            self.frequency(1, text_type, start_date = self.dates[i], end_date = self.dates[i]+timedelta(days=1), draw = draw, output=False)\n",
    "            self.top_words.append(self.word_counter.most_common(1)[0][0])\n",
    "            print(self.word_counter.most_common(1)[0][0], self.dates[i], '\\n')\n",
    "    def word_in_time(self, word):\n",
    "        self.word = word\n",
    "        self.dates = np.sort(self.df['time'].unique())\n",
    "        self.wrd_cnt = []\n",
    "        for i in range(len(self.dates)):\n",
    "            self.count = 0\n",
    "            self.dfwrd = df[df['time'] == self.dates[i]]\n",
    "            self.dfwrd.index = np.arange(len(self.dfwrd))\n",
    "            for j in range(len(self.dfwrd)):\n",
    "                for word1 in self.dfwrd['post'][j]:\n",
    "                    if word1 == self.word:\n",
    "                        self.count +=1\n",
    "                for comm in self.dfwrd['comment'][j]:\n",
    "                    for word2 in comm:\n",
    "                        if word2 == self.word:\n",
    "                            self.count +=1\n",
    "            self.wrd_cnt.append(self.count)\n",
    "        self.plots = pd.DataFrame(self.wrd_cnt)\n",
    "        self.plots['date'] = self.dates\n",
    "        f = plt.figure(figsize=(19, 15))\n",
    "        fig = px.line(self.plots, x='date', y = 0)\n",
    "        fig.update_xaxes(\n",
    "            rangeslider_visible=True,\n",
    "            rangeselector=dict(\n",
    "                buttons=list([\n",
    "                    dict(count=1, label=\"1m\", step=\"month\", stepmode=\"backward\"),\n",
    "                    dict(count=6, label=\"6m\", step=\"month\", stepmode=\"backward\"),\n",
    "                    dict(count=1, label=\"YTD\", step=\"year\", stepmode=\"todate\"),\n",
    "                    dict(count=1, label=\"1y\", step=\"year\", stepmode=\"backward\"),\n",
    "                    dict(step=\"all\")\n",
    "                ])\n",
    "            )\n",
    "        )\n",
    "        fig.show()"
   ]
  },
  {
   "cell_type": "code",
   "execution_count": 40,
   "metadata": {},
   "outputs": [],
   "source": [
    "test = TextAnalyzer(df)"
   ]
  },
  {
   "cell_type": "code",
   "execution_count": 130,
   "metadata": {},
   "outputs": [
    {
     "name": "stdout",
     "output_type": "stream",
     "text": [
      "The 6 most common words are as follows\n",
      "\n",
      "⠀ :  8\n",
      "эфир :  4\n",
      "прямой :  3\n",
      "занятие :  2\n",
      "риэлтор :  2\n",
      "запись :  2\n"
     ]
    },
    {
     "data": {
      "image/png": "[encoded data removed]",
      "text/plain": [
       "<Figure size 432x288 with 1 Axes>"
      ]
     },
     "metadata": {
      "needs_background": "light"
     },
     "output_type": "display_data"
    }
   ],
   "source": [
    "test.frequency(6, 'post', start_date=[20,9,2020], end_date=[22,9,2020])"
   ]
  },
  {
   "cell_type": "code",
   "execution_count": 131,
   "metadata": {},
   "outputs": [
    {
     "name": "stdout",
     "output_type": "stream",
     "text": [
      "андрей 2019-10-31 00:00:00 \n",
      "\n",
      "хороший 2020-01-10 00:00:00 \n",
      "\n",
      "уважаемый 2020-08-25 00:00:00 \n",
      "\n",
      "сегодня 2020-08-31 00:00:00 \n",
      "\n",
      "задаток 2020-09-18 00:00:00 \n",
      "\n",
      "⠀ 2020-09-21 00:00:00 \n",
      "\n",
      "завещание 2020-09-23 00:00:00 \n",
      "\n",
      "добрый 2020-09-24 00:00:00 \n",
      "\n",
      "бороться 2020-09-26 00:00:00 \n",
      "\n",
      "продавать 2020-09-28 00:00:00 \n",
      "\n",
      "друг 2020-09-29 00:00:00 \n",
      "\n",
      "сказать 2020-09-30 00:00:00 \n",
      "\n",
      "квартира 2020-10-01 00:00:00 \n",
      "\n",
      "сделка 2020-10-02 00:00:00 \n",
      "\n",
      "шуба 2020-10-03 00:00:00 \n",
      "\n",
      "дом 2020-10-04 00:00:00 \n",
      "\n",
      "квартира 2020-10-05 00:00:00 \n",
      "\n"
     ]
    }
   ],
   "source": [
    "test.date_top('post')"
   ]
  },
  {
   "cell_type": "code",
   "execution_count": 42,
   "metadata": {},
   "outputs": [
    {
     "data": {
      "application/vnd.plotly.v1+json": {
       "config": {
        "plotlyServerURL": "https://plot.ly"
       },
       "data": [
        {
         "hovertemplate": "date=%{x}<br>0=%{y}<extra></extra>",
         "legendgroup": "",
         "line": {
          "color": "#636efa",
          "dash": "solid"
         },
         "mode": "lines",
         "name": "",
         "orientation": "v",
         "showlegend": false,
         "type": "scatter",
         "x": [
          "2019-10-31T00:00:00",
          "2020-01-10T00:00:00",
          "2020-08-25T00:00:00",
          "2020-08-31T00:00:00",
          "2020-09-18T00:00:00",
          "2020-09-21T00:00:00",
          "2020-09-23T00:00:00",
          "2020-09-24T00:00:00",
          "2020-09-26T00:00:00",
          "2020-09-28T00:00:00",
          "2020-09-29T00:00:00",
          "2020-09-30T00:00:00",
          "2020-10-01T00:00:00",
          "2020-10-02T00:00:00",
          "2020-10-03T00:00:00",
          "2020-10-04T00:00:00",
          "2020-10-05T00:00:00"
         ],
         "xaxis": "x",
         "y": [
          0,
          0,
          1,
          3,
          1,
          0,
          0,
          4,
          1,
          0,
          13,
          1,
          60,
          63,
          86,
          21,
          24
         ],
         "yaxis": "y"
        }
       ],
       "layout": {
        "legend": {
         "tracegroupgap": 0
        },
        "margin": {
         "t": 60
        },
        "template": {
         "data": {
          "bar": [
           {
            "error_x": {
             "color": "#2a3f5f"
            },
            "error_y": {
             "color": "#2a3f5f"
            },
            "marker": {
             "line": {
              "color": "#E5ECF6",
              "width": 0.5
             }
            },
            "type": "bar"
           }
          ],
          "barpolar": [
           {
            "marker": {
             "line": {
              "color": "#E5ECF6",
              "width": 0.5
             }
            },
            "type": "barpolar"
           }
          ],
          "carpet": [
           {
            "aaxis": {
             "endlinecolor": "#2a3f5f",
             "gridcolor": "white",
             "linecolor": "white",
             "minorgridcolor": "white",
             "startlinecolor": "#2a3f5f"
            },
            "baxis": {
             "endlinecolor": "#2a3f5f",
             "gridcolor": "white",
             "linecolor": "white",
             "minorgridcolor": "white",
             "startlinecolor": "#2a3f5f"
            },
            "type": "carpet"
           }
          ],
          "choropleth": [
           {
            "colorbar": {
             "outlinewidth": 0,
             "ticks": ""
            },
            "type": "choropleth"
           }
          ],
          "contour": [
           {
            "colorbar": {
             "outlinewidth": 0,
             "ticks": ""
            },
            "colorscale": [
             [
              0,
              "#0d0887"
             ],
             [
              0.1111111111111111,
              "#46039f"
             ],
             [
              0.2222222222222222,
              "#7201a8"
             ],
             [
              0.3333333333333333,
              "#9c179e"
             ],
             [
              0.4444444444444444,
              "#bd3786"
             ],
             [
              0.5555555555555556,
              "#d8576b"
             ],
             [
              0.6666666666666666,
              "#ed7953"
             ],
             [
              0.7777777777777778,
              "#fb9f3a"
             ],
             [
              0.8888888888888888,
              "#fdca26"
             ],
             [
              1,
              "#f0f921"
             ]
            ],
            "type": "contour"
           }
          ],
          "contourcarpet": [
           {
            "colorbar": {
             "outlinewidth": 0,
             "ticks": ""
            },
            "type": "contourcarpet"
           }
          ],
          "heatmap": [
           {
            "colorbar": {
             "outlinewidth": 0,
             "ticks": ""
            },
            "colorscale": [
             [
              0,
              "#0d0887"
             ],
             [
              0.1111111111111111,
              "#46039f"
             ],
             [
              0.2222222222222222,
              "#7201a8"
             ],
             [
              0.3333333333333333,
              "#9c179e"
             ],
             [
              0.4444444444444444,
              "#bd3786"
             ],
             [
              0.5555555555555556,
              "#d8576b"
             ],
             [
              0.6666666666666666,
              "#ed7953"
             ],
             [
              0.7777777777777778,
              "#fb9f3a"
             ],
             [
              0.8888888888888888,
              "#fdca26"
             ],
             [
              1,
              "#f0f921"
             ]
            ],
            "type": "heatmap"
           }
          ],
          "heatmapgl": [
           {
            "colorbar": {
             "outlinewidth": 0,
             "ticks": ""
            },
            "colorscale": [
             [
              0,
              "#0d0887"
             ],
             [
              0.1111111111111111,
              "#46039f"
             ],
             [
              0.2222222222222222,
              "#7201a8"
             ],
             [
              0.3333333333333333,
              "#9c179e"
             ],
             [
              0.4444444444444444,
              "#bd3786"
             ],
             [
              0.5555555555555556,
              "#d8576b"
             ],
             [
              0.6666666666666666,
              "#ed7953"
             ],
             [
              0.7777777777777778,
              "#fb9f3a"
             ],
             [
              0.8888888888888888,
              "#fdca26"
             ],
             [
              1,
              "#f0f921"
             ]
            ],
            "type": "heatmapgl"
           }
          ],
          "histogram": [
           {
            "marker": {
             "colorbar": {
              "outlinewidth": 0,
              "ticks": ""
             }
            },
            "type": "histogram"
           }
          ],
          "histogram2d": [
           {
            "colorbar": {
             "outlinewidth": 0,
             "ticks": ""
            },
            "colorscale": [
             [
              0,
              "#0d0887"
             ],
             [
              0.1111111111111111,
              "#46039f"
             ],
             [
              0.2222222222222222,
              "#7201a8"
             ],
             [
              0.3333333333333333,
              "#9c179e"
             ],
             [
              0.4444444444444444,
              "#bd3786"
             ],
             [
              0.5555555555555556,
              "#d8576b"
             ],
             [
              0.6666666666666666,
              "#ed7953"
             ],
             [
              0.7777777777777778,
              "#fb9f3a"
             ],
             [
              0.8888888888888888,
              "#fdca26"
             ],
             [
              1,
              "#f0f921"
             ]
            ],
            "type": "histogram2d"
           }
          ],
          "histogram2dcontour": [
           {
            "colorbar": {
             "outlinewidth": 0,
             "ticks": ""
            },
            "colorscale": [
             [
              0,
              "#0d0887"
             ],
             [
              0.1111111111111111,
              "#46039f"
             ],
             [
              0.2222222222222222,
              "#7201a8"
             ],
             [
              0.3333333333333333,
              "#9c179e"
             ],
             [
              0.4444444444444444,
              "#bd3786"
             ],
             [
              0.5555555555555556,
              "#d8576b"
             ],
             [
              0.6666666666666666,
              "#ed7953"
             ],
             [
              0.7777777777777778,
              "#fb9f3a"
             ],
             [
              0.8888888888888888,
              "#fdca26"
             ],
             [
              1,
              "#f0f921"
             ]
            ],
            "type": "histogram2dcontour"
           }
          ],
          "mesh3d": [
           {
            "colorbar": {
             "outlinewidth": 0,
             "ticks": ""
            },
            "type": "mesh3d"
           }
          ],
          "parcoords": [
           {
            "line": {
             "colorbar": {
              "outlinewidth": 0,
              "ticks": ""
             }
            },
            "type": "parcoords"
           }
          ],
          "pie": [
           {
            "automargin": true,
            "type": "pie"
           }
          ],
          "scatter": [
           {
            "marker": {
             "colorbar": {
              "outlinewidth": 0,
              "ticks": ""
             }
            },
            "type": "scatter"
           }
          ],
          "scatter3d": [
           {
            "line": {
             "colorbar": {
              "outlinewidth": 0,
              "ticks": ""
             }
            },
            "marker": {
             "colorbar": {
              "outlinewidth": 0,
              "ticks": ""
             }
            },
            "type": "scatter3d"
           }
          ],
          "scattercarpet": [
           {
            "marker": {
             "colorbar": {
              "outlinewidth": 0,
              "ticks": ""
             }
            },
            "type": "scattercarpet"
           }
          ],
          "scattergeo": [
           {
            "marker": {
             "colorbar": {
              "outlinewidth": 0,
              "ticks": ""
             }
            },
            "type": "scattergeo"
           }
          ],
          "scattergl": [
           {
            "marker": {
             "colorbar": {
              "outlinewidth": 0,
              "ticks": ""
             }
            },
            "type": "scattergl"
           }
          ],
          "scattermapbox": [
           {
            "marker": {
             "colorbar": {
              "outlinewidth": 0,
              "ticks": ""
             }
            },
            "type": "scattermapbox"
           }
          ],
          "scatterpolar": [
           {
            "marker": {
             "colorbar": {
              "outlinewidth": 0,
              "ticks": ""
             }
            },
            "type": "scatterpolar"
           }
          ],
          "scatterpolargl": [
           {
            "marker": {
             "colorbar": {
              "outlinewidth": 0,
              "ticks": ""
             }
            },
            "type": "scatterpolargl"
           }
          ],
          "scatterternary": [
           {
            "marker": {
             "colorbar": {
              "outlinewidth": 0,
              "ticks": ""
             }
            },
            "type": "scatterternary"
           }
          ],
          "surface": [
           {
            "colorbar": {
             "outlinewidth": 0,
             "ticks": ""
            },
            "colorscale": [
             [
              0,
              "#0d0887"
             ],
             [
              0.1111111111111111,
              "#46039f"
             ],
             [
              0.2222222222222222,
              "#7201a8"
             ],
             [
              0.3333333333333333,
              "#9c179e"
             ],
             [
              0.4444444444444444,
              "#bd3786"
             ],
             [
              0.5555555555555556,
              "#d8576b"
             ],
             [
              0.6666666666666666,
              "#ed7953"
             ],
             [
              0.7777777777777778,
              "#fb9f3a"
             ],
             [
              0.8888888888888888,
              "#fdca26"
             ],
             [
              1,
              "#f0f921"
             ]
            ],
            "type": "surface"
           }
          ],
          "table": [
           {
            "cells": {
             "fill": {
              "color": "#EBF0F8"
             },
             "line": {
              "color": "white"
             }
            },
            "header": {
             "fill": {
              "color": "#C8D4E3"
             },
             "line": {
              "color": "white"
             }
            },
            "type": "table"
           }
          ]
         },
         "layout": {
          "annotationdefaults": {
           "arrowcolor": "#2a3f5f",
           "arrowhead": 0,
           "arrowwidth": 1
          },
          "coloraxis": {
           "colorbar": {
            "outlinewidth": 0,
            "ticks": ""
           }
          },
          "colorscale": {
           "diverging": [
            [
             0,
             "#8e0152"
            ],
            [
             0.1,
             "#c51b7d"
            ],
            [
             0.2,
             "#de77ae"
            ],
            [
             0.3,
             "#f1b6da"
            ],
            [
             0.4,
             "#fde0ef"
            ],
            [
             0.5,
             "#f7f7f7"
            ],
            [
             0.6,
             "#e6f5d0"
            ],
            [
             0.7,
             "#b8e186"
            ],
            [
             0.8,
             "#7fbc41"
            ],
            [
             0.9,
             "#4d9221"
            ],
            [
             1,
             "#276419"
            ]
           ],
           "sequential": [
            [
             0,
             "#0d0887"
            ],
            [
             0.1111111111111111,
             "#46039f"
            ],
            [
             0.2222222222222222,
             "#7201a8"
            ],
            [
             0.3333333333333333,
             "#9c179e"
            ],
            [
             0.4444444444444444,
             "#bd3786"
            ],
            [
             0.5555555555555556,
             "#d8576b"
            ],
            [
             0.6666666666666666,
             "#ed7953"
            ],
            [
             0.7777777777777778,
             "#fb9f3a"
            ],
            [
             0.8888888888888888,
             "#fdca26"
            ],
            [
             1,
             "#f0f921"
            ]
           ],
           "sequentialminus": [
            [
             0,
             "#0d0887"
            ],
            [
             0.1111111111111111,
             "#46039f"
            ],
            [
             0.2222222222222222,
             "#7201a8"
            ],
            [
             0.3333333333333333,
             "#9c179e"
            ],
            [
             0.4444444444444444,
             "#bd3786"
            ],
            [
             0.5555555555555556,
             "#d8576b"
            ],
            [
             0.6666666666666666,
             "#ed7953"
            ],
            [
             0.7777777777777778,
             "#fb9f3a"
            ],
            [
             0.8888888888888888,
             "#fdca26"
            ],
            [
             1,
             "#f0f921"
            ]
           ]
          },
          "colorway": [
           "#636efa",
           "#EF553B",
           "#00cc96",
           "#ab63fa",
           "#FFA15A",
           "#19d3f3",
           "#FF6692",
           "#B6E880",
           "#FF97FF",
           "#FECB52"
          ],
          "font": {
           "color": "#2a3f5f"
          },
          "geo": {
           "bgcolor": "white",
           "lakecolor": "white",
           "landcolor": "#E5ECF6",
           "showlakes": true,
           "showland": true,
           "subunitcolor": "white"
          },
          "hoverlabel": {
           "align": "left"
          },
          "hovermode": "closest",
          "mapbox": {
           "style": "light"
          },
          "paper_bgcolor": "white",
          "plot_bgcolor": "#E5ECF6",
          "polar": {
           "angularaxis": {
            "gridcolor": "white",
            "linecolor": "white",
            "ticks": ""
           },
           "bgcolor": "#E5ECF6",
           "radialaxis": {
            "gridcolor": "white",
            "linecolor": "white",
            "ticks": ""
           }
          },
          "scene": {
           "xaxis": {
            "backgroundcolor": "#E5ECF6",
            "gridcolor": "white",
            "gridwidth": 2,
            "linecolor": "white",
            "showbackground": true,
            "ticks": "",
            "zerolinecolor": "white"
           },
           "yaxis": {
            "backgroundcolor": "#E5ECF6",
            "gridcolor": "white",
            "gridwidth": 2,
            "linecolor": "white",
            "showbackground": true,
            "ticks": "",
            "zerolinecolor": "white"
           },
           "zaxis": {
            "backgroundcolor": "#E5ECF6",
            "gridcolor": "white",
            "gridwidth": 2,
            "linecolor": "white",
            "showbackground": true,
            "ticks": "",
            "zerolinecolor": "white"
           }
          },
          "shapedefaults": {
           "line": {
            "color": "#2a3f5f"
           }
          },
          "ternary": {
           "aaxis": {
            "gridcolor": "white",
            "linecolor": "white",
            "ticks": ""
           },
           "baxis": {
            "gridcolor": "white",
            "linecolor": "white",
            "ticks": ""
           },
           "bgcolor": "#E5ECF6",
           "caxis": {
            "gridcolor": "white",
            "linecolor": "white",
            "ticks": ""
           }
          },
          "title": {
           "x": 0.05
          },
          "xaxis": {
           "automargin": true,
           "gridcolor": "white",
           "linecolor": "white",
           "ticks": "",
           "title": {
            "standoff": 15
           },
           "zerolinecolor": "white",
           "zerolinewidth": 2
          },
          "yaxis": {
           "automargin": true,
           "gridcolor": "white",
           "linecolor": "white",
           "ticks": "",
           "title": {
            "standoff": 15
           },
           "zerolinecolor": "white",
           "zerolinewidth": 2
          }
         }
        },
        "xaxis": {
         "anchor": "y",
         "domain": [
          0,
          1
         ],
         "rangeselector": {
          "buttons": [
           {
            "count": 1,
            "label": "1m",
            "step": "month",
            "stepmode": "backward"
           },
           {
            "count": 6,
            "label": "6m",
            "step": "month",
            "stepmode": "backward"
           },
           {
            "count": 1,
            "label": "YTD",
            "step": "year",
            "stepmode": "todate"
           },
           {
            "count": 1,
            "label": "1y",
            "step": "year",
            "stepmode": "backward"
           },
           {
            "step": "all"
           }
          ]
         },
         "rangeslider": {
          "visible": true
         },
         "title": {
          "text": "date"
         }
        },
        "yaxis": {
         "anchor": "x",
         "domain": [
          0,
          1
         ],
         "title": {
          "text": "0"
         }
        }
       }
      },
      "text/html": [
       "<div>\n",
       "        \n",
       "        \n",
       "            <div id=\"c08d75c8-6f99-4d5b-84d4-9713263216a4\" class=\"plotly-graph-div\" style=\"height:525px; width:100%;\"></div>\n",
       "            <script type=\"text/javascript\">\n",
       "                require([\"plotly\"], function(Plotly) {\n",
       "                    window.PLOTLYENV=window.PLOTLYENV || {};\n",
       "                    \n",
       "                if (document.getElementById(\"c08d75c8-6f99-4d5b-84d4-9713263216a4\")) {\n",
       "                    Plotly.newPlot(\n",
       "                        'c08d75c8-6f99-4d5b-84d4-9713263216a4',\n",
       "                        [{\"hovertemplate\": \"date=%{x}<br>0=%{y}<extra></extra>\", \"legendgroup\": \"\", \"line\": {\"color\": \"#636efa\", \"dash\": \"solid\"}, \"mode\": \"lines\", \"name\": \"\", \"orientation\": \"v\", \"showlegend\": false, \"type\": \"scatter\", \"x\": [\"2019-10-31T00:00:00\", \"2020-01-10T00:00:00\", \"2020-08-25T00:00:00\", \"2020-08-31T00:00:00\", \"2020-09-18T00:00:00\", \"2020-09-21T00:00:00\", \"2020-09-23T00:00:00\", \"2020-09-24T00:00:00\", \"2020-09-26T00:00:00\", \"2020-09-28T00:00:00\", \"2020-09-29T00:00:00\", \"2020-09-30T00:00:00\", \"2020-10-01T00:00:00\", \"2020-10-02T00:00:00\", \"2020-10-03T00:00:00\", \"2020-10-04T00:00:00\", \"2020-10-05T00:00:00\"], \"xaxis\": \"x\", \"y\": [0, 0, 1, 3, 1, 0, 0, 4, 1, 0, 13, 1, 60, 63, 86, 21, 24], \"yaxis\": \"y\"}],\n",
       "                        {\"legend\": {\"tracegroupgap\": 0}, \"margin\": {\"t\": 60}, \"template\": {\"data\": {\"bar\": [{\"error_x\": {\"color\": \"#2a3f5f\"}, \"error_y\": {\"color\": \"#2a3f5f\"}, \"marker\": {\"line\": {\"color\": \"#E5ECF6\", \"width\": 0.5}}, \"type\": \"bar\"}], \"barpolar\": [{\"marker\": {\"line\": {\"color\": \"#E5ECF6\", \"width\": 0.5}}, \"type\": \"barpolar\"}], \"carpet\": [{\"aaxis\": {\"endlinecolor\": \"#2a3f5f\", \"gridcolor\": \"white\", \"linecolor\": \"white\", \"minorgridcolor\": \"white\", \"startlinecolor\": \"#2a3f5f\"}, \"baxis\": {\"endlinecolor\": \"#2a3f5f\", \"gridcolor\": \"white\", \"linecolor\": \"white\", \"minorgridcolor\": \"white\", \"startlinecolor\": \"#2a3f5f\"}, \"type\": \"carpet\"}], \"choropleth\": [{\"colorbar\": {\"outlinewidth\": 0, \"ticks\": \"\"}, \"type\": \"choropleth\"}], \"contour\": [{\"colorbar\": {\"outlinewidth\": 0, \"ticks\": \"\"}, \"colorscale\": [[0.0, \"#0d0887\"], [0.1111111111111111, \"#46039f\"], [0.2222222222222222, \"#7201a8\"], [0.3333333333333333, \"#9c179e\"], [0.4444444444444444, \"#bd3786\"], [0.5555555555555556, \"#d8576b\"], [0.6666666666666666, \"#ed7953\"], [0.7777777777777778, \"#fb9f3a\"], [0.8888888888888888, \"#fdca26\"], [1.0, \"#f0f921\"]], \"type\": \"contour\"}], \"contourcarpet\": [{\"colorbar\": {\"outlinewidth\": 0, \"ticks\": \"\"}, \"type\": \"contourcarpet\"}], \"heatmap\": [{\"colorbar\": {\"outlinewidth\": 0, \"ticks\": \"\"}, \"colorscale\": [[0.0, \"#0d0887\"], [0.1111111111111111, \"#46039f\"], [0.2222222222222222, \"#7201a8\"], [0.3333333333333333, \"#9c179e\"], [0.4444444444444444, \"#bd3786\"], [0.5555555555555556, \"#d8576b\"], [0.6666666666666666, \"#ed7953\"], [0.7777777777777778, \"#fb9f3a\"], [0.8888888888888888, \"#fdca26\"], [1.0, \"#f0f921\"]], \"type\": \"heatmap\"}], \"heatmapgl\": [{\"colorbar\": {\"outlinewidth\": 0, \"ticks\": \"\"}, \"colorscale\": [[0.0, \"#0d0887\"], [0.1111111111111111, \"#46039f\"], [0.2222222222222222, \"#7201a8\"], [0.3333333333333333, \"#9c179e\"], [0.4444444444444444, \"#bd3786\"], [0.5555555555555556, \"#d8576b\"], [0.6666666666666666, \"#ed7953\"], [0.7777777777777778, \"#fb9f3a\"], [0.8888888888888888, \"#fdca26\"], [1.0, \"#f0f921\"]], \"type\": \"heatmapgl\"}], \"histogram\": [{\"marker\": {\"colorbar\": {\"outlinewidth\": 0, \"ticks\": \"\"}}, \"type\": \"histogram\"}], \"histogram2d\": [{\"colorbar\": {\"outlinewidth\": 0, \"ticks\": \"\"}, \"colorscale\": [[0.0, \"#0d0887\"], [0.1111111111111111, \"#46039f\"], [0.2222222222222222, \"#7201a8\"], [0.3333333333333333, \"#9c179e\"], [0.4444444444444444, \"#bd3786\"], [0.5555555555555556, \"#d8576b\"], [0.6666666666666666, \"#ed7953\"], [0.7777777777777778, \"#fb9f3a\"], [0.8888888888888888, \"#fdca26\"], [1.0, \"#f0f921\"]], \"type\": \"histogram2d\"}], \"histogram2dcontour\": [{\"colorbar\": {\"outlinewidth\": 0, \"ticks\": \"\"}, \"colorscale\": [[0.0, \"#0d0887\"], [0.1111111111111111, \"#46039f\"], [0.2222222222222222, \"#7201a8\"], [0.3333333333333333, \"#9c179e\"], [0.4444444444444444, \"#bd3786\"], [0.5555555555555556, \"#d8576b\"], [0.6666666666666666, \"#ed7953\"], [0.7777777777777778, \"#fb9f3a\"], [0.8888888888888888, \"#fdca26\"], [1.0, \"#f0f921\"]], \"type\": \"histogram2dcontour\"}], \"mesh3d\": [{\"colorbar\": {\"outlinewidth\": 0, \"ticks\": \"\"}, \"type\": \"mesh3d\"}], \"parcoords\": [{\"line\": {\"colorbar\": {\"outlinewidth\": 0, \"ticks\": \"\"}}, \"type\": \"parcoords\"}], \"pie\": [{\"automargin\": true, \"type\": \"pie\"}], \"scatter\": [{\"marker\": {\"colorbar\": {\"outlinewidth\": 0, \"ticks\": \"\"}}, \"type\": \"scatter\"}], \"scatter3d\": [{\"line\": {\"colorbar\": {\"outlinewidth\": 0, \"ticks\": \"\"}}, \"marker\": {\"colorbar\": {\"outlinewidth\": 0, \"ticks\": \"\"}}, \"type\": \"scatter3d\"}], \"scattercarpet\": [{\"marker\": {\"colorbar\": {\"outlinewidth\": 0, \"ticks\": \"\"}}, \"type\": \"scattercarpet\"}], \"scattergeo\": [{\"marker\": {\"colorbar\": {\"outlinewidth\": 0, \"ticks\": \"\"}}, \"type\": \"scattergeo\"}], \"scattergl\": [{\"marker\": {\"colorbar\": {\"outlinewidth\": 0, \"ticks\": \"\"}}, \"type\": \"scattergl\"}], \"scattermapbox\": [{\"marker\": {\"colorbar\": {\"outlinewidth\": 0, \"ticks\": \"\"}}, \"type\": \"scattermapbox\"}], \"scatterpolar\": [{\"marker\": {\"colorbar\": {\"outlinewidth\": 0, \"ticks\": \"\"}}, \"type\": \"scatterpolar\"}], \"scatterpolargl\": [{\"marker\": {\"colorbar\": {\"outlinewidth\": 0, \"ticks\": \"\"}}, \"type\": \"scatterpolargl\"}], \"scatterternary\": [{\"marker\": {\"colorbar\": {\"outlinewidth\": 0, \"ticks\": \"\"}}, \"type\": \"scatterternary\"}], \"surface\": [{\"colorbar\": {\"outlinewidth\": 0, \"ticks\": \"\"}, \"colorscale\": [[0.0, \"#0d0887\"], [0.1111111111111111, \"#46039f\"], [0.2222222222222222, \"#7201a8\"], [0.3333333333333333, \"#9c179e\"], [0.4444444444444444, \"#bd3786\"], [0.5555555555555556, \"#d8576b\"], [0.6666666666666666, \"#ed7953\"], [0.7777777777777778, \"#fb9f3a\"], [0.8888888888888888, \"#fdca26\"], [1.0, \"#f0f921\"]], \"type\": \"surface\"}], \"table\": [{\"cells\": {\"fill\": {\"color\": \"#EBF0F8\"}, \"line\": {\"color\": \"white\"}}, \"header\": {\"fill\": {\"color\": \"#C8D4E3\"}, \"line\": {\"color\": \"white\"}}, \"type\": \"table\"}]}, \"layout\": {\"annotationdefaults\": {\"arrowcolor\": \"#2a3f5f\", \"arrowhead\": 0, \"arrowwidth\": 1}, \"coloraxis\": {\"colorbar\": {\"outlinewidth\": 0, \"ticks\": \"\"}}, \"colorscale\": {\"diverging\": [[0, \"#8e0152\"], [0.1, \"#c51b7d\"], [0.2, \"#de77ae\"], [0.3, \"#f1b6da\"], [0.4, \"#fde0ef\"], [0.5, \"#f7f7f7\"], [0.6, \"#e6f5d0\"], [0.7, \"#b8e186\"], [0.8, \"#7fbc41\"], [0.9, \"#4d9221\"], [1, \"#276419\"]], \"sequential\": [[0.0, \"#0d0887\"], [0.1111111111111111, \"#46039f\"], [0.2222222222222222, \"#7201a8\"], [0.3333333333333333, \"#9c179e\"], [0.4444444444444444, \"#bd3786\"], [0.5555555555555556, \"#d8576b\"], [0.6666666666666666, \"#ed7953\"], [0.7777777777777778, \"#fb9f3a\"], [0.8888888888888888, \"#fdca26\"], [1.0, \"#f0f921\"]], \"sequentialminus\": [[0.0, \"#0d0887\"], [0.1111111111111111, \"#46039f\"], [0.2222222222222222, \"#7201a8\"], [0.3333333333333333, \"#9c179e\"], [0.4444444444444444, \"#bd3786\"], [0.5555555555555556, \"#d8576b\"], [0.6666666666666666, \"#ed7953\"], [0.7777777777777778, \"#fb9f3a\"], [0.8888888888888888, \"#fdca26\"], [1.0, \"#f0f921\"]]}, \"colorway\": [\"#636efa\", \"#EF553B\", \"#00cc96\", \"#ab63fa\", \"#FFA15A\", \"#19d3f3\", \"#FF6692\", \"#B6E880\", \"#FF97FF\", \"#FECB52\"], \"font\": {\"color\": \"#2a3f5f\"}, \"geo\": {\"bgcolor\": \"white\", \"lakecolor\": \"white\", \"landcolor\": \"#E5ECF6\", \"showlakes\": true, \"showland\": true, \"subunitcolor\": \"white\"}, \"hoverlabel\": {\"align\": \"left\"}, \"hovermode\": \"closest\", \"mapbox\": {\"style\": \"light\"}, \"paper_bgcolor\": \"white\", \"plot_bgcolor\": \"#E5ECF6\", \"polar\": {\"angularaxis\": {\"gridcolor\": \"white\", \"linecolor\": \"white\", \"ticks\": \"\"}, \"bgcolor\": \"#E5ECF6\", \"radialaxis\": {\"gridcolor\": \"white\", \"linecolor\": \"white\", \"ticks\": \"\"}}, \"scene\": {\"xaxis\": {\"backgroundcolor\": \"#E5ECF6\", \"gridcolor\": \"white\", \"gridwidth\": 2, \"linecolor\": \"white\", \"showbackground\": true, \"ticks\": \"\", \"zerolinecolor\": \"white\"}, \"yaxis\": {\"backgroundcolor\": \"#E5ECF6\", \"gridcolor\": \"white\", \"gridwidth\": 2, \"linecolor\": \"white\", \"showbackground\": true, \"ticks\": \"\", \"zerolinecolor\": \"white\"}, \"zaxis\": {\"backgroundcolor\": \"#E5ECF6\", \"gridcolor\": \"white\", \"gridwidth\": 2, \"linecolor\": \"white\", \"showbackground\": true, \"ticks\": \"\", \"zerolinecolor\": \"white\"}}, \"shapedefaults\": {\"line\": {\"color\": \"#2a3f5f\"}}, \"ternary\": {\"aaxis\": {\"gridcolor\": \"white\", \"linecolor\": \"white\", \"ticks\": \"\"}, \"baxis\": {\"gridcolor\": \"white\", \"linecolor\": \"white\", \"ticks\": \"\"}, \"bgcolor\": \"#E5ECF6\", \"caxis\": {\"gridcolor\": \"white\", \"linecolor\": \"white\", \"ticks\": \"\"}}, \"title\": {\"x\": 0.05}, \"xaxis\": {\"automargin\": true, \"gridcolor\": \"white\", \"linecolor\": \"white\", \"ticks\": \"\", \"title\": {\"standoff\": 15}, \"zerolinecolor\": \"white\", \"zerolinewidth\": 2}, \"yaxis\": {\"automargin\": true, \"gridcolor\": \"white\", \"linecolor\": \"white\", \"ticks\": \"\", \"title\": {\"standoff\": 15}, \"zerolinecolor\": \"white\", \"zerolinewidth\": 2}}}, \"xaxis\": {\"anchor\": \"y\", \"domain\": [0.0, 1.0], \"rangeselector\": {\"buttons\": [{\"count\": 1, \"label\": \"1m\", \"step\": \"month\", \"stepmode\": \"backward\"}, {\"count\": 6, \"label\": \"6m\", \"step\": \"month\", \"stepmode\": \"backward\"}, {\"count\": 1, \"label\": \"YTD\", \"step\": \"year\", \"stepmode\": \"todate\"}, {\"count\": 1, \"label\": \"1y\", \"step\": \"year\", \"stepmode\": \"backward\"}, {\"step\": \"all\"}]}, \"rangeslider\": {\"visible\": true}, \"title\": {\"text\": \"date\"}}, \"yaxis\": {\"anchor\": \"x\", \"domain\": [0.0, 1.0], \"title\": {\"text\": \"0\"}}},\n",
       "                        {\"responsive\": true}\n",
       "                    ).then(function(){\n",
       "                            \n",
       "var gd = document.getElementById('c08d75c8-6f99-4d5b-84d4-9713263216a4');\n",
       "var x = new MutationObserver(function (mutations, observer) {{\n",
       "        var display = window.getComputedStyle(gd).display;\n",
       "        if (!display || display === 'none') {{\n",
       "            console.log([gd, 'removed!']);\n",
       "            Plotly.purge(gd);\n",
       "            observer.disconnect();\n",
       "        }}\n",
       "}});\n",
       "\n",
       "// Listen for the removal of the full notebook cells\n",
       "var notebookContainer = gd.closest('#notebook-container');\n",
       "if (notebookContainer) {{\n",
       "    x.observe(notebookContainer, {childList: true});\n",
       "}}\n",
       "\n",
       "// Listen for the clearing of the current output cell\n",
       "var outputEl = gd.closest('.output');\n",
       "if (outputEl) {{\n",
       "    x.observe(outputEl, {childList: true});\n",
       "}}\n",
       "\n",
       "                        })\n",
       "                };\n",
       "                });\n",
       "            </script>\n",
       "        </div>"
      ]
     },
     "metadata": {},
     "output_type": "display_data"
    },
    {
     "data": {
      "text/plain": [
       "<Figure size 1368x1080 with 0 Axes>"
      ]
     },
     "metadata": {},
     "output_type": "display_data"
    }
   ],
   "source": [
    "test.word_in_time('квартира')"
   ]
  },
  {
   "cell_type": "code",
   "execution_count": 26,
   "metadata": {},
   "outputs": [],
   "source": [
    "for i in range(len(df)):\n",
    "    df['post'][i] = list(ngrams(df['post'][i],2))"
   ]
  },
  {
   "cell_type": "code",
   "execution_count": 27,
   "metadata": {},
   "outputs": [],
   "source": [
    "df['post'][1][1]\n",
    "wordcount = {}"
   ]
  },
  {
   "cell_type": "code",
   "execution_count": 28,
   "metadata": {},
   "outputs": [],
   "source": [
    "for i in range(len(df)):   \n",
    "        for word in df['post'][i]:\n",
    "            '''word = word.replace(\".\",\"\")\n",
    "            word = word.replace(\",\",\"\")\n",
    "            word = word.replace(\":\",\"\")\n",
    "            word = word.replace(\"\\\"\",\"\")\n",
    "            word = word.replace(\"!\",\"\")\n",
    "            word = word.replace(\"â€œ\",\"\")\n",
    "            word = word.replace(\"â€˜\",\"\")\n",
    "            word = word.replace(\"*\",\"\")\n",
    "            word = word.replace(\" \",\"\")'''\n",
    "            if word not in sum_noise:\n",
    "                if word not in wordcount:\n",
    "                    wordcount[word] = 1\n",
    "                else:\n",
    "                    wordcount[word] += 1"
   ]
  },
  {
   "cell_type": "code",
   "execution_count": 33,
   "metadata": {},
   "outputs": [
    {
     "data": {
      "text/plain": [
       "dict_keys([(('коллега', 'клиент'), ('клиент', 'спрашивать')), (('клиент', 'спрашивать'), ('спрашивать', 'оплачивать')), (('спрашивать', 'оплачивать'), ('оплачивать', 'проверка')), (('оплачивать', 'проверка'), ('проверка', 'сбера')), (('проверка', 'сбера'), ('сбера', 'якобы')), (('сбера', 'якобы'), ('якобы', 'надежно')), (('якобы', 'надежно'), ('надежно', 'теперь')), (('надежно', 'теперь'), ('теперь', 'кабинет')), (('теперь', 'кабинет'), ('кабинет', 'висеть')), (('кабинет', 'висеть'), ('висеть', 'красный')), (('висеть', 'красный'), ('красный', 'замечание')), (('красный', 'замечание'), ('замечание', 'отчет')), (('замечание', 'отчет'), ('отчет', 'оценка')), (('отчет', 'оценка'), ('оценка', 'объект')), (('оценка', 'объект'), ('объект', 'висеть')), (('объект', 'висеть'), ('висеть', 'витрина')), (('висеть', 'витрина'), ('витрина', 'отчет')), (('витрина', 'отчет'), ('отчет', 'оценка')), (('отчет', 'оценка'), ('оценка', 'все')), (('оценка', 'все'), ('все', 'пропадать')), (('все', 'пропадать'), ('пропадать', 'еще')), (('пропадать', 'еще'), ('еще', 'оценка')), (('еще', 'оценка'), ('оценка', 'делать')), (('оценка', 'делать'), ('делать', 'приходиться')), (('делать', 'приходиться'), ('приходиться', 'обходиться')), ((('коллега', 'клиент'), ('клиент', 'спрашивать')), (('клиент', 'спрашивать'), ('спрашивать', 'оплачивать'))), ((('клиент', 'спрашивать'), ('спрашивать', 'оплачивать')), (('спрашивать', 'оплачивать'), ('оплачивать', 'проверка'))), ((('спрашивать', 'оплачивать'), ('оплачивать', 'проверка')), (('оплачивать', 'проверка'), ('проверка', 'сбера'))), ((('оплачивать', 'проверка'), ('проверка', 'сбера')), (('проверка', 'сбера'), ('сбера', 'якобы'))), ((('проверка', 'сбера'), ('сбера', 'якобы')), (('сбера', 'якобы'), ('якобы', 'надежно'))), ((('сбера', 'якобы'), ('якобы', 'надежно')), (('якобы', 'надежно'), ('надежно', 'теперь'))), ((('якобы', 'надежно'), ('надежно', 'теперь')), (('надежно', 'теперь'), ('теперь', 'кабинет'))), ((('надежно', 'теперь'), ('теперь', 'кабинет')), (('теперь', 'кабинет'), ('кабинет', 'висеть'))), ((('теперь', 'кабинет'), ('кабинет', 'висеть')), (('кабинет', 'висеть'), ('висеть', 'красный'))), ((('кабинет', 'висеть'), ('висеть', 'красный')), (('висеть', 'красный'), ('красный', 'замечание'))), ((('висеть', 'красный'), ('красный', 'замечание')), (('красный', 'замечание'), ('замечание', 'отчет'))), ((('красный', 'замечание'), ('замечание', 'отчет')), (('замечание', 'отчет'), ('отчет', 'оценка'))), ((('замечание', 'отчет'), ('отчет', 'оценка')), (('отчет', 'оценка'), ('оценка', 'объект'))), ((('отчет', 'оценка'), ('оценка', 'объект')), (('оценка', 'объект'), ('объект', 'висеть'))), ((('оценка', 'объект'), ('объект', 'висеть')), (('объект', 'висеть'), ('висеть', 'витрина'))), ((('объект', 'висеть'), ('висеть', 'витрина')), (('висеть', 'витрина'), ('витрина', 'отчет'))), ((('висеть', 'витрина'), ('витрина', 'отчет')), (('витрина', 'отчет'), ('отчет', 'оценка'))), ((('витрина', 'отчет'), ('отчет', 'оценка')), (('отчет', 'оценка'), ('оценка', 'все'))), ((('отчет', 'оценка'), ('оценка', 'все')), (('оценка', 'все'), ('все', 'пропадать'))), ((('оценка', 'все'), ('все', 'пропадать')), (('все', 'пропадать'), ('пропадать', 'еще'))), ((('все', 'пропадать'), ('пропадать', 'еще')), (('пропадать', 'еще'), ('еще', 'оценка'))), ((('пропадать', 'еще'), ('еще', 'оценка')), (('еще', 'оценка'), ('оценка', 'делать'))), ((('еще', 'оценка'), ('оценка', 'делать')), (('оценка', 'делать'), ('делать', 'приходиться'))), ((('оценка', 'делать'), ('делать', 'приходиться')), (('делать', 'приходиться'), ('приходиться', 'обходиться')))])"
      ]
     },
     "execution_count": 33,
     "metadata": {},
     "output_type": "execute_result"
    }
   ],
   "source": [
    "wordcount.keys()"
   ]
  },
  {
   "cell_type": "code",
   "execution_count": 38,
   "metadata": {},
   "outputs": [],
   "source": [
    "df1.index = np.arange(len(df1))"
   ]
  },
  {
   "cell_type": "code",
   "execution_count": 40,
   "metadata": {},
   "outputs": [
    {
     "ename": "NameError",
     "evalue": "name 'wordcount' is not defined",
     "output_type": "error",
     "traceback": [
      "\u001b[0;31m---------------------------------------------------------------------------\u001b[0m",
      "\u001b[0;31mNameError\u001b[0m                                 Traceback (most recent call last)",
      "\u001b[0;32m<ipython-input-40-bb7e39a6e5f8>\u001b[0m in \u001b[0;36m<module>\u001b[0;34m\u001b[0m\n\u001b[1;32m     10\u001b[0m                     \u001b[0mword\u001b[0m \u001b[0;34m=\u001b[0m \u001b[0mword\u001b[0m\u001b[0;34m.\u001b[0m\u001b[0mreplace\u001b[0m\u001b[0;34m(\u001b[0m\u001b[0;34m\"*\"\u001b[0m\u001b[0;34m,\u001b[0m\u001b[0;34m\"\"\u001b[0m\u001b[0;34m)\u001b[0m\u001b[0;34m\u001b[0m\u001b[0;34m\u001b[0m\u001b[0m\n\u001b[1;32m     11\u001b[0m                     \u001b[0;32mif\u001b[0m \u001b[0mword\u001b[0m \u001b[0;32mnot\u001b[0m \u001b[0;32min\u001b[0m \u001b[0msum_noise\u001b[0m\u001b[0;34m:\u001b[0m\u001b[0;34m\u001b[0m\u001b[0;34m\u001b[0m\u001b[0m\n\u001b[0;32m---> 12\u001b[0;31m                         \u001b[0;32mif\u001b[0m \u001b[0mword\u001b[0m \u001b[0;32mnot\u001b[0m \u001b[0;32min\u001b[0m \u001b[0mwordcount\u001b[0m\u001b[0;34m:\u001b[0m\u001b[0;34m\u001b[0m\u001b[0;34m\u001b[0m\u001b[0m\n\u001b[0m\u001b[1;32m     13\u001b[0m                             \u001b[0mwordcount\u001b[0m\u001b[0;34m[\u001b[0m\u001b[0mword\u001b[0m\u001b[0;34m]\u001b[0m \u001b[0;34m=\u001b[0m \u001b[0;36m1\u001b[0m\u001b[0;34m\u001b[0m\u001b[0;34m\u001b[0m\u001b[0m\n\u001b[1;32m     14\u001b[0m                         \u001b[0;32melse\u001b[0m\u001b[0;34m:\u001b[0m\u001b[0;34m\u001b[0m\u001b[0;34m\u001b[0m\u001b[0m\n",
      "\u001b[0;31mNameError\u001b[0m: name 'wordcount' is not defined"
     ]
    }
   ],
   "source": [
    "for i in range(len(df1)):   \n",
    "                for word in df1['post'][i]:\n",
    "                    word = word.replace(\".\",\"\")\n",
    "                    word = word.replace(\",\",\"\")\n",
    "                    word = word.replace(\":\",\"\")\n",
    "                    word = word.replace(\"\\\"\",\"\")\n",
    "                    word = word.replace(\"!\",\"\")\n",
    "                    word = word.replace(\"â€œ\",\"\")\n",
    "                    word = word.replace(\"â€˜\",\"\")\n",
    "                    word = word.replace(\"*\",\"\")\n",
    "                    if word not in sum_noise:\n",
    "                        if word not in wordcount:\n",
    "                            wordcount[word] = 1\n",
    "                        else:\n",
    "                            wordcount[word] += 1\n",
    "print(\"The {} most common words are as follows\\n\".format(numb))\n",
    "self.word_counter = collections.Counter(wordcount)\n",
    "for word, count in self.word_counter.most_common(numb):\n",
    "    print(word, \": \", count)"
   ]
  },
  {
   "cell_type": "code",
   "execution_count": 99,
   "metadata": {},
   "outputs": [
    {
     "data": {
      "text/plain": [
       "'квартира'"
      ]
     },
     "execution_count": 99,
     "metadata": {},
     "output_type": "execute_result"
    }
   ],
   "source": [
    "a[0][0]"
   ]
  },
  {
   "cell_type": "code",
   "execution_count": 132,
   "metadata": {},
   "outputs": [
    {
     "data": {
      "text/html": [
       "<div>\n",
       "<style scoped>\n",
       "    .dataframe tbody tr th:only-of-type {\n",
       "        vertical-align: middle;\n",
       "    }\n",
       "\n",
       "    .dataframe tbody tr th {\n",
       "        vertical-align: top;\n",
       "    }\n",
       "\n",
       "    .dataframe thead th {\n",
       "        text-align: right;\n",
       "    }\n",
       "</style>\n",
       "<table border=\"1\" class=\"dataframe\">\n",
       "  <thead>\n",
       "    <tr style=\"text-align: right;\">\n",
       "      <th></th>\n",
       "      <th>time</th>\n",
       "      <th>post</th>\n",
       "      <th>number_comments</th>\n",
       "      <th>comment</th>\n",
       "    </tr>\n",
       "  </thead>\n",
       "  <tbody>\n",
       "    <tr>\n",
       "      <th>0</th>\n",
       "      <td>2020-10-01 00:00:00</td>\n",
       "      <td>[коллега, размещать, видео, судебный, юрист, т...</td>\n",
       "      <td>9</td>\n",
       "      <td>[[спасибо], [очепятка, прочитывать, аккультный...</td>\n",
       "    </tr>\n",
       "    <tr>\n",
       "      <th>1</th>\n",
       "      <td>2020-10-05 00:00:00</td>\n",
       "      <td>[коллега, клиент, спрашивать, оплачивать, пров...</td>\n",
       "      <td>2</td>\n",
       "      <td>[[документ, регистрировать, регистратор], [ден...</td>\n",
       "    </tr>\n",
       "    <tr>\n",
       "      <th>2</th>\n",
       "      <td>2020-10-05 00:00:00</td>\n",
       "      <td>[приплывать, сделка, цепь, нижний, просить, за...</td>\n",
       "      <td>5</td>\n",
       "      <td>[[итакасоглашаться, оценщик, ссылка, присылать...</td>\n",
       "    </tr>\n",
       "    <tr>\n",
       "      <th>3</th>\n",
       "      <td>2020-10-05 00:00:00</td>\n",
       "      <td>[коллега, добрый, день, нужный, помощь, нужный...</td>\n",
       "      <td>52</td>\n",
       "      <td>[[америка, работать], [наташа], [лурье], [вспо...</td>\n",
       "    </tr>\n",
       "    <tr>\n",
       "      <th>4</th>\n",
       "      <td>2020-10-05 00:00:00</td>\n",
       "      <td>[время, такой, приходить, покупатель, квартира...</td>\n",
       "      <td>10</td>\n",
       "      <td>[[распашонка], [лукашевский], [банк], [быков],...</td>\n",
       "    </tr>\n",
       "    <tr>\n",
       "      <th>...</th>\n",
       "      <td>...</td>\n",
       "      <td>...</td>\n",
       "      <td>...</td>\n",
       "      <td>...</td>\n",
       "    </tr>\n",
       "    <tr>\n",
       "      <th>107</th>\n",
       "      <td>2020-10-01 00:00:00</td>\n",
       "      <td>[уважаемый, коллега, поделиться, пожалуйста, о...</td>\n",
       "      <td>0</td>\n",
       "      <td>[]</td>\n",
       "    </tr>\n",
       "    <tr>\n",
       "      <th>108</th>\n",
       "      <td>2020-10-01 00:00:00</td>\n",
       "      <td>[уважаемый, коллега, поступать, ситуация, стоя...</td>\n",
       "      <td>0</td>\n",
       "      <td>[]</td>\n",
       "    </tr>\n",
       "    <tr>\n",
       "      <th>109</th>\n",
       "      <td>2019-10-31 00:00:00</td>\n",
       "      <td>[пост, благодарность, серебряков, андрей, имет...</td>\n",
       "      <td>0</td>\n",
       "      <td>[]</td>\n",
       "    </tr>\n",
       "    <tr>\n",
       "      <th>110</th>\n",
       "      <td>2020-10-01 00:00:00</td>\n",
       "      <td>[среди, волшебник, который, смочь, срочно, пре...</td>\n",
       "      <td>0</td>\n",
       "      <td>[]</td>\n",
       "    </tr>\n",
       "    <tr>\n",
       "      <th>111</th>\n",
       "      <td>2020-09-29 00:00:00</td>\n",
       "      <td>[добрый, день, все, поделиться, пожалуйста, ко...</td>\n",
       "      <td>0</td>\n",
       "      <td>[]</td>\n",
       "    </tr>\n",
       "  </tbody>\n",
       "</table>\n",
       "<p>112 rows × 4 columns</p>\n",
       "</div>"
      ],
      "text/plain": [
       "                    time                                               post  \\\n",
       "0    2020-10-01 00:00:00  [коллега, размещать, видео, судебный, юрист, т...   \n",
       "1    2020-10-05 00:00:00  [коллега, клиент, спрашивать, оплачивать, пров...   \n",
       "2    2020-10-05 00:00:00  [приплывать, сделка, цепь, нижний, просить, за...   \n",
       "3    2020-10-05 00:00:00  [коллега, добрый, день, нужный, помощь, нужный...   \n",
       "4    2020-10-05 00:00:00  [время, такой, приходить, покупатель, квартира...   \n",
       "..                   ...                                                ...   \n",
       "107  2020-10-01 00:00:00  [уважаемый, коллега, поделиться, пожалуйста, о...   \n",
       "108  2020-10-01 00:00:00  [уважаемый, коллега, поступать, ситуация, стоя...   \n",
       "109  2019-10-31 00:00:00  [пост, благодарность, серебряков, андрей, имет...   \n",
       "110  2020-10-01 00:00:00  [среди, волшебник, который, смочь, срочно, пре...   \n",
       "111  2020-09-29 00:00:00  [добрый, день, все, поделиться, пожалуйста, ко...   \n",
       "\n",
       "     number_comments                                            comment  \n",
       "0                  9  [[спасибо], [очепятка, прочитывать, аккультный...  \n",
       "1                  2  [[документ, регистрировать, регистратор], [ден...  \n",
       "2                  5  [[итакасоглашаться, оценщик, ссылка, присылать...  \n",
       "3                 52  [[америка, работать], [наташа], [лурье], [вспо...  \n",
       "4                 10  [[распашонка], [лукашевский], [банк], [быков],...  \n",
       "..               ...                                                ...  \n",
       "107                0                                                 []  \n",
       "108                0                                                 []  \n",
       "109                0                                                 []  \n",
       "110                0                                                 []  \n",
       "111                0                                                 []  \n",
       "\n",
       "[112 rows x 4 columns]"
      ]
     },
     "execution_count": 132,
     "metadata": {},
     "output_type": "execute_result"
    }
   ],
   "source": [
    "df"
   ]
  },
  {
   "cell_type": "code",
   "execution_count": null,
   "metadata": {},
   "outputs": [],
   "source": []
  }
 ],
 "metadata": {
  "kernelspec": {
   "display_name": "Python 3",
   "language": "python",
   "name": "python3"
  },
  "language_info": {
   "codemirror_mode": {
    "name": "ipython",
    "version": 3
   },
   "file_extension": ".py",
   "mimetype": "text/x-python",
   "name": "python",
   "nbconvert_exporter": "python",
   "pygments_lexer": "ipython3",
   "version": "3.7.6"
  }
 },
 "nbformat": 4,
 "nbformat_minor": 4
}
