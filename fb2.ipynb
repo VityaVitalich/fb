{
 "cells": [
  {
   "cell_type": "code",
   "execution_count": 1,
   "metadata": {},
   "outputs": [
    {
     "name": "stderr",
     "output_type": "stream",
     "text": [
      "[nltk_data] Downloading package stopwords to /home/victor/nltk_data...\n",
      "[nltk_data]   Package stopwords is already up-to-date!\n"
     ]
    },
    {
     "data": {
      "text/plain": [
       "True"
      ]
     },
     "execution_count": 1,
     "metadata": {},
     "output_type": "execute_result"
    }
   ],
   "source": [
    "import requests      # Библиотека для отправки запросов\n",
    "import numpy as np   # Библиотека для матриц, векторов и линала\n",
    "import pandas as pd  # Библиотека для табличек\n",
    "import time          # Библиотека для тайм-менеджмента\n",
    "from bs4 import BeautifulSoup\n",
    "import re\n",
    "from selenium import webdriver\n",
    "from selenium.webdriver.chrome.options import Options\n",
    "from fake_useragent import UserAgent\n",
    "from tqdm import tqdm\n",
    "from webdriver_manager.firefox import GeckoDriverManager\n",
    "from datetime import datetime\n",
    "from selenium.webdriver.common.by import By\n",
    "from sys import platform\n",
    "import nltk\n",
    "from nltk.tokenize import TweetTokenizer\n",
    "from nltk.tokenize.treebank import TreebankWordDetokenizer\n",
    "from nltk.corpus import stopwords\n",
    "from string import punctuation\n",
    "nltk.download(\"stopwords\")"
   ]
  },
  {
   "cell_type": "code",
   "execution_count": 2,
   "metadata": {},
   "outputs": [
    {
     "name": "stdout",
     "output_type": "stream",
     "text": [
      "linux\n"
     ]
    }
   ],
   "source": [
    "print(platform)"
   ]
  },
  {
   "cell_type": "markdown",
   "metadata": {},
   "source": [
    "!pip install bs4\n",
    "!pip install selenium\n",
    "!pip install fake-useragent\n",
    "!pip install webdriver-manager\n",
    "!pip install nltk"
   ]
  },
  {
   "cell_type": "code",
   "execution_count": 3,
   "metadata": {},
   "outputs": [],
   "source": [
    "MonthDict={ \"января\" : 1,\n",
    "      \"февраля\": 2,\n",
    "       \"марта\": 3,\n",
    "       \"апреля\": 4,\n",
    "       \"мая\": 5,\n",
    "       \"июня\": 6,\n",
    "       \"июля\": 7,\n",
    "       \"августа\": 8,\n",
    "       \"сентября\": 9,\n",
    "       \"октября\": 10,\n",
    "       \"ноября\": 11,\n",
    "       \"декабря\": 12\n",
    "}"
   ]
  },
  {
   "cell_type": "code",
   "execution_count": 4,
   "metadata": {},
   "outputs": [
    {
     "data": {
      "text/plain": [
       "<Response [200]>"
      ]
     },
     "execution_count": 4,
     "metadata": {},
     "output_type": "execute_result"
    }
   ],
   "source": [
    "#обозначили сайт, проверили, чтобы 200 ок\n",
    "page_link = 'https://www.facebook.com/groups/realtor.russia'\n",
    "response = requests.get(page_link, headers={'User-Agent': UserAgent().chrome})\n",
    "response"
   ]
  },
  {
   "cell_type": "code",
   "execution_count": 5,
   "metadata": {},
   "outputs": [
    {
     "name": "stderr",
     "output_type": "stream",
     "text": [
      "[WDM] - Getting latest mozilla release info for v0.28.0\n",
      "[WDM] - Trying to download new driver from https://github.com/mozilla/geckodriver/releases/download/v0.28.0/geckodriver-v0.28.0-linux64.tar.gz\n",
      "[WDM] - Driver has been saved in cache [/home/victor/.wdm/drivers/geckodriver/linux64/v0.28.0]\n"
     ]
    }
   ],
   "source": [
    "driver = webdriver.Firefox(executable_path=GeckoDriverManager().install())"
   ]
  },
  {
   "cell_type": "markdown",
   "metadata": {},
   "source": [
    "#две версии вызова робобраузера, для винды и для линукса. \n",
    "#PS. В винде указан путь, который верен только для моей локалки\n",
    "if 'win' in platform:\n",
    "    from selenium.webdriver.common.desired_capabilities import DesiredCapabilities\n",
    "\n",
    "    cap = DesiredCapabilities().FIREFOX\n",
    "    cap[\"marionette\"] = False\n",
    "    options = Options()\n",
    "    options.binary_location = \"C:\\Program Files (x86)\\Google\\Chrome\\Application\\chrome.exe\"\n",
    "    driver = webdriver.Chrome(chrome_options=options, executable_path=r\"C:\\Users\\matyukhinaa\\Downloads\\chromedriver_win32\\chromedriver.exe\", )\n",
    "elif platform == 'linux':\n",
    "    driver = webdriver.Firefox(executable_path=GeckoDriverManager().install())\n",
    "    "
   ]
  },
  {
   "cell_type": "code",
   "execution_count": 6,
   "metadata": {},
   "outputs": [],
   "source": [
    "#вызов нужного сайта\n",
    "driver.get(page_link)\n",
    "time.sleep(6)\n",
    "ok_button = driver.find_elements_by_xpath(\"//div[contains(text(), 'OK')]\")\n",
    "try:\n",
    "    ok_button[0].click()\n",
    "except:\n",
    "    pass"
   ]
  },
  {
   "cell_type": "code",
   "execution_count": 7,
   "metadata": {},
   "outputs": [],
   "source": [
    "#Количество скроллов вниз, чем больше, тем больше получим записей. Но дольше будет работать\n",
    "times_scroll = 50"
   ]
  },
  {
   "cell_type": "code",
   "execution_count": 8,
   "metadata": {},
   "outputs": [
    {
     "name": "stderr",
     "output_type": "stream",
     "text": [
      "100%|██████████| 50/50 [00:10<00:00,  4.70it/s]\n"
     ]
    }
   ],
   "source": [
    "#Цикл для повторения прокрутки\n",
    "for i in tqdm(range(times_scroll)):\n",
    "    driver.execute_script(\"window.scrollTo(0, document.body.scrollHeight);\")\n",
    "    if i%5==0: #Здесь каждую пятую прокрутку цикл засыпает на 1 секунду, чтобы страница прогрузилась\n",
    "               #Если убрать эту строчку, может не дорабатывать до конца и прогружать меньше\n",
    "        time.sleep(1)"
   ]
  },
  {
   "cell_type": "code",
   "execution_count": 9,
   "metadata": {},
   "outputs": [
    {
     "name": "stderr",
     "output_type": "stream",
     "text": [
      "100%|██████████| 38/38 [00:10<00:00,  3.76it/s]\n",
      "100%|██████████| 73/73 [00:33<00:00,  2.21it/s]\n",
      "100%|██████████| 23/23 [00:11<00:00,  1.98it/s]\n"
     ]
    }
   ],
   "source": [
    "#Костыли для открытия комментов\n",
    "buttons = driver.find_elements_by_xpath(\"//div[contains(text(), 'Ещё')]\")\n",
    "for i in tqdm(range(len(buttons))):\n",
    "    try: \n",
    "        buttons[i].click()\n",
    "    except:\n",
    "        continue\n",
    "\n",
    "#Костыли, созданные, чтобы открыть все длинные посты. К сожалению к двум циклам пришлось прибегнуть, так как\n",
    "#часть кнопок не нажимаются с первого раза из-за того, что сайт недогрузился или не доскролился до нужной кнопки            \n",
    "for i in range(2):       \n",
    "    should_restart = True\n",
    "    while should_restart:\n",
    "        should_restart = False\n",
    "        buttons = driver.find_elements_by_xpath(\"//span[contains(text(), 'Показать ещё')]\")\n",
    "        for i in range(len(buttons)):\n",
    "            try: \n",
    "                buttons[i].click()\n",
    "            except:\n",
    "                should_restart = True\n",
    "                break\n",
    "\n",
    "buttons = driver.find_elements_by_xpath(\"//span[contains(text(), 'ответ')]\")\n",
    "for i in tqdm(range(len(buttons))):\n",
    "    try: \n",
    "        buttons[i].click()\n",
    "    except:\n",
    "        continue\n",
    "buttons = driver.find_elements_by_xpath(\"//span[contains(text(), 'ответов')]\")\n",
    "for i in tqdm(range(len(buttons))):\n",
    "    try: \n",
    "        buttons[i].click()\n",
    "    except:\n",
    "        continue"
   ]
  },
  {
   "cell_type": "code",
   "execution_count": 10,
   "metadata": {},
   "outputs": [],
   "source": [
    "# Чтение HTML Страницы\n",
    "selen_page = driver.page_source\n",
    "soup = BeautifulSoup(selen_page,'html.parser')"
   ]
  },
  {
   "cell_type": "code",
   "execution_count": 11,
   "metadata": {},
   "outputs": [],
   "source": [
    "posts = (soup.findAll('div', attrs = {'class':\"kvgmc6g5 cxmmr5t8 oygrvhab hcukyx3x c1et5uql ii04i59q\"}))\n",
    "b = soup.findAll('span', attrs = {'class':\"gpro0wi8 j1lvzwm4 stjgntxs ni8dbmo4 q9uorilb\"})\n",
    "#текст постов и время размещения *не спрашивайте почему b*"
   ]
  },
  {
   "cell_type": "code",
   "execution_count": 12,
   "metadata": {},
   "outputs": [],
   "source": [
    "#from datetime import timedelta\n",
    "import datetime\n",
    "import time"
   ]
  },
  {
   "cell_type": "code",
   "execution_count": 13,
   "metadata": {},
   "outputs": [
    {
     "data": {
      "text/plain": [
       "9"
      ]
     },
     "execution_count": 13,
     "metadata": {},
     "output_type": "execute_result"
    }
   ],
   "source": [
    "(datetime.datetime.now() - datetime.timedelta (days = 1)).day"
   ]
  },
  {
   "cell_type": "code",
   "execution_count": 14,
   "metadata": {
    "scrolled": true
   },
   "outputs": [
    {
     "name": "stderr",
     "output_type": "stream",
     "text": [
      "100%|██████████| 55/55 [00:00<00:00, 28184.08it/s]\n",
      "100%|██████████| 55/55 [00:00<00:00, 240048.62it/s]\n",
      "100%|██████████| 55/55 [00:00<00:00, 116921.80it/s]\n"
     ]
    }
   ],
   "source": [
    "#Загрузка сегодняшней даты в нужном формате\n",
    "day_td = str(datetime.datetime.now().day)\n",
    "day_ytd = str((datetime.datetime.now() - datetime.timedelta (days = 1)).day)\n",
    "month_td = list(MonthDict.keys())[list(MonthDict.values()).index(datetime.datetime.now().month)]\n",
    "year_td = str(datetime.datetime.now().year)\n",
    "date_td = day_td+month_td+year_td\n",
    "date_ytd = day_ytd+month_td+year_td\n",
    "#Куча ИФ циклов для чистки и преобразования данных о времени\n",
    "parsed_ls = []\n",
    "#Первый цикл, для создания листа, где не будет лишних знаков\n",
    "for i in tqdm(range(len(b))):\n",
    "    parsed = (b[i].text.replace('=','').replace('·','').replace('\\xa0', ''))\n",
    "    if b[i].text != '':\n",
    "        parsed_ls.append(parsed)\n",
    "#Выкидывание ненужной информации и замена часов, минут и дней на дату\n",
    "for i in tqdm(range(len(parsed_ls))):\n",
    "    parsed_ls[i] = parsed_ls[i].replace(' ', '')\n",
    "    parsed_ls[i] = parsed_ls[i].replace('г.Москва', '')\n",
    "    parsed_ls[i] = parsed_ls[i].replace('г.', '')\n",
    "    if 'ч.' in parsed_ls[i]:\n",
    "        parsed_ls[i] = date_td\n",
    "    if 'мин.' in parsed_ls[i]:\n",
    "        parsed_ls[i] = date_td\n",
    "    if 'Вчера' in parsed_ls[i]:\n",
    "        parsed_ls[i] = date_ytd\n",
    "#Перевод дат в формат д/м/г\n",
    "for i in tqdm(range(len(parsed_ls))):\n",
    "    if (parsed_ls[i][-3]==':')==True:\n",
    "        parsed_ls[i]= parsed_ls[i][:-6]+year_td\n",
    "    if parsed_ls[i][-4:-2]!='20':\n",
    "        parsed_ls[i] = parsed_ls[i]+parsed_ls[i-1][-4:]\n",
    "    if parsed_ls[i][:2].isnumeric():\n",
    "        month = str(MonthDict[parsed_ls[i][2:-4]])\n",
    "        date = (parsed_ls[i][:2])\n",
    "        year = (parsed_ls[i][-4:])\n",
    "        parsed_ls[i] = date+'/'+month+'/'+year\n",
    "    if parsed_ls[i][:2].isnumeric()==False:\n",
    "        month = str(MonthDict[parsed_ls[i][1:-4]])\n",
    "        date = (parsed_ls[i][:1])\n",
    "        year = (parsed_ls[i][-4:])\n",
    "        parsed_ls[i] = date+'/'+month+'/'+year"
   ]
  },
  {
   "cell_type": "code",
   "execution_count": 15,
   "metadata": {},
   "outputs": [],
   "source": [
    "#перевод дат в формат datetime, перевод листа с хтмл кодом в текстовый лист\n",
    "dt_ls = []\n",
    "for date in (parsed_ls):\n",
    "    dt_ls.append(datetime.datetime.strptime(date, '%d/%m/%Y'))\n",
    "for i in range(len(posts)):\n",
    "    posts[i] = posts[i].text"
   ]
  },
  {
   "cell_type": "code",
   "execution_count": 16,
   "metadata": {},
   "outputs": [],
   "source": [
    "#Создание датафрейма\n",
    "Dict = {'time': dt_ls[:len(posts)], 'post': posts}\n",
    "df = pd.DataFrame.from_dict(Dict)"
   ]
  },
  {
   "cell_type": "code",
   "execution_count": 27,
   "metadata": {},
   "outputs": [],
   "source": [
    "new_cl = 'd2edcug0 hpfvmrgz qv66sw1b c1et5uql gk29lw5a a8c37x1j keod5gw0 nxhoafnm aigsh9s9 d9wwppkn fe6kdd0r mau55g9w c8b282yb hrzyx87i jq4qci2q a3bd9o3v knj5qynh m9osqain'"
   ]
  },
  {
   "cell_type": "code",
   "execution_count": 28,
   "metadata": {},
   "outputs": [],
   "source": [
    "#считывание комментариев и количества комментариев под каждым постом\n",
    "comms = (soup.findAll('div', attrs = {'class':\"tw6a2znq sj5x9vvc d1544ag0 cxgpxx05\"}))\n",
    "#comm_num_cl = 'd2edcug0 hpfvmrgz qv66sw1b c1et5uql gk29lw5a a8c37x1j keod5gw0 nxhoafnm aigsh9s9 d9wwppkn fe6kdd0r mau55g9w c8b282yb hrzyx87i jq4qci2q a3bd9o3v knj5qynh m9osqain'\n",
    "comm_num = (soup.findAll('span', attrs = {'class':new_cl}))"
   ]
  },
  {
   "cell_type": "code",
   "execution_count": 30,
   "metadata": {},
   "outputs": [
    {
     "name": "stderr",
     "output_type": "stream",
     "text": [
      "100%|██████████| 67/67 [00:00<00:00, 64013.30it/s]\n"
     ]
    }
   ],
   "source": [
    "#выкидываем кол-во репостов\n",
    "comm_num_ls = []\n",
    "for i in tqdm(range(len(comm_num))):\n",
    "    if 'Комментарии' in comm_num[i].text:\n",
    "        comm_num_ls.append(int(comm_num[i].text.replace('Комментарии: ', '')))\n",
    "#почти всегда получается так, что посты без комментов технически сьедают комменты,\n",
    "#а нижние посты остаются без них. Добьем лист нулями. Общая картина текстов не теряется\n",
    "if len(comm_num_ls)<len(df):\n",
    "    for i in range(len(df)-len(comm_num_ls)):\n",
    "        comm_num_ls.append(0)"
   ]
  },
  {
   "cell_type": "code",
   "execution_count": 31,
   "metadata": {},
   "outputs": [],
   "source": [
    "#Добавляем колонку с кол-вом комментов\n",
    "df['number_comments'] = np.array(comm_num_ls[:len(df)])"
   ]
  },
  {
   "cell_type": "code",
   "execution_count": 32,
   "metadata": {},
   "outputs": [
    {
     "name": "stderr",
     "output_type": "stream",
     "text": [
      "100%|██████████| 1211/1211 [00:00<00:00, 6126.94it/s]\n"
     ]
    }
   ],
   "source": [
    "#токенизируем комменты, чтобы выкинуть мусор и убрать обращение по имени\n",
    "#шумовые слова выкидываю сразу, чтобы не засорять датасет\n",
    "tw = TweetTokenizer()\n",
    "det = TreebankWordDetokenizer()\n",
    "noise = stopwords.words('russian') + list(punctuation)\n",
    "upnoise = [letter.upper() for letter in noise]\n",
    "sum_noise = noise+upnoise+['.','»','«']\n",
    "for i in tqdm(range(len(comms))):\n",
    "    comms[i] = comms[i].text\n",
    "    tokenized_example = (tw.tokenize(comms[i])[2:])\n",
    "    #filtered_example = [word for word in tokenized_example if not word in noise]\n",
    "    comms[i] = det.detokenize(tokenized_example)"
   ]
  },
  {
   "cell_type": "code",
   "execution_count": 33,
   "metadata": {},
   "outputs": [
    {
     "name": "stderr",
     "output_type": "stream",
     "text": [
      "100%|██████████| 46/46 [00:00<00:00, 40541.71it/s]\n"
     ]
    }
   ],
   "source": [
    "#разбиваем и клеим так, чтобы они были одним предложением. А также чтобы у каждого поста нужное кол-во\n",
    "comms_ls = []\n",
    "j = 0 \n",
    "for i in tqdm(range(len(df))):\n",
    "    comms_ls.append(comms[j:j+df.iloc[i,2]])\n",
    "    j+=df.iloc[i,2]\n",
    "\n",
    "#for i in range(len(comms_ls)):\n",
    " #   sentnc = ''\n",
    " #   for j in range(len(comms_ls[i])):\n",
    " #       sentnc += comms_ls[i][j]\n",
    "  #      sentnc += ' '\n",
    " #   comms_ls[i] = sentnc\n",
    "df['comment'] = comms_ls"
   ]
  },
  {
   "cell_type": "code",
   "execution_count": 102,
   "metadata": {},
   "outputs": [],
   "source": [
    "df.to_csv('fb.csv')"
   ]
  },
  {
   "cell_type": "code",
   "execution_count": 34,
   "metadata": {},
   "outputs": [
    {
     "data": {
      "text/html": [
       "<div>\n",
       "<style scoped>\n",
       "    .dataframe tbody tr th:only-of-type {\n",
       "        vertical-align: middle;\n",
       "    }\n",
       "\n",
       "    .dataframe tbody tr th {\n",
       "        vertical-align: top;\n",
       "    }\n",
       "\n",
       "    .dataframe thead th {\n",
       "        text-align: right;\n",
       "    }\n",
       "</style>\n",
       "<table border=\"1\" class=\"dataframe\">\n",
       "  <thead>\n",
       "    <tr style=\"text-align: right;\">\n",
       "      <th></th>\n",
       "      <th>time</th>\n",
       "      <th>post</th>\n",
       "      <th>number_comments</th>\n",
       "      <th>comment</th>\n",
       "    </tr>\n",
       "  </thead>\n",
       "  <tbody>\n",
       "    <tr>\n",
       "      <th>0</th>\n",
       "      <td>2020-11-06</td>\n",
       "      <td>Дети обанкротившихся бизнесменов, участвовавши...</td>\n",
       "      <td>26</td>\n",
       "      <td>[что не так? Оформляли на несовершеннолетних п...</td>\n",
       "    </tr>\n",
       "    <tr>\n",
       "      <th>1</th>\n",
       "      <td>2020-11-10</td>\n",
       "      <td>Теперь все агенты недвижимости, обновившие при...</td>\n",
       "      <td>41</td>\n",
       "      <td>[делает все, что бы подорвать основу агентства...</td>\n",
       "    </tr>\n",
       "    <tr>\n",
       "      <th>2</th>\n",
       "      <td>2020-11-09</td>\n",
       "      <td>#вчемделоциан #цианнаглость #хватитциан#цианос...</td>\n",
       "      <td>28</td>\n",
       "      <td>[, знакомая история, но мы успели вернуть матк...</td>\n",
       "    </tr>\n",
       "    <tr>\n",
       "      <th>3</th>\n",
       "      <td>2020-11-08</td>\n",
       "      <td>Доброе утро, коллеги. Ситуация из которой не з...</td>\n",
       "      <td>43</td>\n",
       "      <td>[Вас агентство? При подписании двоу, ещё для к...</td>\n",
       "    </tr>\n",
       "    <tr>\n",
       "      <th>4</th>\n",
       "      <td>2020-11-10</td>\n",
       "      <td>Коллеги.</td>\n",
       "      <td>4</td>\n",
       "      <td>[Мишукова покупатель., Карпушкина, полностью с...</td>\n",
       "    </tr>\n",
       "    <tr>\n",
       "      <th>5</th>\n",
       "      <td>2020-11-10</td>\n",
       "      <td>КАК ДОСТАВАТЬ ДОКУМЕНТЫ ИЗ РОСРЕЕСТРА?Зарегист...</td>\n",
       "      <td>30</td>\n",
       "      <td>[Kutumov какого этого?, комиссию вперёд и рабо...</td>\n",
       "    </tr>\n",
       "    <tr>\n",
       "      <th>6</th>\n",
       "      <td>2020-11-10</td>\n",
       "      <td>Мой клиент покупал дом, в МО, порядка 12млн+.З...</td>\n",
       "      <td>28</td>\n",
       "      <td>[дайте что просят и ладно, все же справки сраз...</td>\n",
       "    </tr>\n",
       "    <tr>\n",
       "      <th>7</th>\n",
       "      <td>2020-11-10</td>\n",
       "      <td>Добрый день!Готовлюсь к сделке,я со стороны пр...</td>\n",
       "      <td>34</td>\n",
       "      <td>[на регистрацию отправили? До зачисления, Семе...</td>\n",
       "    </tr>\n",
       "    <tr>\n",
       "      <th>8</th>\n",
       "      <td>2020-11-10</td>\n",
       "      <td>Здравствуйте, уважаемые риэлторы!Я – режиссер,...</td>\n",
       "      <td>13</td>\n",
       "      <td>[Бухтоярова это же не значит что она не сущест...</td>\n",
       "    </tr>\n",
       "    <tr>\n",
       "      <th>9</th>\n",
       "      <td>2020-11-08</td>\n",
       "      <td>Коллеги,добрый день!Поделитесь опытом пожалуйс...</td>\n",
       "      <td>17</td>\n",
       "      <td>[игнор!, КвартирьерКоля любит Мамбу, нам идёт ...</td>\n",
       "    </tr>\n",
       "    <tr>\n",
       "      <th>10</th>\n",
       "      <td>2020-11-10</td>\n",
       "      <td>Господа собственники недвижимости, хотите раст...</td>\n",
       "      <td>20</td>\n",
       "      <td>[Кузнецов комиссию берут с клиента . обратился...</td>\n",
       "    </tr>\n",
       "    <tr>\n",
       "      <th>11</th>\n",
       "      <td>2020-11-09</td>\n",
       "      <td>Коллеги, кто-нибудь работал с РСХБ по сельской...</td>\n",
       "      <td>23</td>\n",
       "      <td>[Воронич дипломатия - наше все) да вы все прав...</td>\n",
       "    </tr>\n",
       "    <tr>\n",
       "      <th>12</th>\n",
       "      <td>2020-11-10</td>\n",
       "      <td>Налог по долям, вопросик... Коллеги, вот такая...</td>\n",
       "      <td>8</td>\n",
       "      <td>[побывала « в шубке » продавца-собственника, и...</td>\n",
       "    </tr>\n",
       "    <tr>\n",
       "      <th>13</th>\n",
       "      <td>2020-11-10</td>\n",
       "      <td>Коллеги! Это кто-то развлекается? Кому приходя...</td>\n",
       "      <td>79</td>\n",
       "      <td>[и рядом такая ситуация . Все подъезды завешан...</td>\n",
       "    </tr>\n",
       "    <tr>\n",
       "      <th>14</th>\n",
       "      <td>2020-11-07</td>\n",
       "      <td>Вот это как Все одобрено и кредит и обьект, за...</td>\n",
       "      <td>21</td>\n",
       "      <td>[спасибо, От Сбербанка модерация ОТВРАТИТЕЛЬНА...</td>\n",
       "    </tr>\n",
       "    <tr>\n",
       "      <th>15</th>\n",
       "      <td>2020-11-10</td>\n",
       "      <td>Немного о коллегах, которые нам совсем не колл...</td>\n",
       "      <td>38</td>\n",
       "      <td>[Каринцев вот вот!!! У меня такой же вопрос!!!...</td>\n",
       "    </tr>\n",
       "    <tr>\n",
       "      <th>16</th>\n",
       "      <td>2020-11-09</td>\n",
       "      <td>Вопрос. Есть земля ижс. На ней самострой. План...</td>\n",
       "      <td>20</td>\n",
       "      <td>[? На вебинар или на ст . 429? У меня все ОК, ...</td>\n",
       "    </tr>\n",
       "    <tr>\n",
       "      <th>17</th>\n",
       "      <td>2020-11-10</td>\n",
       "      <td>#этажи</td>\n",
       "      <td>13</td>\n",
       "      <td>[Ivanov Это нужно спросить у банков Москвы . Я...</td>\n",
       "    </tr>\n",
       "    <tr>\n",
       "      <th>18</th>\n",
       "      <td>2020-11-06</td>\n",
       "      <td>Гениальный ремонт: хрущёвка серии I-464А в Мос...</td>\n",
       "      <td>41</td>\n",
       "      <td>[о прекращении регистрации написать в МФЦ, учи...</td>\n",
       "    </tr>\n",
       "    <tr>\n",
       "      <th>19</th>\n",
       "      <td>2020-11-10</td>\n",
       "      <td>Друзья! А кто-нибудь покупал квартиры в ренова...</td>\n",
       "      <td>66</td>\n",
       "      <td>[Mushuk я тоже не налоговик, но элементарные з...</td>\n",
       "    </tr>\n",
       "    <tr>\n",
       "      <th>20</th>\n",
       "      <td>2020-11-10</td>\n",
       "      <td>Коллеги,добрый вечер!Можно спросить ваше мнени...</td>\n",
       "      <td>46</td>\n",
       "      <td>[Ольга все, досвидос, люблю сделки с Домом Кли...</td>\n",
       "    </tr>\n",
       "    <tr>\n",
       "      <th>21</th>\n",
       "      <td>2020-11-09</td>\n",
       "      <td>Добрый день. Есть вопрос по налогам. Человек и...</td>\n",
       "      <td>2</td>\n",
       "      <td>[настроение не повод кидаться на людей! Может ...</td>\n",
       "    </tr>\n",
       "    <tr>\n",
       "      <th>22</th>\n",
       "      <td>2020-11-10</td>\n",
       "      <td>Мне вроде кажется, что радоваться тут нечему.</td>\n",
       "      <td>4</td>\n",
       "      <td>[Бог отвел от вас квартиру с косяками . Найдет...</td>\n",
       "    </tr>\n",
       "    <tr>\n",
       "      <th>23</th>\n",
       "      <td>2020-11-09</td>\n",
       "      <td>Армагедон продолжается.</td>\n",
       "      <td>76</td>\n",
       "      <td>[..., я вот заприметила . Независимо от того, ...</td>\n",
       "    </tr>\n",
       "    <tr>\n",
       "      <th>24</th>\n",
       "      <td>2020-11-10</td>\n",
       "      <td>Теперь и моя история)))У меня продается кварти...</td>\n",
       "      <td>105</td>\n",
       "      <td>[не было! Но в час укладываемся! Даже с альтер...</td>\n",
       "    </tr>\n",
       "    <tr>\n",
       "      <th>25</th>\n",
       "      <td>2020-11-10</td>\n",
       "      <td>И снова Сбербанк.Объект согласован в домклике ...</td>\n",
       "      <td>94</td>\n",
       "      <td>[, денег Хорошо написал, же запрос, только нам...</td>\n",
       "    </tr>\n",
       "    <tr>\n",
       "      <th>26</th>\n",
       "      <td>2020-11-10</td>\n",
       "      <td>Сегодня ситуация.</td>\n",
       "      <td>58</td>\n",
       "      <td>[Взяли в работу., Вы серьезно? Что это за отпи...</td>\n",
       "    </tr>\n",
       "    <tr>\n",
       "      <th>27</th>\n",
       "      <td>2020-11-05</td>\n",
       "      <td>Эх, осень... Сегодня в такую неприятную ситуац...</td>\n",
       "      <td>4</td>\n",
       "      <td>[Турчун должен быть собствеником . Вычет тольк...</td>\n",
       "    </tr>\n",
       "    <tr>\n",
       "      <th>28</th>\n",
       "      <td>2020-11-08</td>\n",
       "      <td>И снова про ДомКлик и ипотеку. Сделка - одна к...</td>\n",
       "      <td>43</td>\n",
       "      <td>[Некрасова для продажи он не подходит., Ворони...</td>\n",
       "    </tr>\n",
       "    <tr>\n",
       "      <th>29</th>\n",
       "      <td>2020-11-09</td>\n",
       "      <td>Подскажите пожалуйста, как лучше сформулироват...</td>\n",
       "      <td>169</td>\n",
       "      <td>[недвижимость, Авито, sob.ru, Домклик, это то,...</td>\n",
       "    </tr>\n",
       "    <tr>\n",
       "      <th>30</th>\n",
       "      <td>2020-11-05</td>\n",
       "      <td>Клиент/собственник утерял свидетельство и ДКП ...</td>\n",
       "      <td>113</td>\n",
       "      <td>[, смысле помочь? Деньгами?, Шутюк, этого пост...</td>\n",
       "    </tr>\n",
       "    <tr>\n",
       "      <th>31</th>\n",
       "      <td>2020-11-09</td>\n",
       "      <td>Коллеги, в Сбербанке при электронной регистрац...</td>\n",
       "      <td>4</td>\n",
       "      <td>[]</td>\n",
       "    </tr>\n",
       "    <tr>\n",
       "      <th>32</th>\n",
       "      <td>2020-11-10</td>\n",
       "      <td>МногоНЕуважаемый #Циан в очередной раз достало...</td>\n",
       "      <td>26</td>\n",
       "      <td>[]</td>\n",
       "    </tr>\n",
       "    <tr>\n",
       "      <th>33</th>\n",
       "      <td>2020-10-28</td>\n",
       "      <td>Внимание! 17-го ноября 2020 г. тренер агентов...</td>\n",
       "      <td>18</td>\n",
       "      <td>[]</td>\n",
       "    </tr>\n",
       "    <tr>\n",
       "      <th>34</th>\n",
       "      <td>2020-11-01</td>\n",
       "      <td>Сегодня увидел очередное чудо дизайна и распре...</td>\n",
       "      <td>23</td>\n",
       "      <td>[]</td>\n",
       "    </tr>\n",
       "    <tr>\n",
       "      <th>35</th>\n",
       "      <td>2020-11-10</td>\n",
       "      <td>В Циан.Студии мы будем встречаться с экспертам...</td>\n",
       "      <td>27</td>\n",
       "      <td>[]</td>\n",
       "    </tr>\n",
       "    <tr>\n",
       "      <th>36</th>\n",
       "      <td>2020-11-10</td>\n",
       "      <td>Добрый день, коллеги!</td>\n",
       "      <td>105</td>\n",
       "      <td>[]</td>\n",
       "    </tr>\n",
       "    <tr>\n",
       "      <th>37</th>\n",
       "      <td>2015-12-16</td>\n",
       "      <td>Коллеги, сейчас у клиентов при продаже много в...</td>\n",
       "      <td>109</td>\n",
       "      <td>[]</td>\n",
       "    </tr>\n",
       "    <tr>\n",
       "      <th>38</th>\n",
       "      <td>2020-11-09</td>\n",
       "      <td>Коллеги, а что кроме Циана и его неожиданно за...</td>\n",
       "      <td>2</td>\n",
       "      <td>[]</td>\n",
       "    </tr>\n",
       "    <tr>\n",
       "      <th>39</th>\n",
       "      <td>2020-11-10</td>\n",
       "      <td>Коллеги, добрый день!Это какое то осеннее обос...</td>\n",
       "      <td>1</td>\n",
       "      <td>[]</td>\n",
       "    </tr>\n",
       "    <tr>\n",
       "      <th>40</th>\n",
       "      <td>2020-11-10</td>\n",
       "      <td>МногоНЕуважаемый #Циан в очередной раз достало...</td>\n",
       "      <td>5</td>\n",
       "      <td>[]</td>\n",
       "    </tr>\n",
       "    <tr>\n",
       "      <th>41</th>\n",
       "      <td>2020-11-10</td>\n",
       "      <td>Коллеги доброго дня! Разъясните вопрос по нало...</td>\n",
       "      <td>77</td>\n",
       "      <td>[]</td>\n",
       "    </tr>\n",
       "    <tr>\n",
       "      <th>42</th>\n",
       "      <td>2020-11-10</td>\n",
       "      <td>Подскажите, раньше проскальзывало: какие компа...</td>\n",
       "      <td>8</td>\n",
       "      <td>[]</td>\n",
       "    </tr>\n",
       "    <tr>\n",
       "      <th>43</th>\n",
       "      <td>2020-11-09</td>\n",
       "      <td>https://www.facebook.com/10000113.../posts/385...</td>\n",
       "      <td>47</td>\n",
       "      <td>[]</td>\n",
       "    </tr>\n",
       "    <tr>\n",
       "      <th>44</th>\n",
       "      <td>2020-11-07</td>\n",
       "      <td>полезно...</td>\n",
       "      <td>86</td>\n",
       "      <td>[]</td>\n",
       "    </tr>\n",
       "    <tr>\n",
       "      <th>45</th>\n",
       "      <td>2020-11-01</td>\n",
       "      <td>Уважаемый #домклик разберитесь, пожалуйста, с ...</td>\n",
       "      <td>0</td>\n",
       "      <td>[]</td>\n",
       "    </tr>\n",
       "  </tbody>\n",
       "</table>\n",
       "</div>"
      ],
      "text/plain": [
       "         time                                               post  \\\n",
       "0  2020-11-06  Дети обанкротившихся бизнесменов, участвовавши...   \n",
       "1  2020-11-10  Теперь все агенты недвижимости, обновившие при...   \n",
       "2  2020-11-09  #вчемделоциан #цианнаглость #хватитциан#цианос...   \n",
       "3  2020-11-08  Доброе утро, коллеги. Ситуация из которой не з...   \n",
       "4  2020-11-10                                          Коллеги.    \n",
       "5  2020-11-10  КАК ДОСТАВАТЬ ДОКУМЕНТЫ ИЗ РОСРЕЕСТРА?Зарегист...   \n",
       "6  2020-11-10  Мой клиент покупал дом, в МО, порядка 12млн+.З...   \n",
       "7  2020-11-10  Добрый день!Готовлюсь к сделке,я со стороны пр...   \n",
       "8  2020-11-10  Здравствуйте, уважаемые риэлторы!Я – режиссер,...   \n",
       "9  2020-11-08  Коллеги,добрый день!Поделитесь опытом пожалуйс...   \n",
       "10 2020-11-10  Господа собственники недвижимости, хотите раст...   \n",
       "11 2020-11-09  Коллеги, кто-нибудь работал с РСХБ по сельской...   \n",
       "12 2020-11-10  Налог по долям, вопросик... Коллеги, вот такая...   \n",
       "13 2020-11-10  Коллеги! Это кто-то развлекается? Кому приходя...   \n",
       "14 2020-11-07  Вот это как Все одобрено и кредит и обьект, за...   \n",
       "15 2020-11-10  Немного о коллегах, которые нам совсем не колл...   \n",
       "16 2020-11-09  Вопрос. Есть земля ижс. На ней самострой. План...   \n",
       "17 2020-11-10                                            #этажи    \n",
       "18 2020-11-06  Гениальный ремонт: хрущёвка серии I-464А в Мос...   \n",
       "19 2020-11-10  Друзья! А кто-нибудь покупал квартиры в ренова...   \n",
       "20 2020-11-10  Коллеги,добрый вечер!Можно спросить ваше мнени...   \n",
       "21 2020-11-09  Добрый день. Есть вопрос по налогам. Человек и...   \n",
       "22 2020-11-10      Мне вроде кажется, что радоваться тут нечему.   \n",
       "23 2020-11-09                            Армагедон продолжается.   \n",
       "24 2020-11-10  Теперь и моя история)))У меня продается кварти...   \n",
       "25 2020-11-10  И снова Сбербанк.Объект согласован в домклике ...   \n",
       "26 2020-11-10                                 Сегодня ситуация.    \n",
       "27 2020-11-05  Эх, осень... Сегодня в такую неприятную ситуац...   \n",
       "28 2020-11-08  И снова про ДомКлик и ипотеку. Сделка - одна к...   \n",
       "29 2020-11-09  Подскажите пожалуйста, как лучше сформулироват...   \n",
       "30 2020-11-05  Клиент/собственник утерял свидетельство и ДКП ...   \n",
       "31 2020-11-09  Коллеги, в Сбербанке при электронной регистрац...   \n",
       "32 2020-11-10  МногоНЕуважаемый #Циан в очередной раз достало...   \n",
       "33 2020-10-28   Внимание! 17-го ноября 2020 г. тренер агентов...   \n",
       "34 2020-11-01  Сегодня увидел очередное чудо дизайна и распре...   \n",
       "35 2020-11-10  В Циан.Студии мы будем встречаться с экспертам...   \n",
       "36 2020-11-10                              Добрый день, коллеги!   \n",
       "37 2015-12-16  Коллеги, сейчас у клиентов при продаже много в...   \n",
       "38 2020-11-09  Коллеги, а что кроме Циана и его неожиданно за...   \n",
       "39 2020-11-10  Коллеги, добрый день!Это какое то осеннее обос...   \n",
       "40 2020-11-10  МногоНЕуважаемый #Циан в очередной раз достало...   \n",
       "41 2020-11-10  Коллеги доброго дня! Разъясните вопрос по нало...   \n",
       "42 2020-11-10  Подскажите, раньше проскальзывало: какие компа...   \n",
       "43 2020-11-09  https://www.facebook.com/10000113.../posts/385...   \n",
       "44 2020-11-07                                         полезно...   \n",
       "45 2020-11-01  Уважаемый #домклик разберитесь, пожалуйста, с ...   \n",
       "\n",
       "    number_comments                                            comment  \n",
       "0                26  [что не так? Оформляли на несовершеннолетних п...  \n",
       "1                41  [делает все, что бы подорвать основу агентства...  \n",
       "2                28  [, знакомая история, но мы успели вернуть матк...  \n",
       "3                43  [Вас агентство? При подписании двоу, ещё для к...  \n",
       "4                 4  [Мишукова покупатель., Карпушкина, полностью с...  \n",
       "5                30  [Kutumov какого этого?, комиссию вперёд и рабо...  \n",
       "6                28  [дайте что просят и ладно, все же справки сраз...  \n",
       "7                34  [на регистрацию отправили? До зачисления, Семе...  \n",
       "8                13  [Бухтоярова это же не значит что она не сущест...  \n",
       "9                17  [игнор!, КвартирьерКоля любит Мамбу, нам идёт ...  \n",
       "10               20  [Кузнецов комиссию берут с клиента . обратился...  \n",
       "11               23  [Воронич дипломатия - наше все) да вы все прав...  \n",
       "12                8  [побывала « в шубке » продавца-собственника, и...  \n",
       "13               79  [и рядом такая ситуация . Все подъезды завешан...  \n",
       "14               21  [спасибо, От Сбербанка модерация ОТВРАТИТЕЛЬНА...  \n",
       "15               38  [Каринцев вот вот!!! У меня такой же вопрос!!!...  \n",
       "16               20  [? На вебинар или на ст . 429? У меня все ОК, ...  \n",
       "17               13  [Ivanov Это нужно спросить у банков Москвы . Я...  \n",
       "18               41  [о прекращении регистрации написать в МФЦ, учи...  \n",
       "19               66  [Mushuk я тоже не налоговик, но элементарные з...  \n",
       "20               46  [Ольга все, досвидос, люблю сделки с Домом Кли...  \n",
       "21                2  [настроение не повод кидаться на людей! Может ...  \n",
       "22                4  [Бог отвел от вас квартиру с косяками . Найдет...  \n",
       "23               76  [..., я вот заприметила . Независимо от того, ...  \n",
       "24              105  [не было! Но в час укладываемся! Даже с альтер...  \n",
       "25               94  [, денег Хорошо написал, же запрос, только нам...  \n",
       "26               58  [Взяли в работу., Вы серьезно? Что это за отпи...  \n",
       "27                4  [Турчун должен быть собствеником . Вычет тольк...  \n",
       "28               43  [Некрасова для продажи он не подходит., Ворони...  \n",
       "29              169  [недвижимость, Авито, sob.ru, Домклик, это то,...  \n",
       "30              113  [, смысле помочь? Деньгами?, Шутюк, этого пост...  \n",
       "31                4                                                 []  \n",
       "32               26                                                 []  \n",
       "33               18                                                 []  \n",
       "34               23                                                 []  \n",
       "35               27                                                 []  \n",
       "36              105                                                 []  \n",
       "37              109                                                 []  \n",
       "38                2                                                 []  \n",
       "39                1                                                 []  \n",
       "40                5                                                 []  \n",
       "41               77                                                 []  \n",
       "42                8                                                 []  \n",
       "43               47                                                 []  \n",
       "44               86                                                 []  \n",
       "45                0                                                 []  "
      ]
     },
     "execution_count": 34,
     "metadata": {},
     "output_type": "execute_result"
    }
   ],
   "source": [
    "df"
   ]
  },
  {
   "cell_type": "code",
   "execution_count": 104,
   "metadata": {},
   "outputs": [],
   "source": [
    "df.to_excel('exfb.xlsx')"
   ]
  },
  {
   "cell_type": "code",
   "execution_count": null,
   "metadata": {},
   "outputs": [],
   "source": []
  }
 ],
 "metadata": {
  "kernelspec": {
   "display_name": "Python 3",
   "language": "python",
   "name": "python3"
  },
  "language_info": {
   "codemirror_mode": {
    "name": "ipython",
    "version": 3
   },
   "file_extension": ".py",
   "mimetype": "text/x-python",
   "name": "python",
   "nbconvert_exporter": "python",
   "pygments_lexer": "ipython3",
   "version": "3.7.6"
  }
 },
 "nbformat": 4,
 "nbformat_minor": 2
}
